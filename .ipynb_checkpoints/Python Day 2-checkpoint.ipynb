{
 "cells": [
  {
   "cell_type": "markdown",
   "id": "71b86aca",
   "metadata": {},
   "source": [
    "# 24th February 2023\n",
    "#### Variables\n",
    "* A python variable is reserved memory location to store values. A variable is created the moment you assign a value to it"
   ]
  },
  {
   "cell_type": "code",
   "execution_count": 1,
   "id": "11121fec",
   "metadata": {},
   "outputs": [],
   "source": [
    "# Assignment\n",
    "first_string_var=\"Test variable\"\n",
    "first_integer_var=100"
   ]
  },
  {
   "cell_type": "code",
   "execution_count": 2,
   "id": "48235f83",
   "metadata": {},
   "outputs": [
    {
     "name": "stdout",
     "output_type": "stream",
     "text": [
      "200\n"
     ]
    }
   ],
   "source": [
    "first_integer_var+=100\n",
    "print(first_integer_var)"
   ]
  },
  {
   "cell_type": "code",
   "execution_count": 3,
   "id": "2a8bb46a",
   "metadata": {},
   "outputs": [
    {
     "name": "stdout",
     "output_type": "stream",
     "text": [
      "<class 'int'>\n"
     ]
    }
   ],
   "source": [
    "print(type(first_integer_var))"
   ]
  },
  {
   "cell_type": "code",
   "execution_count": 4,
   "id": "083635d6",
   "metadata": {},
   "outputs": [
    {
     "name": "stdout",
     "output_type": "stream",
     "text": [
      "Test variableTest variableTest variableTest variableTest variable\n"
     ]
    }
   ],
   "source": [
    "# multiplying string variable with integer\n",
    "print(first_string_var*5)"
   ]
  },
  {
   "cell_type": "markdown",
   "id": "48768872",
   "metadata": {},
   "source": [
    "#### Multiple assignments\n",
    "\n",
    "* multiple variable can be assigned simultaneously"
   ]
  },
  {
   "cell_type": "code",
   "execution_count": 5,
   "id": "14eed296",
   "metadata": {},
   "outputs": [],
   "source": [
    "intvar, strvar, floatvar, boolvar= 1000,\"This is python str variable\",100.78,True"
   ]
  },
  {
   "cell_type": "code",
   "execution_count": 6,
   "id": "04fa0b3c",
   "metadata": {},
   "outputs": [
    {
     "name": "stdout",
     "output_type": "stream",
     "text": [
      "1000\n",
      "This is python str variable\n",
      "100.78\n",
      "True\n"
     ]
    }
   ],
   "source": [
    "print(intvar, strvar, floatvar, boolvar,sep=\"\\n\")"
   ]
  },
  {
   "cell_type": "code",
   "execution_count": 7,
   "id": "f359f1b2",
   "metadata": {},
   "outputs": [
    {
     "name": "stdout",
     "output_type": "stream",
     "text": [
      "Integer value is 1000 and the Boolean value is True\n"
     ]
    }
   ],
   "source": [
    "print(\"Integer value is {} and the Boolean value is {}\".format(intvar,boolvar))"
   ]
  },
  {
   "cell_type": "markdown",
   "id": "668c929a",
   "metadata": {},
   "source": [
    "#### Data types\n",
    "* isinstance()"
   ]
  },
  {
   "cell_type": "code",
   "execution_count": 8,
   "id": "6f5287ca",
   "metadata": {},
   "outputs": [],
   "source": [
    "?isinstance"
   ]
  },
  {
   "cell_type": "code",
   "execution_count": 9,
   "id": "8dc0444d",
   "metadata": {},
   "outputs": [
    {
     "name": "stdout",
     "output_type": "stream",
     "text": [
      "10 is an integer? True\n"
     ]
    }
   ],
   "source": [
    "var1=10\n",
    "print(var1,\"is an integer?\",isinstance(var1,int))"
   ]
  },
  {
   "cell_type": "code",
   "execution_count": 10,
   "id": "cdf56c09",
   "metadata": {},
   "outputs": [
    {
     "name": "stdout",
     "output_type": "stream",
     "text": [
      "10 is an string? False\n"
     ]
    }
   ],
   "source": [
    "var1=10\n",
    "print(var1,\"is an string?\",isinstance(var1,str))"
   ]
  },
  {
   "cell_type": "code",
   "execution_count": 11,
   "id": "9b311a86",
   "metadata": {},
   "outputs": [
    {
     "name": "stdout",
     "output_type": "stream",
     "text": [
      "(22+60j) is a complex number True\n"
     ]
    }
   ],
   "source": [
    "var2=22+60j\n",
    "print(var2,\"is a complex number\",isinstance(var2,complex))"
   ]
  },
  {
   "cell_type": "code",
   "execution_count": 12,
   "id": "7fe00145",
   "metadata": {},
   "outputs": [
    {
     "name": "stdout",
     "output_type": "stream",
     "text": [
      "2584584612432\n",
      "2584670363056\n"
     ]
    }
   ],
   "source": [
    "# Displays the unique id of any variable in python\n",
    "print(id(var1),id(var2),sep=\"\\n\")"
   ]
  },
  {
   "cell_type": "markdown",
   "id": "d4896388",
   "metadata": {},
   "source": [
    "#### Operators\n",
    "* Operators are constraints which can help manipulate the value of operands\n",
    "1. Arithmatic Operators\n",
    "    * Used to perform mathematical operations like addition, sub, mul, etc"
   ]
  },
  {
   "cell_type": "code",
   "execution_count": 13,
   "id": "7b40e80b",
   "metadata": {},
   "outputs": [],
   "source": [
    "var1,var2=5,2"
   ]
  },
  {
   "cell_type": "code",
   "execution_count": 14,
   "id": "10370b1f",
   "metadata": {},
   "outputs": [
    {
     "name": "stdout",
     "output_type": "stream",
     "text": [
      "3\n",
      "7\n",
      "10\n",
      "2.5\n",
      "2\n",
      "1\n",
      "25\n"
     ]
    }
   ],
   "source": [
    "print(var1-var2)\n",
    "print(var1+var2)\n",
    "print(var1*var2)\n",
    "print(var1/var2)\n",
    "print(var1//var2)\n",
    "print(var1%var2)\n",
    "print(var1**var2)"
   ]
  },
  {
   "cell_type": "markdown",
   "id": "d7826697",
   "metadata": {},
   "source": [
    "2. Comparision Operator\n",
    "    * Comparision operator are used to compare values, It either returns True or False according to the condition"
   ]
  },
  {
   "cell_type": "code",
   "execution_count": 15,
   "id": "b1305832",
   "metadata": {},
   "outputs": [
    {
     "name": "stdout",
     "output_type": "stream",
     "text": [
      "True\n",
      "False\n",
      "False\n",
      "True\n"
     ]
    }
   ],
   "source": [
    "print(var1>var2)\n",
    "print(var1<var2)\n",
    "print(var1==var2)\n",
    "print(var1!=var2)"
   ]
  },
  {
   "cell_type": "markdown",
   "id": "8cec160c",
   "metadata": {},
   "source": [
    "3. Logical Operators\n",
    "    * Logical operators: \"and\", \"or\", \"not\""
   ]
  },
  {
   "cell_type": "code",
   "execution_count": 16,
   "id": "e64a478f",
   "metadata": {},
   "outputs": [
    {
     "name": "stdout",
     "output_type": "stream",
     "text": [
      "False\n",
      "True\n",
      "True\n"
     ]
    }
   ],
   "source": [
    "var1,var2=True,False\n",
    "print(var1 and var2)\n",
    "print(var1 or var2)\n",
    "print(not var2)"
   ]
  },
  {
   "cell_type": "markdown",
   "id": "d9bd3717",
   "metadata": {},
   "source": [
    "4. Bitwise Operators\n",
    "    * This acts like an operators as if they are string of binary digits. It operates bit by bit"
   ]
  },
  {
   "cell_type": "code",
   "execution_count": 17,
   "id": "f37a5176",
   "metadata": {},
   "outputs": [
    {
     "name": "stdout",
     "output_type": "stream",
     "text": [
      "3\n"
     ]
    }
   ],
   "source": [
    "var1,var2=3,7\n",
    "print(var1&var2)    # Bitwise AND -> 0000 0011 & 0000 0111 -> 0000 0011"
   ]
  },
  {
   "cell_type": "code",
   "execution_count": 18,
   "id": "8b4cb784",
   "metadata": {},
   "outputs": [
    {
     "name": "stdout",
     "output_type": "stream",
     "text": [
      "7\n"
     ]
    }
   ],
   "source": [
    "print(var1| var2)"
   ]
  },
  {
   "cell_type": "code",
   "execution_count": 19,
   "id": "b2e8bb6b",
   "metadata": {},
   "outputs": [
    {
     "name": "stdout",
     "output_type": "stream",
     "text": [
      "4\n"
     ]
    }
   ],
   "source": [
    "print(var1 ^ var2)"
   ]
  },
  {
   "cell_type": "code",
   "execution_count": 20,
   "id": "475e84f9",
   "metadata": {},
   "outputs": [
    {
     "name": "stdout",
     "output_type": "stream",
     "text": [
      "-8\n"
     ]
    }
   ],
   "source": [
    "print(~var2)"
   ]
  },
  {
   "cell_type": "markdown",
   "id": "557ed4b0",
   "metadata": {},
   "source": [
    "Assignment Operators"
   ]
  },
  {
   "cell_type": "code",
   "execution_count": 21,
   "id": "23d02365",
   "metadata": {},
   "outputs": [
    {
     "name": "stdout",
     "output_type": "stream",
     "text": [
      "44\n",
      "36\n",
      "144\n",
      "72.0\n",
      "2.0\n"
     ]
    }
   ],
   "source": [
    "var3=40\n",
    "var3+=4\n",
    "print(\"{}\".format(var3))\n",
    "var3-=8\n",
    "print(var3)\n",
    "var3*=4\n",
    "print(var3)\n",
    "var3/=2\n",
    "print(var3)\n",
    "var3%=10\n",
    "print(var3)"
   ]
  },
  {
   "cell_type": "markdown",
   "id": "da45e285",
   "metadata": {},
   "source": [
    "#### Python Statements"
   ]
  },
  {
   "cell_type": "code",
   "execution_count": 22,
   "id": "32351e38",
   "metadata": {},
   "outputs": [
    {
     "name": "stdout",
     "output_type": "stream",
     "text": [
      "45\n"
     ]
    }
   ],
   "source": [
    "# Multi-Line statements\n",
    "numbers= 1+2+3+ \\\n",
    "        4+5+6+ \\\n",
    "        7+8+9\n",
    "print(numbers)"
   ]
  },
  {
   "cell_type": "code",
   "execution_count": 23,
   "id": "d9080ddd",
   "metadata": {},
   "outputs": [
    {
     "name": "stdout",
     "output_type": "stream",
     "text": [
      "45\n"
     ]
    }
   ],
   "source": [
    "# or\n",
    "numbers= (1+2+3+ \n",
    "        4+5+6+ \n",
    "        7+8+9)\n",
    "print(numbers)"
   ]
  },
  {
   "cell_type": "markdown",
   "id": "01d99f76",
   "metadata": {},
   "source": [
    "#### Python Indentation\n",
    "    * Unlike C, C++, Java where we use braces {} to define a block of code. In python we use indentation"
   ]
  },
  {
   "cell_type": "code",
   "execution_count": 24,
   "id": "e24188aa",
   "metadata": {},
   "outputs": [
    {
     "ename": "IndentationError",
     "evalue": "unexpected indent (3706962954.py, line 2)",
     "output_type": "error",
     "traceback": [
      "\u001b[1;36m  File \u001b[1;32m\"C:\\Users\\pdharantej\\AppData\\Local\\Temp\\ipykernel_9036\\3706962954.py\"\u001b[1;36m, line \u001b[1;32m2\u001b[0m\n\u001b[1;33m    var2=30\u001b[0m\n\u001b[1;37m    ^\u001b[0m\n\u001b[1;31mIndentationError\u001b[0m\u001b[1;31m:\u001b[0m unexpected indent\n"
     ]
    }
   ],
   "source": [
    "var1=20\n",
    "    var2=30"
   ]
  },
  {
   "cell_type": "code",
   "execution_count": 25,
   "id": "a26c8bb5",
   "metadata": {},
   "outputs": [
    {
     "ename": "IndentationError",
     "evalue": "expected an indented block (1359215447.py, line 2)",
     "output_type": "error",
     "traceback": [
      "\u001b[1;36m  File \u001b[1;32m\"C:\\Users\\pdharantej\\AppData\\Local\\Temp\\ipykernel_9036\\1359215447.py\"\u001b[1;36m, line \u001b[1;32m2\u001b[0m\n\u001b[1;33m    print(\"var1 is equal to 20\")\u001b[0m\n\u001b[1;37m    ^\u001b[0m\n\u001b[1;31mIndentationError\u001b[0m\u001b[1;31m:\u001b[0m expected an indented block\n"
     ]
    }
   ],
   "source": [
    "if var1==20:\n",
    "print(\"var1 is equal to 20\")"
   ]
  },
  {
   "cell_type": "markdown",
   "id": "cc47a35a",
   "metadata": {},
   "source": [
    "#### Conditional Statements\n",
    "    * Control or Conditional Statements allow to check conditions and change the behavior of a program"
   ]
  },
  {
   "cell_type": "code",
   "execution_count": 26,
   "id": "2e2a34e7",
   "metadata": {},
   "outputs": [
    {
     "name": "stdout",
     "output_type": "stream",
     "text": [
      "\tNumber is less than 15\n",
      "\tThis is within the if block\n",
      "Outside of the if block\n"
     ]
    }
   ],
   "source": [
    "number=14\n",
    "if number<15:\n",
    "    print(\"\\tNumber is less than 15\")\n",
    "    print(\"\\tThis is within the if block\")\n",
    "# This is a default print statement\n",
    "print(\"Outside of the if block\")"
   ]
  },
  {
   "cell_type": "code",
   "execution_count": 27,
   "id": "2476f5ea",
   "metadata": {},
   "outputs": [
    {
     "name": "stdout",
     "output_type": "stream",
     "text": [
      "Child\n"
     ]
    }
   ],
   "source": [
    "age=17\n",
    "if age>=18:\n",
    "    print(\"Adult\")\n",
    "else:\n",
    "    print(\"Child\")"
   ]
  },
  {
   "cell_type": "code",
   "execution_count": 28,
   "id": "ee95f4e8",
   "metadata": {},
   "outputs": [
    {
     "name": "stdout",
     "output_type": "stream",
     "text": [
      "Teenager\n",
      "This is default print and wil always be executed\n"
     ]
    }
   ],
   "source": [
    "# Nested if statements\n",
    "age=14\n",
    "if age>=13:\n",
    "    if age<=19:\n",
    "        print(\"Teenager\")\n",
    "    else:\n",
    "        print(\"Adult\")\n",
    "else:\n",
    "    print(\"Child\")\n",
    "print(\"This is default print and wil always be executed\")"
   ]
  },
  {
   "cell_type": "code",
   "execution_count": 29,
   "id": "3b81deee",
   "metadata": {},
   "outputs": [
    {
     "name": "stdout",
     "output_type": "stream",
     "text": [
      "Enter the age of the Student : \n"
     ]
    },
    {
     "ename": "ValueError",
     "evalue": "invalid literal for int() with base 10: ''",
     "output_type": "error",
     "traceback": [
      "\u001b[1;31m---------------------------------------------------------------------------\u001b[0m",
      "\u001b[1;31mValueError\u001b[0m                                Traceback (most recent call last)",
      "\u001b[1;32m~\\AppData\\Local\\Temp\\ipykernel_9036\\3504967256.py\u001b[0m in \u001b[0;36m<module>\u001b[1;34m\u001b[0m\n\u001b[0;32m      2\u001b[0m \u001b[1;31m# Input function by default is a string type so we need to type-cast it to a desired type\u001b[0m\u001b[1;33m\u001b[0m\u001b[1;33m\u001b[0m\u001b[0m\n\u001b[0;32m      3\u001b[0m \u001b[1;33m\u001b[0m\u001b[0m\n\u001b[1;32m----> 4\u001b[1;33m \u001b[0mage\u001b[0m\u001b[1;33m=\u001b[0m\u001b[0mint\u001b[0m\u001b[1;33m(\u001b[0m\u001b[0minput\u001b[0m\u001b[1;33m(\u001b[0m\u001b[1;34m\"Enter the age of the Student : \"\u001b[0m\u001b[1;33m)\u001b[0m\u001b[1;33m)\u001b[0m\u001b[1;33m\u001b[0m\u001b[1;33m\u001b[0m\u001b[0m\n\u001b[0m\u001b[0;32m      5\u001b[0m \u001b[1;32mif\u001b[0m \u001b[0mage\u001b[0m\u001b[1;33m>=\u001b[0m\u001b[1;36m13\u001b[0m\u001b[1;33m:\u001b[0m\u001b[1;33m\u001b[0m\u001b[1;33m\u001b[0m\u001b[0m\n\u001b[0;32m      6\u001b[0m     \u001b[1;32mif\u001b[0m \u001b[0mage\u001b[0m\u001b[1;33m<=\u001b[0m\u001b[1;36m19\u001b[0m\u001b[1;33m:\u001b[0m\u001b[1;33m\u001b[0m\u001b[1;33m\u001b[0m\u001b[0m\n",
      "\u001b[1;31mValueError\u001b[0m: invalid literal for int() with base 10: ''"
     ]
    }
   ],
   "source": [
    "# Input function asks the user's input\n",
    "# Input function by default is a string type so we need to type-cast it to a desired type\n",
    "\n",
    "age=int(input(\"Enter the age of the Student : \"))\n",
    "if age>=13:\n",
    "    if age<=19:\n",
    "        print(\"Teenager\")\n",
    "    else:\n",
    "        print(\"Adult\")\n",
    "else:\n",
    "    print(\"Child\")\n",
    "print(\"This is default print and wil always be executed\")"
   ]
  },
  {
   "cell_type": "code",
   "execution_count": null,
   "id": "ca90e066",
   "metadata": {},
   "outputs": [],
   "source": [
    "# if, elif, else\n",
    "\n",
    "marks=float(input(\"Enter students Marks: \"))\n",
    "if marks>90:\n",
    "    print(\"Grade A\")\n",
    "elif marks<=90 and marks >80:\n",
    "    print(\"Grade B\")\n",
    "elif 70<marks<=80:\n",
    "    print(\"Grade C\")\n",
    "elif 60<marks<=70:\n",
    "    print(\"Grade C\")\n",
    "elif 50<marks<=60:\n",
    "    print(\"Grade C\")\n",
    "else: print(\"Fail\")\n"
   ]
  },
  {
   "cell_type": "markdown",
   "id": "dffa78df",
   "metadata": {},
   "source": [
    "#### Ternary Operator\n",
    "    * Ternary Operator also known as conditional statements, test a condition in a single line, replacing multiple line if, else, elif.\n",
    "    * Syntax: [on_true] if [expression] else [on_false]"
   ]
  },
  {
   "cell_type": "code",
   "execution_count": 30,
   "id": "2e52b6a6",
   "metadata": {},
   "outputs": [],
   "source": [
    "# Syntax: [on_true] if [expression] else [on_false]"
   ]
  },
  {
   "cell_type": "code",
   "execution_count": 31,
   "id": "ec9bf1bd",
   "metadata": {},
   "outputs": [],
   "source": [
    "a,b= 10,20\n",
    "max=a if a>b else b"
   ]
  },
  {
   "cell_type": "code",
   "execution_count": 32,
   "id": "d807edbe",
   "metadata": {},
   "outputs": [
    {
     "name": "stdout",
     "output_type": "stream",
     "text": [
      "20\n"
     ]
    }
   ],
   "source": [
    "print(max)"
   ]
  },
  {
   "cell_type": "code",
   "execution_count": 33,
   "id": "20d862cb",
   "metadata": {},
   "outputs": [
    {
     "name": "stdout",
     "output_type": "stream",
     "text": [
      "Enter brother's Age: \n"
     ]
    },
    {
     "ename": "ValueError",
     "evalue": "could not convert string to float: ''",
     "output_type": "error",
     "traceback": [
      "\u001b[1;31m---------------------------------------------------------------------------\u001b[0m",
      "\u001b[1;31mValueError\u001b[0m                                Traceback (most recent call last)",
      "\u001b[1;32m~\\AppData\\Local\\Temp\\ipykernel_9036\\507409617.py\u001b[0m in \u001b[0;36m<module>\u001b[1;34m\u001b[0m\n\u001b[1;32m----> 1\u001b[1;33m \u001b[0mbrother\u001b[0m \u001b[1;33m=\u001b[0m \u001b[0mfloat\u001b[0m\u001b[1;33m(\u001b[0m\u001b[0minput\u001b[0m\u001b[1;33m(\u001b[0m\u001b[1;34m\"Enter brother's Age: \"\u001b[0m\u001b[1;33m)\u001b[0m\u001b[1;33m)\u001b[0m\u001b[1;33m\u001b[0m\u001b[1;33m\u001b[0m\u001b[0m\n\u001b[0m\u001b[0;32m      2\u001b[0m \u001b[0msister\u001b[0m \u001b[1;33m=\u001b[0m \u001b[0mfloat\u001b[0m\u001b[1;33m(\u001b[0m\u001b[0minput\u001b[0m\u001b[1;33m(\u001b[0m\u001b[1;34m\"Enter sister's Age: \"\u001b[0m\u001b[1;33m)\u001b[0m\u001b[1;33m)\u001b[0m\u001b[1;33m\u001b[0m\u001b[1;33m\u001b[0m\u001b[0m\n\u001b[0;32m      3\u001b[0m \u001b[1;32mif\u001b[0m \u001b[0mbrother\u001b[0m\u001b[1;33m>\u001b[0m\u001b[0msister\u001b[0m\u001b[1;33m:\u001b[0m\u001b[1;33m\u001b[0m\u001b[1;33m\u001b[0m\u001b[0m\n\u001b[0;32m      4\u001b[0m     \u001b[0mprint\u001b[0m\u001b[1;33m(\u001b[0m\u001b[1;34m\"Brother is elder\"\u001b[0m\u001b[1;33m)\u001b[0m\u001b[1;33m\u001b[0m\u001b[1;33m\u001b[0m\u001b[0m\n\u001b[0;32m      5\u001b[0m \u001b[1;32melif\u001b[0m \u001b[0msister\u001b[0m\u001b[1;33m>\u001b[0m\u001b[0mbrother\u001b[0m\u001b[1;33m:\u001b[0m\u001b[1;33m\u001b[0m\u001b[1;33m\u001b[0m\u001b[0m\n",
      "\u001b[1;31mValueError\u001b[0m: could not convert string to float: ''"
     ]
    }
   ],
   "source": [
    "brother = float(input(\"Enter brother's Age: \"))\n",
    "sister = float(input(\"Enter sister's Age: \"))\n",
    "if brother>sister:\n",
    "    print(\"Brother is elder\")\n",
    "elif sister>brother:\n",
    "    print(\"Sister is elder\")\n",
    "else:\n",
    "    print(\"Both are twins\")"
   ]
  },
  {
   "cell_type": "code",
   "execution_count": 34,
   "id": "ea7a202c",
   "metadata": {},
   "outputs": [
    {
     "name": "stdout",
     "output_type": "stream",
     "text": [
      "Enter brother's Age: \n"
     ]
    },
    {
     "ename": "ValueError",
     "evalue": "could not convert string to float: ''",
     "output_type": "error",
     "traceback": [
      "\u001b[1;31m---------------------------------------------------------------------------\u001b[0m",
      "\u001b[1;31mValueError\u001b[0m                                Traceback (most recent call last)",
      "\u001b[1;32m~\\AppData\\Local\\Temp\\ipykernel_9036\\470911803.py\u001b[0m in \u001b[0;36m<module>\u001b[1;34m\u001b[0m\n\u001b[0;32m      1\u001b[0m \u001b[1;31m# Syntax: [on true] if [expression] else [on true] if [expression] else [on false]\u001b[0m\u001b[1;33m\u001b[0m\u001b[1;33m\u001b[0m\u001b[0m\n\u001b[0;32m      2\u001b[0m \u001b[1;33m\u001b[0m\u001b[0m\n\u001b[1;32m----> 3\u001b[1;33m \u001b[0mbrother\u001b[0m \u001b[1;33m=\u001b[0m \u001b[0mfloat\u001b[0m\u001b[1;33m(\u001b[0m\u001b[0minput\u001b[0m\u001b[1;33m(\u001b[0m\u001b[1;34m\"Enter brother's Age: \"\u001b[0m\u001b[1;33m)\u001b[0m\u001b[1;33m)\u001b[0m\u001b[1;33m\u001b[0m\u001b[1;33m\u001b[0m\u001b[0m\n\u001b[0m\u001b[0;32m      4\u001b[0m \u001b[0msister\u001b[0m \u001b[1;33m=\u001b[0m \u001b[0mfloat\u001b[0m\u001b[1;33m(\u001b[0m\u001b[0minput\u001b[0m\u001b[1;33m(\u001b[0m\u001b[1;34m\"Enter sister's Age: \"\u001b[0m\u001b[1;33m)\u001b[0m\u001b[1;33m)\u001b[0m\u001b[1;33m\u001b[0m\u001b[1;33m\u001b[0m\u001b[0m\n\u001b[0;32m      5\u001b[0m \u001b[0moutput\u001b[0m\u001b[1;33m=\u001b[0m\u001b[1;34m\"Both are twins\"\u001b[0m \u001b[1;32mif\u001b[0m \u001b[0mbrother\u001b[0m\u001b[1;33m==\u001b[0m\u001b[0msister\u001b[0m \u001b[1;32melse\u001b[0m \u001b[1;34m\"sister is elder\"\u001b[0m \u001b[1;32mif\u001b[0m \u001b[0msister\u001b[0m\u001b[1;33m>\u001b[0m\u001b[0mbrother\u001b[0m \u001b[1;32melse\u001b[0m \u001b[1;34m\"brother is elder\"\u001b[0m\u001b[1;33m\u001b[0m\u001b[1;33m\u001b[0m\u001b[0m\n",
      "\u001b[1;31mValueError\u001b[0m: could not convert string to float: ''"
     ]
    }
   ],
   "source": [
    "# Syntax: [on true] if [expression] else [on true] if [expression] else [on false]\n",
    "\n",
    "brother = float(input(\"Enter brother's Age: \"))\n",
    "sister = float(input(\"Enter sister's Age: \"))\n",
    "output=\"Both are twins\" if brother==sister else \"sister is elder\" if sister>brother else \"brother is elder\"\n",
    "print(output)"
   ]
  },
  {
   "cell_type": "markdown",
   "id": "0f62132f",
   "metadata": {},
   "source": [
    "#### While Loop\n",
    "    * use while loop to iterate over a block of code as long as test expression is true or break statement is found"
   ]
  },
  {
   "cell_type": "code",
   "execution_count": 35,
   "id": "19e644f5",
   "metadata": {},
   "outputs": [
    {
     "name": "stdout",
     "output_type": "stream",
     "text": [
      "10\n",
      "20\n",
      "30\n",
      "40\n",
      "50\n",
      "60\n",
      "70\n",
      "80\n",
      "90\n"
     ]
    }
   ],
   "source": [
    "mylist=[10,20,30,40,50,60,70,80,90]\n",
    "index=0\n",
    "while index<len(mylist):\n",
    "    print(mylist[index])\n",
    "    index+=1"
   ]
  },
  {
   "cell_type": "code",
   "execution_count": 36,
   "id": "bf79e404",
   "metadata": {},
   "outputs": [
    {
     "name": "stdout",
     "output_type": "stream",
     "text": [
      "450\n"
     ]
    }
   ],
   "source": [
    "index,sum=0,0\n",
    "while index<len(mylist):\n",
    "    sum+=mylist[index]\n",
    "    index+=1\n",
    "print(sum)"
   ]
  },
  {
   "cell_type": "markdown",
   "id": "ae892775",
   "metadata": {},
   "source": [
    "#### While loop with else\n",
    "\n",
    "* while loop in python have an optional else part\n",
    "* the statements in else will be executed when condition is not fulfilled anymore"
   ]
  },
  {
   "cell_type": "code",
   "execution_count": 37,
   "id": "1828e8d3",
   "metadata": {},
   "outputs": [
    {
     "name": "stdout",
     "output_type": "stream",
     "text": [
      "Enter the Number: \n"
     ]
    },
    {
     "ename": "ValueError",
     "evalue": "invalid literal for int() with base 10: ''",
     "output_type": "error",
     "traceback": [
      "\u001b[1;31m---------------------------------------------------------------------------\u001b[0m",
      "\u001b[1;31mValueError\u001b[0m                                Traceback (most recent call last)",
      "\u001b[1;32m~\\AppData\\Local\\Temp\\ipykernel_9036\\658683037.py\u001b[0m in \u001b[0;36m<module>\u001b[1;34m\u001b[0m\n\u001b[0;32m      2\u001b[0m \u001b[0mguess\u001b[0m\u001b[1;33m=\u001b[0m\u001b[1;36m0\u001b[0m\u001b[1;33m\u001b[0m\u001b[1;33m\u001b[0m\u001b[0m\n\u001b[0;32m      3\u001b[0m \u001b[1;32mwhile\u001b[0m \u001b[0mguess\u001b[0m\u001b[1;33m!=\u001b[0m\u001b[0mguess_value_on_die\u001b[0m\u001b[1;33m:\u001b[0m\u001b[1;33m\u001b[0m\u001b[1;33m\u001b[0m\u001b[0m\n\u001b[1;32m----> 4\u001b[1;33m     \u001b[0mguess\u001b[0m\u001b[1;33m=\u001b[0m\u001b[0mint\u001b[0m\u001b[1;33m(\u001b[0m\u001b[0minput\u001b[0m\u001b[1;33m(\u001b[0m\u001b[1;34m\"Enter the Number: \"\u001b[0m\u001b[1;33m)\u001b[0m\u001b[1;33m)\u001b[0m\u001b[1;33m\u001b[0m\u001b[1;33m\u001b[0m\u001b[0m\n\u001b[0m\u001b[0;32m      5\u001b[0m     \u001b[1;32mif\u001b[0m \u001b[0mguess\u001b[0m\u001b[1;33m>\u001b[0m\u001b[1;36m0\u001b[0m\u001b[1;33m:\u001b[0m\u001b[1;33m\u001b[0m\u001b[1;33m\u001b[0m\u001b[0m\n\u001b[0;32m      6\u001b[0m         \u001b[1;32mif\u001b[0m \u001b[0mguess\u001b[0m\u001b[1;33m>\u001b[0m\u001b[0mguess_value_on_die\u001b[0m\u001b[1;33m:\u001b[0m\u001b[1;33m\u001b[0m\u001b[1;33m\u001b[0m\u001b[0m\n",
      "\u001b[1;31mValueError\u001b[0m: invalid literal for int() with base 10: ''"
     ]
    }
   ],
   "source": [
    "guess_value_on_die=5\n",
    "guess=0\n",
    "while guess!=guess_value_on_die:\n",
    "    guess=int(input(\"Enter the Number: \"))\n",
    "    if guess>0:\n",
    "        if guess>guess_value_on_die:\n",
    "            print(\"Number is too large\")\n",
    "        elif guess<guess_value_on_die:\n",
    "            print(\"Number is too small\")\n",
    "    else:\n",
    "        print(\"Sorry that you are giving up!\")\n",
    "        break\n",
    "else:\n",
    "    print(\"Congratulations! You have made it!\")"
   ]
  },
  {
   "cell_type": "markdown",
   "id": "1246fe02",
   "metadata": {},
   "source": [
    "#### For Loop\n",
    "* python for loop is an iterator based for loop. it steps through the items of the list, tuples, strings, keys of dicts and other iterables"
   ]
  },
  {
   "cell_type": "code",
   "execution_count": 38,
   "id": "ce52981e",
   "metadata": {},
   "outputs": [
    {
     "name": "stdout",
     "output_type": "stream",
     "text": [
      "1\n",
      "2\n",
      "3\n",
      "4\n",
      "5\n",
      "6\n",
      "7\n",
      "8\n",
      "9\n",
      "10\n"
     ]
    }
   ],
   "source": [
    "for i in range(1,11):\n",
    "    print(i)"
   ]
  },
  {
   "cell_type": "markdown",
   "id": "a0b6e3ea",
   "metadata": {},
   "source": [
    "#### Find list of even digit numbers \n",
    "Problem Statement: Write a program which will print numbers between 1000 and 3000 (both included) such that each number is an even number"
   ]
  },
  {
   "cell_type": "code",
   "execution_count": 39,
   "id": "751a278f",
   "metadata": {},
   "outputs": [
    {
     "name": "stdout",
     "output_type": "stream",
     "text": [
      "[1000, 1002, 1004, 1006, 1008, 1010, 1012, 1014, 1016, 1018, 1020, 1022, 1024, 1026, 1028, 1030, 1032, 1034, 1036, 1038, 1040, 1042, 1044, 1046, 1048, 1050, 1052, 1054, 1056, 1058, 1060, 1062, 1064, 1066, 1068, 1070, 1072, 1074, 1076, 1078, 1080, 1082, 1084, 1086, 1088, 1090, 1092, 1094, 1096, 1098, 1100, 1102, 1104, 1106, 1108, 1110, 1112, 1114, 1116, 1118, 1120, 1122, 1124, 1126, 1128, 1130, 1132, 1134, 1136, 1138, 1140, 1142, 1144, 1146, 1148, 1150, 1152, 1154, 1156, 1158, 1160, 1162, 1164, 1166, 1168, 1170, 1172, 1174, 1176, 1178, 1180, 1182, 1184, 1186, 1188, 1190, 1192, 1194, 1196, 1198, 1200, 1202, 1204, 1206, 1208, 1210, 1212, 1214, 1216, 1218, 1220, 1222, 1224, 1226, 1228, 1230, 1232, 1234, 1236, 1238, 1240, 1242, 1244, 1246, 1248, 1250, 1252, 1254, 1256, 1258, 1260, 1262, 1264, 1266, 1268, 1270, 1272, 1274, 1276, 1278, 1280, 1282, 1284, 1286, 1288, 1290, 1292, 1294, 1296, 1298, 1300, 1302, 1304, 1306, 1308, 1310, 1312, 1314, 1316, 1318, 1320, 1322, 1324, 1326, 1328, 1330, 1332, 1334, 1336, 1338, 1340, 1342, 1344, 1346, 1348, 1350, 1352, 1354, 1356, 1358, 1360, 1362, 1364, 1366, 1368, 1370, 1372, 1374, 1376, 1378, 1380, 1382, 1384, 1386, 1388, 1390, 1392, 1394, 1396, 1398, 1400, 1402, 1404, 1406, 1408, 1410, 1412, 1414, 1416, 1418, 1420, 1422, 1424, 1426, 1428, 1430, 1432, 1434, 1436, 1438, 1440, 1442, 1444, 1446, 1448, 1450, 1452, 1454, 1456, 1458, 1460, 1462, 1464, 1466, 1468, 1470, 1472, 1474, 1476, 1478, 1480, 1482, 1484, 1486, 1488, 1490, 1492, 1494, 1496, 1498, 1500, 1502, 1504, 1506, 1508, 1510, 1512, 1514, 1516, 1518, 1520, 1522, 1524, 1526, 1528, 1530, 1532, 1534, 1536, 1538, 1540, 1542, 1544, 1546, 1548, 1550, 1552, 1554, 1556, 1558, 1560, 1562, 1564, 1566, 1568, 1570, 1572, 1574, 1576, 1578, 1580, 1582, 1584, 1586, 1588, 1590, 1592, 1594, 1596, 1598, 1600, 1602, 1604, 1606, 1608, 1610, 1612, 1614, 1616, 1618, 1620, 1622, 1624, 1626, 1628, 1630, 1632, 1634, 1636, 1638, 1640, 1642, 1644, 1646, 1648, 1650, 1652, 1654, 1656, 1658, 1660, 1662, 1664, 1666, 1668, 1670, 1672, 1674, 1676, 1678, 1680, 1682, 1684, 1686, 1688, 1690, 1692, 1694, 1696, 1698, 1700, 1702, 1704, 1706, 1708, 1710, 1712, 1714, 1716, 1718, 1720, 1722, 1724, 1726, 1728, 1730, 1732, 1734, 1736, 1738, 1740, 1742, 1744, 1746, 1748, 1750, 1752, 1754, 1756, 1758, 1760, 1762, 1764, 1766, 1768, 1770, 1772, 1774, 1776, 1778, 1780, 1782, 1784, 1786, 1788, 1790, 1792, 1794, 1796, 1798, 1800, 1802, 1804, 1806, 1808, 1810, 1812, 1814, 1816, 1818, 1820, 1822, 1824, 1826, 1828, 1830, 1832, 1834, 1836, 1838, 1840, 1842, 1844, 1846, 1848, 1850, 1852, 1854, 1856, 1858, 1860, 1862, 1864, 1866, 1868, 1870, 1872, 1874, 1876, 1878, 1880, 1882, 1884, 1886, 1888, 1890, 1892, 1894, 1896, 1898, 1900, 1902, 1904, 1906, 1908, 1910, 1912, 1914, 1916, 1918, 1920, 1922, 1924, 1926, 1928, 1930, 1932, 1934, 1936, 1938, 1940, 1942, 1944, 1946, 1948, 1950, 1952, 1954, 1956, 1958, 1960, 1962, 1964, 1966, 1968, 1970, 1972, 1974, 1976, 1978, 1980, 1982, 1984, 1986, 1988, 1990, 1992, 1994, 1996, 1998, 2000, 2002, 2004, 2006, 2008, 2010, 2012, 2014, 2016, 2018, 2020, 2022, 2024, 2026, 2028, 2030, 2032, 2034, 2036, 2038, 2040, 2042, 2044, 2046, 2048, 2050, 2052, 2054, 2056, 2058, 2060, 2062, 2064, 2066, 2068, 2070, 2072, 2074, 2076, 2078, 2080, 2082, 2084, 2086, 2088, 2090, 2092, 2094, 2096, 2098, 2100, 2102, 2104, 2106, 2108, 2110, 2112, 2114, 2116, 2118, 2120, 2122, 2124, 2126, 2128, 2130, 2132, 2134, 2136, 2138, 2140, 2142, 2144, 2146, 2148, 2150, 2152, 2154, 2156, 2158, 2160, 2162, 2164, 2166, 2168, 2170, 2172, 2174, 2176, 2178, 2180, 2182, 2184, 2186, 2188, 2190, 2192, 2194, 2196, 2198, 2200, 2202, 2204, 2206, 2208, 2210, 2212, 2214, 2216, 2218, 2220, 2222, 2224, 2226, 2228, 2230, 2232, 2234, 2236, 2238, 2240, 2242, 2244, 2246, 2248, 2250, 2252, 2254, 2256, 2258, 2260, 2262, 2264, 2266, 2268, 2270, 2272, 2274, 2276, 2278, 2280, 2282, 2284, 2286, 2288, 2290, 2292, 2294, 2296, 2298, 2300, 2302, 2304, 2306, 2308, 2310, 2312, 2314, 2316, 2318, 2320, 2322, 2324, 2326, 2328, 2330, 2332, 2334, 2336, 2338, 2340, 2342, 2344, 2346, 2348, 2350, 2352, 2354, 2356, 2358, 2360, 2362, 2364, 2366, 2368, 2370, 2372, 2374, 2376, 2378, 2380, 2382, 2384, 2386, 2388, 2390, 2392, 2394, 2396, 2398, 2400, 2402, 2404, 2406, 2408, 2410, 2412, 2414, 2416, 2418, 2420, 2422, 2424, 2426, 2428, 2430, 2432, 2434, 2436, 2438, 2440, 2442, 2444, 2446, 2448, 2450, 2452, 2454, 2456, 2458, 2460, 2462, 2464, 2466, 2468, 2470, 2472, 2474, 2476, 2478, 2480, 2482, 2484, 2486, 2488, 2490, 2492, 2494, 2496, 2498, 2500, 2502, 2504, 2506, 2508, 2510, 2512, 2514, 2516, 2518, 2520, 2522, 2524, 2526, 2528, 2530, 2532, 2534, 2536, 2538, 2540, 2542, 2544, 2546, 2548, 2550, 2552, 2554, 2556, 2558, 2560, 2562, 2564, 2566, 2568, 2570, 2572, 2574, 2576, 2578, 2580, 2582, 2584, 2586, 2588, 2590, 2592, 2594, 2596, 2598, 2600, 2602, 2604, 2606, 2608, 2610, 2612, 2614, 2616, 2618, 2620, 2622, 2624, 2626, 2628, 2630, 2632, 2634, 2636, 2638, 2640, 2642, 2644, 2646, 2648, 2650, 2652, 2654, 2656, 2658, 2660, 2662, 2664, 2666, 2668, 2670, 2672, 2674, 2676, 2678, 2680, 2682, 2684, 2686, 2688, 2690, 2692, 2694, 2696, 2698, 2700, 2702, 2704, 2706, 2708, 2710, 2712, 2714, 2716, 2718, 2720, 2722, 2724, 2726, 2728, 2730, 2732, 2734, 2736, 2738, 2740, 2742, 2744, 2746, 2748, 2750, 2752, 2754, 2756, 2758, 2760, 2762, 2764, 2766, 2768, 2770, 2772, 2774, 2776, 2778, 2780, 2782, 2784, 2786, 2788, 2790, 2792, 2794, 2796, 2798, 2800, 2802, 2804, 2806, 2808, 2810, 2812, 2814, 2816, 2818, 2820, 2822, 2824, 2826, 2828, 2830, 2832, 2834, 2836, 2838, 2840, 2842, 2844, 2846, 2848, 2850, 2852, 2854, 2856, 2858, 2860, 2862, 2864, 2866, 2868, 2870, 2872, 2874, 2876, 2878, 2880, 2882, 2884, 2886, 2888, 2890, 2892, 2894, 2896, 2898, 2900, 2902, 2904, 2906, 2908, 2910, 2912, 2914, 2916, 2918, 2920, 2922, 2924, 2926, 2928, 2930, 2932, 2934, 2936, 2938, 2940, 2942, 2944, 2946, 2948, 2950, 2952, 2954, 2956, 2958, 2960, 2962, 2964, 2966, 2968, 2970, 2972, 2974, 2976, 2978, 2980, 2982, 2984, 2986, 2988, 2990, 2992, 2994, 2996, 2998, 3000]\n"
     ]
    }
   ],
   "source": [
    "l=[i for i in range(1000,3001) if i%2==0]\n",
    "print(l)"
   ]
  },
  {
   "cell_type": "code",
   "execution_count": 40,
   "id": "55267ce1",
   "metadata": {},
   "outputs": [
    {
     "name": "stdout",
     "output_type": "stream",
     "text": [
      "[1000, 1002, 1004, 1006, 1008, 1010, 1012, 1014, 1016, 1018, 1020, 1022, 1024, 1026, 1028, 1030, 1032, 1034, 1036, 1038, 1040, 1042, 1044, 1046, 1048, 1050, 1052, 1054, 1056, 1058, 1060, 1062, 1064, 1066, 1068, 1070, 1072, 1074, 1076, 1078, 1080, 1082, 1084, 1086, 1088, 1090, 1092, 1094, 1096, 1098, 1100, 1102, 1104, 1106, 1108, 1110, 1112, 1114, 1116, 1118, 1120, 1122, 1124, 1126, 1128, 1130, 1132, 1134, 1136, 1138, 1140, 1142, 1144, 1146, 1148, 1150, 1152, 1154, 1156, 1158, 1160, 1162, 1164, 1166, 1168, 1170, 1172, 1174, 1176, 1178, 1180, 1182, 1184, 1186, 1188, 1190, 1192, 1194, 1196, 1198, 1200, 1202, 1204, 1206, 1208, 1210, 1212, 1214, 1216, 1218, 1220, 1222, 1224, 1226, 1228, 1230, 1232, 1234, 1236, 1238, 1240, 1242, 1244, 1246, 1248, 1250, 1252, 1254, 1256, 1258, 1260, 1262, 1264, 1266, 1268, 1270, 1272, 1274, 1276, 1278, 1280, 1282, 1284, 1286, 1288, 1290, 1292, 1294, 1296, 1298, 1300, 1302, 1304, 1306, 1308, 1310, 1312, 1314, 1316, 1318, 1320, 1322, 1324, 1326, 1328, 1330, 1332, 1334, 1336, 1338, 1340, 1342, 1344, 1346, 1348, 1350, 1352, 1354, 1356, 1358, 1360, 1362, 1364, 1366, 1368, 1370, 1372, 1374, 1376, 1378, 1380, 1382, 1384, 1386, 1388, 1390, 1392, 1394, 1396, 1398, 1400, 1402, 1404, 1406, 1408, 1410, 1412, 1414, 1416, 1418, 1420, 1422, 1424, 1426, 1428, 1430, 1432, 1434, 1436, 1438, 1440, 1442, 1444, 1446, 1448, 1450, 1452, 1454, 1456, 1458, 1460, 1462, 1464, 1466, 1468, 1470, 1472, 1474, 1476, 1478, 1480, 1482, 1484, 1486, 1488, 1490, 1492, 1494, 1496, 1498, 1500, 1502, 1504, 1506, 1508, 1510, 1512, 1514, 1516, 1518, 1520, 1522, 1524, 1526, 1528, 1530, 1532, 1534, 1536, 1538, 1540, 1542, 1544, 1546, 1548, 1550, 1552, 1554, 1556, 1558, 1560, 1562, 1564, 1566, 1568, 1570, 1572, 1574, 1576, 1578, 1580, 1582, 1584, 1586, 1588, 1590, 1592, 1594, 1596, 1598, 1600, 1602, 1604, 1606, 1608, 1610, 1612, 1614, 1616, 1618, 1620, 1622, 1624, 1626, 1628, 1630, 1632, 1634, 1636, 1638, 1640, 1642, 1644, 1646, 1648, 1650, 1652, 1654, 1656, 1658, 1660, 1662, 1664, 1666, 1668, 1670, 1672, 1674, 1676, 1678, 1680, 1682, 1684, 1686, 1688, 1690, 1692, 1694, 1696, 1698, 1700, 1702, 1704, 1706, 1708, 1710, 1712, 1714, 1716, 1718, 1720, 1722, 1724, 1726, 1728, 1730, 1732, 1734, 1736, 1738, 1740, 1742, 1744, 1746, 1748, 1750, 1752, 1754, 1756, 1758, 1760, 1762, 1764, 1766, 1768, 1770, 1772, 1774, 1776, 1778, 1780, 1782, 1784, 1786, 1788, 1790, 1792, 1794, 1796, 1798, 1800, 1802, 1804, 1806, 1808, 1810, 1812, 1814, 1816, 1818, 1820, 1822, 1824, 1826, 1828, 1830, 1832, 1834, 1836, 1838, 1840, 1842, 1844, 1846, 1848, 1850, 1852, 1854, 1856, 1858, 1860, 1862, 1864, 1866, 1868, 1870, 1872, 1874, 1876, 1878, 1880, 1882, 1884, 1886, 1888, 1890, 1892, 1894, 1896, 1898, 1900, 1902, 1904, 1906, 1908, 1910, 1912, 1914, 1916, 1918, 1920, 1922, 1924, 1926, 1928, 1930, 1932, 1934, 1936, 1938, 1940, 1942, 1944, 1946, 1948, 1950, 1952, 1954, 1956, 1958, 1960, 1962, 1964, 1966, 1968, 1970, 1972, 1974, 1976, 1978, 1980, 1982, 1984, 1986, 1988, 1990, 1992, 1994, 1996, 1998, 2000, 2002, 2004, 2006, 2008, 2010, 2012, 2014, 2016, 2018, 2020, 2022, 2024, 2026, 2028, 2030, 2032, 2034, 2036, 2038, 2040, 2042, 2044, 2046, 2048, 2050, 2052, 2054, 2056, 2058, 2060, 2062, 2064, 2066, 2068, 2070, 2072, 2074, 2076, 2078, 2080, 2082, 2084, 2086, 2088, 2090, 2092, 2094, 2096, 2098, 2100, 2102, 2104, 2106, 2108, 2110, 2112, 2114, 2116, 2118, 2120, 2122, 2124, 2126, 2128, 2130, 2132, 2134, 2136, 2138, 2140, 2142, 2144, 2146, 2148, 2150, 2152, 2154, 2156, 2158, 2160, 2162, 2164, 2166, 2168, 2170, 2172, 2174, 2176, 2178, 2180, 2182, 2184, 2186, 2188, 2190, 2192, 2194, 2196, 2198, 2200, 2202, 2204, 2206, 2208, 2210, 2212, 2214, 2216, 2218, 2220, 2222, 2224, 2226, 2228, 2230, 2232, 2234, 2236, 2238, 2240, 2242, 2244, 2246, 2248, 2250, 2252, 2254, 2256, 2258, 2260, 2262, 2264, 2266, 2268, 2270, 2272, 2274, 2276, 2278, 2280, 2282, 2284, 2286, 2288, 2290, 2292, 2294, 2296, 2298, 2300, 2302, 2304, 2306, 2308, 2310, 2312, 2314, 2316, 2318, 2320, 2322, 2324, 2326, 2328, 2330, 2332, 2334, 2336, 2338, 2340, 2342, 2344, 2346, 2348, 2350, 2352, 2354, 2356, 2358, 2360, 2362, 2364, 2366, 2368, 2370, 2372, 2374, 2376, 2378, 2380, 2382, 2384, 2386, 2388, 2390, 2392, 2394, 2396, 2398, 2400, 2402, 2404, 2406, 2408, 2410, 2412, 2414, 2416, 2418, 2420, 2422, 2424, 2426, 2428, 2430, 2432, 2434, 2436, 2438, 2440, 2442, 2444, 2446, 2448, 2450, 2452, 2454, 2456, 2458, 2460, 2462, 2464, 2466, 2468, 2470, 2472, 2474, 2476, 2478, 2480, 2482, 2484, 2486, 2488, 2490, 2492, 2494, 2496, 2498, 2500, 2502, 2504, 2506, 2508, 2510, 2512, 2514, 2516, 2518, 2520, 2522, 2524, 2526, 2528, 2530, 2532, 2534, 2536, 2538, 2540, 2542, 2544, 2546, 2548, 2550, 2552, 2554, 2556, 2558, 2560, 2562, 2564, 2566, 2568, 2570, 2572, 2574, 2576, 2578, 2580, 2582, 2584, 2586, 2588, 2590, 2592, 2594, 2596, 2598, 2600, 2602, 2604, 2606, 2608, 2610, 2612, 2614, 2616, 2618, 2620, 2622, 2624, 2626, 2628, 2630, 2632, 2634, 2636, 2638, 2640, 2642, 2644, 2646, 2648, 2650, 2652, 2654, 2656, 2658, 2660, 2662, 2664, 2666, 2668, 2670, 2672, 2674, 2676, 2678, 2680, 2682, 2684, 2686, 2688, 2690, 2692, 2694, 2696, 2698, 2700, 2702, 2704, 2706, 2708, 2710, 2712, 2714, 2716, 2718, 2720, 2722, 2724, 2726, 2728, 2730, 2732, 2734, 2736, 2738, 2740, 2742, 2744, 2746, 2748, 2750, 2752, 2754, 2756, 2758, 2760, 2762, 2764, 2766, 2768, 2770, 2772, 2774, 2776, 2778, 2780, 2782, 2784, 2786, 2788, 2790, 2792, 2794, 2796, 2798, 2800, 2802, 2804, 2806, 2808, 2810, 2812, 2814, 2816, 2818, 2820, 2822, 2824, 2826, 2828, 2830, 2832, 2834, 2836, 2838, 2840, 2842, 2844, 2846, 2848, 2850, 2852, 2854, 2856, 2858, 2860, 2862, 2864, 2866, 2868, 2870, 2872, 2874, 2876, 2878, 2880, 2882, 2884, 2886, 2888, 2890, 2892, 2894, 2896, 2898, 2900, 2902, 2904, 2906, 2908, 2910, 2912, 2914, 2916, 2918, 2920, 2922, 2924, 2926, 2928, 2930, 2932, 2934, 2936, 2938, 2940, 2942, 2944, 2946, 2948, 2950, 2952, 2954, 2956, 2958, 2960, 2962, 2964, 2966, 2968, 2970, 2972, 2974, 2976, 2978, 2980, 2982, 2984, 2986, 2988, 2990, 2992, 2994, 2996, 2998, 3000]\n"
     ]
    }
   ],
   "source": [
    "start,end,list=1000,3000,[]\n",
    "while start<=end:\n",
    "    if start%2==0:\n",
    "        list.append(start)\n",
    "    start+=1\n",
    "print(list)"
   ]
  },
  {
   "cell_type": "markdown",
   "id": "ccbc831c",
   "metadata": {},
   "source": [
    "#### List of all prime numbers between 1 to 100"
   ]
  },
  {
   "cell_type": "code",
   "execution_count": 41,
   "id": "5355c92c",
   "metadata": {},
   "outputs": [
    {
     "name": "stdout",
     "output_type": "stream",
     "text": [
      "[2, 3, 5, 7, 11, 13, 17, 19, 23, 29, 31, 37, 41, 43, 47, 53, 59, 61, 67, 71, 73, 79, 83, 89, 97]\n"
     ]
    }
   ],
   "source": [
    "primes=[]\n",
    "for num in range(1,101):\n",
    "    if num > 1:\n",
    "        for i in range(2, num):\n",
    "            if (num % i) == 0:\n",
    "               break\n",
    "        else:\n",
    "            primes.append(num)\n",
    "print(primes)"
   ]
  },
  {
   "cell_type": "code",
   "execution_count": 42,
   "id": "c894f1be",
   "metadata": {},
   "outputs": [
    {
     "name": "stdout",
     "output_type": "stream",
     "text": [
      "[2, 3, 5, 7, 11, 13, 17, 19, 23, 29, 31, 37, 41, 43, 47, 53, 59, 61, 67, 71, 73, 79, 83, 89, 97]\n"
     ]
    }
   ],
   "source": [
    "primes=[]\n",
    "for num in range(2,101):\n",
    "    count=0\n",
    "    for j in range(2,num//2+1):\n",
    "        if num%j==0:\n",
    "            count=1\n",
    "            break\n",
    "    if count==0:\n",
    "        primes.append(num)\n",
    "print(primes)"
   ]
  },
  {
   "cell_type": "markdown",
   "id": "700b241e",
   "metadata": {},
   "source": [
    "#### Loop and Dictionary Exerises"
   ]
  },
  {
   "cell_type": "code",
   "execution_count": 43,
   "id": "42dfd046",
   "metadata": {},
   "outputs": [],
   "source": [
    "# keys=[\"M\",\"A\",\"N\",\"G\"]\n",
    "# values=[\"Meta\",\"Apple\",\"Netflix\",\"Google\"]\n",
    "# expected output: {\"M\":\"Meta\".......}"
   ]
  },
  {
   "cell_type": "code",
   "execution_count": 44,
   "id": "de526fd2",
   "metadata": {},
   "outputs": [
    {
     "name": "stdout",
     "output_type": "stream",
     "text": [
      "{'M': 'Meta', 'A': 'Apple', 'N': 'Netflix', 'G': 'Google'}\n"
     ]
    }
   ],
   "source": [
    "keys=[\"M\",\"A\",\"N\",\"G\"]\n",
    "values=[\"Meta\",\"Apple\",\"Netflix\",\"Google\"]\n",
    "mang_company=dict(zip(keys,values))\n",
    "print(mang_company)"
   ]
  },
  {
   "cell_type": "code",
   "execution_count": 45,
   "id": "a75ad660",
   "metadata": {},
   "outputs": [
    {
     "name": "stdout",
     "output_type": "stream",
     "text": [
      "{'M': 'Meta', 'A': 'Apple', 'N': 'Netflix', 'G': 'Google'}\n"
     ]
    }
   ],
   "source": [
    "dictio={}\n",
    "for i,j in zip(keys,values):\n",
    "    dictio[i]=j\n",
    "print(dictio)"
   ]
  },
  {
   "cell_type": "code",
   "execution_count": 46,
   "id": "7c7bbdd3",
   "metadata": {},
   "outputs": [
    {
     "name": "stdout",
     "output_type": "stream",
     "text": [
      "{'M': 'Meta', 'A': 'Apple', 'N': 'Netflix', 'G': 'Google'}\n"
     ]
    }
   ],
   "source": [
    "dictio={}\n",
    "for i in range(len(keys)):\n",
    "    dictio[keys[i]]=values[i]\n",
    "print(dictio)"
   ]
  },
  {
   "cell_type": "code",
   "execution_count": 49,
   "id": "028250d7",
   "metadata": {},
   "outputs": [
    {
     "name": "stdout",
     "output_type": "stream",
     "text": [
      "{'M': 'Meta', 'A': 'Apple', 'N': 'Netflix', 'G': 'Google'}\n",
      "Duration in seconds:  0.0\n"
     ]
    }
   ],
   "source": [
    "dictio={}\n",
    "start=time.time()\n",
    "for i in range(len(keys)):\n",
    "    dictio.update({keys[i]:values[i]})\n",
    "end=time.time()\n",
    "print(dictio)\n",
    "print(\"Duration in seconds: \",end-start)"
   ]
  },
  {
   "cell_type": "code",
   "execution_count": 48,
   "id": "58c396f7",
   "metadata": {},
   "outputs": [
    {
     "name": "stdout",
     "output_type": "stream",
     "text": [
      "1677230876.797429\n"
     ]
    }
   ],
   "source": [
    "import time\n",
    "print(time.time())"
   ]
  },
  {
   "cell_type": "markdown",
   "id": "0fbb42ff",
   "metadata": {},
   "source": [
    "#### Exercise: Create a dict by extracting the keys from a given dict"
   ]
  },
  {
   "cell_type": "code",
   "execution_count": 51,
   "id": "60b091b7",
   "metadata": {},
   "outputs": [
    {
     "name": "stdout",
     "output_type": "stream",
     "text": [
      "{'name': 'XYZ', 'salary': 100000}\n"
     ]
    }
   ],
   "source": [
    "sample_dict={\n",
    "    \"name\":\"XYZ\",\n",
    "    \"age\":29,\n",
    "    \"salary\":100000,\n",
    "    \"city\":\"new york\",\n",
    "    \"contact\":9876543210\n",
    "}\n",
    "\n",
    "# Keys to extract\n",
    "keys=[\"name\",\"salary\"]\n",
    "\n",
    "final_dict={}\n",
    "\n",
    "for i in keys:\n",
    "    if i in sample_dict.keys():\n",
    "        final_dict.update({i:sample_dict[i]})\n",
    "print(final_dict)"
   ]
  },
  {
   "cell_type": "code",
   "execution_count": 52,
   "id": "f602c793",
   "metadata": {},
   "outputs": [
    {
     "name": "stdout",
     "output_type": "stream",
     "text": [
      "{'name': 'XYZ', 'salary': 100000}\n"
     ]
    }
   ],
   "source": [
    "final_dict={i:sample_dict[i] for i in keys if i in sample_dict.keys()}\n",
    "print(final_dict)"
   ]
  },
  {
   "cell_type": "code",
   "execution_count": 53,
   "id": "bd07e9db",
   "metadata": {},
   "outputs": [
    {
     "name": "stdout",
     "output_type": "stream",
     "text": [
      "{'name': 'XYZ', 'salary': 100000}\n"
     ]
    }
   ],
   "source": [
    "print({i:sample_dict[i] for i in keys if i in sample_dict.keys()})"
   ]
  },
  {
   "cell_type": "markdown",
   "id": "98f8e6b3",
   "metadata": {},
   "source": [
    "#### Exercise: Scan all keys from dictionary and get a key with minimum value"
   ]
  },
  {
   "cell_type": "code",
   "execution_count": 56,
   "id": "5b06eb55",
   "metadata": {},
   "outputs": [
    {
     "name": "stdout",
     "output_type": "stream",
     "text": [
      "history\n"
     ]
    }
   ],
   "source": [
    "sample_marks={\n",
    "    \"physics\":89,\n",
    "    \"maths\":78,\n",
    "    \"history\":65\n",
    "}\n",
    "\n",
    "print(min(sample_marks,key=sample_marks.get))"
   ]
  },
  {
   "cell_type": "markdown",
   "id": "3fc36370",
   "metadata": {},
   "source": [
    "#### Exercise: Find frequency of each word from a given input string"
   ]
  },
  {
   "cell_type": "code",
   "execution_count": 63,
   "id": "c023eb36",
   "metadata": {},
   "outputs": [
    {
     "name": "stdout",
     "output_type": "stream",
     "text": [
      "{'mumbai': 1, 'delhi': 3, 'hyderabad': 2, 'nagpur': 1, 'guwahati': 1}\n"
     ]
    }
   ],
   "source": [
    "sample_str=\"mumbai delhi delhi hyderabad nagpur hyderabad guwahati delhi\"\n",
    "freq_dict={}\n",
    "for i in sample_str.split():\n",
    "    if i in freq_dict.keys():\n",
    "        freq_dict[i]+=1\n",
    "    else:\n",
    "        freq_dict[i]=1\n",
    "print(freq_dict)"
   ]
  },
  {
   "cell_type": "code",
   "execution_count": 65,
   "id": "041d7f6b",
   "metadata": {},
   "outputs": [
    {
     "name": "stdout",
     "output_type": "stream",
     "text": [
      "['mumbai', 'delhi', 'delhi', 'hyderabad', 'nagpur', 'hyderabad', 'guwahati', 'delhi']\n"
     ]
    }
   ],
   "source": [
    "sample_str_copy=sample_str.split().copy()\n",
    "print(sample_str_copy)\n",
    "freq_list=[]\n",
    "while len(sample_str_copy)!=0:\n",
    "    if sample_str_copy.count(sample_str_copy[0])>1:\n",
    "        freq_list.append(\"Frequency of\",sample_str_copy[0],\"is\",sample_str_copy.count(sample_str_copy[0]))\n",
    "        for _ in range(sample_str_copy.count(sample_str_copy[0])):\n",
    "            sample_str_copy.remove\n",
    "    else:\n",
    "        freq_list.append(\"Frequency of\",sample_str_copy[0],\"is\",sample_str_copy.count(sample_str_copy[0]))"
   ]
  },
  {
   "cell_type": "markdown",
   "id": "e7e3a0ac",
   "metadata": {},
   "source": [
    "#### Functions\n",
    "* In programming, we define a function to make reusable code that preforms simalar operations. It is block of organised code written to perform a certain task.\n",
    "* Informations can be passed into functions as arguments\n",
    "* Parameters are specific after the function name within paranthesis.\n",
    "* Syntax: function_name(arg1, arg2, ....)\n",
    "* A function in python is declared in python using \"def\" keyword.\n",
    "* A function may or may not have return data."
   ]
  },
  {
   "cell_type": "code",
   "execution_count": 66,
   "id": "ce3b497f",
   "metadata": {},
   "outputs": [],
   "source": [
    "# Declaration of function\n",
    "def myfunc():\n",
    "    print(\"Hello python lovers!\")"
   ]
  },
  {
   "cell_type": "code",
   "execution_count": 67,
   "id": "a43eb391",
   "metadata": {},
   "outputs": [
    {
     "name": "stdout",
     "output_type": "stream",
     "text": [
      "Hello python lovers!\n"
     ]
    }
   ],
   "source": [
    "# Call function\n",
    "myfunc()"
   ]
  },
  {
   "cell_type": "markdown",
   "id": "30e630bb",
   "metadata": {},
   "source": [
    "#### Function with Parameters"
   ]
  },
  {
   "cell_type": "code",
   "execution_count": 72,
   "id": "9b695396",
   "metadata": {},
   "outputs": [
    {
     "name": "stdout",
     "output_type": "stream",
     "text": [
      "Hello Dharan, Good Evening!\n"
     ]
    }
   ],
   "source": [
    "def greetings(name):\n",
    "    '''\n",
    "    This function greets a person by its name\n",
    "    '''\n",
    "    print(\"Hello {}, Good Evening!\".format(name))\n",
    "greetings(\"Dharan\")"
   ]
  },
  {
   "cell_type": "code",
   "execution_count": 73,
   "id": "79a6d251",
   "metadata": {},
   "outputs": [
    {
     "name": "stdout",
     "output_type": "stream",
     "text": [
      "print(value, ..., sep=' ', end='\\n', file=sys.stdout, flush=False)\n",
      "\n",
      "Prints the values to a stream, or to sys.stdout by default.\n",
      "Optional keyword arguments:\n",
      "file:  a file-like object (stream); defaults to the current sys.stdout.\n",
      "sep:   string inserted between values, default a space.\n",
      "end:   string appended after the last value, default a newline.\n",
      "flush: whether to forcibly flush the stream.\n"
     ]
    }
   ],
   "source": [
    "print(print.__doc__)"
   ]
  },
  {
   "cell_type": "code",
   "execution_count": 74,
   "id": "302cabaa",
   "metadata": {},
   "outputs": [
    {
     "name": "stdout",
     "output_type": "stream",
     "text": [
      "\n",
      "    This function greets a person by its name\n",
      "    \n"
     ]
    }
   ],
   "source": [
    "# __doc__ is used to get the documentation of the functions \n",
    "print(greetings.__doc__)"
   ]
  },
  {
   "cell_type": "code",
   "execution_count": 76,
   "id": "aa0912af",
   "metadata": {},
   "outputs": [
    {
     "name": "stdout",
     "output_type": "stream",
     "text": [
      "Sum of two numbers is 49\n"
     ]
    }
   ],
   "source": [
    "# Function with two arguments\n",
    "def add(var1,var2):\n",
    "    var3=var1+var2\n",
    "    # %s for string\n",
    "    # %d %i for integers\n",
    "    # %f for floats\n",
    "    print(\"Sum of two numbers is {}\".format(var3))\n",
    "add(10,39)"
   ]
  },
  {
   "cell_type": "code",
   "execution_count": 78,
   "id": "eab4e438",
   "metadata": {},
   "outputs": [
    {
     "data": {
      "text/plain": [
       "'Hello Arya Good Evening'"
      ]
     },
     "execution_count": 78,
     "metadata": {},
     "output_type": "execute_result"
    }
   ],
   "source": [
    "# Function with return statement\n",
    "\n",
    "def greetings(name):\n",
    "    statement=\"Hello \"+name+\" Good Evening\"\n",
    "    return statement\n",
    "\n",
    "# Calling a function\n",
    "greetings(\"Arya\")"
   ]
  },
  {
   "cell_type": "markdown",
   "id": "3d4600f3",
   "metadata": {},
   "source": [
    "#### Exercise: Create a function Calculator takes 3 parameters, two numbers and one operator"
   ]
  },
  {
   "cell_type": "code",
   "execution_count": 82,
   "id": "8cdda974",
   "metadata": {},
   "outputs": [
    {
     "name": "stdout",
     "output_type": "stream",
     "text": [
      "Enter 1st number: 1\n",
      "Enter 2nd number: 89\n",
      "Enter the operator: %\n"
     ]
    },
    {
     "data": {
      "text/plain": [
       "1.0"
      ]
     },
     "execution_count": 82,
     "metadata": {},
     "output_type": "execute_result"
    }
   ],
   "source": [
    "def Calculator(val1,val2,operator):\n",
    "    if operator==\"+\":\n",
    "        return val1+val2 \n",
    "    elif operator==\"-\":\n",
    "        return val1-val2 \n",
    "    elif operator==\"*\":\n",
    "        return val1*val2\n",
    "    elif operator==\"/\":\n",
    "        return val1/val2\n",
    "    elif operator==\"%\":\n",
    "        return val1%val2\n",
    "\n",
    "Calculator(float(input(\"Enter 1st number: \")),float(input(\"Enter 2nd number: \")),str(input(\"Enter the operator: \")))"
   ]
  },
  {
   "cell_type": "code",
   "execution_count": 96,
   "id": "d438421b",
   "metadata": {},
   "outputs": [
    {
     "name": "stdout",
     "output_type": "stream",
     "text": [
      "Enter 1st number: 10\n",
      "Enter 2nd number: 20\n",
      "Enter the operator: _\n"
     ]
    },
    {
     "data": {
      "text/plain": [
       "'Invalid Operation'"
      ]
     },
     "execution_count": 96,
     "metadata": {},
     "output_type": "execute_result"
    }
   ],
   "source": [
    "def Calculator(val1,val2,operator): return val1+val2 if operator==\"+\" else val1-val2 if operator==\"-\" else val1/val2 if operator==\"/\" else val1*val2 if operator==\"*\" else val1%val2 if operator==\"%\" else \"Invalid Operation\"\n",
    "Calculator(float(input(\"Enter 1st number: \")),float(input(\"Enter 2nd number: \")),str(input(\"Enter the operator: \")))"
   ]
  },
  {
   "cell_type": "markdown",
   "id": "a1c65234",
   "metadata": {},
   "source": [
    "#### Scope of Variable"
   ]
  },
  {
   "cell_type": "code",
   "execution_count": 102,
   "id": "1406270b",
   "metadata": {},
   "outputs": [
    {
     "name": "stdout",
     "output_type": "stream",
     "text": [
      "inner variable\n",
      "global variable\n"
     ]
    }
   ],
   "source": [
    "# Local Scope\n",
    "var=\"global variable\"\n",
    "def inner():\n",
    "    var=\"inner variable\"\n",
    "    print(var)\n",
    "inner()\n",
    "print(var)"
   ]
  },
  {
   "cell_type": "code",
   "execution_count": 103,
   "id": "f7a1d9f3",
   "metadata": {},
   "outputs": [
    {
     "name": "stdout",
     "output_type": "stream",
     "text": [
      "global variable\n"
     ]
    }
   ],
   "source": [
    "# Global Variable\n",
    "var=\"global variable\"\n",
    "def inner():\n",
    "    var1=\"inner variable\"\n",
    "    print(var)\n",
    "inner()"
   ]
  },
  {
   "cell_type": "code",
   "execution_count": 105,
   "id": "cf15d688",
   "metadata": {},
   "outputs": [
    {
     "name": "stdout",
     "output_type": "stream",
     "text": [
      "outer variable\n",
      "global variable\n"
     ]
    }
   ],
   "source": [
    "# Enclosed Scope\n",
    "var=\"global variable\"\n",
    "def outer():\n",
    "    var=\"outer variable\"\n",
    "    def inner():\n",
    "        print(var)\n",
    "    inner()\n",
    "outer()\n",
    "print(var)"
   ]
  },
  {
   "cell_type": "markdown",
   "id": "7d725efc",
   "metadata": {},
   "source": [
    "#### Happy Learning"
   ]
  }
 ],
 "metadata": {
  "kernelspec": {
   "display_name": "Python 3 (ipykernel)",
   "language": "python",
   "name": "python3"
  },
  "language_info": {
   "codemirror_mode": {
    "name": "ipython",
    "version": 3
   },
   "file_extension": ".py",
   "mimetype": "text/x-python",
   "name": "python",
   "nbconvert_exporter": "python",
   "pygments_lexer": "ipython3",
   "version": "3.9.13"
  }
 },
 "nbformat": 4,
 "nbformat_minor": 5
}
