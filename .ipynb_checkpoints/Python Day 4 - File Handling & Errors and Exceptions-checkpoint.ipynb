{
 "cells": [
  {
   "cell_type": "code",
   "execution_count": 3,
   "id": "b5ec45ca",
   "metadata": {},
   "outputs": [],
   "source": [
    "import os"
   ]
  },
  {
   "cell_type": "code",
   "execution_count": 5,
   "id": "6b927807",
   "metadata": {},
   "outputs": [
    {
     "data": {
      "text/plain": [
       "'C:\\\\Users\\\\pdharantej\\\\Desktop\\\\Intern Training'"
      ]
     },
     "execution_count": 5,
     "metadata": {},
     "output_type": "execute_result"
    }
   ],
   "source": [
    "# returns the current working directory\n",
    "os.getcwd()"
   ]
  },
  {
   "cell_type": "code",
   "execution_count": 37,
   "id": "f74034c7",
   "metadata": {},
   "outputs": [
    {
     "data": {
      "text/plain": [
       "['.ipynb_checkpoints',\n",
       " 'Day 1.txt',\n",
       " 'Python Day 1.ipynb',\n",
       " 'Python Day 2.ipynb',\n",
       " 'Python Day 3, 4 - OOPS.ipynb',\n",
       " 'Python Day 3.ipynb',\n",
       " 'Python Day 4 - File Handling.ipynb',\n",
       " 'test.txt']"
      ]
     },
     "execution_count": 37,
     "metadata": {},
     "output_type": "execute_result"
    }
   ],
   "source": [
    "# get list of files and directories at a given path\n",
    "path=\"./\"\n",
    "os.listdir(path)"
   ]
  },
  {
   "cell_type": "code",
   "execution_count": 38,
   "id": "71586978",
   "metadata": {},
   "outputs": [],
   "source": [
    "directory=\"temp\"\n",
    "parent_path=\"./\"\n",
    "path= os.path.join(parent_path,directory) # joins the two paths given\n",
    "os.makedirs(path)"
   ]
  },
  {
   "cell_type": "code",
   "execution_count": 39,
   "id": "552c8d54",
   "metadata": {},
   "outputs": [],
   "source": [
    "os.rmdir(path) # removes the directory at that particular path"
   ]
  },
  {
   "cell_type": "code",
   "execution_count": 40,
   "id": "0d8fbde6",
   "metadata": {},
   "outputs": [
    {
     "name": "stdout",
     "output_type": "stream",
     "text": [
      "['Day 1.txt', 'Python Day 1.ipynb', 'Python Day 2.ipynb', 'Python Day 3, 4 - OOPS.ipynb', 'Python Day 3.ipynb', 'Python Day 4 - File Handling.ipynb', 'test.txt', 'Python Day 1-checkpoint.ipynb', 'Python Day 2-checkpoint.ipynb', 'Python Day 3, 4 - OOPS-checkpoint.ipynb', 'Python Day 3-checkpoint.ipynb', 'Python Day 4 - File Handling-checkpoint.ipynb']\n"
     ]
    }
   ],
   "source": [
    "directory=[]\n",
    "dirpath=\"./\"\n",
    "# os.walk() reads all the dirs and sub-dirs present in the whole path\n",
    "for (dirpath, dir_names, files_name) in os.walk(dirpath):\n",
    "    directory.extend(files_name)\n",
    "print(directory)"
   ]
  },
  {
   "cell_type": "code",
   "execution_count": 41,
   "id": "3e6f83cf",
   "metadata": {},
   "outputs": [
    {
     "data": {
      "text/plain": [
       "True"
      ]
     },
     "execution_count": 41,
     "metadata": {},
     "output_type": "execute_result"
    }
   ],
   "source": [
    "# returns True if it is a file else returns False\n",
    "\n",
    "os.path.isfile(\"./test.txt\")"
   ]
  },
  {
   "cell_type": "code",
   "execution_count": 44,
   "id": "4abce4bb",
   "metadata": {},
   "outputs": [
    {
     "data": {
      "text/plain": [
       "'Lorem ipsum dolor sit amet, consectetur adipiscing elit, sed do eiusmod tempor incididunt ut labore et dolore magna aliqua. Ut enim ad minim veniam, quis nostrud exercitation ullamco laboris nisi ut aliquip ex ea commodo consequat. Duis aute irure dolor in reprehenderit in voluptate velit esse cillum dolore eu fugiat nulla pariatur. Excepteur sint occaecat cupidatat non proident, sunt in culpa qui officia deserunt mollit anim id est laborum.\\n'"
      ]
     },
     "execution_count": 44,
     "metadata": {},
     "output_type": "execute_result"
    }
   ],
   "source": [
    "# open file from a location in read text mode\n",
    "fileobj=open(\"./test.txt\",\"r\") # open the file in read only mode\n",
    "# fileobj.read() # reads the whole file\n",
    "fileobj.readline() # reads the first line in the file\n",
    "# fileobj.readlines() # reads the each line and returns the list of lines"
   ]
  },
  {
   "cell_type": "code",
   "execution_count": 54,
   "id": "362c169b",
   "metadata": {},
   "outputs": [
    {
     "data": {
      "text/plain": [
       "'This is new file created using open() function.'"
      ]
     },
     "execution_count": 54,
     "metadata": {},
     "output_type": "execute_result"
    }
   ],
   "source": [
    "fileobj=open(\"./test1.txt\",\"w\") # create a file, open the file in write mode\n",
    "fileobj.write(\"This is new file created using open() function.\") # write over a file\n",
    "fileobj.close()\n",
    "\n",
    "fileobj=open(\"./test1.txt\",\"r\")\n",
    "fileobj.read()\n"
   ]
  },
  {
   "cell_type": "code",
   "execution_count": 55,
   "id": "172cf259",
   "metadata": {},
   "outputs": [],
   "source": [
    "fileobj.close()"
   ]
  },
  {
   "cell_type": "code",
   "execution_count": 80,
   "id": "f2757f5d",
   "metadata": {},
   "outputs": [],
   "source": [
    "# append mode for file\n",
    "\n",
    "fileobj=open(\"./test.txt\",\"a+\")\n",
    "fileobj.write(\"\\nPython is easy to learn and now we are learning about files and file handling.\")\n",
    "fileobj.readline()\n",
    "fileobj.close()"
   ]
  },
  {
   "cell_type": "code",
   "execution_count": 84,
   "id": "e8fa65e5",
   "metadata": {},
   "outputs": [
    {
     "name": "stdout",
     "output_type": "stream",
     "text": [
      "Reading the first 20 characters of the file: 1. Python is easy to\n"
     ]
    }
   ],
   "source": [
    "fileobj=open(\"./test.txt\",\"r\")\n",
    "print(\"Reading the first 20 characters of the file: {}\".format(fileobj.read(20)))"
   ]
  },
  {
   "cell_type": "code",
   "execution_count": 85,
   "id": "504e4c84",
   "metadata": {},
   "outputs": [
    {
     "name": "stdout",
     "output_type": "stream",
     "text": [
      "Reading the first line of the file:  learn and now we are learning about files and file handling.\n",
      "\n"
     ]
    }
   ],
   "source": [
    "print(\"Reading the first line of the file: {}\".format(fileobj.readline()))\n",
    "# you are getting from where you left because, you need to close the previous file and then do this."
   ]
  },
  {
   "cell_type": "code",
   "execution_count": 86,
   "id": "e672fd69",
   "metadata": {},
   "outputs": [
    {
     "name": "stdout",
     "output_type": "stream",
     "text": [
      "Reading all the lines as a list: ['2. Python is easy to learn and now we are learning about files and file handling.\\n', '3. Python is easy to learn and now we are learning about files and file handling.\\n', '4. Python is easy to learn and now we are learning about files and file handling.\\n', '5. Python is easy to learn and now we are learning about files and file handling.\\n', '6. Python is easy to learn and now we are learning about files and file handling.\\n', '7. Python is easy to learn and now we are learning about files and file handling.\\n', '8. Python is easy to learn and now we are learning about files and file handling.\\n', '9. Python is easy to learn and now we are learning about files and file handling.\\n', '10. Python is easy to learn and now we are learning about files and file handling.\\n']\n"
     ]
    }
   ],
   "source": [
    "print(\"Reading all the lines as a list: {}\".format(fileobj.readlines()))\n",
    "# you are getting from where you left because, you need to close the previous file and then do this."
   ]
  },
  {
   "cell_type": "code",
   "execution_count": 87,
   "id": "d5c99a5d",
   "metadata": {},
   "outputs": [
    {
     "data": {
      "text/plain": [
       "'1. Python is easy to learn and now we are learning about files and file handling.\\n2. Python is easy to learn and now we are learning about files and file handling.\\n3. Python is easy to learn and now we are learning about files and file handling.\\n4. Python is easy to learn and now we are learning about files and file handling.\\n5. Python is easy to learn and now we are learning about files and file handling.\\n6. Python is easy to learn and now we are learning about files and file handling.\\n7. Python is easy to learn and now we are learning about files and file handling.\\n8. Python is easy to learn and now we are learning about files and file handling.\\n9. Python is easy to learn and now we are learning about files and file handling.\\n10. Python is easy to learn and now we are learning about files and file handling.\\n'"
      ]
     },
     "execution_count": 87,
     "metadata": {},
     "output_type": "execute_result"
    }
   ],
   "source": [
    "fileobj=open(\"./test.txt\",\"r\")\n",
    "# bring cursor at the start of the file (initial position of cursor)\n",
    "fileobj.seek(0)\n",
    "fileobj.read()"
   ]
  },
  {
   "cell_type": "code",
   "execution_count": 88,
   "id": "7ad9a547",
   "metadata": {},
   "outputs": [
    {
     "data": {
      "text/plain": [
       "'is easy to learn and now we are learning about files and file handling.\\n2. Python is easy to learn and now we are learning about files and file handling.\\n3. Python is easy to learn and now we are learning about files and file handling.\\n4. Python is easy to learn and now we are learning about files and file handling.\\n5. Python is easy to learn and now we are learning about files and file handling.\\n6. Python is easy to learn and now we are learning about files and file handling.\\n7. Python is easy to learn and now we are learning about files and file handling.\\n8. Python is easy to learn and now we are learning about files and file handling.\\n9. Python is easy to learn and now we are learning about files and file handling.\\n10. Python is easy to learn and now we are learning about files and file handling.\\n'"
      ]
     },
     "execution_count": 88,
     "metadata": {},
     "output_type": "execute_result"
    }
   ],
   "source": [
    "# seek(10) - new initial position\n",
    "fileobj.seek(10)\n",
    "fileobj.read()"
   ]
  },
  {
   "cell_type": "code",
   "execution_count": 89,
   "id": "a127088e",
   "metadata": {},
   "outputs": [
    {
     "data": {
      "text/plain": [
       "821"
      ]
     },
     "execution_count": 89,
     "metadata": {},
     "output_type": "execute_result"
    }
   ],
   "source": [
    "fileobj.tell() # tells the current position of the cursor"
   ]
  },
  {
   "cell_type": "code",
   "execution_count": 90,
   "id": "7d8b4409",
   "metadata": {},
   "outputs": [
    {
     "data": {
      "text/plain": [
       "[]"
      ]
     },
     "execution_count": 90,
     "metadata": {},
     "output_type": "execute_result"
    }
   ],
   "source": [
    "fileobj.readlines()"
   ]
  },
  {
   "cell_type": "code",
   "execution_count": 91,
   "id": "e58ab9bb",
   "metadata": {},
   "outputs": [
    {
     "data": {
      "text/plain": [
       "['1. Python is easy to learn and now we are learning about files and file handling.\\n',\n",
       " '2. Python is easy to learn and now we are learning about files and file handling.\\n',\n",
       " '3. Python is easy to learn and now we are learning about files and file handling.\\n',\n",
       " '4. Python is easy to learn and now we are learning about files and file handling.\\n',\n",
       " '5. Python is easy to learn and now we are learning about files and file handling.\\n',\n",
       " '6. Python is easy to learn and now we are learning about files and file handling.\\n',\n",
       " '7. Python is easy to learn and now we are learning about files and file handling.\\n',\n",
       " '8. Python is easy to learn and now we are learning about files and file handling.\\n',\n",
       " '9. Python is easy to learn and now we are learning about files and file handling.\\n',\n",
       " '10. Python is easy to learn and now we are learning about files and file handling.\\n']"
      ]
     },
     "execution_count": 91,
     "metadata": {},
     "output_type": "execute_result"
    }
   ],
   "source": [
    "fileobj.seek(0)\n",
    "fileobj.readlines()"
   ]
  },
  {
   "cell_type": "markdown",
   "id": "bb23757a",
   "metadata": {},
   "source": [
    "#### Exercise: Read first 5 lines of file using readlines (without using slicing)"
   ]
  },
  {
   "cell_type": "code",
   "execution_count": 103,
   "id": "3880b8bd",
   "metadata": {},
   "outputs": [
    {
     "name": "stdout",
     "output_type": "stream",
     "text": [
      "1. Python is easy to learn and now we are learning about files and file handling.\n",
      "2. Python is easy to learn and now we are learning about files and file handling.\n",
      "3. Python is easy to learn and now we are learning about files and file handling.\n",
      "4. Python is easy to learn and now we are learning about files and file handling.\n",
      "5. Python is easy to learn and now we are learning about files and file handling.\n"
     ]
    }
   ],
   "source": [
    "file=open(\"./test.txt\",\"r\")\n",
    "\n",
    "count=0\n",
    "while count!=5:\n",
    "    file.seek(0)\n",
    "    print(file.readlines()[count],end=\"\")\n",
    "    count+=1\n",
    "\n",
    "file.close()"
   ]
  },
  {
   "cell_type": "markdown",
   "id": "f42f418b",
   "metadata": {},
   "source": [
    "# Exceptions in Python\n",
    "* python has many built-in exceptions (Zero Division Error, EOF Error, Key Error, Syntax Error, Indendation Error, FileNotFounf Error, EOL Error, etc.)\n",
    "* These are raised when your program encounters an error."
   ]
  },
  {
   "cell_type": "code",
   "execution_count": 104,
   "id": "1d0d5e5c",
   "metadata": {},
   "outputs": [
    {
     "ename": "SyntaxError",
     "evalue": "invalid syntax (24003783.py, line 4)",
     "output_type": "error",
     "traceback": [
      "\u001b[1;36m  File \u001b[1;32m\"C:\\Users\\pdharantej\\AppData\\Local\\Temp\\ipykernel_12000\\24003783.py\"\u001b[1;36m, line \u001b[1;32m4\u001b[0m\n\u001b[1;33m    elif symbol==\"-\":\u001b[0m\n\u001b[1;37m    ^\u001b[0m\n\u001b[1;31mSyntaxError\u001b[0m\u001b[1;31m:\u001b[0m invalid syntax\n"
     ]
    }
   ],
   "source": [
    "def calculate(a, b, symbol):\n",
    "    if symbol==\"+\":\n",
    "        return a+b\n",
    "elif symbol==\"-\":\n",
    "    return a-b"
   ]
  },
  {
   "cell_type": "code",
   "execution_count": 105,
   "id": "7ec79e2d",
   "metadata": {},
   "outputs": [
    {
     "ename": "IndentationError",
     "evalue": "expected an indented block (3007557487.py, line 5)",
     "output_type": "error",
     "traceback": [
      "\u001b[1;36m  File \u001b[1;32m\"C:\\Users\\pdharantej\\AppData\\Local\\Temp\\ipykernel_12000\\3007557487.py\"\u001b[1;36m, line \u001b[1;32m5\u001b[0m\n\u001b[1;33m    return a-b\u001b[0m\n\u001b[1;37m    ^\u001b[0m\n\u001b[1;31mIndentationError\u001b[0m\u001b[1;31m:\u001b[0m expected an indented block\n"
     ]
    }
   ],
   "source": [
    "def calculate(a, b, symbol):\n",
    "    if symbol==\"+\":\n",
    "        return a+b\n",
    "    elif symbol==\"-\":\n",
    "    return a-b"
   ]
  },
  {
   "cell_type": "code",
   "execution_count": 106,
   "id": "7c7b1d9a",
   "metadata": {},
   "outputs": [
    {
     "ename": "FileNotFoundError",
     "evalue": "[Errno 2] No such file or directory: './test2.txt'",
     "output_type": "error",
     "traceback": [
      "\u001b[1;31m---------------------------------------------------------------------------\u001b[0m",
      "\u001b[1;31mFileNotFoundError\u001b[0m                         Traceback (most recent call last)",
      "\u001b[1;32m~\\AppData\\Local\\Temp\\ipykernel_12000\\1367667301.py\u001b[0m in \u001b[0;36m<module>\u001b[1;34m\u001b[0m\n\u001b[1;32m----> 1\u001b[1;33m \u001b[0mfile\u001b[0m\u001b[1;33m=\u001b[0m\u001b[0mopen\u001b[0m\u001b[1;33m(\u001b[0m\u001b[1;34m\"./test2.txt\"\u001b[0m\u001b[1;33m,\u001b[0m\u001b[1;34m\"r\"\u001b[0m\u001b[1;33m)\u001b[0m\u001b[1;33m\u001b[0m\u001b[1;33m\u001b[0m\u001b[0m\n\u001b[0m",
      "\u001b[1;31mFileNotFoundError\u001b[0m: [Errno 2] No such file or directory: './test2.txt'"
     ]
    }
   ],
   "source": [
    "# this will be raised when no file is found in the location given for the path\n",
    "file=open(\"./test2.txt\",\"r\")"
   ]
  },
  {
   "cell_type": "code",
   "execution_count": 107,
   "id": "fc3a28d6",
   "metadata": {},
   "outputs": [
    {
     "ename": "SyntaxError",
     "evalue": "EOL while scanning string literal (3587010699.py, line 1)",
     "output_type": "error",
     "traceback": [
      "\u001b[1;36m  File \u001b[1;32m\"C:\\Users\\pdharantej\\AppData\\Local\\Temp\\ipykernel_12000\\3587010699.py\"\u001b[1;36m, line \u001b[1;32m1\u001b[0m\n\u001b[1;33m    print(\"This is the correct syntax of the print function\u001b[0m\n\u001b[1;37m                                                           ^\u001b[0m\n\u001b[1;31mSyntaxError\u001b[0m\u001b[1;31m:\u001b[0m EOL while scanning string literal\n"
     ]
    }
   ],
   "source": [
    "print(\"This is the correct syntax of the print function"
   ]
  },
  {
   "cell_type": "code",
   "execution_count": 108,
   "id": "d17abc5e",
   "metadata": {},
   "outputs": [
    {
     "ename": "SyntaxError",
     "evalue": "unexpected EOF while parsing (2453964195.py, line 1)",
     "output_type": "error",
     "traceback": [
      "\u001b[1;36m  File \u001b[1;32m\"C:\\Users\\pdharantej\\AppData\\Local\\Temp\\ipykernel_12000\\2453964195.py\"\u001b[1;36m, line \u001b[1;32m1\u001b[0m\n\u001b[1;33m    print(\"This is the correct syntax of the print function\"\u001b[0m\n\u001b[1;37m                                                            ^\u001b[0m\n\u001b[1;31mSyntaxError\u001b[0m\u001b[1;31m:\u001b[0m unexpected EOF while parsing\n"
     ]
    }
   ],
   "source": [
    "print(\"This is the correct syntax of the print function\""
   ]
  },
  {
   "cell_type": "markdown",
   "id": "80b2bbf3",
   "metadata": {},
   "source": [
    "# Exception handling in Python\n",
    "* when the exception occurs in python program, interpreter stops the current process and it passes it to calling process untill it is handled. If the exception is un-handled the program will crash\n",
    "* exception in python is handled by using \"try\" statement. The try: lets you to test a block of code for errors"
   ]
  },
  {
   "cell_type": "code",
   "execution_count": 118,
   "id": "3bc0e973",
   "metadata": {},
   "outputs": [
    {
     "name": "stdout",
     "output_type": "stream",
     "text": [
      "Enter denominator value: 0\n",
      "division by zero Exception Occured\n",
      "This block of code is always run!\n"
     ]
    }
   ],
   "source": [
    "import sys\n",
    "\n",
    "num=int(input(\"Enter denominator value: \"))\n",
    "try:\n",
    "    print(100/num)\n",
    "except:\n",
    "    print(sys.exc_info()[1], \"Exception Occured\")\n",
    "finally:\n",
    "    print(\"This block of code is always run!\")"
   ]
  },
  {
   "cell_type": "code",
   "execution_count": 119,
   "id": "5bcd10d3",
   "metadata": {},
   "outputs": [
    {
     "name": "stdout",
     "output_type": "stream",
     "text": [
      "not writable Exception Occured\n",
      "Run this block of code always\n"
     ]
    }
   ],
   "source": [
    "try:\n",
    "    file=open(\"./test.txt\",\"r\")\n",
    "    file.write(\"This is exception handling example\")\n",
    "except:\n",
    "    # write error message\n",
    "    print(sys.exc_info()[1], \"Exception Occured\")\n",
    "else:\n",
    "    # success message\n",
    "    print(\"Write successfully\")\n",
    "finally:\n",
    "    print(\"Run this block of code always\")"
   ]
  },
  {
   "cell_type": "code",
   "execution_count": 120,
   "id": "4e748ecb",
   "metadata": {},
   "outputs": [
    {
     "name": "stdout",
     "output_type": "stream",
     "text": [
      "Enter denominator value: 0\n",
      "Cant divide by Zero\n",
      "This block of code is always run!\n"
     ]
    }
   ],
   "source": [
    "import sys\n",
    "\n",
    "num=int(input(\"Enter denominator value: \"))\n",
    "try:\n",
    "    print(100/num)\n",
    "except ZeroDivisionError:\n",
    "    print(\"Cant divide by Zero\")\n",
    "finally:\n",
    "    print(\"This block of code is always run!\")"
   ]
  },
  {
   "cell_type": "markdown",
   "id": "c57ef458",
   "metadata": {},
   "source": [
    "#### Exercise: write a function that asks for an integer and prints the square root of it. Use while loop with try, except and else blocks to account for correct inputs."
   ]
  },
  {
   "cell_type": "code",
   "execution_count": 128,
   "id": "653fe066",
   "metadata": {},
   "outputs": [
    {
     "name": "stdout",
     "output_type": "stream",
     "text": [
      "Enter the number to find sqrt: -1\n",
      "Enter the Positive Number: -2\n",
      "Enter the Positive Number: 9\n",
      "3.0\n",
      "Success\n",
      "Code Completed Successfully\n"
     ]
    }
   ],
   "source": [
    "import math\n",
    "def squareRoot(num):\n",
    "    flag=True\n",
    "    while flag==True:\n",
    "        try:\n",
    "            print(math.sqrt(num))\n",
    "        except:\n",
    "            return squareRoot(int(input(\"Enter the Positive Number: \")))\n",
    "        else:\n",
    "            print(\"Success\") \n",
    "            flag=False\n",
    "        finally:\n",
    "            return \"Code Completed Successfully\"\n",
    "        \n",
    "print(squareRoot(int(input(\"Enter the number to find sqrt: \"))))\n",
    "        "
   ]
  },
  {
   "cell_type": "code",
   "execution_count": null,
   "id": "ef75159c",
   "metadata": {},
   "outputs": [],
   "source": []
  }
 ],
 "metadata": {
  "kernelspec": {
   "display_name": "Python 3 (ipykernel)",
   "language": "python",
   "name": "python3"
  },
  "language_info": {
   "codemirror_mode": {
    "name": "ipython",
    "version": 3
   },
   "file_extension": ".py",
   "mimetype": "text/x-python",
   "name": "python",
   "nbconvert_exporter": "python",
   "pygments_lexer": "ipython3",
   "version": "3.9.13"
  }
 },
 "nbformat": 4,
 "nbformat_minor": 5
}
