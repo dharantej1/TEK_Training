{
 "cells": [
  {
   "cell_type": "markdown",
   "id": "bced1eb9",
   "metadata": {},
   "source": [
    "# Functions and Misc."
   ]
  },
  {
   "cell_type": "code",
   "execution_count": 5,
   "id": "e8102f08",
   "metadata": {},
   "outputs": [
    {
     "name": "stdout",
     "output_type": "stream",
     "text": [
      "40\n",
      "40\n"
     ]
    }
   ],
   "source": [
    "# Scope of variable\n",
    "var1=40 # variable with global scope\n",
    "def func():\n",
    "    print(var1) # value 40 will be assigned due to global scope of variable 1 \n",
    "func()\n",
    "print(var1)"
   ]
  },
  {
   "cell_type": "code",
   "execution_count": 7,
   "id": "2453dc67",
   "metadata": {
    "collapsed": true
   },
   "outputs": [
    {
     "name": "stdout",
     "output_type": "stream",
     "text": [
      "100\n"
     ]
    },
    {
     "ename": "NameError",
     "evalue": "name 'var2' is not defined",
     "output_type": "error",
     "traceback": [
      "\u001b[1;31m---------------------------------------------------------------------------\u001b[0m",
      "\u001b[1;31mNameError\u001b[0m                                 Traceback (most recent call last)",
      "\u001b[1;32m~\\AppData\\Local\\Temp\\ipykernel_11704\\3304499442.py\u001b[0m in \u001b[0;36m<module>\u001b[1;34m\u001b[0m\n\u001b[0;32m      6\u001b[0m     \u001b[0mprint\u001b[0m\u001b[1;33m(\u001b[0m\u001b[0mvar2\u001b[0m\u001b[1;33m)\u001b[0m\u001b[1;33m\u001b[0m\u001b[1;33m\u001b[0m\u001b[0m\n\u001b[0;32m      7\u001b[0m \u001b[0mfunc1\u001b[0m\u001b[1;33m(\u001b[0m\u001b[1;33m)\u001b[0m\u001b[1;33m\u001b[0m\u001b[1;33m\u001b[0m\u001b[0m\n\u001b[1;32m----> 8\u001b[1;33m \u001b[0mfunc2\u001b[0m\u001b[1;33m(\u001b[0m\u001b[1;33m)\u001b[0m\u001b[1;33m\u001b[0m\u001b[1;33m\u001b[0m\u001b[0m\n\u001b[0m",
      "\u001b[1;32m~\\AppData\\Local\\Temp\\ipykernel_11704\\3304499442.py\u001b[0m in \u001b[0;36mfunc2\u001b[1;34m()\u001b[0m\n\u001b[0;32m      4\u001b[0m \u001b[1;32mdef\u001b[0m \u001b[0mfunc2\u001b[0m\u001b[1;33m(\u001b[0m\u001b[1;33m)\u001b[0m\u001b[1;33m:\u001b[0m\u001b[1;33m\u001b[0m\u001b[1;33m\u001b[0m\u001b[0m\n\u001b[0;32m      5\u001b[0m \u001b[1;31m#     var2+=100 # this will throw error due to local scope of var2\u001b[0m\u001b[1;33m\u001b[0m\u001b[1;33m\u001b[0m\u001b[0m\n\u001b[1;32m----> 6\u001b[1;33m     \u001b[0mprint\u001b[0m\u001b[1;33m(\u001b[0m\u001b[0mvar2\u001b[0m\u001b[1;33m)\u001b[0m\u001b[1;33m\u001b[0m\u001b[1;33m\u001b[0m\u001b[0m\n\u001b[0m\u001b[0;32m      7\u001b[0m \u001b[0mfunc1\u001b[0m\u001b[1;33m(\u001b[0m\u001b[1;33m)\u001b[0m\u001b[1;33m\u001b[0m\u001b[1;33m\u001b[0m\u001b[0m\n\u001b[0;32m      8\u001b[0m \u001b[0mfunc2\u001b[0m\u001b[1;33m(\u001b[0m\u001b[1;33m)\u001b[0m\u001b[1;33m\u001b[0m\u001b[1;33m\u001b[0m\u001b[0m\n",
      "\u001b[1;31mNameError\u001b[0m: name 'var2' is not defined"
     ]
    }
   ],
   "source": [
    "def func1():\n",
    "    var2=100 # variable with local scope\n",
    "    print(var2)\n",
    "    \n",
    "def func2():\n",
    "#     var2+=100 # this will throw error due to local scope of var2\n",
    "    print(var2) # name error\n",
    "func1()\n",
    "func2()"
   ]
  },
  {
   "cell_type": "code",
   "execution_count": 13,
   "id": "f16d013d",
   "metadata": {},
   "outputs": [
    {
     "name": "stdout",
     "output_type": "stream",
     "text": [
      "audi Q7\n"
     ]
    }
   ],
   "source": [
    "# Default value in Python\n",
    "def Car(name,model=\"Q7\"):\n",
    "    print(name,model)\n",
    "    \n",
    "# model name is default Q7\n",
    "Car(\"audi\")"
   ]
  },
  {
   "cell_type": "code",
   "execution_count": 14,
   "id": "51b6cbfe",
   "metadata": {},
   "outputs": [
    {
     "name": "stdout",
     "output_type": "stream",
     "text": [
      "audi Q3\n"
     ]
    }
   ],
   "source": [
    "# Model name is updated\n",
    "Car(\"audi\",\"Q3\")"
   ]
  },
  {
   "cell_type": "markdown",
   "id": "f063a860",
   "metadata": {},
   "source": [
    "#### Exercise: Write a program to create a function show_employee() using following conditions\n",
    "* it should accept the employee's name and salary and display both.\n",
    "* if salary is missing in function call then in that case we assign default value for the salary"
   ]
  },
  {
   "cell_type": "code",
   "execution_count": 23,
   "id": "7443bcf8",
   "metadata": {},
   "outputs": [
    {
     "name": "stdout",
     "output_type": "stream",
     "text": [
      "Dharan has the salary of 100000\n",
      "Tej has the salary of 120000\n"
     ]
    }
   ],
   "source": [
    "def show_employee(name, salary=100000):\n",
    "    print(\"{} has the salary of {}\".format(name,salary))\n",
    "show_employee(\"Dharan\")\n",
    "show_employee(\"Tej\",120000)"
   ]
  },
  {
   "cell_type": "markdown",
   "id": "39a0df23",
   "metadata": {},
   "source": [
    "#### Recursive Function\n",
    "* calling a function within itself (a function)\n",
    "\n",
    "def recurse():\n",
    "    ...\n",
    "    ...\n",
    "    recurse()\n"
   ]
  },
  {
   "cell_type": "markdown",
   "id": "13da4815",
   "metadata": {},
   "source": [
    "#### Exercise: Create a python recursive function: In Python, we know that a function can call other functions. It is even possible for function to call itself"
   ]
  },
  {
   "cell_type": "code",
   "execution_count": 31,
   "id": "65db2717",
   "metadata": {},
   "outputs": [
    {
     "name": "stdout",
     "output_type": "stream",
     "text": [
      "\n",
      "    This is a recursive function to find the factorial of positive integer\n",
      "    \n",
      "Enter the number to find the factorial: 12\n"
     ]
    },
    {
     "data": {
      "text/plain": [
       "479001600"
      ]
     },
     "execution_count": 31,
     "metadata": {},
     "output_type": "execute_result"
    }
   ],
   "source": [
    "# Factorial of input number\n",
    "\n",
    "def factorial(num):\n",
    "    \"\"\"\n",
    "    This is a recursive function to find the factorial of positive integer\n",
    "    \"\"\"\n",
    "    if num==1:\n",
    "        return 1\n",
    "    else:\n",
    "        return num * factorial(num-1)\n",
    "print(factorial.__doc__)\n",
    "factorial(int(input(\"Enter the number to find the factorial: \")))"
   ]
  },
  {
   "cell_type": "code",
   "execution_count": 35,
   "id": "47cd2039",
   "metadata": {},
   "outputs": [
    {
     "name": "stdout",
     "output_type": "stream",
     "text": [
      "Enter a positive integer: -3\n",
      "Invalid Number, please re-enter.\n",
      "Enter a positive non-zero number: 5\n",
      "The factorial of the number is 120\n"
     ]
    }
   ],
   "source": [
    "# Alternative method\n",
    "\n",
    "userInput=int(input(\"Enter a positive integer: \"))\n",
    "if userInput<=0:\n",
    "    print(\"Invalid Number, please re-enter.\")\n",
    "    userInput=int(input(\"Enter a positive non-zero number: \"))\n",
    "else:\n",
    "    print(\"Thank You wait for the result!\")\n",
    "fact=1\n",
    "if userInput>0:\n",
    "    while userInput>0:\n",
    "        fact*=userInput\n",
    "        userInput-=1\n",
    "    print(\"The factorial of the number is {}\".format(fact))"
   ]
  },
  {
   "cell_type": "markdown",
   "id": "7d8dfd4c",
   "metadata": {},
   "source": [
    "* Args()\n",
    "    * when you are not sure about the number of arguments being passed to the function, we use *args() as a function parameter\n",
    "    * arguments must be passed as a list or tuple\n",
    "    * access the individual values by indexing, same as list and tuple"
   ]
  },
  {
   "cell_type": "code",
   "execution_count": 36,
   "id": "51548a0d",
   "metadata": {},
   "outputs": [
    {
     "name": "stdout",
     "output_type": "stream",
     "text": [
      "('TEK1001', 'Rehman', 110000, 22, 'India', 'English')\n",
      "('TEK1001', 'Dharan', 110000)\n"
     ]
    }
   ],
   "source": [
    "def userDetails(*args):\n",
    "    print(args)\n",
    "userDetails(\"TEK1001\", \"Rehman\", 110000, 22, \"India\", \"English\")\n",
    "userDetails(\"TEK1001\", \"Dharan\", 110000)"
   ]
  },
  {
   "cell_type": "code",
   "execution_count": 37,
   "id": "a3e8523a",
   "metadata": {},
   "outputs": [
    {
     "name": "stdout",
     "output_type": "stream",
     "text": [
      "45\n",
      "78\n"
     ]
    }
   ],
   "source": [
    "def addition(*args):\n",
    "    return sum(*args)\n",
    "list1=[1,2,3,4,5,6,7,8,9]\n",
    "tuple1=(1,2,3,4,5,6,7,8,9,10,11,12)\n",
    "\n",
    "print(addition(list1))\n",
    "print(addition(tuple1))"
   ]
  },
  {
   "cell_type": "markdown",
   "id": "99faaca8",
   "metadata": {},
   "source": [
    "* kwargs()\n",
    "    * kwargs() allows us to pass variable name of the keyword arguments to the function\n",
    "    * return type is a dictionary\n",
    "    * so the accessing is done same as the dict()"
   ]
  },
  {
   "cell_type": "code",
   "execution_count": 47,
   "id": "264da34c",
   "metadata": {},
   "outputs": [
    {
     "name": "stdout",
     "output_type": "stream",
     "text": [
      "Key: empid \t value: TEK1001\n",
      "Key: name \t value: Rehman\n",
      "Key: salary \t value: 110000\n",
      "Key: age \t value: 22\n",
      "Key: country \t value: India\n",
      "Key: language \t value: English\n"
     ]
    }
   ],
   "source": [
    "def userDetails(**kwargs):\n",
    "    return(kwargs)\n",
    "\n",
    "emp1_dict=userDetails(empid=\"TEK1001\", name=\"Rehman\", salary=110000, age=22, country=\"India\", language=\"English\")\n",
    "\n",
    "for i,j in emp1_dict.items():\n",
    "    print(\"Key: {} \\t value: {}\".format(i,j))"
   ]
  },
  {
   "cell_type": "markdown",
   "id": "37bb237c",
   "metadata": {},
   "source": [
    "#### Lambda\n",
    "* A lambda function is an anonymous function/ nameless, singe-line function\n",
    "* Lambda function can have any number of parameters but only a single expression, this expression is evaluated and returned\n",
    "* can be useful in PySpark"
   ]
  },
  {
   "cell_type": "code",
   "execution_count": 54,
   "id": "27d5f040",
   "metadata": {},
   "outputs": [
    {
     "name": "stdout",
     "output_type": "stream",
     "text": [
      "20\n"
     ]
    }
   ],
   "source": [
    "# syntax: lambda argument(s) : expression\n",
    "\n",
    "# lambda arg1,arg2 : arg1+arg2\n",
    "\n",
    "addition=lambda a: a+10 # This lambda function adds value 10 to an argument\n",
    "print(addition(10))"
   ]
  },
  {
   "cell_type": "code",
   "execution_count": 55,
   "id": "6f9eb4a3",
   "metadata": {},
   "outputs": [
    {
     "name": "stdout",
     "output_type": "stream",
     "text": [
      "200\n"
     ]
    }
   ],
   "source": [
    "product=lambda a,b: a*b\n",
    "print(product(10,20))"
   ]
  },
  {
   "cell_type": "code",
   "execution_count": 56,
   "id": "a8f5f266",
   "metadata": {},
   "outputs": [
    {
     "name": "stdout",
     "output_type": "stream",
     "text": [
      "20\n",
      "9\n"
     ]
    }
   ],
   "source": [
    "result=lambda *args:max(args) # This lambda function can take any number of variables\n",
    "print(result(1,10,20))\n",
    "print(result(9,1,2))"
   ]
  },
  {
   "cell_type": "markdown",
   "id": "c531cc0e",
   "metadata": {},
   "source": [
    "#### Filter\n",
    "* used to filter iterables/ sequence as per conditions.\n",
    "* filter function filter the original iterables and passes the items that returns True for function that we provided to your filter()\n",
    "* filter is generally used with lambda function"
   ]
  },
  {
   "cell_type": "code",
   "execution_count": 57,
   "id": "efe8ea5f",
   "metadata": {},
   "outputs": [],
   "source": [
    "# ?filter"
   ]
  },
  {
   "cell_type": "code",
   "execution_count": 59,
   "id": "42bb25ed",
   "metadata": {},
   "outputs": [],
   "source": [
    "list1=[1,2,3,4,5,6,7,8,9,10]\n",
    "def odd(num): # UDF - User Defined Function\n",
    "    if num%2!=0:\n",
    "        return True\n",
    "    return False"
   ]
  },
  {
   "cell_type": "code",
   "execution_count": 61,
   "id": "190ede1f",
   "metadata": {},
   "outputs": [
    {
     "name": "stdout",
     "output_type": "stream",
     "text": [
      "[1, 3, 5, 7, 9]\n"
     ]
    }
   ],
   "source": [
    "# here odd is the function name\n",
    "print(list(filter(odd,list1)))"
   ]
  },
  {
   "cell_type": "code",
   "execution_count": 70,
   "id": "df5fa21e",
   "metadata": {},
   "outputs": [
    {
     "name": "stdout",
     "output_type": "stream",
     "text": [
      "[1, 3, 5, 7, 9]\n"
     ]
    }
   ],
   "source": [
    "# replacing the function with a lambda function (one line function)\n",
    "print(list(filter(lambda a: a%2!=0, list1)))"
   ]
  },
  {
   "cell_type": "markdown",
   "id": "50c558bf",
   "metadata": {},
   "source": [
    "# Continue the map, reduce thing here! Missed due to Software Installation process!"
   ]
  },
  {
   "cell_type": "markdown",
   "id": "b1911d79",
   "metadata": {},
   "source": [
    "#### Exercise: Write a program to check if the word is Palindrome"
   ]
  },
  {
   "cell_type": "code",
   "execution_count": 1,
   "id": "8491c412",
   "metadata": {},
   "outputs": [
    {
     "name": "stdout",
     "output_type": "stream",
     "text": [
      "Enter a word to check palindrome: php\n",
      "String is palindrome.\n"
     ]
    }
   ],
   "source": [
    "def palindrome(word):\n",
    "    return \"String is palindrome.\" if word==word[::-1] else \"String is not a plaindrome\"\n",
    "word=input(\"Enter a word to check palindrome: \")\n",
    "print(palindrome(word))\n"
   ]
  },
  {
   "cell_type": "code",
   "execution_count": 11,
   "id": "87792257",
   "metadata": {},
   "outputs": [
    {
     "name": "stdout",
     "output_type": "stream",
     "text": [
      "['phP', 'Madam', 'tenet']\n"
     ]
    }
   ],
   "source": [
    "mylist=[\"phP\",\"Madam\",\"numpy\",\"tenet\",\"class\",\"sets\"]\n",
    "palindrome=list(filter(lambda word: word.lower()==word[::-1].lower(),mylist))\n",
    "print(palindrome)"
   ]
  },
  {
   "cell_type": "markdown",
   "id": "36a2e448",
   "metadata": {},
   "source": [
    "#### Math Library"
   ]
  },
  {
   "cell_type": "code",
   "execution_count": 12,
   "id": "7e263f34",
   "metadata": {},
   "outputs": [],
   "source": [
    "# import math library\n",
    "import math"
   ]
  },
  {
   "cell_type": "code",
   "execution_count": 13,
   "id": "040a1726",
   "metadata": {},
   "outputs": [
    {
     "data": {
      "text/plain": [
       "2.718281828459045"
      ]
     },
     "execution_count": 13,
     "metadata": {},
     "output_type": "execute_result"
    }
   ],
   "source": [
    "# print the value of Euler e\n",
    "math.e"
   ]
  },
  {
   "cell_type": "code",
   "execution_count": 14,
   "id": "a476b405",
   "metadata": {},
   "outputs": [
    {
     "data": {
      "text/plain": [
       "3.141592653589793"
      ]
     },
     "execution_count": 14,
     "metadata": {},
     "output_type": "execute_result"
    }
   ],
   "source": [
    "# value of pi\n",
    "math.pi"
   ]
  },
  {
   "cell_type": "code",
   "execution_count": 19,
   "id": "f0aa460f",
   "metadata": {},
   "outputs": [
    {
     "name": "stdout",
     "output_type": "stream",
     "text": [
      "The ceil value of 2.3 is 3\n",
      "The floor value of 2.3 is 2\n"
     ]
    }
   ],
   "source": [
    "num=2.3\n",
    "\n",
    "# returning the ceil value of 2.3\n",
    "print(\"The ceil value of {} is {}\".format(num,math.ceil(num)))\n",
    "\n",
    "# returning the floor value of 2.3\n",
    "print(\"The floor value of {} is {}\".format(num,math.floor(num)))"
   ]
  },
  {
   "cell_type": "code",
   "execution_count": 20,
   "id": "8319b177",
   "metadata": {},
   "outputs": [
    {
     "name": "stdout",
     "output_type": "stream",
     "text": [
      "Enter the number for factorial value: 12\n"
     ]
    },
    {
     "data": {
      "text/plain": [
       "479001600"
      ]
     },
     "execution_count": 20,
     "metadata": {},
     "output_type": "execute_result"
    }
   ],
   "source": [
    "num=int(input(\"Enter the number for factorial value: \"))\n",
    "math.factorial(num)"
   ]
  },
  {
   "cell_type": "code",
   "execution_count": 23,
   "id": "7d18bf07",
   "metadata": {},
   "outputs": [
    {
     "name": "stdout",
     "output_type": "stream",
     "text": [
      "Value of log base e:  2.302585092994046\n",
      "Value of log base 2:  3.321928094887362\n",
      "Value of log base 10:  1.0\n"
     ]
    }
   ],
   "source": [
    "print(\"Value of log base e: \",math.log(10))\n",
    "\n",
    "print(\"Value of log base 2: \",math.log2(10))\n",
    "\n",
    "print(\"Value of log base 10: \",math.log10(10))"
   ]
  },
  {
   "cell_type": "code",
   "execution_count": 24,
   "id": "6903b202",
   "metadata": {},
   "outputs": [
    {
     "name": "stdout",
     "output_type": "stream",
     "text": [
      "7.0\n"
     ]
    }
   ],
   "source": [
    "print(math.sqrt(49))"
   ]
  },
  {
   "cell_type": "code",
   "execution_count": 29,
   "id": "0d3a38cd",
   "metadata": {},
   "outputs": [
    {
     "name": "stdout",
     "output_type": "stream",
     "text": [
      "6.283185307179586\n",
      "360.0\n"
     ]
    }
   ],
   "source": [
    "# converts degrees to radians \n",
    "print(math.radians(360))\n",
    "\n",
    "#\n",
    "print(math.degrees(math.pi*2))"
   ]
  },
  {
   "cell_type": "markdown",
   "id": "7518314c",
   "metadata": {},
   "source": [
    "#### Hashlib Library\n",
    "* used for data encryption in block chain\n",
    "* this lib is used to hash the data just like a bitcoin hashing\n",
    "* SHA-256, SHA-512 Hashing algorithms\n",
    "* Hash functions has some properties, few of them are:\n",
    "    * Data to hash is possible, but the reverse is not possible\n",
    "* SHA-256 Ouput is always a 64 bit output"
   ]
  },
  {
   "cell_type": "code",
   "execution_count": 30,
   "id": "1df03e7f",
   "metadata": {},
   "outputs": [
    {
     "name": "stdout",
     "output_type": "stream",
     "text": [
      "{'sha384', 'shake_128', 'whirlpool', 'sha3_224', 'sha224', 'sha3_512', 'blake2b', 'sha512_224', 'sha3_384', 'mdc2', 'ripemd160', 'shake_256', 'md4', 'sm3', 'sha3_256', 'sha256', 'sha512_256', 'blake2s', 'sha1', 'md5-sha1', 'md5', 'sha512'}\n"
     ]
    }
   ],
   "source": [
    "import hashlib\n",
    "\n",
    "print(hashlib.algorithms_available)"
   ]
  },
  {
   "cell_type": "code",
   "execution_count": 36,
   "id": "c9a8c4c5",
   "metadata": {},
   "outputs": [
    {
     "name": "stdout",
     "output_type": "stream",
     "text": [
      "b'\\x17\\x80\\xc7Gu\\xf8\\x0f\\xfap\\xb8\\xc5\\x8e\\x81Eh\\xa4\\xb6D\\x17P\\x9d@b`\\xe1\\x85Y\\xa2\\xba c\\x9e'\n",
      "1780c74775f80ffa70b8c58e814568a4b64417509d406260e18559a2ba20639e length is:  64\n"
     ]
    }
   ],
   "source": [
    "# initialize the empty message using SHA-256\n",
    "message = hashlib.sha256()\n",
    "\n",
    "# update message using byte strings\n",
    "message.update(b\"Hello There\")\n",
    "message.update(b\"how are you?\")\n",
    "\n",
    "# print the message digest - returns bytes\n",
    "print(message.digest())\n",
    "\n",
    "# print hexadecimal - (0-9,a-f)\n",
    "print(message.hexdigest(),\"length is: \",len(message.hexdigest()))\n"
   ]
  },
  {
   "cell_type": "code",
   "execution_count": 37,
   "id": "ca3343ef",
   "metadata": {},
   "outputs": [],
   "source": [
    "def get_sha_256_hash(inputvalue):\n",
    "    return hashlib.sha256(inputvalue).hexdigest()"
   ]
  },
  {
   "cell_type": "code",
   "execution_count": 38,
   "id": "a48d145a",
   "metadata": {},
   "outputs": [
    {
     "data": {
      "text/plain": [
       "'a591a6d40bf420404a011733cfb7b190d62c65bf0bcda32b57b277d9ad9f146e'"
      ]
     },
     "execution_count": 38,
     "metadata": {},
     "output_type": "execute_result"
    }
   ],
   "source": [
    "get_sha_256_hash(b\"Hello World\")"
   ]
  },
  {
   "cell_type": "code",
   "execution_count": 40,
   "id": "79d8dee7",
   "metadata": {},
   "outputs": [
    {
     "data": {
      "text/plain": [
       "'64ec88ca00b268e5ba1a35678a1b5316d212f4f366b2477232534a8aeca37f3c'"
      ]
     },
     "execution_count": 40,
     "metadata": {},
     "output_type": "execute_result"
    }
   ],
   "source": [
    "get_sha_256_hash(b\"Hello world\")"
   ]
  },
  {
   "cell_type": "code",
   "execution_count": 45,
   "id": "b13197ce",
   "metadata": {},
   "outputs": [
    {
     "name": "stdout",
     "output_type": "stream",
     "text": [
      "ecf149c73b09ae9bc0bc1c62917a8bbb9d22b96c4c25c97d05ca8674eb35f684\n",
      "After updating:  cfec575dae2c5b03b677298b604b707800a3a5298cab745f6c6725cd3be83a65\n",
      "True\n"
     ]
    }
   ],
   "source": [
    "def hash_string(_input):\n",
    "    byte_input=_input.encode()\n",
    "    hash_object=hashlib.sha256(byte_input)\n",
    "    return hash_object\n",
    "def update_hash(hash_object,input_str):\n",
    "    hash_object.update(input_str.encode())\n",
    "\n",
    "hash_object = hash_string(\"Hello from ABC\")\n",
    "\n",
    "# print hex value of the message\n",
    "print(hash_object.hexdigest())\n",
    "\n",
    "# update the message\n",
    "update_hash(hash_object,\"Hello, how are you?\")\n",
    "\n",
    "# print the hash message after update\n",
    "print(\"After updating: \",hash_object.hexdigest())\n",
    "\n",
    "new_str = \"Hello from ABCHello, how are you?\"\n",
    "print(hash_string(new_str).hexdigest() == hash_object.hexdigest())"
   ]
  },
  {
   "cell_type": "markdown",
   "id": "f4b3c321",
   "metadata": {},
   "source": [
    "# OOPS Concepts with Python\n",
    "\n",
    "* Abstraction\n",
    "* Inheritance\n",
    "* Polymorphism\n",
    "* Encapsulation"
   ]
  },
  {
   "cell_type": "markdown",
   "id": "013bd610",
   "metadata": {},
   "source": [
    "#### Example of an obj car:\n",
    "\n",
    "* identity: car brand\n",
    "* state/ attribute: \n",
    "* behaviour: "
   ]
  },
  {
   "cell_type": "code",
   "execution_count": 46,
   "id": "cf2d2181",
   "metadata": {},
   "outputs": [],
   "source": [
    "class Car:\n",
    "    pass"
   ]
  },
  {
   "cell_type": "code",
   "execution_count": 47,
   "id": "290ab1d3",
   "metadata": {},
   "outputs": [],
   "source": [
    "# methods are the functions declared inside a class\n",
    "\n",
    "# def method\n",
    "# def createName(self, name):\n",
    "#     self.name= name"
   ]
  },
  {
   "cell_type": "code",
   "execution_count": 1,
   "id": "9e063b94",
   "metadata": {},
   "outputs": [],
   "source": [
    "# A class syntax\n",
    "\n",
    "class className:\n",
    "    def createName(self, name):\n",
    "        self.name=name\n",
    "    def greetings(self):\n",
    "        print(\"Hello World\")"
   ]
  },
  {
   "cell_type": "code",
   "execution_count": null,
   "id": "a87fb431",
   "metadata": {},
   "outputs": [],
   "source": []
  }
 ],
 "metadata": {
  "kernelspec": {
   "display_name": "Python 3 (ipykernel)",
   "language": "python",
   "name": "python3"
  },
  "language_info": {
   "codemirror_mode": {
    "name": "ipython",
    "version": 3
   },
   "file_extension": ".py",
   "mimetype": "text/x-python",
   "name": "python",
   "nbconvert_exporter": "python",
   "pygments_lexer": "ipython3",
   "version": "3.9.13"
  }
 },
 "nbformat": 4,
 "nbformat_minor": 5
}
