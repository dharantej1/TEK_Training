{
 "cells": [
  {
   "cell_type": "code",
   "execution_count": 91,
   "id": "bf4a16f1",
   "metadata": {},
   "outputs": [
    {
     "name": "stdout",
     "output_type": "stream",
     "text": [
      "Enter the path to find duplicate files by content (./ for pwd) ./folders\n",
      "folders/\n",
      "    sample1/\n",
      "        sample1inner1/\n",
      "            test.txt\n",
      "        sample1inner2/\n",
      "    sample2/\n",
      "        sample2inner1/\n",
      "        sample2inner2/\n",
      "            test.txt\n",
      "{'test.txt': '5dacdab9b76836a6c5c492bbe062ce7ecbdbfb43f610051654f5c9b259ec305b'}\n"
     ]
    }
   ],
   "source": [
    "# 1\n",
    "# create a python program find duplicate files by content. User will input path and it will \n",
    "# scan all directories and sub-directories to find duplicate files \n",
    "\n",
    "import os\n",
    "import hashlib\n",
    "def get_hash_of_file(filename):\n",
    "    file=open(str(filename),\"r\")\n",
    "    filecontent=file.readlines()\n",
    "    return hashlib.sha256((\"b\"+str(filecontent)).encode()).hexdigest()\n",
    "\n",
    "global filesdict\n",
    "filesdict={}\n",
    "\n",
    "startpath=input(\"Enter the path to find duplicate files by content (./ for pwd) \")\n",
    "def list_files(startpath):\n",
    "    for root, dirs, files in os.walk(startpath):\n",
    "        level = root.replace(startpath, '').count(os.sep)\n",
    "        indent = ' ' * 4 * (level)\n",
    "        print('{}{}/'.format(indent, os.path.basename(root)))\n",
    "        subindent = ' ' * 4 * (level + 1)\n",
    "        \n",
    "        for f in files:\n",
    "            print('{}{}'.format(subindent, f))\n",
    "            if str(get_hash_of_file(f)) in filesdict.values():\n",
    "                continue\n",
    "            else:\n",
    "                filesdict[f]=str(get_hash_of_file(f))\n",
    "    print(filesdict)\n",
    "                \n",
    "list_files(startpath)"
   ]
  },
  {
   "cell_type": "code",
   "execution_count": 95,
   "id": "7cc5d532",
   "metadata": {},
   "outputs": [
    {
     "name": "stdout",
     "output_type": "stream",
     "text": [
      "Enter the path to find duplicate files by content (./ for pwd) ./folders\n",
      "{'test.txt': '5dacdab9b76836a6c5c492bbe062ce7ecbdbfb43f610051654f5c9b259ec305b'}\n"
     ]
    }
   ],
   "source": [
    "# 1 final code\n",
    "# create a python program find duplicate files by content. User will input path and it will \n",
    "# scan all directories and sub-directories to find duplicate files \n",
    "\n",
    "import os\n",
    "import hashlib\n",
    "\n",
    "def get_hash_of_file(filename):\n",
    "    file=open(str(filename),\"r\")\n",
    "    filecontent=file.readlines()\n",
    "    return hashlib.sha256((\"b\"+str(filecontent)).encode()).hexdigest()\n",
    "\n",
    "global filesdict\n",
    "filesdict={}\n",
    "\n",
    "def list_duplicate_files(startpath):\n",
    "    for root, dirs, files in os.walk(startpath):      \n",
    "        for f in files:\n",
    "            if str(get_hash_of_file(f)) in filesdict.values():\n",
    "                continue\n",
    "            else:\n",
    "                filesdict[f]=str(get_hash_of_file(f))\n",
    "    print(filesdict)\n",
    "startpath=input(\"Enter the path to find duplicate files by content (./ for pwd) \")\n",
    "list_duplicate_files(startpath)"
   ]
  },
  {
   "cell_type": "code",
   "execution_count": 3,
   "id": "2d24d4d8",
   "metadata": {},
   "outputs": [],
   "source": [
    "# 2\n",
    "# delete the duplicate file\n",
    "\n",
    "\n",
    "\n",
    "\n"
   ]
  },
  {
   "cell_type": "code",
   "execution_count": 67,
   "id": "12c094a4",
   "metadata": {},
   "outputs": [
    {
     "name": "stdout",
     "output_type": "stream",
     "text": [
      "7Bfs01\n"
     ]
    }
   ],
   "source": [
    "# 3\n",
    "# generate random password with # length=6 # 1 upper case # 2 lower case # 3 digits\n",
    "\n",
    "import random\n",
    "lowercase=\"abcdefghijklmnopqrstuvwxyz\"\n",
    "uppercase=lowercase.upper()\n",
    "digits=\"0123456789\"\n",
    "\n",
    "password=\"\"\n",
    "password+=uppercase[random.randint(0,25)]\n",
    "for _ in range(2):\n",
    "    password+=lowercase[random.randint(0,25)] \n",
    "for _ in range(3):\n",
    "    password+=digits[random.randint(0,9)] \n",
    "password=\"\".join(random.sample(password,len(password)))\n",
    "\n",
    "print(password)"
   ]
  }
 ],
 "metadata": {
  "kernelspec": {
   "display_name": "Python 3 (ipykernel)",
   "language": "python",
   "name": "python3"
  },
  "language_info": {
   "codemirror_mode": {
    "name": "ipython",
    "version": 3
   },
   "file_extension": ".py",
   "mimetype": "text/x-python",
   "name": "python",
   "nbconvert_exporter": "python",
   "pygments_lexer": "ipython3",
   "version": "3.9.13"
  }
 },
 "nbformat": 4,
 "nbformat_minor": 5
}
