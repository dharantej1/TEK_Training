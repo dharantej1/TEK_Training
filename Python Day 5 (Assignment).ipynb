{
 "cells": [
  {
   "cell_type": "code",
   "execution_count": 2,
   "id": "bf4a16f1",
   "metadata": {},
   "outputs": [
    {
     "name": "stdout",
     "output_type": "stream",
     "text": [
      "Enter the path to find duplicate files by content (./ for pwd) ./folders\n",
      "folders/\n",
      "    sample1/\n",
      "        sample1inner1/\n",
      "            test.txt\n",
      "        sample1inner2/\n",
      "    sample2/\n",
      "        sample2inner1/\n",
      "        sample2inner2/\n",
      "            test.txt\n",
      "{'test.txt': '5dacdab9b76836a6c5c492bbe062ce7ecbdbfb43f610051654f5c9b259ec305b'}\n"
     ]
    }
   ],
   "source": [
    "# 1\n",
    "# create a python program find duplicate files by content. User will input path and it will \n",
    "# scan all directories and sub-directories to find duplicate files \n",
    "\n",
    "import os\n",
    "import hashlib\n",
    "def get_hash_of_file(filename):\n",
    "    file=open(str(filename),\"r\")\n",
    "    filecontent=file.readlines()\n",
    "    return hashlib.sha256((\"b\"+str(filecontent)).encode()).hexdigest()\n",
    "\n",
    "global filesdict\n",
    "filesdict={}\n",
    "\n",
    "startpath=input(\"Enter the path to find duplicate files by content (./ for pwd) \")\n",
    "def list_files(startpath):\n",
    "    for root, dirs, files in os.walk(startpath):\n",
    "        level = root.replace(startpath, '').count(os.sep)\n",
    "        indent = ' ' * 4 * (level)\n",
    "        print('{}{}/'.format(indent, os.path.basename(root)))\n",
    "        subindent = ' ' * 4 * (level + 1)\n",
    "        \n",
    "        for f in files:\n",
    "            print('{}{}'.format(subindent, f))\n",
    "            if str(get_hash_of_file(f)) in filesdict.values():\n",
    "                continue\n",
    "            else:\n",
    "                filesdict[f]=str(get_hash_of_file(f))\n",
    "    print(filesdict)\n",
    "                \n",
    "list_files(startpath)"
   ]
  },
  {
   "cell_type": "code",
   "execution_count": 3,
   "id": "7cc5d532",
   "metadata": {},
   "outputs": [
    {
     "name": "stdout",
     "output_type": "stream",
     "text": [
      "Enter the path to find duplicate files by content (./ for pwd) ./\n"
     ]
    },
    {
     "ename": "FileNotFoundError",
     "evalue": "[Errno 2] No such file or directory: 'COMMIT_EDITMSG'",
     "output_type": "error",
     "traceback": [
      "\u001b[1;31m---------------------------------------------------------------------------\u001b[0m",
      "\u001b[1;31mFileNotFoundError\u001b[0m                         Traceback (most recent call last)",
      "\u001b[1;32m~\\AppData\\Local\\Temp\\ipykernel_8308\\4247094196.py\u001b[0m in \u001b[0;36m<module>\u001b[1;34m\u001b[0m\n\u001b[0;32m     23\u001b[0m     \u001b[0mprint\u001b[0m\u001b[1;33m(\u001b[0m\u001b[0mfilesdict\u001b[0m\u001b[1;33m)\u001b[0m\u001b[1;33m\u001b[0m\u001b[1;33m\u001b[0m\u001b[0m\n\u001b[0;32m     24\u001b[0m \u001b[0mstartpath\u001b[0m\u001b[1;33m=\u001b[0m\u001b[0minput\u001b[0m\u001b[1;33m(\u001b[0m\u001b[1;34m\"Enter the path to find duplicate files by content (./ for pwd) \"\u001b[0m\u001b[1;33m)\u001b[0m\u001b[1;33m\u001b[0m\u001b[1;33m\u001b[0m\u001b[0m\n\u001b[1;32m---> 25\u001b[1;33m \u001b[0mlist_duplicate_files\u001b[0m\u001b[1;33m(\u001b[0m\u001b[0mstartpath\u001b[0m\u001b[1;33m)\u001b[0m\u001b[1;33m\u001b[0m\u001b[1;33m\u001b[0m\u001b[0m\n\u001b[0m",
      "\u001b[1;32m~\\AppData\\Local\\Temp\\ipykernel_8308\\4247094196.py\u001b[0m in \u001b[0;36mlist_duplicate_files\u001b[1;34m(startpath)\u001b[0m\n\u001b[0;32m     17\u001b[0m     \u001b[1;32mfor\u001b[0m \u001b[0mroot\u001b[0m\u001b[1;33m,\u001b[0m \u001b[0mdirs\u001b[0m\u001b[1;33m,\u001b[0m \u001b[0mfiles\u001b[0m \u001b[1;32min\u001b[0m \u001b[0mos\u001b[0m\u001b[1;33m.\u001b[0m\u001b[0mwalk\u001b[0m\u001b[1;33m(\u001b[0m\u001b[0mstartpath\u001b[0m\u001b[1;33m)\u001b[0m\u001b[1;33m:\u001b[0m\u001b[1;33m\u001b[0m\u001b[1;33m\u001b[0m\u001b[0m\n\u001b[0;32m     18\u001b[0m         \u001b[1;32mfor\u001b[0m \u001b[0mf\u001b[0m \u001b[1;32min\u001b[0m \u001b[0mfiles\u001b[0m\u001b[1;33m:\u001b[0m\u001b[1;33m\u001b[0m\u001b[1;33m\u001b[0m\u001b[0m\n\u001b[1;32m---> 19\u001b[1;33m             \u001b[1;32mif\u001b[0m \u001b[0mstr\u001b[0m\u001b[1;33m(\u001b[0m\u001b[0mget_hash_of_file\u001b[0m\u001b[1;33m(\u001b[0m\u001b[0mf\u001b[0m\u001b[1;33m)\u001b[0m\u001b[1;33m)\u001b[0m \u001b[1;32min\u001b[0m \u001b[0mfilesdict\u001b[0m\u001b[1;33m.\u001b[0m\u001b[0mvalues\u001b[0m\u001b[1;33m(\u001b[0m\u001b[1;33m)\u001b[0m\u001b[1;33m:\u001b[0m\u001b[1;33m\u001b[0m\u001b[1;33m\u001b[0m\u001b[0m\n\u001b[0m\u001b[0;32m     20\u001b[0m                 \u001b[1;32mcontinue\u001b[0m\u001b[1;33m\u001b[0m\u001b[1;33m\u001b[0m\u001b[0m\n\u001b[0;32m     21\u001b[0m             \u001b[1;32melse\u001b[0m\u001b[1;33m:\u001b[0m\u001b[1;33m\u001b[0m\u001b[1;33m\u001b[0m\u001b[0m\n",
      "\u001b[1;32m~\\AppData\\Local\\Temp\\ipykernel_8308\\4247094196.py\u001b[0m in \u001b[0;36mget_hash_of_file\u001b[1;34m(filename)\u001b[0m\n\u001b[0;32m      7\u001b[0m \u001b[1;33m\u001b[0m\u001b[0m\n\u001b[0;32m      8\u001b[0m \u001b[1;32mdef\u001b[0m \u001b[0mget_hash_of_file\u001b[0m\u001b[1;33m(\u001b[0m\u001b[0mfilename\u001b[0m\u001b[1;33m)\u001b[0m\u001b[1;33m:\u001b[0m\u001b[1;33m\u001b[0m\u001b[1;33m\u001b[0m\u001b[0m\n\u001b[1;32m----> 9\u001b[1;33m     \u001b[0mfile\u001b[0m\u001b[1;33m=\u001b[0m\u001b[0mopen\u001b[0m\u001b[1;33m(\u001b[0m\u001b[0mstr\u001b[0m\u001b[1;33m(\u001b[0m\u001b[0mfilename\u001b[0m\u001b[1;33m)\u001b[0m\u001b[1;33m,\u001b[0m\u001b[1;34m\"r\"\u001b[0m\u001b[1;33m)\u001b[0m\u001b[1;33m\u001b[0m\u001b[1;33m\u001b[0m\u001b[0m\n\u001b[0m\u001b[0;32m     10\u001b[0m     \u001b[0mfilecontent\u001b[0m\u001b[1;33m=\u001b[0m\u001b[0mfile\u001b[0m\u001b[1;33m.\u001b[0m\u001b[0mreadlines\u001b[0m\u001b[1;33m(\u001b[0m\u001b[1;33m)\u001b[0m\u001b[1;33m\u001b[0m\u001b[1;33m\u001b[0m\u001b[0m\n\u001b[0;32m     11\u001b[0m     \u001b[1;32mreturn\u001b[0m \u001b[0mhashlib\u001b[0m\u001b[1;33m.\u001b[0m\u001b[0msha256\u001b[0m\u001b[1;33m(\u001b[0m\u001b[1;33m(\u001b[0m\u001b[1;34m\"b\"\u001b[0m\u001b[1;33m+\u001b[0m\u001b[0mstr\u001b[0m\u001b[1;33m(\u001b[0m\u001b[0mfilecontent\u001b[0m\u001b[1;33m)\u001b[0m\u001b[1;33m)\u001b[0m\u001b[1;33m.\u001b[0m\u001b[0mencode\u001b[0m\u001b[1;33m(\u001b[0m\u001b[1;33m)\u001b[0m\u001b[1;33m)\u001b[0m\u001b[1;33m.\u001b[0m\u001b[0mhexdigest\u001b[0m\u001b[1;33m(\u001b[0m\u001b[1;33m)\u001b[0m\u001b[1;33m\u001b[0m\u001b[1;33m\u001b[0m\u001b[0m\n",
      "\u001b[1;31mFileNotFoundError\u001b[0m: [Errno 2] No such file or directory: 'COMMIT_EDITMSG'"
     ]
    }
   ],
   "source": [
    "# 1 final code\n",
    "# create a python program find duplicate files by content. User will input path and it will \n",
    "# scan all directories and sub-directories to find duplicate files \n",
    "\n",
    "import os\n",
    "import hashlib\n",
    "\n",
    "def get_hash_of_file(filename):\n",
    "    file=open(str(filename),\"r\")\n",
    "    filecontent=file.readlines()\n",
    "    return hashlib.sha256((\"b\"+str(filecontent)).encode()).hexdigest()\n",
    "\n",
    "global filesdict\n",
    "filesdict={}\n",
    "\n",
    "def list_duplicate_files(startpath):\n",
    "    for root, dirs, files in os.walk(startpath):      \n",
    "        for f in files:\n",
    "            if str(get_hash_of_file(f)) in filesdict.values():\n",
    "                continue\n",
    "            else:\n",
    "                filesdict[f]=str(get_hash_of_file(f))\n",
    "    print(filesdict)\n",
    "startpath=input(\"Enter the path to find duplicate files by content (./ for pwd) \")\n",
    "list_duplicate_files(startpath)"
   ]
  },
  {
   "cell_type": "code",
   "execution_count": 3,
   "id": "2d24d4d8",
   "metadata": {},
   "outputs": [],
   "source": [
    "# 2\n",
    "# delete the duplicate file\n",
    "\n",
    "\n",
    "\n",
    "\n"
   ]
  },
  {
   "cell_type": "code",
   "execution_count": 67,
   "id": "12c094a4",
   "metadata": {},
   "outputs": [
    {
     "name": "stdout",
     "output_type": "stream",
     "text": [
      "7Bfs01\n"
     ]
    }
   ],
   "source": [
    "# 3\n",
    "# generate random password with # length=6 # 1 upper case # 2 lower case # 3 digits\n",
    "\n",
    "import random\n",
    "lowercase=\"abcdefghijklmnopqrstuvwxyz\"\n",
    "uppercase=lowercase.upper()\n",
    "digits=\"0123456789\"\n",
    "\n",
    "password=\"\"\n",
    "password+=uppercase[random.randint(0,25)]\n",
    "for _ in range(2):\n",
    "    password+=lowercase[random.randint(0,25)] \n",
    "for _ in range(3):\n",
    "    password+=digits[random.randint(0,9)] \n",
    "password=\"\".join(random.sample(password,len(password)))\n",
    "\n",
    "print(password)"
   ]
  }
 ],
 "metadata": {
  "kernelspec": {
   "display_name": "Python 3 (ipykernel)",
   "language": "python",
   "name": "python3"
  },
  "language_info": {
   "codemirror_mode": {
    "name": "ipython",
    "version": 3
   },
   "file_extension": ".py",
   "mimetype": "text/x-python",
   "name": "python",
   "nbconvert_exporter": "python",
   "pygments_lexer": "ipython3",
   "version": "3.9.13"
  }
 },
 "nbformat": 4,
 "nbformat_minor": 5
}
