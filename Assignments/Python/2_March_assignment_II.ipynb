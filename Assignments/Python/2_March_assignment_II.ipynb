{
 "cells": [
  {
   "cell_type": "code",
   "execution_count": 1,
   "id": "86d6275d",
   "metadata": {},
   "outputs": [
    {
     "name": "stdout",
     "output_type": "stream",
     "text": [
      "Enter the path of the folders: ./folders\n",
      "No Duplicate Files found!\n"
     ]
    }
   ],
   "source": [
    "# 1.\tCreate a python program to find duplicate files by content. User will input path and it will scan all directories, \n",
    "# sub-directories to find all duplicates files.\n",
    "# Delete the found duplicate file.\n",
    "# [Hint: use hashlib]\n",
    "\n",
    "import os\n",
    "import hashlib\n",
    "#Function to find duplicate files\n",
    "def findDuplicate(path):\n",
    "    hashedFilePath = {}\n",
    "    for root, dirName, files in os.walk(path):\n",
    "        for file in files:\n",
    "            filePath = os.path.join(root, file)\n",
    "            with open(filePath, 'rb') as f:\n",
    "                fileHash = hashlib.sha256(f.read()).hexdigest()\n",
    "            if fileHash in hashedFilePath:\n",
    "                hashedFilePath[fileHash].append(filePath)\n",
    "            else:\n",
    "                hashedFilePath[fileHash] = [filePath]\n",
    "    return {fileHash:filePath for fileHash, filePath in hashedFilePath.items() if len(filePath) > 1}\n",
    "# path = input(\"Enter file path: \")\n",
    "path = str(input(\"Enter the path of the folders: \"))\n",
    "duplicateFiles = findDuplicate(path)\n",
    "if len(duplicateFiles) == 0:\n",
    "    print(\"No Duplicate Files found!\")\n",
    "else:\n",
    "    # removal of duplicate files\n",
    "    for fileHash, filePath in duplicateFiles.items():\n",
    "        print(\"Duplicate file hash value is: {}\".format(fileHash))\n",
    "        for file in filePath[:-1]:\n",
    "            os.remove(file)"
   ]
  },
  {
   "cell_type": "code",
   "execution_count": 2,
   "id": "340a2a58",
   "metadata": {},
   "outputs": [
    {
     "name": "stdout",
     "output_type": "stream",
     "text": [
      "3co0P\"\n"
     ]
    }
   ],
   "source": [
    "# 2.\tGenerate random Password with exact length = 6, with minimum 1 uppercase, 2 lowercase, 2 digits, and remaining special characters.\n",
    "# Using these packages [random, strings]\n",
    "\n",
    "import random\n",
    "import string\n",
    "lowercase=\"abcdefghijklmnopqrstuvwxyz\"\n",
    "uppercase=lowercase.upper()\n",
    "digits=\"0123456789\"\n",
    "specials=string.punctuation\n",
    "password=\"\"\n",
    "password+=uppercase[random.randint(0,25)]\n",
    "for _ in range(2):\n",
    "    password+=lowercase[random.randint(0,25)] \n",
    "for _ in range(2):\n",
    "    password+=digits[random.randint(0,9)] \n",
    "password=\"\".join(random.sample(password,len(password)))\n",
    "password+=specials[random.randint(0,len(specials)-1)]\n",
    "print(password)"
   ]
  },
  {
   "cell_type": "code",
   "execution_count": 3,
   "id": "c2f15f85",
   "metadata": {},
   "outputs": [
    {
     "name": "stdout",
     "output_type": "stream",
     "text": [
      "Enter number of rows: 2\n",
      "Enter number of cols: 3\n",
      "[[  0   0   8]\n",
      " [ 27   0 125]]\n"
     ]
    }
   ],
   "source": [
    "# 3.\tCreate 2D array and update the same 2D array provided that every prime number position should be replaced \n",
    "# by cube of the positioned number.\n",
    "\n",
    "import numpy as np\n",
    "def isPrime(x):\n",
    "    if x < 2:\n",
    "        return False\n",
    "    for i in range(2, x):\n",
    "        if x % i == 0:\n",
    "            return False\n",
    "    return True\n",
    "def primeCubes(matrix,count):\n",
    "    for i in range(rows):\n",
    "        for j in range(cols):\n",
    "            if isPrime(count):\n",
    "                matrix[i][j]=count**3\n",
    "            count+=1\n",
    "    return np.array(matrix)\n",
    "\n",
    "rows=int(input(\"Enter number of rows: \"))\n",
    "cols=int(input(\"Enter number of cols: \"))\n",
    "matrix=[[0 for _ in range(cols)] for _ in range(rows)]\n",
    "print(primeCubes(matrix,0))"
   ]
  },
  {
   "cell_type": "code",
   "execution_count": 21,
   "id": "e09ff484",
   "metadata": {},
   "outputs": [
    {
     "name": "stdout",
     "output_type": "stream",
     "text": [
      "[0, 1, 2, 3, 4, 5, 6]\n",
      "[0, 1, 9, 36, 4, 129, 6]\n"
     ]
    }
   ],
   "source": [
    "# 4.\tPython program to get the sum of every cubed value and its previous integer. \n",
    "\n",
    "l=[i for i in range(7)]\n",
    "print(l)\n",
    "for i in range(len(l)):\n",
    "    if isPrime(i):\n",
    "        l[i]=(l[i]**3)+l[i-1]\n",
    "print(l)"
   ]
  },
  {
   "cell_type": "code",
   "execution_count": 5,
   "id": "43e75a4e",
   "metadata": {},
   "outputs": [
    {
     "data": {
      "text/plain": [
       "[3, 5]"
      ]
     },
     "execution_count": 5,
     "metadata": {},
     "output_type": "execute_result"
    }
   ],
   "source": [
    "# 5.\tGiven two arrays, find their intersection. Examples:\n",
    "\n",
    "# Input:  arr1[] = [1, 3, 4, 5, 7]\n",
    "#         arr2[] = [2, 3, 5, 6]\n",
    "\n",
    "arr1 = [1, 3, 4, 5, 7]\n",
    "arr2 = [2, 3, 5, 6]\n",
    "intersection=[i for i in arr2 if i in arr1]\n",
    "intersection"
   ]
  },
  {
   "cell_type": "code",
   "execution_count": 14,
   "id": "c483bc37",
   "metadata": {},
   "outputs": [
    {
     "data": {
      "text/plain": [
       "336"
      ]
     },
     "execution_count": 14,
     "metadata": {},
     "output_type": "execute_result"
    }
   ],
   "source": [
    "# 6.\tCreate a 7 x 7  2D array having only multiples of 7. And return the last element of the same.\n",
    "\n",
    "array=np.arange(0,49*7,7).reshape(7,7)\n",
    "array[-1,-1]"
   ]
  },
  {
   "cell_type": "code",
   "execution_count": 15,
   "id": "6c8f1983",
   "metadata": {},
   "outputs": [
    {
     "name": "stdout",
     "output_type": "stream",
     "text": [
      "Enter number of rows: 2\n",
      "Enter number of cols: 3\n",
      "[[1 0 1]\n",
      " [0 1 0]]\n"
     ]
    }
   ],
   "source": [
    "# 7.\tChecker Board Patten using Numpy:\n",
    "# [   1   0   1   0   1   0   1\n",
    "#     0   1   0   1   0   1   0\n",
    "#     1   0   1   0   1   0   1\n",
    "#     0   1   0   1   0   1   0\n",
    "#     1   0   1   0   1   0   1  ]\n",
    "\n",
    "\n",
    "def checker(rows, cols):\n",
    "    states=np.ones((rows,cols),dtype=\"int\")\n",
    "    states[1::2,::2],states[::2,1::2]=0,0\n",
    "    return states\n",
    "print(checker(int(input(\"Enter number of rows: \")),int(input(\"Enter number of cols: \"))))"
   ]
  },
  {
   "cell_type": "code",
   "execution_count": 18,
   "id": "be0c8037",
   "metadata": {},
   "outputs": [
    {
     "name": "stdout",
     "output_type": "stream",
     "text": [
      "[['nan' 'B' 'C' 'D']\n",
      " ['nan' 'F' 'G' 'H']\n",
      " ['nan' 'J' 'K' 'L']\n",
      " ['M' 'N' 'nan' 'P']\n",
      " ['Q' 'R' 'S' 'T']\n",
      " ['nan' 'V' 'W' 'X']]\n"
     ]
    }
   ],
   "source": [
    "# 8.\tCreate a given Matrix:\n",
    "# [  A,     B,     C,       D\n",
    "#    E,      F,     G,       H\n",
    "#     I,      a,      K,       L\n",
    "#    M,    N,     o,       P\n",
    "#    Q,     R,      S,       T\n",
    "#    U,     0,     W,      O ]\n",
    "\n",
    "# Replace all the vowels by np.nan\n",
    "# A, E, I, O U  -- >  np.nan\n",
    "# Return the count of the missing values\n",
    "\n",
    "\n",
    "letters=[\n",
    "    [\"A\",\"B\",\"C\",\"D\"],\n",
    "    [\"E\",\"F\",\"G\",\"H\"],\n",
    "    [\"I\",\"J\",\"K\",\"L\"],\n",
    "    [\"M\",\"N\",\"O\",\"P\"],\n",
    "    [\"Q\",\"R\",\"S\",\"T\"],\n",
    "    [\"U\",\"V\",\"W\",\"X\"]\n",
    "]\n",
    "vowels=\"AEIOU\"\n",
    "for list in letters:\n",
    "    for letter in list:\n",
    "        if letter in vowels:\n",
    "            list[list.index(letter)]=np.nan\n",
    "print(np.array(letters))"
   ]
  },
  {
   "cell_type": "code",
   "execution_count": null,
   "id": "66751f5f",
   "metadata": {},
   "outputs": [],
   "source": []
  }
 ],
 "metadata": {
  "kernelspec": {
   "display_name": "Python 3 (ipykernel)",
   "language": "python",
   "name": "python3"
  },
  "language_info": {
   "codemirror_mode": {
    "name": "ipython",
    "version": 3
   },
   "file_extension": ".py",
   "mimetype": "text/x-python",
   "name": "python",
   "nbconvert_exporter": "python",
   "pygments_lexer": "ipython3",
   "version": "3.9.13"
  }
 },
 "nbformat": 4,
 "nbformat_minor": 5
}
