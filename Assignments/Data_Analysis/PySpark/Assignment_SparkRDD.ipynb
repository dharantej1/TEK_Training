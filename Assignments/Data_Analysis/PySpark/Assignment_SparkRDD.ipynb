{
 "cells": [
  {
   "cell_type": "code",
   "execution_count": 1,
   "id": "5b4fbccf",
   "metadata": {},
   "outputs": [
    {
     "name": "stdout",
     "output_type": "stream",
     "text": [
      "Schema of customers dataframe:\n",
      "root\n",
      " |-- ID: integer (nullable = true)\n",
      " |-- First Name: string (nullable = true)\n",
      " |-- Last Name: string (nullable = true)\n",
      " |-- Gender: string (nullable = true)\n",
      " |-- Company: string (nullable = true)\n",
      " |-- Occupation: string (nullable = true)\n",
      "\n",
      "Schema of foods dataframe:\n",
      "root\n",
      " |-- Food ID: integer (nullable = true)\n",
      " |-- Food Item: string (nullable = true)\n",
      " |-- Price: double (nullable = true)\n",
      "\n",
      "Schema of sales dataframe:\n",
      "root\n",
      " |-- Customer ID: integer (nullable = true)\n",
      " |-- Food ID: integer (nullable = true)\n",
      "\n",
      "Schema of week2sales dataframe:\n",
      "root\n",
      " |-- Customer ID: integer (nullable = true)\n",
      " |-- Food ID: integer (nullable = true)\n",
      "\n"
     ]
    }
   ],
   "source": [
    "from pyspark.sql import SparkSession\n",
    "\n",
    "# create a SparkSession object\n",
    "spark = SparkSession.builder.appName(\"Restaurant\").getOrCreate()\n",
    "\n",
    "# read the CSV files and create corresponding dataframes\n",
    "customers_df = spark.read.csv(\"customers.csv\", header=True, inferSchema=True)\n",
    "foods_df = spark.read.csv(\"foods.csv\", header=True, inferSchema=True)\n",
    "sales_df = spark.read.csv(\"sales.csv\", header=True, inferSchema=True)\n",
    "week2sales_df = spark.read.csv(\"week2sales.csv\", header=True, inferSchema=True)\n",
    "\n",
    "# print the schema of each dataframe\n",
    "print(\"Schema of customers dataframe:\")\n",
    "customers_df.printSchema()\n",
    "\n",
    "print(\"Schema of foods dataframe:\")\n",
    "foods_df.printSchema()\n",
    "\n",
    "print(\"Schema of sales dataframe:\")\n",
    "sales_df.printSchema()\n",
    "\n",
    "print(\"Schema of week2sales dataframe:\")\n",
    "week2sales_df.printSchema()\n"
   ]
  },
  {
   "cell_type": "code",
   "execution_count": 2,
   "id": "8b15a032",
   "metadata": {},
   "outputs": [
    {
     "name": "stdout",
     "output_type": "stream",
     "text": [
      "Number of customers who have spent more than $10: 221\n"
     ]
    }
   ],
   "source": [
    "# join the customers, saless, and foods dataframes\n",
    "joined_df = customers_df.join(sales_df.join(foods_df))\n",
    "\n",
    "# compute the total amount spent by each customer\n",
    "total_spent_df = joined_df.groupBy(\"Customer ID\").sum(\"Price\")\n",
    "\n",
    "# filter the customers who have spent more than $10\n",
    "result_df = total_spent_df.filter(total_spent_df[\"sum(Price)\"] > 10)\n",
    "\n",
    "# count the number of customers who have spent more than $10\n",
    "num_customers = result_df.count()\n",
    "\n",
    "# print the result\n",
    "print(\"Number of customers who have spent more than $10:\", num_customers)\n"
   ]
  },
  {
   "cell_type": "code",
   "execution_count": 3,
   "id": "3ce2fac7",
   "metadata": {},
   "outputs": [
    {
     "name": "stdout",
     "output_type": "stream",
     "text": [
      "Number of customers who had more than 3 transactions: 1\n"
     ]
    }
   ],
   "source": [
    "# count the number of transactions made by each customer\n",
    "num_transactions_df = sales_df.groupBy(\"Customer ID\").count()\n",
    "\n",
    "# filter the customers who have made more than 3 transactions\n",
    "result_df = num_transactions_df.filter(num_transactions_df[\"count\"] > 3)\n",
    "\n",
    "# count the number of customers who have made more than 3 transactions\n",
    "num_customers = result_df.count()\n",
    "\n",
    "# print the result\n",
    "print(\"Number of customers who had more than 3 transactions:\", num_customers)\n"
   ]
  },
  {
   "cell_type": "code",
   "execution_count": 4,
   "id": "36fbe361",
   "metadata": {},
   "outputs": [
    {
     "name": "stdout",
     "output_type": "stream",
     "text": [
      "The most consumed food item is: Drink\n"
     ]
    }
   ],
   "source": [
    "# join the foods and week2sales dataframes\n",
    "joined_df = week2sales_df.join(foods_df, \"Food ID\", \"inner\")\n",
    "\n",
    "# count the number of times each food item appears in the week2sales dataframe\n",
    "most_consumed_df = joined_df.groupBy(\"Food ID\", \"Food Item\").count()\n",
    "\n",
    "# sort the result in descending order of count\n",
    "most_consumed_df = most_consumed_df.sort(\"count\", ascending=False)\n",
    "\n",
    "# get the name of the most consumed food item\n",
    "most_consumed_food = most_consumed_df.select(\"Food Item\").first()[0]\n",
    "\n",
    "# print the result\n",
    "print(\"The most consumed food item is:\", most_consumed_food)\n"
   ]
  },
  {
   "cell_type": "code",
   "execution_count": 6,
   "id": "88b9fbc9",
   "metadata": {},
   "outputs": [
    {
     "ename": "AnalysisException",
     "evalue": "Reference 'Food ID' is ambiguous, could be: Food ID, Food ID.",
     "output_type": "error",
     "traceback": [
      "\u001b[1;31m---------------------------------------------------------------------------\u001b[0m",
      "\u001b[1;31mAnalysisException\u001b[0m                         Traceback (most recent call last)",
      "\u001b[1;32m~\\AppData\\Local\\Temp\\ipykernel_13496\\214410884.py\u001b[0m in \u001b[0;36m<module>\u001b[1;34m\u001b[0m\n\u001b[0;32m      3\u001b[0m \u001b[1;33m\u001b[0m\u001b[0m\n\u001b[0;32m      4\u001b[0m \u001b[1;31m# group the joined dataframe by both Gender and Food ID and count the number of transactions\u001b[0m\u001b[1;33m\u001b[0m\u001b[1;33m\u001b[0m\u001b[0m\n\u001b[1;32m----> 5\u001b[1;33m \u001b[0mgender_food_df\u001b[0m \u001b[1;33m=\u001b[0m \u001b[0mjoined_df\u001b[0m\u001b[1;33m.\u001b[0m\u001b[0mgroupBy\u001b[0m\u001b[1;33m(\u001b[0m\u001b[1;34m\"Gender\"\u001b[0m\u001b[1;33m,\u001b[0m \u001b[1;34m\"Food ID\"\u001b[0m\u001b[1;33m,\u001b[0m \u001b[1;34m\"Food Item\"\u001b[0m\u001b[1;33m)\u001b[0m\u001b[1;33m.\u001b[0m\u001b[0mcount\u001b[0m\u001b[1;33m(\u001b[0m\u001b[1;33m)\u001b[0m\u001b[1;33m\u001b[0m\u001b[1;33m\u001b[0m\u001b[0m\n\u001b[0m\u001b[0;32m      6\u001b[0m \u001b[1;33m\u001b[0m\u001b[0m\n\u001b[0;32m      7\u001b[0m \u001b[1;31m# filter for male customers and sort in descending order of count\u001b[0m\u001b[1;33m\u001b[0m\u001b[1;33m\u001b[0m\u001b[0m\n",
      "\u001b[1;32m~\\Anaconda3\\lib\\site-packages\\pyspark\\sql\\group.py\u001b[0m in \u001b[0;36m_api\u001b[1;34m(self)\u001b[0m\n\u001b[0;32m     37\u001b[0m     \u001b[1;32mdef\u001b[0m \u001b[0m_api\u001b[0m\u001b[1;33m(\u001b[0m\u001b[0mself\u001b[0m\u001b[1;33m:\u001b[0m \u001b[1;34m\"GroupedData\"\u001b[0m\u001b[1;33m)\u001b[0m \u001b[1;33m->\u001b[0m \u001b[0mDataFrame\u001b[0m\u001b[1;33m:\u001b[0m\u001b[1;33m\u001b[0m\u001b[1;33m\u001b[0m\u001b[0m\n\u001b[0;32m     38\u001b[0m         \u001b[0mname\u001b[0m \u001b[1;33m=\u001b[0m \u001b[0mf\u001b[0m\u001b[1;33m.\u001b[0m\u001b[0m__name__\u001b[0m\u001b[1;33m\u001b[0m\u001b[1;33m\u001b[0m\u001b[0m\n\u001b[1;32m---> 39\u001b[1;33m         \u001b[0mjdf\u001b[0m \u001b[1;33m=\u001b[0m \u001b[0mgetattr\u001b[0m\u001b[1;33m(\u001b[0m\u001b[0mself\u001b[0m\u001b[1;33m.\u001b[0m\u001b[0m_jgd\u001b[0m\u001b[1;33m,\u001b[0m \u001b[0mname\u001b[0m\u001b[1;33m)\u001b[0m\u001b[1;33m(\u001b[0m\u001b[1;33m)\u001b[0m\u001b[1;33m\u001b[0m\u001b[1;33m\u001b[0m\u001b[0m\n\u001b[0m\u001b[0;32m     40\u001b[0m         \u001b[1;32mreturn\u001b[0m \u001b[0mDataFrame\u001b[0m\u001b[1;33m(\u001b[0m\u001b[0mjdf\u001b[0m\u001b[1;33m,\u001b[0m \u001b[0mself\u001b[0m\u001b[1;33m.\u001b[0m\u001b[0msession\u001b[0m\u001b[1;33m)\u001b[0m\u001b[1;33m\u001b[0m\u001b[1;33m\u001b[0m\u001b[0m\n\u001b[0;32m     41\u001b[0m \u001b[1;33m\u001b[0m\u001b[0m\n",
      "\u001b[1;32m~\\Anaconda3\\lib\\site-packages\\py4j\\java_gateway.py\u001b[0m in \u001b[0;36m__call__\u001b[1;34m(self, *args)\u001b[0m\n\u001b[0;32m   1319\u001b[0m \u001b[1;33m\u001b[0m\u001b[0m\n\u001b[0;32m   1320\u001b[0m         \u001b[0manswer\u001b[0m \u001b[1;33m=\u001b[0m \u001b[0mself\u001b[0m\u001b[1;33m.\u001b[0m\u001b[0mgateway_client\u001b[0m\u001b[1;33m.\u001b[0m\u001b[0msend_command\u001b[0m\u001b[1;33m(\u001b[0m\u001b[0mcommand\u001b[0m\u001b[1;33m)\u001b[0m\u001b[1;33m\u001b[0m\u001b[1;33m\u001b[0m\u001b[0m\n\u001b[1;32m-> 1321\u001b[1;33m         return_value = get_return_value(\n\u001b[0m\u001b[0;32m   1322\u001b[0m             answer, self.gateway_client, self.target_id, self.name)\n\u001b[0;32m   1323\u001b[0m \u001b[1;33m\u001b[0m\u001b[0m\n",
      "\u001b[1;32m~\\Anaconda3\\lib\\site-packages\\pyspark\\sql\\utils.py\u001b[0m in \u001b[0;36mdeco\u001b[1;34m(*a, **kw)\u001b[0m\n\u001b[0;32m    194\u001b[0m                 \u001b[1;31m# Hide where the exception came from that shows a non-Pythonic\u001b[0m\u001b[1;33m\u001b[0m\u001b[1;33m\u001b[0m\u001b[0m\n\u001b[0;32m    195\u001b[0m                 \u001b[1;31m# JVM exception message.\u001b[0m\u001b[1;33m\u001b[0m\u001b[1;33m\u001b[0m\u001b[0m\n\u001b[1;32m--> 196\u001b[1;33m                 \u001b[1;32mraise\u001b[0m \u001b[0mconverted\u001b[0m \u001b[1;32mfrom\u001b[0m \u001b[1;32mNone\u001b[0m\u001b[1;33m\u001b[0m\u001b[1;33m\u001b[0m\u001b[0m\n\u001b[0m\u001b[0;32m    197\u001b[0m             \u001b[1;32melse\u001b[0m\u001b[1;33m:\u001b[0m\u001b[1;33m\u001b[0m\u001b[1;33m\u001b[0m\u001b[0m\n\u001b[0;32m    198\u001b[0m                 \u001b[1;32mraise\u001b[0m\u001b[1;33m\u001b[0m\u001b[1;33m\u001b[0m\u001b[0m\n",
      "\u001b[1;31mAnalysisException\u001b[0m: Reference 'Food ID' is ambiguous, could be: Food ID, Food ID."
     ]
    }
   ],
   "source": [
    "# join the foods and week2sales dataframes\n",
    "joined_df = week2sales_df.join(customers_df).join(foods_df)\n",
    "joined_df\n",
    "\n",
    "# group the joined dataframe by both Gender and Food ID and count the number of transactions\n",
    "gender_food_df = joined_df.groupBy(\"Gender\", \"Food ID\", \"Food Item\").count()\n",
    "\n",
    "# filter for male customers and sort in descending order of count\n",
    "male_food_df = gender_food_df.filter(gender_food_df[\"Gender\"] == \"M\").sort(\"count\", ascending=False)\n",
    "\n",
    "# filter for female customers and sort in descending order of count\n",
    "female_food_df = gender_food_df.filter(gender_food_df[\"Gender\"] == \"F\").sort(\"count\", ascending=False)\n",
    "\n",
    "# get the name of the most preferred food item by male and by female customers\n",
    "most_preferred_male_food = male_food_df.select(\"Food Item\").first()[0]\n",
    "most_preferred_female_food = female_food_df.select(\"Food Item\").first()[0]\n",
    "\n",
    "# print the result\n",
    "print(\"The most preferred food item by male customers is:\", most_preferred_male_food)\n",
    "print(\"The most preferred food item by female customers is:\", most_preferred_female_food)\n"
   ]
  }
 ],
 "metadata": {
  "kernelspec": {
   "display_name": "Python 3 (ipykernel)",
   "language": "python",
   "name": "python3"
  },
  "language_info": {
   "codemirror_mode": {
    "name": "ipython",
    "version": 3
   },
   "file_extension": ".py",
   "mimetype": "text/x-python",
   "name": "python",
   "nbconvert_exporter": "python",
   "pygments_lexer": "ipython3",
   "version": "3.9.13"
  }
 },
 "nbformat": 4,
 "nbformat_minor": 5
}
