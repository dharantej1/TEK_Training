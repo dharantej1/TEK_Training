{
 "cells": [
  {
   "cell_type": "code",
   "execution_count": 1,
   "id": "5b4fbccf",
   "metadata": {},
   "outputs": [
    {
     "name": "stdout",
     "output_type": "stream",
     "text": [
      "Schema of customers dataframe:\n",
      "root\n",
      " |-- ID: integer (nullable = true)\n",
      " |-- First Name: string (nullable = true)\n",
      " |-- Last Name: string (nullable = true)\n",
      " |-- Gender: string (nullable = true)\n",
      " |-- Company: string (nullable = true)\n",
      " |-- Occupation: string (nullable = true)\n",
      "\n",
      "Schema of foods dataframe:\n",
      "root\n",
      " |-- Food ID: integer (nullable = true)\n",
      " |-- Food Item: string (nullable = true)\n",
      " |-- Price: double (nullable = true)\n",
      "\n",
      "Schema of sales dataframe:\n",
      "root\n",
      " |-- Customer ID: integer (nullable = true)\n",
      " |-- Food ID: integer (nullable = true)\n",
      "\n",
      "Schema of week2sales dataframe:\n",
      "root\n",
      " |-- Customer ID: integer (nullable = true)\n",
      " |-- Food ID: integer (nullable = true)\n",
      "\n"
     ]
    }
   ],
   "source": [
    "from pyspark.sql import SparkSession\n",
    "\n",
    "# create a SparkSession object\n",
    "spark = SparkSession.builder.appName(\"Restaurant\").getOrCreate()\n",
    "\n",
    "# read the CSV files and create corresponding dataframes\n",
    "customers_df = spark.read.csv(\"customers.csv\", header=True, inferSchema=True)\n",
    "foods_df = spark.read.csv(\"foods.csv\", header=True, inferSchema=True)\n",
    "sales_df = spark.read.csv(\"sales.csv\", header=True, inferSchema=True)\n",
    "week2sales_df = spark.read.csv(\"week2sales.csv\", header=True, inferSchema=True)\n",
    "\n",
    "# print the schema of each dataframe\n",
    "print(\"Schema of customers dataframe:\")\n",
    "customers_df.printSchema()\n",
    "\n",
    "print(\"Schema of foods dataframe:\")\n",
    "foods_df.printSchema()\n",
    "\n",
    "print(\"Schema of sales dataframe:\")\n",
    "sales_df.printSchema()\n",
    "\n",
    "print(\"Schema of week2sales dataframe:\")\n",
    "week2sales_df.printSchema()\n"
   ]
  },
  {
   "cell_type": "code",
   "execution_count": 2,
   "id": "8b15a032",
   "metadata": {},
   "outputs": [
    {
     "name": "stdout",
     "output_type": "stream",
     "text": [
      "Number of customers who have spent more than $10: 221\n"
     ]
    }
   ],
   "source": [
    "# join the customers, saless, and foods dataframes\n",
    "joined_df = customers_df.join(sales_df.join(foods_df))\n",
    "\n",
    "# compute the total amount spent by each customer\n",
    "total_spent_df = joined_df.groupBy(\"Customer ID\").sum(\"Price\")\n",
    "\n",
    "# filter the customers who have spent more than $10\n",
    "result_df = total_spent_df.filter(total_spent_df[\"sum(Price)\"] > 10)\n",
    "\n",
    "# count the number of customers who have spent more than $10\n",
    "num_customers = result_df.count()\n",
    "\n",
    "# print the result\n",
    "print(\"Number of customers who have spent more than $10:\", num_customers)\n"
   ]
  },
  {
   "cell_type": "code",
   "execution_count": 3,
   "id": "3ce2fac7",
   "metadata": {},
   "outputs": [
    {
     "name": "stdout",
     "output_type": "stream",
     "text": [
      "Number of customers who had more than 3 transactions: 1\n"
     ]
    }
   ],
   "source": [
    "# count the number of transactions made by each customer\n",
    "num_transactions_df = sales_df.groupBy(\"Customer ID\").count()\n",
    "\n",
    "# filter the customers who have made more than 3 transactions\n",
    "result_df = num_transactions_df.filter(num_transactions_df[\"count\"] > 3)\n",
    "\n",
    "# count the number of customers who have made more than 3 transactions\n",
    "num_customers = result_df.count()\n",
    "\n",
    "# print the result\n",
    "print(\"Number of customers who had more than 3 transactions:\", num_customers)\n"
   ]
  },
  {
   "cell_type": "code",
   "execution_count": 4,
   "id": "36fbe361",
   "metadata": {},
   "outputs": [
    {
     "name": "stdout",
     "output_type": "stream",
     "text": [
      "The most consumed food item is: Drink\n"
     ]
    }
   ],
   "source": [
    "# join the foods and week2sales dataframes\n",
    "joined_df = week2sales_df.join(foods_df, \"Food ID\", \"inner\")\n",
    "\n",
    "# count the number of times each food item appears in the week2sales dataframe\n",
    "most_consumed_df = joined_df.groupBy(\"Food ID\", \"Food Item\").count()\n",
    "\n",
    "# sort the result in descending order of count\n",
    "most_consumed_df = most_consumed_df.sort(\"count\", ascending=False)\n",
    "\n",
    "# get the name of the most consumed food item\n",
    "most_consumed_food = most_consumed_df.select(\"Food Item\").first()[0]\n",
    "\n",
    "# print the result\n",
    "print(\"The most consumed food item is:\", most_consumed_food)\n"
   ]
  },
  {
   "cell_type": "code",
   "execution_count": null,
   "id": "88b9fbc9",
   "metadata": {},
   "outputs": [],
   "source": []
  }
 ],
 "metadata": {
  "kernelspec": {
   "display_name": "Python 3 (ipykernel)",
   "language": "python",
   "name": "python3"
  },
  "language_info": {
   "codemirror_mode": {
    "name": "ipython",
    "version": 3
   },
   "file_extension": ".py",
   "mimetype": "text/x-python",
   "name": "python",
   "nbconvert_exporter": "python",
   "pygments_lexer": "ipython3",
   "version": "3.9.13"
  }
 },
 "nbformat": 4,
 "nbformat_minor": 5
}
