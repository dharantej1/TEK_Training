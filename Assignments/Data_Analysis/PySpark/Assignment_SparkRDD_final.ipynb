{
 "cells": [
  {
   "cell_type": "code",
   "execution_count": 1,
   "id": "b5304202",
   "metadata": {},
   "outputs": [],
   "source": [
    "from pyspark import SparkContext\n",
    "from pyspark.sql import SparkSession\n",
    "\n",
    "sc = SparkContext(\"local\", \"Customer Spendings App\")\n",
    "spark = SparkSession.builder.appName(\"Customer Spendings App\").getOrCreate()"
   ]
  },
  {
   "cell_type": "code",
   "execution_count": 2,
   "id": "45fdd006",
   "metadata": {},
   "outputs": [],
   "source": [
    "foods_rdd = sc.textFile(\"Foods.csv\").map(lambda x: x.split(\",\"))"
   ]
  },
  {
   "cell_type": "code",
   "execution_count": 6,
   "id": "37701062",
   "metadata": {},
   "outputs": [],
   "source": [
    "foods_rdd=sc.parallelize(foods_rdd.collect()[1:])"
   ]
  },
  {
   "cell_type": "code",
   "execution_count": 9,
   "id": "96ef20d5",
   "metadata": {},
   "outputs": [],
   "source": [
    "sales_rdd = sc.textFile(\"Sales.csv\").map(lambda x: x.split(\",\"))"
   ]
  },
  {
   "cell_type": "code",
   "execution_count": 10,
   "id": "29177630",
   "metadata": {},
   "outputs": [],
   "source": [
    "sales_rdd=sc.parallelize(sales_rdd.collect()[1:])"
   ]
  },
  {
   "cell_type": "markdown",
   "id": "54b0422e",
   "metadata": {},
   "source": [
    "1)How many of the customers have spent more than 10$ in the restaurant"
   ]
  },
  {
   "cell_type": "code",
   "execution_count": 13,
   "id": "9a617cc6",
   "metadata": {},
   "outputs": [],
   "source": [
    "foods_dict_rdd = foods_rdd.map(lambda x: (x[0], float(x[2]))).collectAsMap()"
   ]
  },
  {
   "cell_type": "code",
   "execution_count": 15,
   "id": "a6d8a9d0",
   "metadata": {},
   "outputs": [],
   "source": [
    "customer_spendings_rdd = sales_rdd.map(lambda x: (x[0], foods_dict_rdd[x[1]])).reduceByKey(lambda x, y: x + y).filter(lambda x: x[1] > 10)"
   ]
  },
  {
   "cell_type": "code",
   "execution_count": 17,
   "id": "9d190bc2",
   "metadata": {},
   "outputs": [],
   "source": [
    "num_customers = customer_spendings_rdd.count()"
   ]
  },
  {
   "cell_type": "code",
   "execution_count": 18,
   "id": "989b0870",
   "metadata": {},
   "outputs": [
    {
     "name": "stdout",
     "output_type": "stream",
     "text": [
      "Number of customers who have spent more than $10: 84\n"
     ]
    }
   ],
   "source": [
    "print(\"Number of customers who have spent more than $10:\", num_customers)"
   ]
  },
  {
   "cell_type": "markdown",
   "id": "96ce01f2",
   "metadata": {},
   "source": [
    "2)How many customers had more than 3 transactions?"
   ]
  },
  {
   "cell_type": "code",
   "execution_count": 19,
   "id": "42353aa0",
   "metadata": {},
   "outputs": [],
   "source": [
    "customer_transactions_rdd = sales_rdd.map(lambda x: (x[0], 1)).reduceByKey(lambda x, y: x + y).filter(lambda x: x[1] > 3)"
   ]
  },
  {
   "cell_type": "code",
   "execution_count": 20,
   "id": "1b9409bd",
   "metadata": {},
   "outputs": [
    {
     "data": {
      "text/plain": [
       "[('77', 4)]"
      ]
     },
     "execution_count": 20,
     "metadata": {},
     "output_type": "execute_result"
    }
   ],
   "source": [
    "customer_transactions_rdd.collect()"
   ]
  },
  {
   "cell_type": "code",
   "execution_count": 21,
   "id": "7c69184c",
   "metadata": {},
   "outputs": [],
   "source": [
    "num_customers = customer_transactions_rdd.count()"
   ]
  },
  {
   "cell_type": "code",
   "execution_count": 22,
   "id": "ceb3ee10",
   "metadata": {},
   "outputs": [
    {
     "name": "stdout",
     "output_type": "stream",
     "text": [
      "Number of customers who have made more than 3 transactions: 1\n"
     ]
    }
   ],
   "source": [
    "print(\"Number of customers who have made more than 3 transactions:\", num_customers)"
   ]
  },
  {
   "cell_type": "markdown",
   "id": "544eeaca",
   "metadata": {},
   "source": [
    "3.Which food item has been consumed the most?"
   ]
  },
  {
   "cell_type": "code",
   "execution_count": 23,
   "id": "f9cec1d9",
   "metadata": {},
   "outputs": [],
   "source": [
    "food_count_rdd = sales_rdd.map(lambda x: (x[1], 1)).reduceByKey(lambda x, y: x + y)"
   ]
  },
  {
   "cell_type": "code",
   "execution_count": 25,
   "id": "f2f6e381",
   "metadata": {},
   "outputs": [],
   "source": [
    "food_name_count_rdd = foods_rdd.map(lambda x: (x[0], x[1])).join(food_count_rdd)"
   ]
  },
  {
   "cell_type": "code",
   "execution_count": 26,
   "id": "a61adb62",
   "metadata": {},
   "outputs": [],
   "source": [
    "sorted_food_rdd = food_name_count_rdd.map(lambda x: (x[1][1], x[1][0])).sortByKey(False)"
   ]
  },
  {
   "cell_type": "code",
   "execution_count": 27,
   "id": "3928cb9b",
   "metadata": {},
   "outputs": [],
   "source": [
    "most_consumed_food = sorted_food_rdd.first()"
   ]
  },
  {
   "cell_type": "code",
   "execution_count": 28,
   "id": "d618839c",
   "metadata": {},
   "outputs": [
    {
     "name": "stdout",
     "output_type": "stream",
     "text": [
      "Most consumed food item:  Donut  ( 35  times)\n"
     ]
    }
   ],
   "source": [
    "print(\"Most consumed food item: \", most_consumed_food[1], \" (\", most_consumed_food[0], \" times)\")"
   ]
  },
  {
   "cell_type": "markdown",
   "id": "d1e6dd54",
   "metadata": {},
   "source": [
    "4. Which food item is preferred by male and by female?"
   ]
  },
  {
   "cell_type": "code",
   "execution_count": 29,
   "id": "1d3b672d",
   "metadata": {},
   "outputs": [],
   "source": [
    "customers_rdd = sc.textFile(\"customers.csv\").map(lambda line: line.split(\",\"))"
   ]
  },
  {
   "cell_type": "code",
   "execution_count": 30,
   "id": "06881dd2",
   "metadata": {},
   "outputs": [],
   "source": [
    "customers_rdd=sc.parallelize(customers_rdd.collect()[1:])"
   ]
  },
  {
   "cell_type": "code",
   "execution_count": 33,
   "id": "75154f88",
   "metadata": {},
   "outputs": [],
   "source": [
    "foods_dict_rdd = foods_rdd.map(lambda x: (x[0], x[1])).collectAsMap()"
   ]
  },
  {
   "cell_type": "code",
   "execution_count": 45,
   "id": "370187d0",
   "metadata": {},
   "outputs": [],
   "source": [
    "sales_customer_rdd = sales_rdd.map(lambda x: (x[0], (x[1]))).join(customers_rdd.map(lambda x: (x[0], (x[3]))))"
   ]
  },
  {
   "cell_type": "code",
   "execution_count": 47,
   "id": "d0dd1f22",
   "metadata": {},
   "outputs": [],
   "source": [
    "male_sales_rdd = sales_customer_rdd.filter(lambda x: x[1][1] == 'Male').map(lambda x: (x[1][0], 1)).reduceByKey(lambda x, y: x + y)\n"
   ]
  },
  {
   "cell_type": "code",
   "execution_count": 49,
   "id": "6b7a0238",
   "metadata": {},
   "outputs": [],
   "source": [
    "female_sales_rdd = sales_customer_rdd.filter(lambda x: x[1][1] == 'Female').map(lambda x: (x[1][0], 1)).reduceByKey(lambda x, y: x + y)"
   ]
  },
  {
   "cell_type": "code",
   "execution_count": 58,
   "id": "84efa67f",
   "metadata": {},
   "outputs": [
    {
     "data": {
      "text/plain": [
       "15"
      ]
     },
     "execution_count": 58,
     "metadata": {},
     "output_type": "execute_result"
    }
   ],
   "source": [
    "male_sales_rdd.values().max()"
   ]
  },
  {
   "cell_type": "code",
   "execution_count": 55,
   "id": "983d430a",
   "metadata": {},
   "outputs": [],
   "source": [
    "item_male=male_sales_rdd.filter(lambda x:x[1]==15)"
   ]
  },
  {
   "cell_type": "code",
   "execution_count": 56,
   "id": "31b38474",
   "metadata": {},
   "outputs": [
    {
     "data": {
      "text/plain": [
       "[('2', 15)]"
      ]
     },
     "execution_count": 56,
     "metadata": {},
     "output_type": "execute_result"
    }
   ],
   "source": [
    "#BURITO IS CONSUMED MOSTYLY BY MALE\n",
    "item_male.collect()"
   ]
  },
  {
   "cell_type": "code",
   "execution_count": 59,
   "id": "253e7871",
   "metadata": {},
   "outputs": [
    {
     "data": {
      "text/plain": [
       "27"
      ]
     },
     "execution_count": 59,
     "metadata": {},
     "output_type": "execute_result"
    }
   ],
   "source": [
    "female_sales_rdd.values().max()"
   ]
  },
  {
   "cell_type": "code",
   "execution_count": 60,
   "id": "9f35f74b",
   "metadata": {},
   "outputs": [],
   "source": [
    "item_female=female_sales_rdd.filter(lambda x:x[1]==27)"
   ]
  },
  {
   "cell_type": "code",
   "execution_count": 62,
   "id": "7bfce6e5",
   "metadata": {},
   "outputs": [
    {
     "data": {
      "text/plain": [
       "[('9', 27)]"
      ]
     },
     "execution_count": 62,
     "metadata": {},
     "output_type": "execute_result"
    }
   ],
   "source": [
    "#DONE IS CONSUMED MOSTYLY BY MALE\n",
    "item_female.collect()"
   ]
  },
  {
   "cell_type": "markdown",
   "id": "e408eba2",
   "metadata": {},
   "source": [
    " 5. How many records are available in each of the file?"
   ]
  },
  {
   "cell_type": "code",
   "execution_count": 65,
   "id": "edf54f46",
   "metadata": {},
   "outputs": [
    {
     "name": "stdout",
     "output_type": "stream",
     "text": [
      "Foods count 10\n",
      "Customer count 1000\n",
      "Sales count 250\n"
     ]
    }
   ],
   "source": [
    "print(\"Foods count\",foods_rdd.count())\n",
    "print(\"Customer count\",customers_rdd.count())\n",
    "print(\"Sales count\",sales_rdd.count())"
   ]
  },
  {
   "cell_type": "markdown",
   "id": "975a8344",
   "metadata": {},
   "source": [
    "6. Which profession of the people most likely visit the restaurant the most"
   ]
  },
  {
   "cell_type": "code",
   "execution_count": 88,
   "id": "173085b8",
   "metadata": {},
   "outputs": [],
   "source": [
    "joined_rdd =customers_rdd.map(lambda x: (x[0], (x[4], x[5]))).join(sales_rdd.map(lambda x: (x[0], x[1])))"
   ]
  },
  {
   "cell_type": "code",
   "execution_count": 89,
   "id": "99333450",
   "metadata": {},
   "outputs": [],
   "source": [
    "occupation_count_rdd = joined_rdd.map(lambda x: (x[1][0][1], 1))"
   ]
  },
  {
   "cell_type": "code",
   "execution_count": 91,
   "id": "eb19df1e",
   "metadata": {},
   "outputs": [],
   "source": [
    "occupation_count_rdd = occupation_count_rdd.reduceByKey(lambda x, y: x + y)"
   ]
  },
  {
   "cell_type": "code",
   "execution_count": 92,
   "id": "dda9ed76",
   "metadata": {},
   "outputs": [],
   "source": [
    "most_frequent_occupation = occupation_count_rdd.max(key=lambda x: x[1])[0]"
   ]
  },
  {
   "cell_type": "code",
   "execution_count": 93,
   "id": "5cd7f6e2",
   "metadata": {},
   "outputs": [
    {
     "name": "stdout",
     "output_type": "stream",
     "text": [
      "The profession of people most likely to visit the restaurant the most is: Marketing Manager\n"
     ]
    }
   ],
   "source": [
    "print(\"The profession of people most likely to visit the restaurant the most is:\", most_frequent_occupation)"
   ]
  },
  {
   "cell_type": "markdown",
   "id": "2ad55947",
   "metadata": {},
   "source": [
    " 7. Which company visits restaurant the most ?\n"
   ]
  },
  {
   "cell_type": "code",
   "execution_count": 102,
   "id": "19c2cd93",
   "metadata": {},
   "outputs": [],
   "source": [
    "company_count_rdd = joined_rdd.map(lambda x: (x[1][0], 1)).reduceByKey(lambda x, y: x + y)"
   ]
  },
  {
   "cell_type": "code",
   "execution_count": 105,
   "id": "fabb7d83",
   "metadata": {},
   "outputs": [],
   "source": [
    "most_frequent_company = company_count_rdd.max(key=lambda x: x[1])[0][0]"
   ]
  },
  {
   "cell_type": "code",
   "execution_count": 106,
   "id": "e920e670",
   "metadata": {},
   "outputs": [
    {
     "name": "stdout",
     "output_type": "stream",
     "text": [
      "The company that visits the restaurant the most is: Dabvine\n"
     ]
    }
   ],
   "source": [
    "print(\"The company that visits the restaurant the most is:\", most_frequent_company)"
   ]
  },
  {
   "cell_type": "markdown",
   "id": "d1d77b33",
   "metadata": {},
   "source": [
    "8 .Which customer spends the most in the restaurant"
   ]
  },
  {
   "cell_type": "code",
   "execution_count": 110,
   "id": "30d390fa",
   "metadata": {},
   "outputs": [],
   "source": [
    "customer_spending_rdd = sales_rdd.reduceByKey(lambda x, y: x + y)"
   ]
  },
  {
   "cell_type": "code",
   "execution_count": 112,
   "id": "5f3e3c92",
   "metadata": {},
   "outputs": [],
   "source": [
    "top_spender = customer_spending_rdd.max(key=lambda x: x[1])[0]"
   ]
  },
  {
   "cell_type": "code",
   "execution_count": 115,
   "id": "dc765354",
   "metadata": {},
   "outputs": [
    {
     "data": {
      "text/plain": [
       "'147'"
      ]
     },
     "execution_count": 115,
     "metadata": {},
     "output_type": "execute_result"
    }
   ],
   "source": [
    "top_spender"
   ]
  },
  {
   "cell_type": "code",
   "execution_count": 119,
   "id": "37956651",
   "metadata": {},
   "outputs": [],
   "source": [
    "cust_name=customers_rdd.filter(lambda x:x[0]==top_spender).collect()"
   ]
  },
  {
   "cell_type": "code",
   "execution_count": 120,
   "id": "2ea872de",
   "metadata": {},
   "outputs": [
    {
     "data": {
      "text/plain": [
       "[['147', 'Theresa', 'Morales', 'Female', 'Abata', 'Occupational Therapist']]"
      ]
     },
     "execution_count": 120,
     "metadata": {},
     "output_type": "execute_result"
    }
   ],
   "source": [
    "cust_name"
   ]
  },
  {
   "cell_type": "code",
   "execution_count": 122,
   "id": "23e54fb0",
   "metadata": {},
   "outputs": [
    {
     "name": "stdout",
     "output_type": "stream",
     "text": [
      "The customer who has spent the most is: Theresa Morales\n"
     ]
    }
   ],
   "source": [
    "print(\"The customer who has spent the most is:\", cust_name[0][1] + \" \" + cust_name[0][2])"
   ]
  }
 ],
 "metadata": {
  "kernelspec": {
   "display_name": "Python 3 (ipykernel)",
   "language": "python",
   "name": "python3"
  },
  "language_info": {
   "codemirror_mode": {
    "name": "ipython",
    "version": 3
   },
   "file_extension": ".py",
   "mimetype": "text/x-python",
   "name": "python",
   "nbconvert_exporter": "python",
   "pygments_lexer": "ipython3",
   "version": "3.10.9"
  }
 },
 "nbformat": 4,
 "nbformat_minor": 5
}
