{
 "cells": [
  {
   "cell_type": "code",
   "execution_count": 1,
   "id": "11800ae1",
   "metadata": {},
   "outputs": [],
   "source": [
    "from pyspark.sql import SparkSession\n",
    "\n",
    "spark = SparkSession.builder.appName(\"MyApp\").getOrCreate()\n"
   ]
  },
  {
   "cell_type": "code",
   "execution_count": 2,
   "id": "b0838430",
   "metadata": {},
   "outputs": [
    {
     "data": {
      "text/plain": [
       "'C:\\\\Users\\\\user\\\\Desktop\\\\TEK_Training\\\\Assignments\\\\Data_Analysis\\\\Spark_SQL'"
      ]
     },
     "execution_count": 2,
     "metadata": {},
     "output_type": "execute_result"
    }
   ],
   "source": [
    "import os\n",
    "os.getcwd()"
   ]
  },
  {
   "cell_type": "code",
   "execution_count": 3,
   "id": "de62491a",
   "metadata": {},
   "outputs": [],
   "source": [
    "from pyspark.sql.types import StructType, StructField, StringType, DoubleType, IntegerType\n",
    "\n",
    "schema = StructType([\n",
    "    StructField(\"Name\", StringType(), True),\n",
    "    StructField(\"Brand\", StringType(), True),\n",
    "    StructField(\"Selling_Price\", DoubleType(), True),\n",
    "    StructField(\"MRP\", DoubleType(), True),\n",
    "    StructField(\"Discount\", DoubleType(), True),\n",
    "    StructField(\"Ratings\", DoubleType(), True),\n",
    "    StructField(\"no_of_ratings\", IntegerType(), True),\n",
    "    StructField(\"Details\", StringType(), True)\n",
    "])\n",
    "\n",
    "df = spark.read.csv(\"C:/Users/user/Desktop/TEK_Training/Assignments/Data_Analysis/Spark_SQL/Problem1-dataset.csv\", header=True, schema=schema)\n"
   ]
  },
  {
   "cell_type": "code",
   "execution_count": 4,
   "id": "5ac1b6b9",
   "metadata": {},
   "outputs": [
    {
     "data": {
      "text/plain": [
       "[Row(Name='Lenovo IdeaPad 3 Core i3 11th Gen - (8 GB/256 GB SSD/Windows 11 Home) 14ITL05 Thin and Light Laptop', Brand='Lenovo', Selling_Price=36990.0, MRP=60890.0, Discount=None, Ratings=4.2, no_of_ratings=None, Details=\"['Intel Core i3 Processor (11th Gen)' '8 GB DDR4 RAM' '64 bit Windows 11 Operating System' '256 GB SSD' '35.56 cm (14 inch) Display' 'Office Home and Student 2021' '2 Year Onsite�Warranty']\"),\n",
       " Row(Name='Lenovo IdeaPad 3 Core i3 11th Gen - (8 GB/512 GB SSD/Windows 11 Home) 82H801L7IN | 82H802FJIN | 82H802...', Brand='Lenovo', Selling_Price=37990.0, MRP=59390.0, Discount=None, Ratings=4.2, no_of_ratings=None, Details=\"['Intel Core i3 Processor (11th Gen)' '8 GB DDR4 RAM' '64 bit Windows 11 Operating System' '512 GB SSD' '39.62 cm (15.6 inch) Display' 'Office Home and Student 2021' '2 Year Onsite�Warranty']\")]"
      ]
     },
     "execution_count": 4,
     "metadata": {},
     "output_type": "execute_result"
    }
   ],
   "source": [
    "df.take(2)"
   ]
  },
  {
   "cell_type": "code",
   "execution_count": 5,
   "id": "dba0c039",
   "metadata": {},
   "outputs": [
    {
     "name": "stdout",
     "output_type": "stream",
     "text": [
      "root\n",
      " |-- Name: string (nullable = true)\n",
      " |-- Brand: string (nullable = true)\n",
      " |-- Selling_Price: double (nullable = true)\n",
      " |-- MRP: double (nullable = true)\n",
      " |-- Discount: double (nullable = true)\n",
      " |-- Ratings: double (nullable = true)\n",
      " |-- no_of_ratings: integer (nullable = true)\n",
      " |-- Details: string (nullable = true)\n",
      "\n"
     ]
    }
   ],
   "source": [
    "df.printSchema()\n"
   ]
  },
  {
   "cell_type": "code",
   "execution_count": 6,
   "id": "a58f9221",
   "metadata": {},
   "outputs": [
    {
     "data": {
      "text/plain": [
       "414"
      ]
     },
     "execution_count": 6,
     "metadata": {},
     "output_type": "execute_result"
    }
   ],
   "source": [
    "num_rows = df.count()\n",
    "num_rows"
   ]
  },
  {
   "cell_type": "code",
   "execution_count": 7,
   "id": "f84b0483",
   "metadata": {},
   "outputs": [],
   "source": [
    "# df = df.dropna()\n"
   ]
  },
  {
   "cell_type": "code",
   "execution_count": 8,
   "id": "88071803",
   "metadata": {},
   "outputs": [
    {
     "name": "stdout",
     "output_type": "stream",
     "text": [
      "+--------------------+-------+-------------+--------+--------+-------+-------------+--------------------+\n",
      "|                Name|  Brand|Selling_Price|     MRP|Discount|Ratings|no_of_ratings|             Details|\n",
      "+--------------------+-------+-------------+--------+--------+-------+-------------+--------------------+\n",
      "|Lenovo IdeaPad 3 ...| Lenovo|      36990.0| 60890.0|    null|    4.2|         null|['Intel Core i3 P...|\n",
      "|Lenovo IdeaPad 3 ...| Lenovo|      37990.0| 59390.0|    null|    4.2|         null|['Intel Core i3 P...|\n",
      "|ASUS VivoBook 15 ...|   ASUS|      32990.0| 45990.0|    null|    4.3|         null|['Intel Core i3 P...|\n",
      "|realme Book (Slim...| realme|      46990.0| 54999.0|    null|    4.4|         null|['Stylish & Porta...|\n",
      "|DELL Inspiron Cor...|   DELL|      38990.0| 61202.0|    null|    4.3|         null|\"['Processor: Int...|\n",
      "|HP 14s Intel Core...|     HP|      40990.0| 49509.0|    null|    4.2|         null|['Intel Core i3 P...|\n",
      "|Lenovo IdeaPad 3 ...| Lenovo|      44990.0| 68490.0|    null|    4.3|         null|['AMD Ryzen 5 Hex...|\n",
      "|Lenovo IdeaPad 1 ...| Lenovo|      38705.0| 60090.0|    null|    4.2|         null|['AMD Ryzen 5 Qua...|\n",
      "|APPLE 2020 Macboo...|  APPLE|      88990.0| 99900.0|    null|    4.7|         null|['Apple M1 Proces...|\n",
      "|Lenovo IdeaPad 1 ...| Lenovo|      35590.0| 54490.0|    null|    4.2|         null|['AMD Ryzen 3 Dua...|\n",
      "|Lenovo IdeaPad Ga...| Lenovo|      64490.0| 95790.0|    null|    4.3|         null|['AMD Ryzen 5 Hex...|\n",
      "|Infinix INBook X1...|Infinix|      22990.0| 39990.0|    null|    4.2|         null|['Intel Celeron Q...|\n",
      "|acer Aspire 7 Ryz...|   acer|      47990.0| 76999.0|    null|    4.4|         null|['Free upgrade to...|\n",
      "|ASUS VivoBook K15...|   ASUS|      40990.0| 58990.0|    null|    4.4|         null|['Intel Core i3 P...|\n",
      "|ASUS VivoBook 14 ...|   ASUS|      44990.0| 70990.0|    null|    4.1|         null|['AMD Ryzen 7 Qua...|\n",
      "|Lenovo Thinkpad R...| Lenovo|      69990.0| 78400.0|    null|    4.5|         null|['AMD Ryzen 5 Hex...|\n",
      "|Lenovo Core i3 11...| Lenovo|      38990.0| 51544.0|    null|    4.3|         null|['Intel Core i3 P...|\n",
      "|HP Pavilion Ryzen...|     HP|      59990.0| 81869.0|    null|    4.5|         null|['AMD Ryzen 5 Hex...|\n",
      "|HP 15s Intel Core...|     HP|      58990.0| 67832.0|    null|    4.2|         null|['Intel Core i5 P...|\n",
      "|Lenovo ThinkBook ...| Lenovo|      73990.0|112608.0|    null|    4.0|         null|['Intel Core i5 P...|\n",
      "+--------------------+-------+-------------+--------+--------+-------+-------------+--------------------+\n",
      "only showing top 20 rows\n",
      "\n"
     ]
    }
   ],
   "source": [
    "df.show()"
   ]
  },
  {
   "cell_type": "code",
   "execution_count": 18,
   "id": "ff188c27",
   "metadata": {},
   "outputs": [
    {
     "name": "stdout",
     "output_type": "stream",
     "text": [
      "Most expensive Laptop Brand and Name:  ASUS ROG Flow X13 (2021) Ryzen 9 Octa Core AMD R9-5980HS - (32 GB/1 TB SSD/Windows 10 Home/4 GB Graphi... ASUS\n"
     ]
    }
   ],
   "source": [
    "most_expensive_laptop = df.orderBy(df[\"MRP\"].desc()).first()\n",
    "print('Most expensive Laptop Brand and Name: ',most_expensive_laptop.Name, most_expensive_laptop.Brand)"
   ]
  },
  {
   "cell_type": "code",
   "execution_count": 21,
   "id": "7c579a33",
   "metadata": {},
   "outputs": [
    {
     "data": {
      "text/plain": [
       "Row(Name='ASUS Chromebook Flip Touch Celeron Dual Core - (4 GB/32 GB EMMC Storage/Chrome OS) C214MA-BU0704 Chrom...', Brand='ASUS', Selling_Price=14990.0, MRP=31990.0, Discount=None, Ratings=4.0, no_of_ratings=None, Details=\"['Intel Celeron Dual Core Processor' '4 GB LPDDR4 RAM' 'Chrome Operating System' '29.46 cm (11.6 inch) Touchscreen Display' '1 Year Onsite Warranty']\")"
      ]
     },
     "execution_count": 21,
     "metadata": {},
     "output_type": "execute_result"
    }
   ],
   "source": [
    "cheapest_laptop = df.orderBy(df[\"Selling_Price\"]).first()\n",
    "cheapest_laptop"
   ]
  },
  {
   "cell_type": "code",
   "execution_count": 32,
   "id": "45d72788",
   "metadata": {},
   "outputs": [
    {
     "name": "stdout",
     "output_type": "stream",
     "text": [
      "+--------------------+---------+-------------+--------+--------+-------+-------------+--------------------+\n",
      "|                Name|    Brand|Selling_Price|     MRP|Discount|Ratings|no_of_ratings|             Details|\n",
      "+--------------------+---------+-------------+--------+--------+-------+-------------+--------------------+\n",
      "|ASUS ROG Flow X13...|     ASUS|     224990.0|350990.0|    null|    5.0|         null|['AMD Ryzen 9 Oct...|\n",
      "|APPLE 2021 Macboo...|    APPLE|     309490.0|329900.0|    null|    4.3|         null|['Apple M1 Max Pr...|\n",
      "|APPLE 2021 Macboo...|    APPLE|     306990.0|329900.0|    null|    4.3|         null|['Apple M1 Max Pr...|\n",
      "|ASUS Core i9 10th...|     ASUS|     269990.0|326990.0|    null|    4.8|         null|['Intel Core i9 P...|\n",
      "|ALIENWARE Core i7...|ALIENWARE|     250000.0|293080.0|    null|    4.0|         null|['NVIDIA GeForce ...|\n",
      "|ASUS Core i7 10th...|     ASUS|     224990.0|272990.0|    null|    4.6|         null|['Intel Core i7 P...|\n",
      "|ASUS ROG Strix G1...|     ASUS|     187990.0|244990.0|    null|    4.0|         null|['AMD Ryzen 9 Oct...|\n",
      "|APPLE 2021 Macboo...|    APPLE|     222990.0|239900.0|    null|    4.8|         null|['Apple M1 Pro Pr...|\n",
      "|APPLE 2021 Macboo...|    APPLE|     222990.0|239900.0|    null|    4.8|         null|['Apple M1 Pro Pr...|\n",
      "|APPLE 2021 Macboo...|    APPLE|     222990.0|239900.0|    null|    4.8|         null|['Apple M1 Pro Pr...|\n",
      "+--------------------+---------+-------------+--------+--------+-------+-------------+--------------------+\n",
      "\n",
      "+--------------------+-------+-------------+-------+--------+-------+-------------+--------------------+\n",
      "|                Name|  Brand|Selling_Price|    MRP|Discount|Ratings|no_of_ratings|             Details|\n",
      "+--------------------+-------+-------------+-------+--------+-------+-------------+--------------------+\n",
      "|ASUS Chromebook F...|   ASUS|      14990.0|31990.0|    null|    4.0|         null|['Intel Celeron D...|\n",
      "|Infinix INBook X1...|Infinix|      20990.0|29990.0|    null|    4.2|         null|['Intel Celeron Q...|\n",
      "|ASUS Pentium Quad...|   ASUS|      22990.0|30990.0|    null|    3.7|         null|['Intel Pentium Q...|\n",
      "|Infinix INBook X1...|Infinix|      22990.0|39990.0|    null|    4.2|         null|['Intel Celeron Q...|\n",
      "|DELL Inspiron 15 ...|   DELL|      22990.0|24418.0|    null|    4.1|         null|['Intel Pentium Q...|\n",
      "|Lenovo IdeaPad 1 ...| Lenovo|      23250.0|34890.0|    null|    3.7|         null|['Intel Celeron D...|\n",
      "|acer Extensa 15 P...|   acer|      23400.0|34990.0|    null|    4.3|         null|['Intel Pentium Q...|\n",
      "|Lenovo IdeaPad 1 ...| Lenovo|      23890.0|40490.0|    null|    3.9|         null|['Intel Celeron D...|\n",
      "|ASUS VivoBook 14 ...|   ASUS|      23990.0|33990.0|    null|    4.0|         null|['Intel Celeron D...|\n",
      "|ASUS Chromebook F...|   ASUS|      24390.0|30990.0|    null|    4.0|         null|['Intel Celeron D...|\n",
      "+--------------------+-------+-------------+-------+--------+-------+-------------+--------------------+\n",
      "\n"
     ]
    }
   ],
   "source": [
    "most_expensive_laptops = df.orderBy(df[\"MRP\"].desc()).limit(10)\n",
    "cheapest_laptops = df.orderBy(df[\"Selling_Price\"]).limit(10)\n",
    "most_expensive_laptops.show(truncate=True)\n",
    "cheapest_laptops.show(truncate=True)"
   ]
  },
  {
   "cell_type": "code",
   "execution_count": 41,
   "id": "02c8c4da",
   "metadata": {},
   "outputs": [
    {
     "name": "stdout",
     "output_type": "stream",
     "text": [
      "+--------------------+------+-------------+-------+--------+-------+-------------+--------------------+\n",
      "|                Name| Brand|Selling_Price|    MRP|Discount|Ratings|no_of_ratings|             Details|\n",
      "+--------------------+------+-------------+-------+--------+-------+-------------+--------------------+\n",
      "|Lenovo IdeaPad 3 ...|Lenovo|      36990.0|60890.0|    null|    4.2|         null|['Intel Core i3 P...|\n",
      "+--------------------+------+-------------+-------+--------+-------+-------------+--------------------+\n",
      "only showing top 1 row\n",
      "\n"
     ]
    }
   ],
   "source": [
    "most_discount_laptop = df.orderBy(df[\"Discount\"].desc())\n",
    "most_discount_laptop.show(1)"
   ]
  }
 ],
 "metadata": {
  "kernelspec": {
   "display_name": "Python 3 (ipykernel)",
   "language": "python",
   "name": "python3"
  },
  "language_info": {
   "codemirror_mode": {
    "name": "ipython",
    "version": 3
   },
   "file_extension": ".py",
   "mimetype": "text/x-python",
   "name": "python",
   "nbconvert_exporter": "python",
   "pygments_lexer": "ipython3",
   "version": "3.10.9"
  }
 },
 "nbformat": 4,
 "nbformat_minor": 5
}
