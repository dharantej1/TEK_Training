{
 "cells": [
  {
   "cell_type": "code",
   "execution_count": 9,
   "id": "011f0c0c",
   "metadata": {},
   "outputs": [],
   "source": [
    "from pyspark.sql import SparkSession\n",
    "\n",
    "spark = SparkSession.builder.appName(\"MyApp\").getOrCreate()"
   ]
  },
  {
   "cell_type": "code",
   "execution_count": 10,
   "id": "7da0436a",
   "metadata": {},
   "outputs": [],
   "source": [
    "# read all the CSV files and combine them into a single dataframe\n",
    "path = 'C:/Users/pdharantej/OneDrive - ALLEGIS GROUP/Desktop/TEK_Training/Assignments/Data_Analysis/Spark_SQL/Problem2-dataset/'\n",
    "df_jan = spark.read.option(\"header\",True).csv(path+'Sales_January_01_2021.csv')\n",
    "df_feb = spark.read.option(\"header\",True).csv(path+\"Sales_February_01_2021.csv\")\n",
    "df_mar = spark.read.option(\"header\",True).csv(path+\"Sales_March_01_2021.csv\")\n",
    "df_apr = spark.read.option(\"header\",True).csv(path+\"Sales_April_01__2021.csv\")\n",
    "\n",
    "df_sales = df_jan.union(df_feb).union(df_mar).union(df_apr)\n"
   ]
  },
  {
   "cell_type": "code",
   "execution_count": 11,
   "id": "008f1058",
   "metadata": {},
   "outputs": [
    {
     "name": "stdout",
     "output_type": "stream",
     "text": [
      "+--------+--------------------+----------------+----------+--------------+--------------------+\n",
      "|Order ID|             Product|Quantity Ordered|Price Each|    Order Date|    Purchase Address|\n",
      "+--------+--------------------+----------------+----------+--------------+--------------------+\n",
      "|  141234|              iPhone|               1|       700|01/22/19 21:25|944 Walnut St, Bo...|\n",
      "|  141235|Lightning Chargin...|               1|     14.95|01/28/19 14:15|185 Maple St, Por...|\n",
      "|  141236|    Wired Headphones|               2|     11.99|01/17/19 13:33|538 Adams St, San...|\n",
      "|  141237|    27in FHD Monitor|               1|    149.99|01/05/19 20:33|738 10th St, Los ...|\n",
      "|  141238|    Wired Headphones|               1|     11.99|01/25/19 11:59|387 10th St, Aust...|\n",
      "|  141239|AAA Batteries (4-...|               1|      2.99|01/29/19 20:22|775 Willow St, Sa...|\n",
      "|  141240|27in 4K Gaming Mo...|               1|    389.99|01/26/19 12:16|979 Park St, Los ...|\n",
      "|  141241|USB-C Charging Cable|               1|     11.95|01/05/19 12:04|181 6th St, San F...|\n",
      "|  141242|Bose SoundSport H...|               1|     99.99|01/01/19 10:30|867 Willow St, Lo...|\n",
      "|  141243|Apple Airpods Hea...|               1|       150|01/22/19 21:20|657 Johnson St, S...|\n",
      "|  141244|Apple Airpods Hea...|               1|       150|01/07/19 11:29|492 Walnut St, Sa...|\n",
      "|  141245|  Macbook Pro Laptop|               1|      1700|01/31/19 10:12|322 6th St, San F...|\n",
      "|  141246|AAA Batteries (4-...|               3|      2.99|01/09/19 18:57|618 7th St, Los A...|\n",
      "|  141247|    27in FHD Monitor|               1|    149.99|01/25/19 19:19|512 Wilson St, Sa...|\n",
      "|  141248|       Flatscreen TV|               1|       300|01/03/19 21:54|363 Spruce St, Au...|\n",
      "|  141249|    27in FHD Monitor|               1|    149.99|01/05/19 17:20|440 Cedar St, Por...|\n",
      "|  141250|     Vareebadd Phone|               1|       400|01/10/19 11:20|471 Center St, Lo...|\n",
      "|  141251|Apple Airpods Hea...|               1|       150|01/24/19 08:13|414 Walnut St, Bo...|\n",
      "|  141252|USB-C Charging Cable|               1|     11.95|01/30/19 09:28|220 9th St, Los A...|\n",
      "|  141253|AA Batteries (4-p...|               1|      3.84|01/17/19 00:09|385 11th St, Atla...|\n",
      "+--------+--------------------+----------------+----------+--------------+--------------------+\n",
      "only showing top 20 rows\n",
      "\n"
     ]
    }
   ],
   "source": [
    "df_sales.show()"
   ]
  },
  {
   "cell_type": "code",
   "execution_count": 26,
   "id": "db721e7f",
   "metadata": {},
   "outputs": [
    {
     "name": "stdout",
     "output_type": "stream",
     "text": [
      "+--------+--------------------+----------------+----------+----------+--------------------+-----+------+--------------+----+\n",
      "|Order ID|             Product|Quantity Ordered|Price Each|Order Date|    Purchase Address|Month| Sales|          City|Hour|\n",
      "+--------+--------------------+----------------+----------+----------+--------------------+-----+------+--------------+----+\n",
      "|  141234|              iPhone|               1|       700|2019-01-22|944 Walnut St, Bo...|  Jan| 700.0|        Boston|   0|\n",
      "|  141235|Lightning Chargin...|               1|     14.95|2019-01-28|185 Maple St, Por...|  Jan| 14.95|      Portland|   0|\n",
      "|  141236|    Wired Headphones|               2|     11.99|2019-01-17|538 Adams St, San...|  Jan| 23.98| San Francisco|   0|\n",
      "|  141237|    27in FHD Monitor|               1|    149.99|2019-01-05|738 10th St, Los ...|  Jan|149.99|   Los Angeles|   0|\n",
      "|  141238|    Wired Headphones|               1|     11.99|2019-01-25|387 10th St, Aust...|  Jan| 11.99|        Austin|   0|\n",
      "|  141239|AAA Batteries (4-...|               1|      2.99|2019-01-29|775 Willow St, Sa...|  Jan|  2.99| San Francisco|   0|\n",
      "|  141240|27in 4K Gaming Mo...|               1|    389.99|2019-01-26|979 Park St, Los ...|  Jan|389.99|   Los Angeles|   0|\n",
      "|  141241|USB-C Charging Cable|               1|     11.95|2019-01-05|181 6th St, San F...|  Jan| 11.95| San Francisco|   0|\n",
      "|  141242|Bose SoundSport H...|               1|     99.99|2019-01-01|867 Willow St, Lo...|  Jan| 99.99|   Los Angeles|   0|\n",
      "|  141243|Apple Airpods Hea...|               1|       150|2019-01-22|657 Johnson St, S...|  Jan| 150.0| San Francisco|   0|\n",
      "|  141244|Apple Airpods Hea...|               1|       150|2019-01-07|492 Walnut St, Sa...|  Jan| 150.0| San Francisco|   0|\n",
      "|  141245|  Macbook Pro Laptop|               1|      1700|2019-01-31|322 6th St, San F...|  Jan|1700.0| San Francisco|   0|\n",
      "|  141246|AAA Batteries (4-...|               3|      2.99|2019-01-09|618 7th St, Los A...|  Jan|  8.97|   Los Angeles|   0|\n",
      "|  141247|    27in FHD Monitor|               1|    149.99|2019-01-25|512 Wilson St, Sa...|  Jan|149.99| San Francisco|   0|\n",
      "|  141248|       Flatscreen TV|               1|       300|2019-01-03|363 Spruce St, Au...|  Jan| 300.0|        Austin|   0|\n",
      "|  141249|    27in FHD Monitor|               1|    149.99|2019-01-05|440 Cedar St, Por...|  Jan|149.99|      Portland|   0|\n",
      "|  141250|     Vareebadd Phone|               1|       400|2019-01-10|471 Center St, Lo...|  Jan| 400.0|   Los Angeles|   0|\n",
      "|  141251|Apple Airpods Hea...|               1|       150|2019-01-24|414 Walnut St, Bo...|  Jan| 150.0|        Boston|   0|\n",
      "|  141252|USB-C Charging Cable|               1|     11.95|2019-01-30|220 9th St, Los A...|  Jan| 11.95|   Los Angeles|   0|\n",
      "|  141253|AA Batteries (4-p...|               1|      3.84|2019-01-17|385 11th St, Atla...|  Jan|  3.84|       Atlanta|   0|\n",
      "+--------+--------------------+----------------+----------+----------+--------------------+-----+------+--------------+----+\n",
      "only showing top 20 rows\n",
      "\n"
     ]
    }
   ],
   "source": [
    "from pyspark.sql.functions import month, to_date\n",
    "\n",
    "df_sales = df_sales.withColumn(\"Order Date\", to_date(\"Order Date\", \"MM/dd/yy HH:mm\"))\n",
    "df_sales = df_sales.withColumn(\"Month\", month(\"Order Date\"))\n",
    "df_sales = df_sales.withColumn('Month', date_format('Order Date', 'MMM'))\n",
    "df_sales.show()\n"
   ]
  },
  {
   "cell_type": "code",
   "execution_count": 27,
   "id": "84c6654c",
   "metadata": {},
   "outputs": [
    {
     "name": "stdout",
     "output_type": "stream",
     "text": [
      "+--------+--------------------+----------------+----------+----------+--------------------+-----+------+--------------+----+\n",
      "|Order ID|             Product|Quantity Ordered|Price Each|Order Date|    Purchase Address|Month| Sales|          City|Hour|\n",
      "+--------+--------------------+----------------+----------+----------+--------------------+-----+------+--------------+----+\n",
      "|  141234|              iPhone|               1|       700|2019-01-22|944 Walnut St, Bo...|  Jan| 700.0|        Boston|   0|\n",
      "|  141235|Lightning Chargin...|               1|     14.95|2019-01-28|185 Maple St, Por...|  Jan| 14.95|      Portland|   0|\n",
      "|  141236|    Wired Headphones|               2|     11.99|2019-01-17|538 Adams St, San...|  Jan| 23.98| San Francisco|   0|\n",
      "|  141237|    27in FHD Monitor|               1|    149.99|2019-01-05|738 10th St, Los ...|  Jan|149.99|   Los Angeles|   0|\n",
      "|  141238|    Wired Headphones|               1|     11.99|2019-01-25|387 10th St, Aust...|  Jan| 11.99|        Austin|   0|\n",
      "|  141239|AAA Batteries (4-...|               1|      2.99|2019-01-29|775 Willow St, Sa...|  Jan|  2.99| San Francisco|   0|\n",
      "|  141240|27in 4K Gaming Mo...|               1|    389.99|2019-01-26|979 Park St, Los ...|  Jan|389.99|   Los Angeles|   0|\n",
      "|  141241|USB-C Charging Cable|               1|     11.95|2019-01-05|181 6th St, San F...|  Jan| 11.95| San Francisco|   0|\n",
      "|  141242|Bose SoundSport H...|               1|     99.99|2019-01-01|867 Willow St, Lo...|  Jan| 99.99|   Los Angeles|   0|\n",
      "|  141243|Apple Airpods Hea...|               1|       150|2019-01-22|657 Johnson St, S...|  Jan| 150.0| San Francisco|   0|\n",
      "|  141244|Apple Airpods Hea...|               1|       150|2019-01-07|492 Walnut St, Sa...|  Jan| 150.0| San Francisco|   0|\n",
      "|  141245|  Macbook Pro Laptop|               1|      1700|2019-01-31|322 6th St, San F...|  Jan|1700.0| San Francisco|   0|\n",
      "|  141246|AAA Batteries (4-...|               3|      2.99|2019-01-09|618 7th St, Los A...|  Jan|  8.97|   Los Angeles|   0|\n",
      "|  141247|    27in FHD Monitor|               1|    149.99|2019-01-25|512 Wilson St, Sa...|  Jan|149.99| San Francisco|   0|\n",
      "|  141248|       Flatscreen TV|               1|       300|2019-01-03|363 Spruce St, Au...|  Jan| 300.0|        Austin|   0|\n",
      "|  141249|    27in FHD Monitor|               1|    149.99|2019-01-05|440 Cedar St, Por...|  Jan|149.99|      Portland|   0|\n",
      "|  141250|     Vareebadd Phone|               1|       400|2019-01-10|471 Center St, Lo...|  Jan| 400.0|   Los Angeles|   0|\n",
      "|  141251|Apple Airpods Hea...|               1|       150|2019-01-24|414 Walnut St, Bo...|  Jan| 150.0|        Boston|   0|\n",
      "|  141252|USB-C Charging Cable|               1|     11.95|2019-01-30|220 9th St, Los A...|  Jan| 11.95|   Los Angeles|   0|\n",
      "|  141253|AA Batteries (4-p...|               1|      3.84|2019-01-17|385 11th St, Atla...|  Jan|  3.84|       Atlanta|   0|\n",
      "+--------+--------------------+----------------+----------+----------+--------------------+-----+------+--------------+----+\n",
      "only showing top 20 rows\n",
      "\n"
     ]
    }
   ],
   "source": [
    "from pyspark.sql.functions import col\n",
    "\n",
    "df_sales = df_sales.withColumn(\"Sales\", col(\"Quantity Ordered\") * col(\"Price Each\"))\n",
    "df_sales.show()"
   ]
  },
  {
   "cell_type": "code",
   "execution_count": 28,
   "id": "43364f1f",
   "metadata": {},
   "outputs": [
    {
     "name": "stdout",
     "output_type": "stream",
     "text": [
      "+--------+--------------------+----------------+----------+----------+--------------------+-----+------+--------------+----+\n",
      "|Order ID|             Product|Quantity Ordered|Price Each|Order Date|    Purchase Address|Month| Sales|          City|Hour|\n",
      "+--------+--------------------+----------------+----------+----------+--------------------+-----+------+--------------+----+\n",
      "|  141234|              iPhone|               1|       700|2019-01-22|944 Walnut St, Bo...|  Jan| 700.0|        Boston|   0|\n",
      "|  141235|Lightning Chargin...|               1|     14.95|2019-01-28|185 Maple St, Por...|  Jan| 14.95|      Portland|   0|\n",
      "|  141236|    Wired Headphones|               2|     11.99|2019-01-17|538 Adams St, San...|  Jan| 23.98| San Francisco|   0|\n",
      "|  141237|    27in FHD Monitor|               1|    149.99|2019-01-05|738 10th St, Los ...|  Jan|149.99|   Los Angeles|   0|\n",
      "|  141238|    Wired Headphones|               1|     11.99|2019-01-25|387 10th St, Aust...|  Jan| 11.99|        Austin|   0|\n",
      "|  141239|AAA Batteries (4-...|               1|      2.99|2019-01-29|775 Willow St, Sa...|  Jan|  2.99| San Francisco|   0|\n",
      "|  141240|27in 4K Gaming Mo...|               1|    389.99|2019-01-26|979 Park St, Los ...|  Jan|389.99|   Los Angeles|   0|\n",
      "|  141241|USB-C Charging Cable|               1|     11.95|2019-01-05|181 6th St, San F...|  Jan| 11.95| San Francisco|   0|\n",
      "|  141242|Bose SoundSport H...|               1|     99.99|2019-01-01|867 Willow St, Lo...|  Jan| 99.99|   Los Angeles|   0|\n",
      "|  141243|Apple Airpods Hea...|               1|       150|2019-01-22|657 Johnson St, S...|  Jan| 150.0| San Francisco|   0|\n",
      "|  141244|Apple Airpods Hea...|               1|       150|2019-01-07|492 Walnut St, Sa...|  Jan| 150.0| San Francisco|   0|\n",
      "|  141245|  Macbook Pro Laptop|               1|      1700|2019-01-31|322 6th St, San F...|  Jan|1700.0| San Francisco|   0|\n",
      "|  141246|AAA Batteries (4-...|               3|      2.99|2019-01-09|618 7th St, Los A...|  Jan|  8.97|   Los Angeles|   0|\n",
      "|  141247|    27in FHD Monitor|               1|    149.99|2019-01-25|512 Wilson St, Sa...|  Jan|149.99| San Francisco|   0|\n",
      "|  141248|       Flatscreen TV|               1|       300|2019-01-03|363 Spruce St, Au...|  Jan| 300.0|        Austin|   0|\n",
      "|  141249|    27in FHD Monitor|               1|    149.99|2019-01-05|440 Cedar St, Por...|  Jan|149.99|      Portland|   0|\n",
      "|  141250|     Vareebadd Phone|               1|       400|2019-01-10|471 Center St, Lo...|  Jan| 400.0|   Los Angeles|   0|\n",
      "|  141251|Apple Airpods Hea...|               1|       150|2019-01-24|414 Walnut St, Bo...|  Jan| 150.0|        Boston|   0|\n",
      "|  141252|USB-C Charging Cable|               1|     11.95|2019-01-30|220 9th St, Los A...|  Jan| 11.95|   Los Angeles|   0|\n",
      "|  141253|AA Batteries (4-p...|               1|      3.84|2019-01-17|385 11th St, Atla...|  Jan|  3.84|       Atlanta|   0|\n",
      "+--------+--------------------+----------------+----------+----------+--------------------+-----+------+--------------+----+\n",
      "only showing top 20 rows\n",
      "\n"
     ]
    }
   ],
   "source": [
    "from pyspark.sql.functions import split\n",
    "\n",
    "df_sales = df_sales.withColumn(\"City\", split(col(\"Purchase Address\"), \",\")[1])\n",
    "df_sales.show()"
   ]
  },
  {
   "cell_type": "code",
   "execution_count": 29,
   "id": "e2666554",
   "metadata": {},
   "outputs": [
    {
     "name": "stdout",
     "output_type": "stream",
     "text": [
      "+-----+------------------+\n",
      "|Month|       Total Sales|\n",
      "+-----+------------------+\n",
      "|  Apr|3390670.2400007015|\n",
      "|  Mar|2807100.3800003603|\n",
      "|  Feb| 2202022.419999963|\n",
      "|  Jan|1813586.4399999138|\n",
      "|  May|10559.289999999999|\n",
      "| null|              null|\n",
      "+-----+------------------+\n",
      "\n"
     ]
    }
   ],
   "source": [
    "# 1. What was the best month for sales? \n",
    "\n",
    "\n",
    "from pyspark.sql.functions import month, sum\n",
    "\n",
    "sales_by_month = df_sales.groupBy(\"Month\").agg(sum(\"Sales\").alias(\"Total Sales\"))\n",
    "sales_by_month.orderBy(\"Total Sales\", ascending=False).show()\n"
   ]
  },
  {
   "cell_type": "code",
   "execution_count": 30,
   "id": "cb3816f9",
   "metadata": {},
   "outputs": [
    {
     "name": "stdout",
     "output_type": "stream",
     "text": [
      "The month with the highest sales was Apr, with total sales of 3390670.2400007015.\n"
     ]
    }
   ],
   "source": [
    "# 2. How much was earned the month that had highest sales?\n",
    "\n",
    "\n",
    "from pyspark.sql.functions import month, sum\n",
    "\n",
    "sales_by_month = df_sales.groupBy(\"Month\").agg(sum(\"Sales\").alias(\"Total Sales\"))\n",
    "best_month = sales_by_month.orderBy(\"Total Sales\", ascending=False).first()\n",
    "\n",
    "print(f\"The month with the highest sales was {best_month['Month']}, with total sales of {best_month['Total Sales']}.\")\n"
   ]
  },
  {
   "cell_type": "code",
   "execution_count": 31,
   "id": "5880cfe2",
   "metadata": {},
   "outputs": [
    {
     "name": "stdout",
     "output_type": "stream",
     "text": [
      "The city with the highest sales was  San Francisco, with total sales of 2490980.509999955.\n"
     ]
    }
   ],
   "source": [
    "# 3. What city has the highest sales?\n",
    "\n",
    "\n",
    "\n",
    "from pyspark.sql.functions import sum\n",
    "\n",
    "sales_by_city = df_sales.groupBy(\"City\").agg(sum(\"Sales\").alias(\"Total Sales\"))\n",
    "best_city = sales_by_city.orderBy(\"Total Sales\", ascending=False).first()\n",
    "\n",
    "print(f\"The city with the highest sales was {best_city['City']}, with total sales of {best_city['Total Sales']}.\")\n"
   ]
  },
  {
   "cell_type": "code",
   "execution_count": 32,
   "id": "493e9b3b",
   "metadata": {},
   "outputs": [
    {
     "name": "stdout",
     "output_type": "stream",
     "text": [
      "+----+-----+\n",
      "|Hour|count|\n",
      "+----+-----+\n",
      "|null|  258|\n",
      "|   0|55110|\n",
      "+----+-----+\n",
      "\n"
     ]
    }
   ],
   "source": [
    "# 4. What time should we display advertisements to maximize likehood of \n",
    "# customers buying products?\n",
    "\n",
    "\n",
    "from pyspark.sql.functions import hour\n",
    "\n",
    "# Extract the hour from the \"Order Date\" column\n",
    "df_sales = df_sales.withColumn(\"Hour\", hour(\"Order Date\"))\n",
    "\n",
    "# Group the data by hour and count the number of orders for each hour\n",
    "df_hourly_orders = df_sales.groupBy(\"Hour\").count().orderBy(\"Hour\")\n",
    "\n",
    "# Show the results\n",
    "df_hourly_orders.show()\n"
   ]
  },
  {
   "cell_type": "code",
   "execution_count": 33,
   "id": "ac6d51a2",
   "metadata": {},
   "outputs": [],
   "source": [
    "# 5. What products are most often sold together?\n",
    "\n",
    "\n",
    "\n",
    "concat_udf = udf(lambda x: ', '.join(sorted(x)), StringType())\n",
    "df_sales = df_sales.withColumn('Products', concat_ws(',', 'Product', 'Order ID'))\n",
    "order_products = df_sales.groupBy('Order ID').agg(collect_set('Products').alias('Product_Sets'))"
   ]
  },
  {
   "cell_type": "code",
   "execution_count": 35,
   "id": "4b4c21c6",
   "metadata": {},
   "outputs": [
    {
     "name": "stdout",
     "output_type": "stream",
     "text": [
      "+--------+---------------------------------+\n",
      "|Order ID|Product_Sets                     |\n",
      "+--------+---------------------------------+\n",
      "|null    |[]                               |\n",
      "|141234  |[iPhone,141234]                  |\n",
      "|141235  |[Lightning Charging Cable,141235]|\n",
      "|141236  |[Wired Headphones,141236]        |\n",
      "|141237  |[27in FHD Monitor,141237]        |\n",
      "+--------+---------------------------------+\n",
      "only showing top 5 rows\n",
      "\n"
     ]
    }
   ],
   "source": [
    "order_products.show(5,truncate=False)"
   ]
  },
  {
   "cell_type": "code",
   "execution_count": 38,
   "id": "e248272a",
   "metadata": {},
   "outputs": [],
   "source": [
    "product_pairs = order_products.selectExpr('Product_Sets as products')\\\n",
    "                                .groupBy('products').count()\\\n",
    "                                .orderBy('count', ascending=False)"
   ]
  },
  {
   "cell_type": "code",
   "execution_count": 39,
   "id": "e2fa10db",
   "metadata": {},
   "outputs": [
    {
     "name": "stdout",
     "output_type": "stream",
     "text": [
      "+---------------------------------------------------------------------------+-----+\n",
      "|products                                                                   |count|\n",
      "+---------------------------------------------------------------------------+-----+\n",
      "|[iPhone,141336]                                                            |1    |\n",
      "|[Wired Headphones,142223]                                                  |1    |\n",
      "|[Wired Headphones,142287, Google Phone,142287, USB-C Charging Cable,142287]|1    |\n",
      "|[AAA Batteries (4-pack),142452]                                            |1    |\n",
      "|[USB-C Charging Cable,142577]                                              |1    |\n",
      "+---------------------------------------------------------------------------+-----+\n",
      "only showing top 5 rows\n",
      "\n"
     ]
    }
   ],
   "source": [
    "product_pairs.show(5, truncate=False)"
   ]
  },
  {
   "cell_type": "code",
   "execution_count": 41,
   "id": "b2be8715",
   "metadata": {},
   "outputs": [
    {
     "name": "stdout",
     "output_type": "stream",
     "text": [
      "The most sold product is: AAA Batteries (4-pack)\n"
     ]
    }
   ],
   "source": [
    "# 6. What product sold the most? \n",
    "\n",
    "\n",
    "from pyspark.sql.functions import sum\n",
    "\n",
    "# Group the sales by product and sum the quantities\n",
    "df_sales_by_product = df_sales.groupBy(\"Product\").agg(sum(\"Quantity Ordered\").alias(\"TotalQuantity\"))\n",
    "\n",
    "# Sort the products by total quantity sold in descending order\n",
    "df_sales_by_product = df_sales_by_product.orderBy(\"TotalQuantity\", ascending=False)\n",
    "\n",
    "# Print the product with the highest total quantity sold\n",
    "most_sold_product = df_sales_by_product.select(\"Product\").first()[0]\n",
    "print(\"The most sold product is:\", most_sold_product)\n"
   ]
  },
  {
   "cell_type": "code",
   "execution_count": null,
   "id": "4fff01d0",
   "metadata": {},
   "outputs": [],
   "source": []
  }
 ],
 "metadata": {
  "kernelspec": {
   "display_name": "Python 3 (ipykernel)",
   "language": "python",
   "name": "python3"
  },
  "language_info": {
   "codemirror_mode": {
    "name": "ipython",
    "version": 3
   },
   "file_extension": ".py",
   "mimetype": "text/x-python",
   "name": "python",
   "nbconvert_exporter": "python",
   "pygments_lexer": "ipython3",
   "version": "3.9.13"
  }
 },
 "nbformat": 4,
 "nbformat_minor": 5
}
