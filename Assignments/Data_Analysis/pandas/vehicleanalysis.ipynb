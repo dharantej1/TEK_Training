{
 "cells": [
  {
   "cell_type": "code",
   "execution_count": 41,
   "id": "937e695e",
   "metadata": {},
   "outputs": [],
   "source": [
    "import pandas as pd\n",
    "import numpy as np\n",
    "import matplotlib.pyplot as plt"
   ]
  },
  {
   "cell_type": "code",
   "execution_count": 2,
   "id": "3c81c37e",
   "metadata": {},
   "outputs": [
    {
     "data": {
      "text/html": [
       "<div>\n",
       "<style scoped>\n",
       "    .dataframe tbody tr th:only-of-type {\n",
       "        vertical-align: middle;\n",
       "    }\n",
       "\n",
       "    .dataframe tbody tr th {\n",
       "        vertical-align: top;\n",
       "    }\n",
       "\n",
       "    .dataframe thead th {\n",
       "        text-align: right;\n",
       "    }\n",
       "</style>\n",
       "<table border=\"1\" class=\"dataframe\">\n",
       "  <thead>\n",
       "    <tr style=\"text-align: right;\">\n",
       "      <th></th>\n",
       "      <th>VIN (1-10)</th>\n",
       "      <th>County</th>\n",
       "      <th>City</th>\n",
       "      <th>State</th>\n",
       "      <th>Postal Code</th>\n",
       "      <th>Model Year</th>\n",
       "      <th>Make</th>\n",
       "      <th>Model</th>\n",
       "      <th>Electric Vehicle Type</th>\n",
       "      <th>Clean Alternative Fuel Vehicle (CAFV) Eligibility</th>\n",
       "      <th>Electric Range</th>\n",
       "      <th>Base MSRP</th>\n",
       "      <th>Legislative District</th>\n",
       "      <th>DOL Vehicle ID</th>\n",
       "      <th>Vehicle Location</th>\n",
       "      <th>Electric Utility</th>\n",
       "      <th>2020 Census Tract</th>\n",
       "    </tr>\n",
       "  </thead>\n",
       "  <tbody>\n",
       "    <tr>\n",
       "      <th>0</th>\n",
       "      <td>5YJ3E1EB2J</td>\n",
       "      <td>Suffolk</td>\n",
       "      <td>Suffolk</td>\n",
       "      <td>VA</td>\n",
       "      <td>23435.0</td>\n",
       "      <td>2018</td>\n",
       "      <td>TESLA</td>\n",
       "      <td>MODEL 3</td>\n",
       "      <td>Battery Electric Vehicle (BEV)</td>\n",
       "      <td>Clean Alternative Fuel Vehicle Eligible</td>\n",
       "      <td>215</td>\n",
       "      <td>0</td>\n",
       "      <td>NaN</td>\n",
       "      <td>476647986</td>\n",
       "      <td>POINT (-76.42443 36.8752)</td>\n",
       "      <td>NaN</td>\n",
       "      <td>5.180008e+10</td>\n",
       "    </tr>\n",
       "    <tr>\n",
       "      <th>1</th>\n",
       "      <td>5YJ3E1ECXL</td>\n",
       "      <td>Yakima</td>\n",
       "      <td>Yakima</td>\n",
       "      <td>WA</td>\n",
       "      <td>98908.0</td>\n",
       "      <td>2020</td>\n",
       "      <td>TESLA</td>\n",
       "      <td>MODEL 3</td>\n",
       "      <td>Battery Electric Vehicle (BEV)</td>\n",
       "      <td>Clean Alternative Fuel Vehicle Eligible</td>\n",
       "      <td>308</td>\n",
       "      <td>0</td>\n",
       "      <td>14.0</td>\n",
       "      <td>103490145</td>\n",
       "      <td>POINT (-120.56916 46.58514)</td>\n",
       "      <td>PACIFICORP</td>\n",
       "      <td>5.307700e+10</td>\n",
       "    </tr>\n",
       "    <tr>\n",
       "      <th>2</th>\n",
       "      <td>WA1LAAGE7M</td>\n",
       "      <td>Yakima</td>\n",
       "      <td>Yakima</td>\n",
       "      <td>WA</td>\n",
       "      <td>98908.0</td>\n",
       "      <td>2021</td>\n",
       "      <td>AUDI</td>\n",
       "      <td>E-TRON</td>\n",
       "      <td>Battery Electric Vehicle (BEV)</td>\n",
       "      <td>Clean Alternative Fuel Vehicle Eligible</td>\n",
       "      <td>222</td>\n",
       "      <td>0</td>\n",
       "      <td>14.0</td>\n",
       "      <td>144941534</td>\n",
       "      <td>POINT (-120.56916 46.58514)</td>\n",
       "      <td>PACIFICORP</td>\n",
       "      <td>5.307700e+10</td>\n",
       "    </tr>\n",
       "    <tr>\n",
       "      <th>3</th>\n",
       "      <td>5YJ3E1EA1K</td>\n",
       "      <td>Danville</td>\n",
       "      <td>Danville</td>\n",
       "      <td>VA</td>\n",
       "      <td>24541.0</td>\n",
       "      <td>2019</td>\n",
       "      <td>TESLA</td>\n",
       "      <td>MODEL 3</td>\n",
       "      <td>Battery Electric Vehicle (BEV)</td>\n",
       "      <td>Clean Alternative Fuel Vehicle Eligible</td>\n",
       "      <td>220</td>\n",
       "      <td>0</td>\n",
       "      <td>NaN</td>\n",
       "      <td>168513922</td>\n",
       "      <td>POINT (-79.4172 36.58598)</td>\n",
       "      <td>NaN</td>\n",
       "      <td>5.159000e+10</td>\n",
       "    </tr>\n",
       "    <tr>\n",
       "      <th>4</th>\n",
       "      <td>1FADP5CU9E</td>\n",
       "      <td>Norfolk</td>\n",
       "      <td>Norfolk</td>\n",
       "      <td>VA</td>\n",
       "      <td>23518.0</td>\n",
       "      <td>2014</td>\n",
       "      <td>FORD</td>\n",
       "      <td>C-MAX</td>\n",
       "      <td>Plug-in Hybrid Electric Vehicle (PHEV)</td>\n",
       "      <td>Not eligible due to low battery range</td>\n",
       "      <td>19</td>\n",
       "      <td>0</td>\n",
       "      <td>NaN</td>\n",
       "      <td>150749378</td>\n",
       "      <td>POINT (-76.21549 36.92478)</td>\n",
       "      <td>NaN</td>\n",
       "      <td>5.171001e+10</td>\n",
       "    </tr>\n",
       "  </tbody>\n",
       "</table>\n",
       "</div>"
      ],
      "text/plain": [
       "   VIN (1-10)    County      City State  Postal Code  Model Year   Make  \\\n",
       "0  5YJ3E1EB2J   Suffolk   Suffolk    VA      23435.0        2018  TESLA   \n",
       "1  5YJ3E1ECXL    Yakima    Yakima    WA      98908.0        2020  TESLA   \n",
       "2  WA1LAAGE7M    Yakima    Yakima    WA      98908.0        2021   AUDI   \n",
       "3  5YJ3E1EA1K  Danville  Danville    VA      24541.0        2019  TESLA   \n",
       "4  1FADP5CU9E   Norfolk   Norfolk    VA      23518.0        2014   FORD   \n",
       "\n",
       "     Model                   Electric Vehicle Type  \\\n",
       "0  MODEL 3          Battery Electric Vehicle (BEV)   \n",
       "1  MODEL 3          Battery Electric Vehicle (BEV)   \n",
       "2   E-TRON          Battery Electric Vehicle (BEV)   \n",
       "3  MODEL 3          Battery Electric Vehicle (BEV)   \n",
       "4    C-MAX  Plug-in Hybrid Electric Vehicle (PHEV)   \n",
       "\n",
       "  Clean Alternative Fuel Vehicle (CAFV) Eligibility  Electric Range  \\\n",
       "0           Clean Alternative Fuel Vehicle Eligible             215   \n",
       "1           Clean Alternative Fuel Vehicle Eligible             308   \n",
       "2           Clean Alternative Fuel Vehicle Eligible             222   \n",
       "3           Clean Alternative Fuel Vehicle Eligible             220   \n",
       "4             Not eligible due to low battery range              19   \n",
       "\n",
       "   Base MSRP  Legislative District  DOL Vehicle ID  \\\n",
       "0          0                   NaN       476647986   \n",
       "1          0                  14.0       103490145   \n",
       "2          0                  14.0       144941534   \n",
       "3          0                   NaN       168513922   \n",
       "4          0                   NaN       150749378   \n",
       "\n",
       "              Vehicle Location Electric Utility  2020 Census Tract  \n",
       "0    POINT (-76.42443 36.8752)              NaN       5.180008e+10  \n",
       "1  POINT (-120.56916 46.58514)       PACIFICORP       5.307700e+10  \n",
       "2  POINT (-120.56916 46.58514)       PACIFICORP       5.307700e+10  \n",
       "3    POINT (-79.4172 36.58598)              NaN       5.159000e+10  \n",
       "4   POINT (-76.21549 36.92478)              NaN       5.171001e+10  "
      ]
     },
     "execution_count": 2,
     "metadata": {},
     "output_type": "execute_result"
    }
   ],
   "source": [
    "# 1 Read the file as csv\n",
    "df=pd.read_csv('./Electric_Vehicle_Population_Data.csv')\n",
    "df.head()"
   ]
  },
  {
   "cell_type": "code",
   "execution_count": 3,
   "id": "485145c3",
   "metadata": {},
   "outputs": [
    {
     "data": {
      "text/plain": [
       "VIN (1-10)                                           121978\n",
       "County                                               121976\n",
       "City                                                 121976\n",
       "State                                                121978\n",
       "Postal Code                                          121976\n",
       "Model Year                                           121978\n",
       "Make                                                 121978\n",
       "Model                                                121874\n",
       "Electric Vehicle Type                                121978\n",
       "Clean Alternative Fuel Vehicle (CAFV) Eligibility    121978\n",
       "Electric Range                                       121978\n",
       "Base MSRP                                            121978\n",
       "Legislative District                                 121681\n",
       "DOL Vehicle ID                                       121978\n",
       "Vehicle Location                                     121946\n",
       "Electric Utility                                     121509\n",
       "2020 Census Tract                                    121976\n",
       "dtype: int64"
      ]
     },
     "execution_count": 3,
     "metadata": {},
     "output_type": "execute_result"
    }
   ],
   "source": [
    "df.count()"
   ]
  },
  {
   "cell_type": "code",
   "execution_count": 4,
   "id": "32e395c6",
   "metadata": {},
   "outputs": [
    {
     "data": {
      "text/plain": [
       "Index(['VIN (1-10)', 'County', 'City', 'State', 'Postal Code', 'Model Year',\n",
       "       'Make', 'Model', 'Electric Vehicle Type',\n",
       "       'Clean Alternative Fuel Vehicle (CAFV) Eligibility', 'Electric Range',\n",
       "       'Base MSRP', 'Legislative District', 'DOL Vehicle ID',\n",
       "       'Vehicle Location', 'Electric Utility', '2020 Census Tract'],\n",
       "      dtype='object')"
      ]
     },
     "execution_count": 4,
     "metadata": {},
     "output_type": "execute_result"
    }
   ],
   "source": [
    "df.columns"
   ]
  },
  {
   "cell_type": "code",
   "execution_count": 5,
   "id": "bbd65e40",
   "metadata": {},
   "outputs": [
    {
     "data": {
      "text/plain": [
       "(121978, 17)"
      ]
     },
     "execution_count": 5,
     "metadata": {},
     "output_type": "execute_result"
    }
   ],
   "source": [
    "# 2  Find the number of rows and columns present in the pandas dataframe\n",
    "df.shape"
   ]
  },
  {
   "cell_type": "code",
   "execution_count": 6,
   "id": "7b64937f",
   "metadata": {},
   "outputs": [
    {
     "name": "stdout",
     "output_type": "stream",
     "text": [
      "VIN (1-10)                                            object\n",
      "County                                                object\n",
      "City                                                  object\n",
      "State                                                 object\n",
      "Postal Code                                          float64\n",
      "Model Year                                             int64\n",
      "Make                                                  object\n",
      "Model                                                 object\n",
      "Electric Vehicle Type                                 object\n",
      "Clean Alternative Fuel Vehicle (CAFV) Eligibility     object\n",
      "Electric Range                                         int64\n",
      "Base MSRP                                              int64\n",
      "Legislative District                                 float64\n",
      "DOL Vehicle ID                                         int64\n",
      "Vehicle Location                                      object\n",
      "Electric Utility                                      object\n",
      "2020 Census Tract                                    float64\n",
      "dtype: object\n",
      "int64\n"
     ]
    }
   ],
   "source": [
    "# 3 Identify the data types present in the column\n",
    "print(df.dtypes)\n",
    "print(df.dtypes[5])"
   ]
  },
  {
   "cell_type": "code",
   "execution_count": 7,
   "id": "0141a4fc",
   "metadata": {},
   "outputs": [
    {
     "name": "stdout",
     "output_type": "stream",
     "text": [
      "Categorical: ['VIN (1-10)', 'County', 'City', 'State', 'Make', 'Model', 'Electric Vehicle Type', 'Clean Alternative Fuel Vehicle (CAFV) Eligibility', 'Vehicle Location', 'Electric Utility']\n",
      "\n",
      "Numerical: ['Postal Code', 'Model Year', 'Electric Range', 'Base MSRP', 'Legislative District', 'DOL Vehicle ID', '2020 Census Tract']\n"
     ]
    }
   ],
   "source": [
    "# 4\n",
    "categorical, numerical=[], []\n",
    "\n",
    "for i,j in zip(df.columns,df.dtypes):\n",
    "    if j=='float64' or j=='int64':\n",
    "        numerical.append(i)\n",
    "    else:\n",
    "        categorical.append(i)\n",
    "print(\"Categorical: {}\\n\\nNumerical: {}\".format(categorical, numerical))"
   ]
  },
  {
   "cell_type": "markdown",
   "id": "d9005fdb",
   "metadata": {},
   "source": [
    "# OR"
   ]
  },
  {
   "cell_type": "code",
   "execution_count": 8,
   "id": "0c9b0d11",
   "metadata": {},
   "outputs": [
    {
     "name": "stdout",
     "output_type": "stream",
     "text": [
      "Categorical: ['VIN (1-10)', 'County', 'City', 'State', 'Make', 'Model', 'Electric Vehicle Type', 'Clean Alternative Fuel Vehicle (CAFV) Eligibility', 'Vehicle Location', 'Electric Utility']\n",
      "\n",
      "Numerical: ['Postal Code', 'Model Year', 'Electric Range', 'Base MSRP', 'Legislative District', 'DOL Vehicle ID', '2020 Census Tract']\n"
     ]
    }
   ],
   "source": [
    "# 4 How many of the columns are numeric and how many of the columns are categorical\n",
    "\n",
    "categorical=[i for i,j in zip(df.columns,df.dtypes) if j=='object']\n",
    "numerical = [i for i,j in zip(df.columns,df.dtypes) if j=='float64' or j=='int64']\n",
    "print(\"Categorical: {}\\n\\nNumerical: {}\".format(categorical, numerical))"
   ]
  },
  {
   "cell_type": "code",
   "execution_count": 92,
   "id": "a41e4bf6",
   "metadata": {},
   "outputs": [
    {
     "name": "stdout",
     "output_type": "stream",
     "text": [
      "Null values in 'VIN (1-10)' ? : No\n",
      "Null values in 'County' ? : No\n",
      "Null values in 'City' ? : No\n",
      "Null values in 'State' ? : No\n",
      "Null values in 'Postal Code' ? : No\n",
      "Null values in 'Model Year' ? : No\n",
      "Null values in 'Make' ? : No\n",
      "Null values in 'Model' ? : No\n",
      "Null values in 'Electric Vehicle Type' ? : No\n",
      "Null values in 'Clean Alternative Fuel Vehicle (CAFV) Eligibility' ? : No\n",
      "Null values in 'Electric Range' ? : No\n",
      "Null values in 'Base MSRP' ? : No\n",
      "Null values in 'Legislative District' ? : No\n",
      "Null values in 'DOL Vehicle ID' ? : No\n",
      "Null values in 'Vehicle Location' ? : No\n",
      "Null values in 'Electric Utility' ? : No\n",
      "Null values in '2020 Census Tract' ? : No\n"
     ]
    },
    {
     "data": {
      "text/html": [
       "<div>\n",
       "<style scoped>\n",
       "    .dataframe tbody tr th:only-of-type {\n",
       "        vertical-align: middle;\n",
       "    }\n",
       "\n",
       "    .dataframe tbody tr th {\n",
       "        vertical-align: top;\n",
       "    }\n",
       "\n",
       "    .dataframe thead th {\n",
       "        text-align: right;\n",
       "    }\n",
       "</style>\n",
       "<table border=\"1\" class=\"dataframe\">\n",
       "  <thead>\n",
       "    <tr style=\"text-align: right;\">\n",
       "      <th></th>\n",
       "      <th>Postal Code</th>\n",
       "      <th>Model Year</th>\n",
       "      <th>Electric Range</th>\n",
       "      <th>Base MSRP</th>\n",
       "      <th>Legislative District</th>\n",
       "      <th>DOL Vehicle ID</th>\n",
       "      <th>2020 Census Tract</th>\n",
       "    </tr>\n",
       "  </thead>\n",
       "  <tbody>\n",
       "    <tr>\n",
       "      <th>count</th>\n",
       "      <td>121976.000000</td>\n",
       "      <td>121978.00000</td>\n",
       "      <td>121978.000000</td>\n",
       "      <td>121978.000000</td>\n",
       "      <td>121681.000000</td>\n",
       "      <td>1.219780e+05</td>\n",
       "      <td>1.219760e+05</td>\n",
       "    </tr>\n",
       "    <tr>\n",
       "      <th>mean</th>\n",
       "      <td>98159.128451</td>\n",
       "      <td>2019.30890</td>\n",
       "      <td>81.301407</td>\n",
       "      <td>1627.059798</td>\n",
       "      <td>29.738760</td>\n",
       "      <td>2.029409e+08</td>\n",
       "      <td>5.297007e+10</td>\n",
       "    </tr>\n",
       "    <tr>\n",
       "      <th>std</th>\n",
       "      <td>2602.756790</td>\n",
       "      <td>2.95635</td>\n",
       "      <td>100.890849</td>\n",
       "      <td>10267.478923</td>\n",
       "      <td>14.737141</td>\n",
       "      <td>8.979138e+07</td>\n",
       "      <td>1.659161e+09</td>\n",
       "    </tr>\n",
       "    <tr>\n",
       "      <th>min</th>\n",
       "      <td>1730.000000</td>\n",
       "      <td>1997.00000</td>\n",
       "      <td>0.000000</td>\n",
       "      <td>0.000000</td>\n",
       "      <td>1.000000</td>\n",
       "      <td>4.385000e+03</td>\n",
       "      <td>1.081042e+09</td>\n",
       "    </tr>\n",
       "    <tr>\n",
       "      <th>25%</th>\n",
       "      <td>98052.000000</td>\n",
       "      <td>2018.00000</td>\n",
       "      <td>0.000000</td>\n",
       "      <td>0.000000</td>\n",
       "      <td>18.000000</td>\n",
       "      <td>1.523397e+08</td>\n",
       "      <td>5.303301e+10</td>\n",
       "    </tr>\n",
       "    <tr>\n",
       "      <th>50%</th>\n",
       "      <td>98121.000000</td>\n",
       "      <td>2020.00000</td>\n",
       "      <td>25.000000</td>\n",
       "      <td>0.000000</td>\n",
       "      <td>34.000000</td>\n",
       "      <td>1.967532e+08</td>\n",
       "      <td>5.303303e+10</td>\n",
       "    </tr>\n",
       "    <tr>\n",
       "      <th>75%</th>\n",
       "      <td>98370.000000</td>\n",
       "      <td>2022.00000</td>\n",
       "      <td>200.000000</td>\n",
       "      <td>0.000000</td>\n",
       "      <td>43.000000</td>\n",
       "      <td>2.258338e+08</td>\n",
       "      <td>5.305307e+10</td>\n",
       "    </tr>\n",
       "    <tr>\n",
       "      <th>max</th>\n",
       "      <td>99701.000000</td>\n",
       "      <td>2023.00000</td>\n",
       "      <td>337.000000</td>\n",
       "      <td>845000.000000</td>\n",
       "      <td>49.000000</td>\n",
       "      <td>4.792548e+08</td>\n",
       "      <td>5.603300e+10</td>\n",
       "    </tr>\n",
       "  </tbody>\n",
       "</table>\n",
       "</div>"
      ],
      "text/plain": [
       "         Postal Code    Model Year  Electric Range      Base MSRP  \\\n",
       "count  121976.000000  121978.00000   121978.000000  121978.000000   \n",
       "mean    98159.128451    2019.30890       81.301407    1627.059798   \n",
       "std      2602.756790       2.95635      100.890849   10267.478923   \n",
       "min      1730.000000    1997.00000        0.000000       0.000000   \n",
       "25%     98052.000000    2018.00000        0.000000       0.000000   \n",
       "50%     98121.000000    2020.00000       25.000000       0.000000   \n",
       "75%     98370.000000    2022.00000      200.000000       0.000000   \n",
       "max     99701.000000    2023.00000      337.000000  845000.000000   \n",
       "\n",
       "       Legislative District  DOL Vehicle ID  2020 Census Tract  \n",
       "count         121681.000000    1.219780e+05       1.219760e+05  \n",
       "mean              29.738760    2.029409e+08       5.297007e+10  \n",
       "std               14.737141    8.979138e+07       1.659161e+09  \n",
       "min                1.000000    4.385000e+03       1.081042e+09  \n",
       "25%               18.000000    1.523397e+08       5.303301e+10  \n",
       "50%               34.000000    1.967532e+08       5.303303e+10  \n",
       "75%               43.000000    2.258338e+08       5.305307e+10  \n",
       "max               49.000000    4.792548e+08       5.603300e+10  "
      ]
     },
     "execution_count": 92,
     "metadata": {},
     "output_type": "execute_result"
    }
   ],
   "source": [
    "# 5 Perform basic analysis on the dataset by checking the null values, finding the summary statisitics on the data\n",
    "for i, j in zip(df.columns, df.columns.isnull()):\n",
    "    print(\"Null values in '{}' ? : {}\".format(i,'Yes' if j==True else 'No'))\n",
    "# there are no null values in the respective columns as we get False for all the columns\n",
    "\n",
    "df.describe()\n",
    "# we get to know all the statistical information about the data set from this command"
   ]
  },
  {
   "cell_type": "code",
   "execution_count": 48,
   "id": "9e19d867",
   "metadata": {},
   "outputs": [
    {
     "name": "stdout",
     "output_type": "stream",
     "text": [
      "TESLA        56116\n",
      "NISSAN       12938\n",
      "CHEVROLET    10775\n",
      "FORD          6571\n",
      "BMW           5350\n",
      "Name: Make, dtype: int64\n"
     ]
    },
    {
     "data": {
      "image/png": "[encoded data removed]",
      "text/plain": [
       "<Figure size 640x480 with 1 Axes>"
      ]
     },
     "metadata": {},
     "output_type": "display_data"
    }
   ],
   "source": [
    "# 6 Which car (Make) has the highest number of sales\n",
    "\n",
    "counts_by_make = df['Make'].value_counts()\n",
    "print(counts_by_make[:5])\n",
    "# From the given data set, these are the top 5 manufacturers with most number of sales & the top company is the \n",
    "# TESLA with 56116 cars sold!\n",
    "\n",
    "counts_by_make = counts_by_make[:10]\n",
    "plt.bar(counts_by_make.index, counts_by_make.values)\n",
    "plt.title('Number of Cars by Make')\n",
    "plt.xlabel('Company')\n",
    "plt.ylabel('Count (Number of Cars)')\n",
    "plt.xticks(rotation=60)\n",
    "plt.show()\n",
    "# this is the graph which shows the top 10 car manufacturing companies"
   ]
  },
  {
   "cell_type": "code",
   "execution_count": 55,
   "id": "712f74b1",
   "metadata": {},
   "outputs": [
    {
     "name": "stdout",
     "output_type": "stream",
     "text": [
      "1998        1\n",
      "2003        1\n",
      "1997        1\n",
      "2002        2\n",
      "1999        4\n",
      "2000        9\n",
      "2008       22\n",
      "2010       25\n",
      "2011      833\n",
      "2012     1681\n",
      "2014     3636\n",
      "2013     4623\n",
      "2015     4944\n",
      "2016     5682\n",
      "2017     8570\n",
      "2023     9997\n",
      "2019    10424\n",
      "2020    10943\n",
      "2018    14344\n",
      "2021    18494\n",
      "2022    27742\n",
      "Name: Model Year, dtype: int64\n"
     ]
    },
    {
     "data": {
      "image/png": "[encoded data removed]",
      "text/plain": [
       "<Figure size 640x480 with 1 Axes>"
      ]
     },
     "metadata": {},
     "output_type": "display_data"
    },
    {
     "name": "stdout",
     "output_type": "stream",
     "text": [
      "Cars produced in 2023:  9997\n"
     ]
    }
   ],
   "source": [
    "# 7 Compare the number of cars based on the year\n",
    "year_vs_cars = df['Model Year'].value_counts()[::-1]\n",
    "print(year_vs_cars)\n",
    "year_vs_cars=year_vs_cars[7:]\n",
    "plt.bar(year_vs_cars.index, year_vs_cars.values)\n",
    "plt.title(\"Year Vs Number of Cars\")\n",
    "plt.xlabel(\"Year\")\n",
    "plt.ylabel(\"Number of Cars produced\")\n",
    "plt.show()\n",
    "print(\"Cars produced in 2023: \",df['Model Year'].value_counts()[2023])\n",
    "\n",
    "# the reason for decline must be, as we are still in the 4th month of the year, so the data might not be sufficient\n",
    "# but the count of production might surpass the production of the year 2022, that too from the TESLA as their\n",
    "# demand of EV (Electric Vehicle) is increasing in the current market as the data shown in \n",
    "# Number of Cars by Make graph"
   ]
  },
  {
   "cell_type": "code",
   "execution_count": 90,
   "id": "9dc29b7e",
   "metadata": {},
   "outputs": [
    {
     "name": "stdout",
     "output_type": "stream",
     "text": [
      "           City  Model Year   Make    Model  Count\n",
      "17388   Seattle        2021  TESLA  MODEL Y   1165\n",
      "17443   Seattle        2022  TESLA  MODEL Y   1163\n",
      "17284   Seattle        2018  TESLA  MODEL 3   1153\n",
      "17440   Seattle        2022  TESLA  MODEL 3    842\n",
      "17385   Seattle        2021  TESLA  MODEL 3    718\n",
      "17348   Seattle        2020  TESLA  MODEL 3    698\n",
      "17317   Seattle        2019  TESLA  MODEL 3    666\n",
      "1456   Bellevue        2022  TESLA  MODEL Y    571\n",
      "1321   Bellevue        2018  TESLA  MODEL 3    474\n",
      "17351   Seattle        2020  TESLA  MODEL Y    439\n"
     ]
    },
    {
     "data": {
      "image/png": "[encoded data removed]",
      "text/plain": [
       "<Figure size 640x480 with 1 Axes>"
      ]
     },
     "metadata": {},
     "output_type": "display_data"
    }
   ],
   "source": [
    "# 8 Perform a comparison of the sales based on the city, year, make and model\n",
    "\n",
    "# Group data by city, year, make, and model\n",
    "grouped_data = df.groupby(['City', 'Model Year', 'Make', 'Model'])['Model'].count().reset_index(name='Count')\n",
    "\n",
    "# Sort the data in descending order based on the count of models\n",
    "sorted_data = grouped_data.sort_values(by='Count', ascending=False)\n",
    "\n",
    "# Display the top 10 results\n",
    "top_10 = sorted_data.head(10)\n",
    "print(top_10)\n",
    "\n",
    "\n",
    "# Plot the horizontal bar chart\n",
    "plt.barh(top_10['Model'].values, top_10['Count'].values)\n",
    "\n",
    "# Set the title and labels\n",
    "plt.title('Comparison of Sales by City, Year, Make, and Model')\n",
    "plt.xlabel('Count')\n",
    "plt.ylabel('Model')\n",
    "\n",
    "\n",
    "# Show the plot\n",
    "plt.show()"
   ]
  },
  {
   "cell_type": "code",
   "execution_count": 91,
   "id": "f44bbe6c",
   "metadata": {},
   "outputs": [
    {
     "name": "stdout",
     "output_type": "stream",
     "text": [
      "Battery Electric Vehicle (BEV)            94118\n",
      "Plug-in Hybrid Electric Vehicle (PHEV)    27860\n",
      "Name: Electric Vehicle Type, dtype: int64\n"
     ]
    }
   ],
   "source": [
    "# 9 How many cars are under which electric vechicle type ?\n",
    "\n",
    "cars_by_ev_type = df['Electric Vehicle Type'].value_counts()\n",
    "print(cars_by_ev_type)\n"
   ]
  },
  {
   "cell_type": "markdown",
   "id": "48a43d79",
   "metadata": {},
   "source": [
    "# 10. Based on the analysis of the data done, which car can be recommended for further use/purchases - Specify the reasons\n",
    "\n",
    "Based on the above analysis done so far, I would recommend my client to buy a car from TESLA that too Model 3 or \n",
    "Model Y because in case of production of the cars TESLA is in lead and also in case of purchases Model 3 and Model Y\n",
    "have been sold more compared to other models which belong to TESLA\n",
    "\n",
    "So buying the TESLA car would be economical choice for my client"
   ]
  }
 ],
 "metadata": {
  "kernelspec": {
   "display_name": "Python 3 (ipykernel)",
   "language": "python",
   "name": "python3"
  },
  "language_info": {
   "codemirror_mode": {
    "name": "ipython",
    "version": 3
   },
   "file_extension": ".py",
   "mimetype": "text/x-python",
   "name": "python",
   "nbconvert_exporter": "python",
   "pygments_lexer": "ipython3",
   "version": "3.9.13"
  }
 },
 "nbformat": 4,
 "nbformat_minor": 5
}
