{
 "cells": [
  {
   "cell_type": "code",
   "execution_count": 5,
   "id": "7c8f5bcd",
   "metadata": {},
   "outputs": [],
   "source": [
    "import sqlalchemy\n",
    "import numpy as np\n",
    "import pandas as pd\n",
    "import sklearn\n",
    "import sqlite3\n",
    "import dask"
   ]
  },
  {
   "cell_type": "code",
   "execution_count": 6,
   "id": "eaa2bf51",
   "metadata": {},
   "outputs": [
    {
     "data": {
      "text/plain": [
       "sqlite3.Connection"
      ]
     },
     "execution_count": 6,
     "metadata": {},
     "output_type": "execute_result"
    }
   ],
   "source": [
    "conn = sqlite3.connect(\"CompanyEmployeeDB.db\")\n",
    "type(conn)"
   ]
  },
  {
   "cell_type": "code",
   "execution_count": 7,
   "id": "50e8a10b",
   "metadata": {},
   "outputs": [],
   "source": [
    "# cursor object\n",
    "cur = conn.cursor()"
   ]
  },
  {
   "cell_type": "code",
   "execution_count": 8,
   "id": "0f77ff01",
   "metadata": {},
   "outputs": [
    {
     "data": {
      "text/plain": [
       "<sqlite3.Cursor at 0x1bc300b2240>"
      ]
     },
     "execution_count": 8,
     "metadata": {},
     "output_type": "execute_result"
    }
   ],
   "source": [
    "cur.execute(\"\"\"\n",
    "CREATE TABLE Company(\n",
    "company_id INT PRIMARY KEY, company_name ChAR(40),\n",
    "value CHAR(10), location CHAR(10), type CHAR(10));\n",
    "\"\"\")"
   ]
  },
  {
   "cell_type": "code",
   "execution_count": 9,
   "id": "05d926a4",
   "metadata": {},
   "outputs": [
    {
     "data": {
      "text/plain": [
       "<sqlite3.Cursor at 0x1bc300b2240>"
      ]
     },
     "execution_count": 9,
     "metadata": {},
     "output_type": "execute_result"
    }
   ],
   "source": [
    "cur.execute(\"\"\"\n",
    "CREATE TABLE Employee(\n",
    "emp_id INT PRIMARY KEY, emp_name CHAR(40),\n",
    "age INT, city CHAR(10), salary INT);\n",
    "\"\"\")"
   ]
  },
  {
   "cell_type": "code",
   "execution_count": 10,
   "id": "6ba8e393",
   "metadata": {},
   "outputs": [
    {
     "data": {
      "text/plain": [
       "('Company',)"
      ]
     },
     "execution_count": 10,
     "metadata": {},
     "output_type": "execute_result"
    }
   ],
   "source": [
    "result = cur.execute(\"SELECT name FROM sqlite_master\")\n",
    "result.fetchone()"
   ]
  },
  {
   "cell_type": "code",
   "execution_count": 11,
   "id": "fbcdf3d9",
   "metadata": {},
   "outputs": [
    {
     "data": {
      "text/plain": [
       "<sqlite3.Cursor at 0x1bc300b2240>"
      ]
     },
     "execution_count": 11,
     "metadata": {},
     "output_type": "execute_result"
    }
   ],
   "source": [
    "data = [\n",
    "    (101,'ABC','25M','India','IT '),\n",
    "    (102,'XYZ','20M','Australia','Software'),\n",
    "    (103,'PQR','30M','Sweden','Consulting'),\n",
    "    (104,'LMN','10M','Canada','Finance'),\n",
    "]\n",
    "cur.executemany(\"INSERT INTO Company VALUES(?,?,?,?,?)\",data)"
   ]
  },
  {
   "cell_type": "code",
   "execution_count": 12,
   "id": "6f4e5809",
   "metadata": {},
   "outputs": [
    {
     "data": {
      "text/plain": [
       "<sqlite3.Cursor at 0x1bc300b2240>"
      ]
     },
     "execution_count": 12,
     "metadata": {},
     "output_type": "execute_result"
    }
   ],
   "source": [
    "data = [\n",
    "    (1001,'Sam',25,'Hyderabad',50000),\n",
    "    (1002,'Peter',26,'Perth',100000),\n",
    "    (1003,'Qwery',24,'Bangalore',60000),\n",
    "    (1004,'Walt',21,'Ottawa',700000),\n",
    "]\n",
    "cur.executemany(\"INSERT INTO Employee VALUES(?,?,?,?,?)\",data)"
   ]
  },
  {
   "cell_type": "code",
   "execution_count": 13,
   "id": "01c05e96",
   "metadata": {},
   "outputs": [],
   "source": [
    "conn.commit()"
   ]
  },
  {
   "cell_type": "code",
   "execution_count": 14,
   "id": "57a288b5",
   "metadata": {},
   "outputs": [
    {
     "data": {
      "text/plain": [
       "[('ABC',), ('XYZ',), ('PQR',), ('LMN',)]"
      ]
     },
     "execution_count": 14,
     "metadata": {},
     "output_type": "execute_result"
    }
   ],
   "source": [
    "res = cur.execute(\"SELECT company_name FROM Company\")\n",
    "res.fetchall()"
   ]
  },
  {
   "cell_type": "code",
   "execution_count": 16,
   "id": "eaabe4a3",
   "metadata": {},
   "outputs": [
    {
     "name": "stdout",
     "output_type": "stream",
     "text": [
      "(21, 700000)\n",
      "(24, 60000)\n",
      "(26, 100000)\n"
     ]
    }
   ],
   "source": [
    "for row in cur.execute(\"SELECT age, salary from Employee WHERE salary > 50000 ORDER by age\"):\n",
    "    print(row)"
   ]
  },
  {
   "cell_type": "code",
   "execution_count": null,
   "id": "f59dd9e8",
   "metadata": {},
   "outputs": [],
   "source": []
  }
 ],
 "metadata": {
  "kernelspec": {
   "display_name": "Python 3 (ipykernel)",
   "language": "python",
   "name": "python3"
  },
  "language_info": {
   "codemirror_mode": {
    "name": "ipython",
    "version": 3
   },
   "file_extension": ".py",
   "mimetype": "text/x-python",
   "name": "python",
   "nbconvert_exporter": "python",
   "pygments_lexer": "ipython3",
   "version": "3.10.9"
  }
 },
 "nbformat": 4,
 "nbformat_minor": 5
}
