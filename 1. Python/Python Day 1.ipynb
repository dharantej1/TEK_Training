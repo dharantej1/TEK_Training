{
 "cells": [
  {
   "cell_type": "markdown",
   "id": "9f26e954",
   "metadata": {},
   "source": [
    "23/2/2022 - Python\n",
    "\n",
    "Scala - Functional Programming language\n",
    "SPARK - Big Data \n",
    "\n",
    "\n",
    "====== Applications of Python:\n",
    "\n",
    "Web Development and GUI Application - Django Framework\n",
    "Machine learning - sklearn\n",
    "Data Analytics - From Numpy\n",
    "AI - ML will be subset to AI\n",
    "IOT - Machine to Machine\n",
    "\n",
    "\n",
    "\n",
    "Numpy - Mathematical operations\n",
    "Pandas - Data cleaning, Data handling and Data pre-processing\n",
    "Scipy - Statistical operations (Hypothesis Testing-Advanced)\n",
    "Matplotlib - Basic Data Visualization\n",
    "Seaborn - Advanced Data Visualization\n",
    "Plotly - Interactive and Complex Data Visualization\n",
    "Scikit learn - Machine Learning \n",
    "Tensorflow - Deep learning\n",
    "\n",
    "\n",
    "====== Environments of Python:\n",
    "Python\tScientific - Jupyter Notebook, Google colab, Pycharm, Spyder\n",
    "Python\tBasic - GUI, Command Line\n",
    "\n",
    "\n",
    "\n",
    "====== Advantages of Anaconda:\n",
    "Big Data Support and 400+ Packages are pre-installed\n",
    "\n",
    "\n",
    "====== Setting up of Jupyter Notebook\n",
    "Refer Python Day 1.ipynb Jupyter Notebook for furthur notes"
   ]
  },
  {
   "cell_type": "code",
   "execution_count": 4,
   "id": "a418937f",
   "metadata": {},
   "outputs": [],
   "source": [
    "#ShortCuts for JupyterNotebook                Alt+Enter, Ctrl+Enter, Shift+Enter"
   ]
  },
  {
   "cell_type": "code",
   "execution_count": 5,
   "id": "ce6d142b",
   "metadata": {},
   "outputs": [],
   "source": [
    "# This is syntax of Python Comment"
   ]
  },
  {
   "cell_type": "code",
   "execution_count": 7,
   "id": "22be1d25",
   "metadata": {},
   "outputs": [
    {
     "name": "stdout",
     "output_type": "stream",
     "text": [
      "Hello World\n"
     ]
    }
   ],
   "source": [
    "'''\n",
    "This is syntax for Paragraph\n",
    "This is also syntax for Multi-Line Comment in Python\n",
    "'''\n",
    "print(\"Hello World\")"
   ]
  },
  {
   "cell_type": "markdown",
   "id": "23cfc23e",
   "metadata": {},
   "source": [
    "#### Variables "
   ]
  },
  {
   "cell_type": "code",
   "execution_count": 9,
   "id": "7d9f8952",
   "metadata": {},
   "outputs": [
    {
     "ename": "SyntaxError",
     "evalue": "invalid syntax (1521661254.py, line 1)",
     "output_type": "error",
     "traceback": [
      "\u001b[1;36m  File \u001b[1;32m\"C:\\Users\\pdharantej\\AppData\\Local\\Temp\\ipykernel_15432\\1521661254.py\"\u001b[1;36m, line \u001b[1;32m1\u001b[0m\n\u001b[1;33m    1var=10\u001b[0m\n\u001b[1;37m     ^\u001b[0m\n\u001b[1;31mSyntaxError\u001b[0m\u001b[1;31m:\u001b[0m invalid syntax\n"
     ]
    }
   ],
   "source": [
    "1var=10"
   ]
  },
  {
   "cell_type": "code",
   "execution_count": 10,
   "id": "c0b374a1",
   "metadata": {},
   "outputs": [
    {
     "ename": "SyntaxError",
     "evalue": "invalid syntax (4216600962.py, line 1)",
     "output_type": "error",
     "traceback": [
      "\u001b[1;36m  File \u001b[1;32m\"C:\\Users\\pdharantej\\AppData\\Local\\Temp\\ipykernel_15432\\4216600962.py\"\u001b[1;36m, line \u001b[1;32m1\u001b[0m\n\u001b[1;33m    @var=10\u001b[0m\n\u001b[1;37m        ^\u001b[0m\n\u001b[1;31mSyntaxError\u001b[0m\u001b[1;31m:\u001b[0m invalid syntax\n"
     ]
    }
   ],
   "source": [
    "@var=10"
   ]
  },
  {
   "cell_type": "code",
   "execution_count": 11,
   "id": "54e1fcff",
   "metadata": {},
   "outputs": [],
   "source": [
    "_var=10"
   ]
  },
  {
   "cell_type": "code",
   "execution_count": 12,
   "id": "78381fb9",
   "metadata": {},
   "outputs": [],
   "source": [
    "_=100"
   ]
  },
  {
   "cell_type": "code",
   "execution_count": 15,
   "id": "9f0bf11d",
   "metadata": {},
   "outputs": [
    {
     "ename": "SyntaxError",
     "evalue": "invalid syntax (4047433562.py, line 2)",
     "output_type": "error",
     "traceback": [
      "\u001b[1;36m  File \u001b[1;32m\"C:\\Users\\pdharantej\\AppData\\Local\\Temp\\ipykernel_15432\\4047433562.py\"\u001b[1;36m, line \u001b[1;32m2\u001b[0m\n\u001b[1;33m    import =100\u001b[0m\n\u001b[1;37m           ^\u001b[0m\n\u001b[1;31mSyntaxError\u001b[0m\u001b[1;31m:\u001b[0m invalid syntax\n"
     ]
    }
   ],
   "source": [
    "# invalid syntax for your variable declaration\n",
    "import =100"
   ]
  },
  {
   "cell_type": "code",
   "execution_count": 16,
   "id": "090f11de",
   "metadata": {},
   "outputs": [
    {
     "name": "stdout",
     "output_type": "stream",
     "text": [
      "['False', 'None', 'True', '__peg_parser__', 'and', 'as', 'assert', 'async', 'await', 'break', 'class', 'continue', 'def', 'del', 'elif', 'else', 'except', 'finally', 'for', 'from', 'global', 'if', 'import', 'in', 'is', 'lambda', 'nonlocal', 'not', 'or', 'pass', 'raise', 'return', 'try', 'while', 'with', 'yield']\n"
     ]
    }
   ],
   "source": [
    "import keyword\n",
    "print(keyword.kwlist)"
   ]
  },
  {
   "cell_type": "code",
   "execution_count": 17,
   "id": "767f031a",
   "metadata": {},
   "outputs": [
    {
     "data": {
      "text/plain": [
       "36"
      ]
     },
     "execution_count": 17,
     "metadata": {},
     "output_type": "execute_result"
    }
   ],
   "source": [
    "# len() - It returns the length of list of keywords \n",
    "len(keyword.kwlist)"
   ]
  },
  {
   "cell_type": "markdown",
   "id": "a19f0166",
   "metadata": {},
   "source": [
    "#### Primitive Data Types\n",
    "* int\n",
    "* float \n",
    "* complex\n",
    "* string \n",
    "* boolean"
   ]
  },
  {
   "cell_type": "code",
   "execution_count": 18,
   "id": "2023a743",
   "metadata": {},
   "outputs": [],
   "source": [
    "# This is integer Data Type\n",
    "var1 = 10"
   ]
  },
  {
   "cell_type": "code",
   "execution_count": 19,
   "id": "f2685235",
   "metadata": {},
   "outputs": [
    {
     "data": {
      "text/plain": [
       "int"
      ]
     },
     "execution_count": 19,
     "metadata": {},
     "output_type": "execute_result"
    }
   ],
   "source": [
    "# Returns Integer Data Type\n",
    "type(var1)"
   ]
  },
  {
   "cell_type": "code",
   "execution_count": 20,
   "id": "1a127699",
   "metadata": {},
   "outputs": [
    {
     "name": "stdout",
     "output_type": "stream",
     "text": [
      "10\n"
     ]
    }
   ],
   "source": [
    "# prints value of variable\n",
    "print(var1)"
   ]
  },
  {
   "cell_type": "code",
   "execution_count": 22,
   "id": "234409a2",
   "metadata": {},
   "outputs": [],
   "source": [
    "# This is float data type\n",
    "var2=2.3456"
   ]
  },
  {
   "cell_type": "code",
   "execution_count": 23,
   "id": "0c3e3c72",
   "metadata": {},
   "outputs": [
    {
     "data": {
      "text/plain": [
       "float"
      ]
     },
     "execution_count": 23,
     "metadata": {},
     "output_type": "execute_result"
    }
   ],
   "source": [
    "type(var2)"
   ]
  },
  {
   "cell_type": "code",
   "execution_count": 24,
   "id": "b9f0eb87",
   "metadata": {},
   "outputs": [],
   "source": [
    "var3=\"This is string Data type\"\n",
    "var4='This is string data type'"
   ]
  },
  {
   "cell_type": "code",
   "execution_count": 25,
   "id": "4fa38745",
   "metadata": {},
   "outputs": [
    {
     "name": "stdout",
     "output_type": "stream",
     "text": [
      "This is string Data type This is string data type\n"
     ]
    }
   ],
   "source": [
    "print(var3,var4)"
   ]
  },
  {
   "cell_type": "code",
   "execution_count": 26,
   "id": "7bc99022",
   "metadata": {},
   "outputs": [
    {
     "data": {
      "text/plain": [
       "str"
      ]
     },
     "execution_count": 26,
     "metadata": {},
     "output_type": "execute_result"
    }
   ],
   "source": [
    "type(var3)\n",
    "type(var4)"
   ]
  },
  {
   "cell_type": "code",
   "execution_count": 27,
   "id": "e9a51e0b",
   "metadata": {},
   "outputs": [
    {
     "name": "stdout",
     "output_type": "stream",
     "text": [
      "Object `type  # To see the documentation about a particular function` not found.\n"
     ]
    }
   ],
   "source": [
    "?type  # To see the documentation about a particular function"
   ]
  },
  {
   "cell_type": "code",
   "execution_count": 28,
   "id": "3729eff2",
   "metadata": {},
   "outputs": [],
   "source": [
    "# real + imaginary part\n",
    "var6=23+56j"
   ]
  },
  {
   "cell_type": "code",
   "execution_count": 29,
   "id": "33d4a48a",
   "metadata": {},
   "outputs": [],
   "source": [
    "# only imaginary part only\n",
    "var7=12j"
   ]
  },
  {
   "cell_type": "code",
   "execution_count": 30,
   "id": "f36ed886",
   "metadata": {},
   "outputs": [
    {
     "name": "stdout",
     "output_type": "stream",
     "text": [
      "<class 'complex'> <class 'complex'>\n"
     ]
    }
   ],
   "source": [
    "print(type(var6),type(var7))"
   ]
  },
  {
   "cell_type": "code",
   "execution_count": 31,
   "id": "2bde0a4f",
   "metadata": {},
   "outputs": [],
   "source": [
    "# Boolean Data Type\n",
    "\n",
    "bool1=True\n",
    "bool2=False"
   ]
  },
  {
   "cell_type": "code",
   "execution_count": 33,
   "id": "72a81e94",
   "metadata": {},
   "outputs": [
    {
     "name": "stdout",
     "output_type": "stream",
     "text": [
      "True\n",
      "False\n"
     ]
    }
   ],
   "source": [
    "print(bool1)\n",
    "print(bool2)"
   ]
  },
  {
   "cell_type": "code",
   "execution_count": 34,
   "id": "c85657d9",
   "metadata": {},
   "outputs": [
    {
     "data": {
      "text/plain": [
       "68"
      ]
     },
     "execution_count": 34,
     "metadata": {},
     "output_type": "execute_result"
    }
   ],
   "source": [
    "23+45"
   ]
  },
  {
   "cell_type": "code",
   "execution_count": 36,
   "id": "d2d8a463",
   "metadata": {},
   "outputs": [
    {
     "data": {
      "text/plain": [
       "529"
      ]
     },
     "execution_count": 36,
     "metadata": {},
     "output_type": "execute_result"
    }
   ],
   "source": [
    "23**2"
   ]
  },
  {
   "cell_type": "code",
   "execution_count": 37,
   "id": "611ba55d",
   "metadata": {},
   "outputs": [],
   "source": [
    "import sys"
   ]
  },
  {
   "cell_type": "code",
   "execution_count": 40,
   "id": "687e61ed",
   "metadata": {},
   "outputs": [
    {
     "name": "stdout",
     "output_type": "stream",
     "text": [
      "3.9.13 (main, Aug 25 2022, 23:51:50) [MSC v.1916 64 bit (AMD64)]\n"
     ]
    }
   ],
   "source": [
    "print(sys.version)"
   ]
  },
  {
   "cell_type": "code",
   "execution_count": 42,
   "id": "a7828f2f",
   "metadata": {},
   "outputs": [
    {
     "name": "stdout",
     "output_type": "stream",
     "text": [
      "3.9.13\n"
     ]
    }
   ],
   "source": [
    "import platform\n",
    "print(platform.python_version())"
   ]
  },
  {
   "cell_type": "markdown",
   "id": "d5ff5de7",
   "metadata": {},
   "source": [
    "#### String Methods"
   ]
  },
  {
   "cell_type": "code",
   "execution_count": 43,
   "id": "909fb3cb",
   "metadata": {},
   "outputs": [],
   "source": [
    "# String Indexing\n",
    "\n",
    "# Forward indexing starts from 0 to so-on\n",
    "# Backward indexing starts from -1 to negative values "
   ]
  },
  {
   "cell_type": "code",
   "execution_count": 44,
   "id": "e9d64035",
   "metadata": {},
   "outputs": [],
   "source": [
    "str1=\"this is python string1\"\n",
    "str2=\"This is python string2\""
   ]
  },
  {
   "cell_type": "code",
   "execution_count": 47,
   "id": "9fc9f830",
   "metadata": {},
   "outputs": [
    {
     "data": {
      "text/plain": [
       "'This is python string1 This is python string2'"
      ]
     },
     "execution_count": 47,
     "metadata": {},
     "output_type": "execute_result"
    }
   ],
   "source": [
    "# Concatenation of Strings\n",
    "str1+\" \"+str2"
   ]
  },
  {
   "cell_type": "code",
   "execution_count": 48,
   "id": "66e3b7d5",
   "metadata": {},
   "outputs": [
    {
     "name": "stdout",
     "output_type": "stream",
     "text": [
      "This is python string1 This is python string2\n"
     ]
    }
   ],
   "source": [
    "str3=str1+\" \"+str2\n",
    "print(str3)"
   ]
  },
  {
   "cell_type": "code",
   "execution_count": 49,
   "id": "0a648555",
   "metadata": {},
   "outputs": [
    {
     "data": {
      "text/plain": [
       "'This is python string1 this is python string2'"
      ]
     },
     "execution_count": 49,
     "metadata": {},
     "output_type": "execute_result"
    }
   ],
   "source": [
    "str3.capitalize()"
   ]
  },
  {
   "cell_type": "code",
   "execution_count": 50,
   "id": "374e98f2",
   "metadata": {},
   "outputs": [
    {
     "data": {
      "text/plain": [
       "'This Is Python String1 This Is Python String2'"
      ]
     },
     "execution_count": 50,
     "metadata": {},
     "output_type": "execute_result"
    }
   ],
   "source": [
    "str3.title()"
   ]
  },
  {
   "cell_type": "code",
   "execution_count": 54,
   "id": "0d125853",
   "metadata": {},
   "outputs": [
    {
     "data": {
      "text/plain": [
       "2"
      ]
     },
     "execution_count": 54,
     "metadata": {},
     "output_type": "execute_result"
    }
   ],
   "source": [
    "str3.lower().count(\" is \")"
   ]
  },
  {
   "cell_type": "code",
   "execution_count": 80,
   "id": "4ccdb126",
   "metadata": {},
   "outputs": [
    {
     "name": "stdout",
     "output_type": "stream",
     "text": [
      "['This', 'is', 'Python', 'session', 'we', 'are', 'learning', 'python programming']\n"
     ]
    }
   ],
   "source": [
    "str5=\"This, is, Python, session, we, are, learning, python programming\"\n",
    "# separator or delimitor = , \" \"\n",
    "print(str5.split(\", \"))"
   ]
  },
  {
   "cell_type": "code",
   "execution_count": 79,
   "id": "09ac5710",
   "metadata": {},
   "outputs": [
    {
     "data": {
      "text/plain": [
       "'is'"
      ]
     },
     "execution_count": 79,
     "metadata": {},
     "output_type": "execute_result"
    }
   ],
   "source": [
    "str5.split(\", \")[1]"
   ]
  },
  {
   "cell_type": "code",
   "execution_count": 83,
   "id": "1610a1a6",
   "metadata": {},
   "outputs": [
    {
     "data": {
      "text/plain": [
       "('Data engineering', ' with ', 'python')"
      ]
     },
     "execution_count": 83,
     "metadata": {},
     "output_type": "execute_result"
    }
   ],
   "source": [
    "str6=\"Data engineering with python\"\n",
    "str6.partition(\" with \")"
   ]
  },
  {
   "cell_type": "markdown",
   "id": "a195cd33",
   "metadata": {},
   "source": [
    "#### Indexing and Slicing"
   ]
  },
  {
   "cell_type": "code",
   "execution_count": 55,
   "id": "48b8b592",
   "metadata": {},
   "outputs": [],
   "source": [
    "str4=\"This is TEK Python Session. We are learning about python basics\""
   ]
  },
  {
   "cell_type": "code",
   "execution_count": 56,
   "id": "4125d526",
   "metadata": {},
   "outputs": [
    {
     "data": {
      "text/plain": [
       "'T'"
      ]
     },
     "execution_count": 56,
     "metadata": {},
     "output_type": "execute_result"
    }
   ],
   "source": [
    "str4[0]"
   ]
  },
  {
   "cell_type": "code",
   "execution_count": 57,
   "id": "8a815305",
   "metadata": {},
   "outputs": [
    {
     "data": {
      "text/plain": [
       "'s'"
      ]
     },
     "execution_count": 57,
     "metadata": {},
     "output_type": "execute_result"
    }
   ],
   "source": [
    "str4[-1]"
   ]
  },
  {
   "cell_type": "code",
   "execution_count": 58,
   "id": "6489d629",
   "metadata": {},
   "outputs": [
    {
     "data": {
      "text/plain": [
       "'T'"
      ]
     },
     "execution_count": 58,
     "metadata": {},
     "output_type": "execute_result"
    }
   ],
   "source": [
    "str4[8]"
   ]
  },
  {
   "cell_type": "code",
   "execution_count": 59,
   "id": "a5a71959",
   "metadata": {},
   "outputs": [
    {
     "data": {
      "text/plain": [
       "'b'"
      ]
     },
     "execution_count": 59,
     "metadata": {},
     "output_type": "execute_result"
    }
   ],
   "source": [
    "str4[-6]"
   ]
  },
  {
   "cell_type": "code",
   "execution_count": 61,
   "id": "6a68a7e4",
   "metadata": {},
   "outputs": [
    {
     "data": {
      "text/plain": [
       "8"
      ]
     },
     "execution_count": 61,
     "metadata": {},
     "output_type": "execute_result"
    }
   ],
   "source": [
    "# 'find' returns the index of a specific word or even a character at the first occurance\n",
    "str4.find(\"TEK\")"
   ]
  },
  {
   "cell_type": "code",
   "execution_count": 62,
   "id": "40a544ee",
   "metadata": {},
   "outputs": [
    {
     "data": {
      "text/plain": [
       "12"
      ]
     },
     "execution_count": 62,
     "metadata": {},
     "output_type": "execute_result"
    }
   ],
   "source": [
    "str4.lower().find('python') # finds only the first occurances index of the particular character or the word."
   ]
  },
  {
   "cell_type": "markdown",
   "id": "50fc06f4",
   "metadata": {},
   "source": [
    "#### String Sicing"
   ]
  },
  {
   "cell_type": "code",
   "execution_count": 63,
   "id": "f34b5dc3",
   "metadata": {},
   "outputs": [],
   "source": [
    "# String[start index: stop index: step size]\n",
    "# by default the start index=0, stop index= -1(End of Line), step size=1"
   ]
  },
  {
   "cell_type": "code",
   "execution_count": 64,
   "id": "558c8bcb",
   "metadata": {},
   "outputs": [
    {
     "data": {
      "text/plain": [
       "'This is TEK Python Session. We are learning about python basics'"
      ]
     },
     "execution_count": 64,
     "metadata": {},
     "output_type": "execute_result"
    }
   ],
   "source": [
    "str4[:]"
   ]
  },
  {
   "cell_type": "code",
   "execution_count": 65,
   "id": "806cdd56",
   "metadata": {},
   "outputs": [
    {
     "data": {
      "text/plain": [
       "'TEK Python Session'"
      ]
     },
     "execution_count": 65,
     "metadata": {},
     "output_type": "execute_result"
    }
   ],
   "source": [
    "str4[8:26]"
   ]
  },
  {
   "cell_type": "code",
   "execution_count": 66,
   "id": "575be833",
   "metadata": {},
   "outputs": [
    {
     "data": {
      "text/plain": [
       "19"
      ]
     },
     "execution_count": 66,
     "metadata": {},
     "output_type": "execute_result"
    }
   ],
   "source": [
    "str4.find(\"Session\")"
   ]
  },
  {
   "cell_type": "code",
   "execution_count": 67,
   "id": "a568311a",
   "metadata": {},
   "outputs": [
    {
     "data": {
      "text/plain": [
       "'TKPto eso'"
      ]
     },
     "execution_count": 67,
     "metadata": {},
     "output_type": "execute_result"
    }
   ],
   "source": [
    "str4[8:26:2]"
   ]
  },
  {
   "cell_type": "code",
   "execution_count": 71,
   "id": "a7d870b3",
   "metadata": {},
   "outputs": [
    {
     "data": {
      "text/plain": [
       "'scisab'"
      ]
     },
     "execution_count": 71,
     "metadata": {},
     "output_type": "execute_result"
    }
   ],
   "source": [
    "str4[-1:-7:-1]"
   ]
  },
  {
   "cell_type": "code",
   "execution_count": 72,
   "id": "c8e17a6a",
   "metadata": {},
   "outputs": [
    {
     "data": {
      "text/plain": [
       "'scisab nohtyp tuoba gninrael era eW .noisseS nohtyP KET si sihT'"
      ]
     },
     "execution_count": 72,
     "metadata": {},
     "output_type": "execute_result"
    }
   ],
   "source": [
    "# Reverse the whole string\n",
    "str4[::-1]"
   ]
  },
  {
   "cell_type": "markdown",
   "id": "660a8066",
   "metadata": {},
   "source": [
    "### Data Structures in Python"
   ]
  },
  {
   "cell_type": "markdown",
   "id": "d28b45e9",
   "metadata": {},
   "source": [
    "#### Lists"
   ]
  },
  {
   "cell_type": "markdown",
   "id": "caa1e389",
   "metadata": {},
   "source": [
    "* lists: mutable, heterogenous collection of data types, modifications are allowed \n",
    "* declared as list=[]\n",
    "* declared as list()\n",
    "* duplicate values are allowed "
   ]
  },
  {
   "cell_type": "code",
   "execution_count": 84,
   "id": "faeed786",
   "metadata": {},
   "outputs": [],
   "source": [
    "# Empty list declaration\n",
    "list1=[]\n",
    "list2=list()"
   ]
  },
  {
   "cell_type": "code",
   "execution_count": 85,
   "id": "5a2a486a",
   "metadata": {},
   "outputs": [],
   "source": [
    "list1=[123456,987654321,12345.891,\"This is list session\",123+66j,True,False]"
   ]
  },
  {
   "cell_type": "code",
   "execution_count": 86,
   "id": "d915670b",
   "metadata": {},
   "outputs": [],
   "source": [
    "# Concatenation - collection of \n",
    "list1=[123456,987654321,12345.891,\"This is list session\"]\n",
    "list2=[\"True\",True,False,101010101,23+66j]"
   ]
  },
  {
   "cell_type": "code",
   "execution_count": 88,
   "id": "3728bfb4",
   "metadata": {},
   "outputs": [
    {
     "name": "stdout",
     "output_type": "stream",
     "text": [
      "[123456, 987654321, 12345.891, 'This is list session', 'True', True, False, 101010101, (23+66j)]\n"
     ]
    }
   ],
   "source": [
    "print(list1+list2)"
   ]
  },
  {
   "cell_type": "code",
   "execution_count": 89,
   "id": "46f3c5ad",
   "metadata": {},
   "outputs": [],
   "source": [
    "# Nested Lists\n",
    "list3=[123456,987654321,12345.891,\"This is list session\",[\"True\",True,False,23+66j]]"
   ]
  },
  {
   "cell_type": "markdown",
   "id": "7f382a9d",
   "metadata": {},
   "source": [
    "#### Methods of Lists"
   ]
  },
  {
   "cell_type": "code",
   "execution_count": 90,
   "id": "a117c14b",
   "metadata": {},
   "outputs": [
    {
     "name": "stdout",
     "output_type": "stream",
     "text": [
      "[123456, 987654321, 12345.891, 'This is list session']\n"
     ]
    }
   ],
   "source": [
    "print(list1)"
   ]
  },
  {
   "cell_type": "code",
   "execution_count": 91,
   "id": "165bf40c",
   "metadata": {},
   "outputs": [],
   "source": [
    "# list1.append(True)"
   ]
  },
  {
   "cell_type": "code",
   "execution_count": 92,
   "id": "431eab2c",
   "metadata": {},
   "outputs": [
    {
     "name": "stdout",
     "output_type": "stream",
     "text": [
      "[123456, 987654321, 12345.891, 'This is list session', True]\n"
     ]
    }
   ],
   "source": [
    "print(list1)"
   ]
  },
  {
   "cell_type": "code",
   "execution_count": 93,
   "id": "b844fa91",
   "metadata": {},
   "outputs": [],
   "source": [
    "list1.append([123456,1010101])"
   ]
  },
  {
   "cell_type": "code",
   "execution_count": 94,
   "id": "ba8a1a8a",
   "metadata": {},
   "outputs": [
    {
     "name": "stdout",
     "output_type": "stream",
     "text": [
      "[123456, 987654321, 12345.891, 'This is list session', True, [123456, 1010101]]\n"
     ]
    }
   ],
   "source": [
    "print(list1)"
   ]
  },
  {
   "cell_type": "code",
   "execution_count": 95,
   "id": "2ca38413",
   "metadata": {},
   "outputs": [],
   "source": [
    "# It clears all the values from the list and make it as an empty list\n",
    "list2.clear()"
   ]
  },
  {
   "cell_type": "code",
   "execution_count": 96,
   "id": "9ebdc3cf",
   "metadata": {},
   "outputs": [
    {
     "name": "stdout",
     "output_type": "stream",
     "text": [
      "[]\n"
     ]
    }
   ],
   "source": [
    "print(list2)"
   ]
  },
  {
   "cell_type": "code",
   "execution_count": 97,
   "id": "16d48426",
   "metadata": {},
   "outputs": [],
   "source": [
    "# Permanently deletes the variable from the memory\n",
    "del(list2)"
   ]
  },
  {
   "cell_type": "code",
   "execution_count": 98,
   "id": "ab970a00",
   "metadata": {},
   "outputs": [
    {
     "ename": "NameError",
     "evalue": "name 'list2' is not defined",
     "output_type": "error",
     "traceback": [
      "\u001b[1;31m---------------------------------------------------------------------------\u001b[0m",
      "\u001b[1;31mNameError\u001b[0m                                 Traceback (most recent call last)",
      "\u001b[1;32m~\\AppData\\Local\\Temp\\ipykernel_15432\\2285325234.py\u001b[0m in \u001b[0;36m<module>\u001b[1;34m\u001b[0m\n\u001b[1;32m----> 1\u001b[1;33m \u001b[0mprint\u001b[0m\u001b[1;33m(\u001b[0m\u001b[0mlist2\u001b[0m\u001b[1;33m)\u001b[0m\u001b[1;33m\u001b[0m\u001b[1;33m\u001b[0m\u001b[0m\n\u001b[0m",
      "\u001b[1;31mNameError\u001b[0m: name 'list2' is not defined"
     ]
    }
   ],
   "source": [
    "print(list2)"
   ]
  },
  {
   "cell_type": "code",
   "execution_count": 99,
   "id": "d7ab3efa",
   "metadata": {},
   "outputs": [],
   "source": [
    "# Shallow Copy\n",
    "# copies the values of one list into another\n",
    "list2=list1.copy()"
   ]
  },
  {
   "cell_type": "code",
   "execution_count": 100,
   "id": "1cdae6d1",
   "metadata": {},
   "outputs": [],
   "source": [
    "# Deep Copy or Copy by reference\n",
    "list4=list1"
   ]
  },
  {
   "cell_type": "code",
   "execution_count": 102,
   "id": "5af5b990",
   "metadata": {},
   "outputs": [
    {
     "name": "stdout",
     "output_type": "stream",
     "text": [
      "[123456, 987654321, 12345.891, 'This is list session', True, [123456, 1010101]]\n",
      "[123456, 987654321, 12345.891, 'This is list session', True, [123456, 1010101]]\n"
     ]
    }
   ],
   "source": [
    "print(list2)\n",
    "print(list4)"
   ]
  },
  {
   "cell_type": "code",
   "execution_count": 103,
   "id": "20d28a6f",
   "metadata": {},
   "outputs": [],
   "source": [
    "list1.append(\"List\")"
   ]
  },
  {
   "cell_type": "code",
   "execution_count": 104,
   "id": "b90051b0",
   "metadata": {},
   "outputs": [
    {
     "name": "stdout",
     "output_type": "stream",
     "text": [
      "[123456, 987654321, 12345.891, 'This is list session', True, [123456, 1010101]]\n"
     ]
    }
   ],
   "source": [
    "print(list2)"
   ]
  },
  {
   "cell_type": "code",
   "execution_count": 105,
   "id": "9995cce5",
   "metadata": {},
   "outputs": [
    {
     "name": "stdout",
     "output_type": "stream",
     "text": [
      "[123456, 987654321, 12345.891, 'This is list session', True, [123456, 1010101], 'List']\n"
     ]
    }
   ],
   "source": [
    "print(list4)"
   ]
  },
  {
   "cell_type": "code",
   "execution_count": 106,
   "id": "611e6f12",
   "metadata": {},
   "outputs": [
    {
     "data": {
      "text/plain": [
       "1"
      ]
     },
     "execution_count": 106,
     "metadata": {},
     "output_type": "execute_result"
    }
   ],
   "source": [
    "# count() - Count function returns the count of an element present in the list\n",
    "list1.count(True)"
   ]
  },
  {
   "cell_type": "code",
   "execution_count": 107,
   "id": "d92b53a1",
   "metadata": {},
   "outputs": [
    {
     "data": {
      "text/plain": [
       "0"
      ]
     },
     "execution_count": 107,
     "metadata": {},
     "output_type": "execute_result"
    }
   ],
   "source": [
    "list1.count(\"Dharan\")"
   ]
  },
  {
   "cell_type": "code",
   "execution_count": 108,
   "id": "99d1513a",
   "metadata": {},
   "outputs": [],
   "source": [
    "# appends individual elements into another list\n",
    "list1.extend([123456,1010101,True,False])"
   ]
  },
  {
   "cell_type": "code",
   "execution_count": 109,
   "id": "b261a97c",
   "metadata": {},
   "outputs": [
    {
     "name": "stdout",
     "output_type": "stream",
     "text": [
      "[123456, 987654321, 12345.891, 'This is list session', True, [123456, 1010101], 'List', 123456, 1010101, True, False]\n"
     ]
    }
   ],
   "source": [
    "print(list1)"
   ]
  },
  {
   "cell_type": "code",
   "execution_count": 110,
   "id": "2e56666b",
   "metadata": {},
   "outputs": [
    {
     "name": "stdout",
     "output_type": "stream",
     "text": [
      "4\n"
     ]
    }
   ],
   "source": [
    "# Returns index of individual element in the list\n",
    "print(list1.index(True))"
   ]
  },
  {
   "cell_type": "code",
   "execution_count": 111,
   "id": "ba91645f",
   "metadata": {},
   "outputs": [
    {
     "name": "stdout",
     "output_type": "stream",
     "text": [
      "[123456, 987654321, 12345.891, 'This is a new list after insert function usage', 'This is list session', True, [123456, 1010101], 'List', 123456, 1010101, True, False]\n"
     ]
    }
   ],
   "source": [
    "# Inserts an object at specific index position\n",
    "list1.insert(3,\"This is a new list after insert function usage\")\n",
    "print(list1)"
   ]
  },
  {
   "cell_type": "code",
   "execution_count": 112,
   "id": "3e07ef2b",
   "metadata": {},
   "outputs": [
    {
     "name": "stdout",
     "output_type": "stream",
     "text": [
      "[123456, 987654321, 12345.891, 'This is a new list after insert function usage', 'This is list session', True, [123456, 1010101], 'List', 123456, 1010101, True]\n"
     ]
    }
   ],
   "source": [
    "# removes the element from list with the help of index position, and the default value is -1\n",
    "list1.pop()\n",
    "print(list1)"
   ]
  },
  {
   "cell_type": "code",
   "execution_count": 113,
   "id": "8cf73cd4",
   "metadata": {},
   "outputs": [
    {
     "name": "stdout",
     "output_type": "stream",
     "text": [
      "[123456, 987654321, 12345.891, 'This is a new list after insert function usage', True, [123456, 1010101], 'List', 123456, 1010101, True]\n"
     ]
    }
   ],
   "source": [
    "# remove() removes the element by value\n",
    "list1.remove('This is list session')\n",
    "print(list1)"
   ]
  },
  {
   "cell_type": "code",
   "execution_count": 114,
   "id": "72d0a0ff",
   "metadata": {},
   "outputs": [],
   "source": [
    "# Sort is not valid for heterogenous lists"
   ]
  },
  {
   "cell_type": "code",
   "execution_count": 115,
   "id": "e3cbbfc3",
   "metadata": {},
   "outputs": [
    {
     "name": "stdout",
     "output_type": "stream",
     "text": [
      "[123456, 987654321, 12345.891, 'This is a new list after insert function usage', True, [123456, 1010101], 'List', 123456, 1010101, True]\n",
      "[True, 1010101, 123456, 'List', [123456, 1010101], True, 'This is a new list after insert function usage', 12345.891, 987654321, 123456]\n"
     ]
    }
   ],
   "source": [
    "print(list1)\n",
    "list1.reverse()\n",
    "print(list1)"
   ]
  },
  {
   "cell_type": "markdown",
   "id": "70c5cd82",
   "metadata": {},
   "source": [
    "#### Indexing and slicing in Lists"
   ]
  },
  {
   "cell_type": "code",
   "execution_count": 118,
   "id": "c51eff49",
   "metadata": {},
   "outputs": [
    {
     "name": "stdout",
     "output_type": "stream",
     "text": [
      "[True, 1010101, 123456, 'List', [123456, 1010101], True, 'This is a new list after insert function usage', 12345.891, 987654321, 123456]\n",
      "[123456, 987654321, 12345.891, 'This is a new list after insert function usage', True, [123456, 1010101], 'List', 123456, 1010101, True]\n"
     ]
    }
   ],
   "source": [
    "print(list1)\n",
    "print(list1[::-1])"
   ]
  },
  {
   "cell_type": "code",
   "execution_count": 119,
   "id": "3611bedd",
   "metadata": {},
   "outputs": [
    {
     "name": "stdout",
     "output_type": "stream",
     "text": [
      "True\n",
      "123456\n",
      "[True, 123456, [123456, 1010101], 'This is a new list after insert function usage', 987654321]\n"
     ]
    }
   ],
   "source": [
    "print(list1[0])\n",
    "print(list1[-1])\n",
    "print(list1[::2])"
   ]
  },
  {
   "cell_type": "code",
   "execution_count": 122,
   "id": "bcdeb7d1",
   "metadata": {},
   "outputs": [
    {
     "name": "stdout",
     "output_type": "stream",
     "text": [
      "[True, 1010101, 123456, 'List', [123456, 1010101], True, 'This is a new list after insert function usage', 12345.891, 987654321, 123456]\n"
     ]
    }
   ],
   "source": [
    "print(list1[0:len(list1)])"
   ]
  },
  {
   "cell_type": "code",
   "execution_count": 123,
   "id": "c83e82cc",
   "metadata": {},
   "outputs": [
    {
     "name": "stdout",
     "output_type": "stream",
     "text": [
      "1010101\n"
     ]
    }
   ],
   "source": [
    "# Accessing individual elements from mlist of list\n",
    "print(list1[4][1])"
   ]
  },
  {
   "cell_type": "markdown",
   "id": "0776fcc1",
   "metadata": {},
   "source": [
    "#### Tuples\n",
    "* tuples: Immutable collection of data objects\n",
    "* cant remove the elements from the tuples\n",
    "* empty tuple is represented by \"()\" or \"tuple()\"\n",
    "* tuples are faster than lists\n",
    "* when data is not meant to be changed, tuples are used\n",
    "* Tuples take less memory compared to list\n",
    "* tuples are static\n"
   ]
  },
  {
   "cell_type": "markdown",
   "id": "84d6a449",
   "metadata": {},
   "source": [
    "#### Sets\n",
    "* sets: well defined collection of unique elements\n",
    "* no duplicates are allowed\n",
    "* represented by set()"
   ]
  },
  {
   "cell_type": "markdown",
   "id": "1a90857e",
   "metadata": {},
   "source": [
    "#### Dictionaries\n",
    "* should follow uniqueness in terms of key\n",
    "* they are key, value pairs represented in between {}"
   ]
  },
  {
   "cell_type": "code",
   "execution_count": 125,
   "id": "537f7593",
   "metadata": {},
   "outputs": [],
   "source": [
    "# Empty tuple declaration\n",
    "tuple1=()\n",
    "tuple1=tuple()"
   ]
  },
  {
   "cell_type": "code",
   "execution_count": 131,
   "id": "5baee6f8",
   "metadata": {},
   "outputs": [],
   "source": [
    "tuple1=(123456,987654321,12345.891,\"This is list session\",123+66j,True,False,123456)"
   ]
  },
  {
   "cell_type": "code",
   "execution_count": 132,
   "id": "f4559753",
   "metadata": {},
   "outputs": [
    {
     "name": "stdout",
     "output_type": "stream",
     "text": [
      "2\n",
      "5\n"
     ]
    }
   ],
   "source": [
    "print(tuple1.count(123456))\n",
    "print(tuple1.index(True))"
   ]
  },
  {
   "cell_type": "code",
   "execution_count": 133,
   "id": "68a2abf9",
   "metadata": {},
   "outputs": [
    {
     "ename": "TypeError",
     "evalue": "'tuple' object does not support item assignment",
     "output_type": "error",
     "traceback": [
      "\u001b[1;31m---------------------------------------------------------------------------\u001b[0m",
      "\u001b[1;31mTypeError\u001b[0m                                 Traceback (most recent call last)",
      "\u001b[1;32m~\\AppData\\Local\\Temp\\ipykernel_15432\\3002042741.py\u001b[0m in \u001b[0;36m<module>\u001b[1;34m\u001b[0m\n\u001b[0;32m      1\u001b[0m \u001b[1;31m# can't update existing tuple value\u001b[0m\u001b[1;33m\u001b[0m\u001b[1;33m\u001b[0m\u001b[0m\n\u001b[1;32m----> 2\u001b[1;33m \u001b[0mtuple1\u001b[0m\u001b[1;33m[\u001b[0m\u001b[1;36m0\u001b[0m\u001b[1;33m]\u001b[0m\u001b[1;33m=\u001b[0m\u001b[1;36m1\u001b[0m\u001b[1;33m\u001b[0m\u001b[1;33m\u001b[0m\u001b[0m\n\u001b[0m",
      "\u001b[1;31mTypeError\u001b[0m: 'tuple' object does not support item assignment"
     ]
    }
   ],
   "source": [
    "# can't update existing tuple value\n",
    "tuple1[0]=1"
   ]
  },
  {
   "cell_type": "code",
   "execution_count": 134,
   "id": "3dcfc5aa",
   "metadata": {},
   "outputs": [
    {
     "name": "stdout",
     "output_type": "stream",
     "text": [
      "[True, 1010101, 123456, 'List', [123456, 1010101], True, 'This is a new list after insert function usage', 12345.891, 987654321, 123456]\n"
     ]
    }
   ],
   "source": [
    "print(list1)"
   ]
  },
  {
   "cell_type": "code",
   "execution_count": 135,
   "id": "91cba0a2",
   "metadata": {},
   "outputs": [
    {
     "name": "stdout",
     "output_type": "stream",
     "text": [
      "[False, 1010101, 123456, 'List', [123456, 1010101], True, 'This is a new list after insert function usage', 12345.891, 987654321, 123456]\n"
     ]
    }
   ],
   "source": [
    "# Updating of list is possible in the following way\n",
    "list1[0]=False\n",
    "print(list1)"
   ]
  },
  {
   "cell_type": "markdown",
   "id": "e23a3280",
   "metadata": {},
   "source": [
    "#### Sets\n",
    "* Sets are unique collection of items and no duplicate items are allowed\n",
    "* sets are unordered and has no index attached to any element\n",
    "* it is mutable and heterogenous collection\n",
    "* set is initialised with the help of set() function"
   ]
  },
  {
   "cell_type": "code",
   "execution_count": 136,
   "id": "bcad671f",
   "metadata": {},
   "outputs": [
    {
     "name": "stdout",
     "output_type": "stream",
     "text": [
      "<class 'set'>\n"
     ]
    }
   ],
   "source": [
    "set1=set()\n",
    "print(type(set1))"
   ]
  },
  {
   "cell_type": "code",
   "execution_count": 137,
   "id": "1f16c629",
   "metadata": {},
   "outputs": [],
   "source": [
    "set1={\"this is a set\",12345,\"Apple\",\"Grapes\",True,False,908172}"
   ]
  },
  {
   "cell_type": "code",
   "execution_count": 138,
   "id": "12349957",
   "metadata": {},
   "outputs": [],
   "source": [
    "A={'A',\"B\",\"C\",\"D\",\"F\",\"H\"}\n",
    "B={\"G\",\"H\",\"I\",\"F\",\"D\"}\n",
    "C={\"A\",\"N\",\"O\",\"P\",\"H\",\"D\"}"
   ]
  },
  {
   "cell_type": "code",
   "execution_count": 140,
   "id": "211bc9f8",
   "metadata": {},
   "outputs": [
    {
     "data": {
      "text/plain": [
       "{'D', 'F', 'H'}"
      ]
     },
     "execution_count": 140,
     "metadata": {},
     "output_type": "execute_result"
    }
   ],
   "source": [
    "A.intersection(B)"
   ]
  },
  {
   "cell_type": "code",
   "execution_count": 141,
   "id": "7bacfe94",
   "metadata": {},
   "outputs": [
    {
     "data": {
      "text/plain": [
       "{'D', 'H'}"
      ]
     },
     "execution_count": 141,
     "metadata": {},
     "output_type": "execute_result"
    }
   ],
   "source": [
    "A.intersection(B,C)"
   ]
  },
  {
   "cell_type": "code",
   "execution_count": 142,
   "id": "3977c1e6",
   "metadata": {},
   "outputs": [
    {
     "data": {
      "text/plain": [
       "{'D', 'H'}"
      ]
     },
     "execution_count": 142,
     "metadata": {},
     "output_type": "execute_result"
    }
   ],
   "source": [
    "# Alternative method for Intersection\n",
    "A&B&C"
   ]
  },
  {
   "cell_type": "code",
   "execution_count": 143,
   "id": "f7cca624",
   "metadata": {},
   "outputs": [
    {
     "data": {
      "text/plain": [
       "{'A', 'B', 'C', 'D', 'F', 'G', 'H', 'I', 'N', 'O', 'P'}"
      ]
     },
     "execution_count": 143,
     "metadata": {},
     "output_type": "execute_result"
    }
   ],
   "source": [
    "A|B|C"
   ]
  },
  {
   "cell_type": "code",
   "execution_count": 145,
   "id": "b7351765",
   "metadata": {},
   "outputs": [
    {
     "data": {
      "text/plain": [
       "{'A', 'B', 'C', 'D', 'F', 'G', 'H', 'I', 'N', 'O', 'P'}"
      ]
     },
     "execution_count": 145,
     "metadata": {},
     "output_type": "execute_result"
    }
   ],
   "source": [
    "# Alternative method for union of sets\n",
    "A.union(B,C)"
   ]
  },
  {
   "cell_type": "code",
   "execution_count": 146,
   "id": "ef855efc",
   "metadata": {},
   "outputs": [
    {
     "data": {
      "text/plain": [
       "{'A', 'B', 'C'}"
      ]
     },
     "execution_count": 146,
     "metadata": {},
     "output_type": "execute_result"
    }
   ],
   "source": [
    "A.difference(B)"
   ]
  },
  {
   "cell_type": "code",
   "execution_count": 147,
   "id": "6eb3d972",
   "metadata": {},
   "outputs": [
    {
     "data": {
      "text/plain": [
       "{'A', 'B', 'C'}"
      ]
     },
     "execution_count": 147,
     "metadata": {},
     "output_type": "execute_result"
    }
   ],
   "source": [
    "A-B"
   ]
  },
  {
   "cell_type": "code",
   "execution_count": 148,
   "id": "04a8cfd3",
   "metadata": {},
   "outputs": [
    {
     "data": {
      "text/plain": [
       "{'G', 'I'}"
      ]
     },
     "execution_count": 148,
     "metadata": {},
     "output_type": "execute_result"
    }
   ],
   "source": [
    "B-A"
   ]
  },
  {
   "cell_type": "code",
   "execution_count": 149,
   "id": "afc86fe4",
   "metadata": {},
   "outputs": [
    {
     "name": "stdout",
     "output_type": "stream",
     "text": [
      "{False, True, 'Papaya', 1234567, 'Apple', (23+66j)}\n"
     ]
    }
   ],
   "source": [
    "myset1={1234567,True,False,\"Apple\",\"Papaya\",23+66j}\n",
    "print(myset1)"
   ]
  },
  {
   "cell_type": "code",
   "execution_count": 150,
   "id": "1787c6f9",
   "metadata": {},
   "outputs": [],
   "source": [
    "# adding is for individual values\n",
    "myset1.add(1010101)"
   ]
  },
  {
   "cell_type": "code",
   "execution_count": 155,
   "id": "ae5c2274",
   "metadata": {},
   "outputs": [
    {
     "name": "stdout",
     "output_type": "stream",
     "text": [
      "{False, True, 'Papaya', 1010101, 1234567, 'Apple', (23+66j)}\n"
     ]
    }
   ],
   "source": [
    "print(myset1)"
   ]
  },
  {
   "cell_type": "code",
   "execution_count": 156,
   "id": "78cc023f",
   "metadata": {},
   "outputs": [],
   "source": [
    "# To update existing set with multiple values at once\n",
    "myset1.update([\"ten\",\"eleven\",\"twelve\"])"
   ]
  },
  {
   "cell_type": "code",
   "execution_count": 159,
   "id": "6804a698",
   "metadata": {},
   "outputs": [
    {
     "name": "stdout",
     "output_type": "stream",
     "text": [
      "{False, True, 1234567, 'Apple', 'twelve', 'Papaya', (23+66j), 'eleven', 1010101, 'ten'}\n"
     ]
    }
   ],
   "source": [
    "print(myset1)"
   ]
  },
  {
   "cell_type": "code",
   "execution_count": 160,
   "id": "cefacd52",
   "metadata": {},
   "outputs": [
    {
     "data": {
      "text/plain": [
       "False"
      ]
     },
     "execution_count": 160,
     "metadata": {},
     "output_type": "execute_result"
    }
   ],
   "source": [
    "myset1.pop()"
   ]
  },
  {
   "cell_type": "code",
   "execution_count": 169,
   "id": "26e4175a",
   "metadata": {},
   "outputs": [],
   "source": [
    "list1=[123456, 987654321, 12345.891, True,True, False, True, [123456, 1010101], 'List', 123456, 1010101, True]"
   ]
  },
  {
   "cell_type": "code",
   "execution_count": 170,
   "id": "a0ee711b",
   "metadata": {},
   "outputs": [
    {
     "data": {
      "text/plain": [
       "123456"
      ]
     },
     "execution_count": 170,
     "metadata": {},
     "output_type": "execute_result"
    }
   ],
   "source": [
    "list1.pop(0)"
   ]
  },
  {
   "cell_type": "code",
   "execution_count": 171,
   "id": "454731ea",
   "metadata": {},
   "outputs": [
    {
     "name": "stdout",
     "output_type": "stream",
     "text": [
      "[987654321, 12345.891, True, False, True, [123456, 1010101], 'List', 123456, 1010101, True]\n"
     ]
    }
   ],
   "source": [
    "list1.remove(1)\n",
    "print(list1)"
   ]
  },
  {
   "cell_type": "code",
   "execution_count": 172,
   "id": "ab263613",
   "metadata": {},
   "outputs": [
    {
     "name": "stdout",
     "output_type": "stream",
     "text": [
      "[987654321, 12345.891, True, True, [123456, 1010101], 'List', 123456, 1010101, True]\n"
     ]
    }
   ],
   "source": [
    "list1.remove(0)\n",
    "print(list1)"
   ]
  },
  {
   "cell_type": "markdown",
   "id": "85d2dda6",
   "metadata": {},
   "source": [
    "#### Dictionary\n",
    "* mutable collections of keys and values pair, where keys are unique, but the values may or may not be unique\n",
    "* The values inside the dict can be altered"
   ]
  },
  {
   "cell_type": "code",
   "execution_count": 173,
   "id": "c8a6cb83",
   "metadata": {},
   "outputs": [
    {
     "name": "stdout",
     "output_type": "stream",
     "text": [
      "<class 'dict'>\n"
     ]
    }
   ],
   "source": [
    "dict1={}\n",
    "print(type(dict1))"
   ]
  },
  {
   "cell_type": "code",
   "execution_count": 175,
   "id": "677a1530",
   "metadata": {},
   "outputs": [],
   "source": [
    "first_emp={\"empid\":\"TEK1001\",\"name\":\"Dharan\",\"age\":21,\"city\":\"Hyderabad\"}"
   ]
  },
  {
   "cell_type": "code",
   "execution_count": 176,
   "id": "d86711e4",
   "metadata": {},
   "outputs": [
    {
     "name": "stdout",
     "output_type": "stream",
     "text": [
      "{'empid': 'TEK1001', 'name': 'Dharan', 'age': 21, 'city': 'Hyderabad'}\n"
     ]
    }
   ],
   "source": [
    "print(first_emp)"
   ]
  },
  {
   "cell_type": "code",
   "execution_count": 177,
   "id": "385a45dd",
   "metadata": {},
   "outputs": [
    {
     "name": "stdout",
     "output_type": "stream",
     "text": [
      "{'A': 'Apple', 'B': 'Banana', 'C': 'Carrot', 'G': 'Grapes'}\n"
     ]
    }
   ],
   "source": [
    "fruit_basket=dict([(\"A\",\"Apple\"),(\"B\",\"Banana\"),(\"C\",\"Carrot\"),(\"G\",\"Grapes\")])\n",
    "print(fruit_basket)"
   ]
  },
  {
   "cell_type": "code",
   "execution_count": 178,
   "id": "cbafe354",
   "metadata": {},
   "outputs": [
    {
     "data": {
      "text/plain": [
       "dict_items([('empid', 'TEK1001'), ('name', 'Dharan'), ('age', 21), ('city', 'Hyderabad')])"
      ]
     },
     "execution_count": 178,
     "metadata": {},
     "output_type": "execute_result"
    }
   ],
   "source": [
    "# return list of tuples of items present in the dict()\n",
    "first_emp.items()"
   ]
  },
  {
   "cell_type": "code",
   "execution_count": 179,
   "id": "b01791f0",
   "metadata": {},
   "outputs": [
    {
     "data": {
      "text/plain": [
       "dict_keys(['empid', 'name', 'age', 'city'])"
      ]
     },
     "execution_count": 179,
     "metadata": {},
     "output_type": "execute_result"
    }
   ],
   "source": [
    "first_emp.keys()"
   ]
  },
  {
   "cell_type": "code",
   "execution_count": 180,
   "id": "20ba5110",
   "metadata": {},
   "outputs": [
    {
     "data": {
      "text/plain": [
       "dict_values(['TEK1001', 'Dharan', 21, 'Hyderabad'])"
      ]
     },
     "execution_count": 180,
     "metadata": {},
     "output_type": "execute_result"
    }
   ],
   "source": [
    "first_emp.values()"
   ]
  },
  {
   "cell_type": "code",
   "execution_count": 182,
   "id": "1af9e884",
   "metadata": {},
   "outputs": [
    {
     "data": {
      "text/plain": [
       "'TEK1001'"
      ]
     },
     "execution_count": 182,
     "metadata": {},
     "output_type": "execute_result"
    }
   ],
   "source": [
    "# keys from dict are used to fetch values\n",
    "first_emp[\"empid\"]"
   ]
  },
  {
   "cell_type": "code",
   "execution_count": 183,
   "id": "f37080af",
   "metadata": {},
   "outputs": [],
   "source": [
    "# Creating a new key for an existing dict()\n",
    "first_emp[\"Salary\"]=60000"
   ]
  },
  {
   "cell_type": "code",
   "execution_count": 184,
   "id": "d715f15a",
   "metadata": {},
   "outputs": [
    {
     "name": "stdout",
     "output_type": "stream",
     "text": [
      "{'empid': 'TEK1001', 'name': 'Dharan', 'age': 21, 'city': 'Hyderabad', 'Salary': 60000}\n"
     ]
    }
   ],
   "source": [
    "print(first_emp)"
   ]
  },
  {
   "cell_type": "code",
   "execution_count": 187,
   "id": "a5064e06",
   "metadata": {},
   "outputs": [
    {
     "name": "stdout",
     "output_type": "stream",
     "text": [
      "{'empid': 'TEK1001', 'name': 'Dharan', 'age': 22, 'city': 'Hyderabad', 'Salary': 60000}\n"
     ]
    }
   ],
   "source": [
    "first_emp[\"age\"]=22\n",
    "print(first_emp)"
   ]
  },
  {
   "cell_type": "code",
   "execution_count": 188,
   "id": "694b1202",
   "metadata": {},
   "outputs": [
    {
     "name": "stdout",
     "output_type": "stream",
     "text": [
      "{'empid': 'TEK1001', 'name': 'Dharan', 'age': 22, 'city': 'Bangalore', 'Salary': 60000}\n"
     ]
    }
   ],
   "source": [
    "# Update method is used to update the prev dict with the new dict with the new values\n",
    "# dict1={}\n",
    "# dict2={}\n",
    "# dict1.update(dict2)\n",
    "\n",
    "first_emp.update({\"city\":\"Bangalore\"})\n",
    "print(first_emp)"
   ]
  },
  {
   "cell_type": "code",
   "execution_count": 189,
   "id": "550dbbd7",
   "metadata": {},
   "outputs": [
    {
     "data": {
      "text/plain": [
       "'TEK1001'"
      ]
     },
     "execution_count": 189,
     "metadata": {},
     "output_type": "execute_result"
    }
   ],
   "source": [
    "# Removes the values by using key\n",
    "first_emp.pop(\"empid\")"
   ]
  },
  {
   "cell_type": "code",
   "execution_count": 191,
   "id": "c5441c41",
   "metadata": {},
   "outputs": [
    {
     "name": "stdout",
     "output_type": "stream",
     "text": [
      "{'name': 'Dharan', 'age': 22, 'city': 'Bangalore', 'Salary': 60000}\n"
     ]
    }
   ],
   "source": [
    "print(first_emp)"
   ]
  },
  {
   "cell_type": "markdown",
   "id": "3b3147e9",
   "metadata": {},
   "source": [
    "#### Nested Dictionary\n",
    "* Dicts inside another dict()\n",
    "* Used to store heterogenous data types in a structured format"
   ]
  },
  {
   "cell_type": "code",
   "execution_count": 205,
   "id": "fed8dc15",
   "metadata": {},
   "outputs": [],
   "source": [
    "teksystems={\n",
    "    \"firstemp\":{\n",
    "        \"empid\":101,\n",
    "        \"name\":\"Dharan\",\n",
    "        \"salary\":60000\n",
    "    },\n",
    "    \"secondemp\":{\n",
    "        \"empid\":102,\n",
    "        \"name\":\"Tarandeep\",\n",
    "        \"salary\":62000\n",
    "    },\n",
    "    \"thirdemp\":{\n",
    "        \"empid\":103,\n",
    "        \"name\":\"Charan\",\n",
    "        \"salary\":61000\n",
    "    },\n",
    "    \"sampleemp\":{\n",
    "        \"empid\":104,\n",
    "        \"name\":{\n",
    "            \"surname\":\"Pusthakala\",\n",
    "            \"firstname\":\"Dharan\",\n",
    "            \"lastname\":\"Tej\"\n",
    "        },\n",
    "        \"salary\":{\n",
    "            \"pf\":10000,\n",
    "            \"base\":100000,\n",
    "            \"hra\":12000\n",
    "        }\n",
    "    }\n",
    "}"
   ]
  },
  {
   "cell_type": "code",
   "execution_count": 206,
   "id": "f73f5286",
   "metadata": {},
   "outputs": [
    {
     "name": "stdout",
     "output_type": "stream",
     "text": [
      "{'empid': 101, 'name': 'Dharan', 'salary': 60000}\n"
     ]
    }
   ],
   "source": [
    "print(teksystems[\"firstemp\"])"
   ]
  },
  {
   "cell_type": "code",
   "execution_count": 207,
   "id": "2ec8629d",
   "metadata": {},
   "outputs": [
    {
     "name": "stdout",
     "output_type": "stream",
     "text": [
      "Dharan\n"
     ]
    }
   ],
   "source": [
    "print(teksystems[\"firstemp\"][\"name\"])"
   ]
  },
  {
   "cell_type": "code",
   "execution_count": 208,
   "id": "b2ef1275",
   "metadata": {},
   "outputs": [
    {
     "name": "stdout",
     "output_type": "stream",
     "text": [
      "{'empid': 101, 'name': 'Dharan', 'salary': 100000}\n",
      "100000\n"
     ]
    }
   ],
   "source": [
    "# Modifying the elements of the nested dictionaries\n",
    "teksystems[\"firstemp\"][\"salary\"]=100000\n",
    "print(teksystems[\"firstemp\"])\n",
    "print(teksystems[\"firstemp\"][\"salary\"])"
   ]
  },
  {
   "cell_type": "code",
   "execution_count": 209,
   "id": "988672bf",
   "metadata": {},
   "outputs": [
    {
     "name": "stdout",
     "output_type": "stream",
     "text": [
      "{'empid': 104, 'name': {'surname': 'Pusthakala', 'firstname': 'Dharan', 'lastname': 'Tej'}, 'salary': {'pf': 10000, 'base': 100000, 'hra': 12000}}\n"
     ]
    }
   ],
   "source": [
    "print(teksystems[\"sampleemp\"])"
   ]
  },
  {
   "cell_type": "code",
   "execution_count": 210,
   "id": "145f952b",
   "metadata": {},
   "outputs": [
    {
     "name": "stdout",
     "output_type": "stream",
     "text": [
      "{'surname': 'Pusthakala', 'firstname': 'Dharan', 'lastname': 'Tej'}\n"
     ]
    }
   ],
   "source": [
    "print(teksystems[\"sampleemp\"][\"name\"])"
   ]
  },
  {
   "cell_type": "code",
   "execution_count": 211,
   "id": "e05940e3",
   "metadata": {},
   "outputs": [
    {
     "name": "stdout",
     "output_type": "stream",
     "text": [
      "Pusthakala\n"
     ]
    }
   ],
   "source": [
    "print(teksystems[\"sampleemp\"][\"name\"][\"surname\"])"
   ]
  },
  {
   "cell_type": "code",
   "execution_count": 212,
   "id": "ee0e4019",
   "metadata": {},
   "outputs": [
    {
     "name": "stdout",
     "output_type": "stream",
     "text": [
      "{'pf': 10000, 'base': 100000, 'hra': 12000}\n"
     ]
    }
   ],
   "source": [
    "print(teksystems[\"sampleemp\"][\"salary\"])"
   ]
  },
  {
   "cell_type": "code",
   "execution_count": 213,
   "id": "88603a07",
   "metadata": {},
   "outputs": [
    {
     "name": "stdout",
     "output_type": "stream",
     "text": [
      "100000\n"
     ]
    }
   ],
   "source": [
    "print(teksystems[\"sampleemp\"][\"salary\"][\"base\"])"
   ]
  },
  {
   "cell_type": "markdown",
   "id": "091e7561",
   "metadata": {},
   "source": [
    "## Unassisted Practice Questions"
   ]
  },
  {
   "cell_type": "markdown",
   "id": "d7d12d3c",
   "metadata": {},
   "source": [
    "1. Create nested Dictionary\n",
    "2. Create 3 dicts then create one dict that will contain the other 3 dicts\n",
    "3. Access key-values using get() method\n",
    "4. Update an existing key's values\n",
    "5. Check if key exists?\n",
    "6. Delete entire dict\n",
    "7. Make a copy of dict using copy() method"
   ]
  },
  {
   "cell_type": "markdown",
   "id": "ffded219",
   "metadata": {},
   "source": [
    "## Codes"
   ]
  },
  {
   "cell_type": "code",
   "execution_count": 266,
   "id": "16c799b0",
   "metadata": {},
   "outputs": [],
   "source": [
    "#1\n",
    "teksystems={\n",
    "    \"firstemp\":{\n",
    "        \"empid\":101,\n",
    "        \"name\":\"Dharan\",\n",
    "        \"salary\":60000\n",
    "    },\n",
    "    \"secondemp\":{\n",
    "        \"empid\":102,\n",
    "        \"name\":\"Tarandeep\",\n",
    "        \"salary\":62000\n",
    "    },\n",
    "    \"thirdemp\":{\n",
    "        \"empid\":103,\n",
    "        \"name\":\"Charan\",\n",
    "        \"salary\":61000\n",
    "    },\n",
    "    \"sampleemp\":{\n",
    "        \"empid\":104,\n",
    "        \"name\":{\n",
    "            \"surname\":\"Pusthakala\",\n",
    "            \"firstname\":\"Dharan\",\n",
    "            \"lastname\":\"Tej\"\n",
    "        },\n",
    "        \"salary\":{\n",
    "            \"pf\":10000,\n",
    "            \"base\":100000,\n",
    "            \"hra\":12000\n",
    "        }\n",
    "    }\n",
    "}"
   ]
  },
  {
   "cell_type": "code",
   "execution_count": 267,
   "id": "0142aab5",
   "metadata": {},
   "outputs": [
    {
     "name": "stdout",
     "output_type": "stream",
     "text": [
      "{'first': {'name': 'abc', 'place': 'def'}, 'second': {'name': 'ghi', 'place': 'jkl'}, 'third': {'name': 'mno', 'place': 'pqr'}}\n"
     ]
    }
   ],
   "source": [
    "#2\n",
    "dictone=[(\"name\",\"abc\"),(\"place\",\"def\")]\n",
    "dicttwo=[(\"name\",\"ghi\"),(\"place\",\"jkl\")]\n",
    "dictthree=[(\"name\",\"mno\"),(\"place\",\"pqr\")]\n",
    "finaldict={\n",
    "    \"first\":dict(dictone),\n",
    "    \"second\":dict(dicttwo),\n",
    "    \"third\":dict(dictthree)\n",
    "}\n",
    "\n",
    "print(finaldict)"
   ]
  },
  {
   "cell_type": "code",
   "execution_count": 268,
   "id": "a5d28798",
   "metadata": {},
   "outputs": [
    {
     "data": {
      "text/plain": [
       "'Dharan'"
      ]
     },
     "execution_count": 268,
     "metadata": {},
     "output_type": "execute_result"
    }
   ],
   "source": [
    "#3\n",
    "teksystems.get(\"firstemp\").get(\"name\")"
   ]
  },
  {
   "cell_type": "code",
   "execution_count": 269,
   "id": "884ae100",
   "metadata": {},
   "outputs": [
    {
     "name": "stdout",
     "output_type": "stream",
     "text": [
      "{'empid': 100, 'name': 'Dharan', 'salary': 60000}\n"
     ]
    }
   ],
   "source": [
    "#4\n",
    "teksystems[\"firstemp\"][\"empid\"]=100\n",
    "print(teksystems[\"firstemp\"])"
   ]
  },
  {
   "cell_type": "code",
   "execution_count": 270,
   "id": "1ab850d7",
   "metadata": {},
   "outputs": [
    {
     "name": "stdout",
     "output_type": "stream",
     "text": [
      "{'empid': 100, 'name': 'Dharan', 'salary': 60000}\n"
     ]
    }
   ],
   "source": [
    "#5\n",
    "# ans=False\n",
    "# for i in teksystems.keys():\n",
    "#     if i==\"firstemp\":\n",
    "#         ans=True\n",
    "#         break\n",
    "#     else:\n",
    "#         ans=False\n",
    "# print(ans)\n",
    "\n",
    "# or\n",
    "\n",
    "print(teksystems.get(\"firstemp\"))"
   ]
  },
  {
   "cell_type": "code",
   "execution_count": 271,
   "id": "b2f7d343",
   "metadata": {},
   "outputs": [
    {
     "name": "stdout",
     "output_type": "stream",
     "text": [
      "{'firstemp': {'empid': 100, 'name': 'Dharan', 'salary': 60000}, 'secondemp': {'empid': 102, 'name': 'Tarandeep', 'salary': 62000}, 'thirdemp': {'empid': 103, 'name': 'Charan', 'salary': 61000}, 'sampleemp': {'empid': 104, 'name': {'surname': 'Pusthakala', 'firstname': 'Dharan', 'lastname': 'Tej'}, 'salary': {'pf': 10000, 'base': 100000, 'hra': 12000}}}\n"
     ]
    }
   ],
   "source": [
    "#7\n",
    "teksystemscopy=teksystems.copy()\n",
    "print(teksystemscopy)"
   ]
  },
  {
   "cell_type": "code",
   "execution_count": 264,
   "id": "8af2fc8c",
   "metadata": {},
   "outputs": [
    {
     "ename": "NameError",
     "evalue": "name 'teksystems' is not defined",
     "output_type": "error",
     "traceback": [
      "\u001b[1;31m---------------------------------------------------------------------------\u001b[0m",
      "\u001b[1;31mNameError\u001b[0m                                 Traceback (most recent call last)",
      "\u001b[1;32m~\\AppData\\Local\\Temp\\ipykernel_15432\\3799768669.py\u001b[0m in \u001b[0;36m<module>\u001b[1;34m\u001b[0m\n\u001b[0;32m      1\u001b[0m \u001b[1;31m#6\u001b[0m\u001b[1;33m\u001b[0m\u001b[1;33m\u001b[0m\u001b[0m\n\u001b[0;32m      2\u001b[0m \u001b[1;32mdel\u001b[0m\u001b[1;33m(\u001b[0m\u001b[0mteksystems\u001b[0m\u001b[1;33m)\u001b[0m\u001b[1;33m\u001b[0m\u001b[1;33m\u001b[0m\u001b[0m\n\u001b[1;32m----> 3\u001b[1;33m \u001b[0mprint\u001b[0m\u001b[1;33m(\u001b[0m\u001b[0mteksystems\u001b[0m\u001b[1;33m)\u001b[0m\u001b[1;33m\u001b[0m\u001b[1;33m\u001b[0m\u001b[0m\n\u001b[0m",
      "\u001b[1;31mNameError\u001b[0m: name 'teksystems' is not defined"
     ]
    }
   ],
   "source": [
    "#6\n",
    "del(teksystems)\n",
    "print(teksystems)"
   ]
  },
  {
   "cell_type": "code",
   "execution_count": null,
   "id": "fe3735ae",
   "metadata": {},
   "outputs": [],
   "source": []
  }
 ],
 "metadata": {
  "kernelspec": {
   "display_name": "Python 3 (ipykernel)",
   "language": "python",
   "name": "python3"
  },
  "language_info": {
   "codemirror_mode": {
    "name": "ipython",
    "version": 3
   },
   "file_extension": ".py",
   "mimetype": "text/x-python",
   "name": "python",
   "nbconvert_exporter": "python",
   "pygments_lexer": "ipython3",
   "version": "3.9.13"
  }
 },
 "nbformat": 4,
 "nbformat_minor": 5
}
