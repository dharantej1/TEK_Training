{
 "cells": [
  {
   "cell_type": "markdown",
   "id": "5f1fe116-e7cf-45e1-86a5-473445d9952f",
   "metadata": {},
   "source": [
    "### 1. Using keys and indexing, grab the 'hello' afrom the following dictionary"
   ]
  },
  {
   "cell_type": "code",
   "execution_count": 1,
   "id": "061e2dba-e128-4942-be35-b45c680d013c",
   "metadata": {},
   "outputs": [
    {
     "name": "stdout",
     "output_type": "stream",
     "text": [
      "hello\n"
     ]
    }
   ],
   "source": [
    "d = {'k1':[1,2,{'k2':['this is tricky',{'tough':[1,2,['hello']]}]}]}\n",
    "\n",
    "print(\"\".join(d[\"k1\"][2][\"k2\"][1][\"tough\"][2]))"
   ]
  },
  {
   "cell_type": "markdown",
   "id": "689c01fb-3911-40be-8e0b-00a8eab4dd18",
   "metadata": {},
   "source": [
    "### 2. Write a Python function that takes a list and returns a new list with unique elements of the first list.\n",
    "**!!!! DO NOT USE list(set())**  \\\n",
    "    Sample List : [1,1,1,1,2,2,3,3,3,3,4,5]   \\\n",
    "    Unique List : [1, 2, 3, 4, 5]"
   ]
  },
  {
   "cell_type": "code",
   "execution_count": 2,
   "id": "f11705d9",
   "metadata": {},
   "outputs": [
    {
     "name": "stdout",
     "output_type": "stream",
     "text": [
      "[1, 2, 3, 4, 5]\n"
     ]
    }
   ],
   "source": [
    "sample_list=[1,1,1,1,2,2,3,3,3,3,4,5]\n",
    "unique_list=[]\n",
    "\n",
    "for i in sample_list:\n",
    "    if i not in unique_list:\n",
    "        unique_list.append(i)\n",
    "print(unique_list)"
   ]
  },
  {
   "cell_type": "markdown",
   "id": "cb41f026-decb-4b3c-9fb7-b27c2646fb04",
   "metadata": {},
   "source": [
    "### 3. Write a Python function that accepts a string and calculates the number of upper case letters and lower case letters.\n",
    "\n",
    "    Sample String : 'Hello Mr. Roshan, how are you this fine Tuesday?'\n",
    "    Expected Output : \n",
    "    No. of Upper case characters : 4\n",
    "    No. of Lower case Characters : 33"
   ]
  },
  {
   "cell_type": "code",
   "execution_count": 3,
   "id": "4043fba0",
   "metadata": {},
   "outputs": [
    {
     "name": "stdout",
     "output_type": "stream",
     "text": [
      "Number of Upper case characters: 15\n",
      "Number of Lower case characters: 33\n"
     ]
    }
   ],
   "source": [
    "sample_string='Hello Mr. Roshan, how are you this fine Tuesday?'\n",
    "upper,lower=0,0\n",
    "for i in sample_string:\n",
    "    if i==i.upper():\n",
    "        upper+=1\n",
    "    elif i==i.lower():\n",
    "        lower+=1\n",
    "    else: continue\n",
    "print(\"Number of Upper case characters: {}\".format(upper))\n",
    "print(\"Number of Lower case characters: {}\".format(lower))\n"
   ]
  },
  {
   "cell_type": "markdown",
   "id": "8a0e1caf-e446-40e5-9418-348d5a9394d2",
   "metadata": {},
   "source": [
    "### 4.Create & Read a file constitution.txt. Create a dictionary with an entry for each letter in the alphabet. The keys are letters and the values will be the counts of the number of times a letter has viewed. Go through each character in data, skipping characters that aren't letters. For every letter, increment the count stored in letter_counts for that letter. Create a bar chart for the letter frequencies."
   ]
  },
  {
   "cell_type": "code",
   "execution_count": 4,
   "id": "7a99893b",
   "metadata": {},
   "outputs": [],
   "source": [
    "file=open(\"./constitution.txt\",\"w\")\n",
    "file.write(\"Hello World, I am writing the content to this file for testing purpose\")\n",
    "file.close()"
   ]
  },
  {
   "cell_type": "code",
   "execution_count": 5,
   "id": "ce805db2",
   "metadata": {},
   "outputs": [
    {
     "data": {
      "text/plain": [
       "'Hello World, I am writing the content to this file for testing purpose'"
      ]
     },
     "execution_count": 5,
     "metadata": {},
     "output_type": "execute_result"
    }
   ],
   "source": [
    "file=open(\"./constitution.txt\",\"r\")\n",
    "file.read()"
   ]
  },
  {
   "cell_type": "code",
   "execution_count": 6,
   "id": "cb96315f",
   "metadata": {},
   "outputs": [],
   "source": [
    "file.close()"
   ]
  },
  {
   "cell_type": "code",
   "execution_count": 7,
   "id": "6c09865c",
   "metadata": {},
   "outputs": [
    {
     "name": "stdout",
     "output_type": "stream",
     "text": [
      "{'H': 1, 'e': 6, 'l': 4, 'o': 6, 'W': 1, 'r': 4, 'd': 1, 'I': 1, 'a': 1, 'm': 1, 'w': 1, 'i': 5, 't': 8, 'n': 4, 'g': 2, 'h': 2, 'c': 1, 's': 3, 'f': 2, 'p': 2, 'u': 1}\n"
     ]
    }
   ],
   "source": [
    "letter_count={}\n",
    "file=open(\"./constitution.txt\",\"r\")\n",
    "_string=file.read()\n",
    "for i in _string:\n",
    "    if i.isalpha():\n",
    "        if i in letter_count.keys():\n",
    "            letter_count[i]+=1\n",
    "        else:\n",
    "            letter_count[i]=1\n",
    "    else:\n",
    "        continue\n",
    "print(letter_count)"
   ]
  },
  {
   "cell_type": "markdown",
   "id": "d9efe72b-87cb-4430-8a82-05e5050f92bc",
   "metadata": {},
   "source": [
    "### 5. For this challenge,\n",
    "\n",
    "Create a bank account class that has two attributes:\n",
    "\n",
    "owner balance and two methods:\n",
    "\n",
    "deposit withdraw As an added requirement, withdrawals may not exceed the available balance.\n",
    "\n",
    "Instantiate your class, make several deposits and withdrawals, and test to make sure the account can't be overdrawn."
   ]
  },
  {
   "cell_type": "code",
   "execution_count": 8,
   "id": "ee866824",
   "metadata": {},
   "outputs": [
    {
     "name": "stdout",
     "output_type": "stream",
     "text": [
      "100 Rs have been deposited\n",
      "10 Rs have been withdrawn\n",
      "Dharan's' Bank Account has 10090 Rs \n"
     ]
    }
   ],
   "source": [
    "class BankAccount1:\n",
    "    def __init__(self,owner,balance):\n",
    "        self.owner = owner\n",
    "        self.balance = balance\n",
    "    def depoist(self,dep):\n",
    "        self.balance = self.balance+dep\n",
    "        print(\"{} Rs have been deposited\".format(dep))\n",
    "    def withdraw(self,wid):\n",
    "        if self.balance>=wid:\n",
    "            self.balance-=wid\n",
    "            print(\"{} Rs have been withdrawn\".format(wid))\n",
    "        else:\n",
    "            print('Inssufiecnet fynds')\n",
    "    def display_details(self):\n",
    "        print(\"{}'s' Bank Account has {} Rs \".format(self.owner,self.balance))\n",
    "person1 =BankAccount1(\"Dharan\",10000)\n",
    "person1.depoist(100)\n",
    "person1.withdraw(10)\n",
    "person1.display_details()"
   ]
  },
  {
   "cell_type": "markdown",
   "id": "9d59550f-c8a5-4149-ad3f-f275a39c8086",
   "metadata": {},
   "source": [
    "### 6. Playing Cards\n",
    "4 suits (Hearts, Diamonds, Spades and Clubs)\n",
    "13 ranks (2 through 10, then the face cards Jack, Queen, King and Ace)\n",
    "\n",
    "    -- Total 52 Cards\n",
    "\n",
    "### The Game\n",
    " Jacks, Queens and Kings all have a rank of 10. Aces have a rank of either 11 or 1 as needed to reach 21 without busting. As a starting point in your program, you may want to assign variables to store a list of suits, ranks, and then use a dictionary to map ranks to values.\n",
    " 1. Create a deck of 52 cards\n",
    " 2. Shuffle the deck.\n",
    " 3. Display the winner if somebody's getting an Ace."
   ]
  },
  {
   "cell_type": "code",
   "execution_count": null,
   "id": "84fafa93",
   "metadata": {},
   "outputs": [],
   "source": []
  },
  {
   "cell_type": "markdown",
   "id": "1d243239-dc35-4280-9e41-d75ea100b58d",
   "metadata": {},
   "source": [
    "### 7. Generate Password: 17 characters , minimum 1 Uppercase, 1 lowercase, 1 digits and 2 minimun special characters"
   ]
  },
  {
   "cell_type": "code",
   "execution_count": 9,
   "id": "d142e1bf",
   "metadata": {},
   "outputs": [
    {
     "name": "stdout",
     "output_type": "stream",
     "text": [
      "kY8%!EqXPmBGzvJwg 17\n"
     ]
    }
   ],
   "source": [
    "import random\n",
    "password=\"\"\n",
    "lowercase=\"abcdefghijklmnopqrstuvwxyz\"\n",
    "uppercase=lowercase.upper()\n",
    "letters=lowercase+uppercase\n",
    "digits=\"0123456789\"\n",
    "special_chars=\"!@#$%^&*()_+:,./~`-=\"\n",
    "password+=lowercase[random.randint(0,25)]\n",
    "password+=uppercase[random.randint(0,25)]\n",
    "password+=digits[random.randint(0,9)]\n",
    "for _ in range(2):\n",
    "    password+=special_chars[random.randint(0,len(special_chars)-1)]\n",
    "while len(password)!=17:\n",
    "    password+=letters[random.randint(0,len(letters)-1)]\n",
    "print(password, len(password))"
   ]
  },
  {
   "cell_type": "markdown",
   "id": "5090a46a-a0f2-45e5-b058-f200ab845335",
   "metadata": {},
   "source": [
    "### 8. you are given a list which is [3, 5, 7, 3, 5, 7, 3, 545, 34, 235, 234, 6].\n",
    "* You have to sort it such that the seventh element is greatest of all, \n",
    "* second element is greater than last element and second last element is not greater than sum of 8 and sixth element"
   ]
  },
  {
   "cell_type": "code",
   "execution_count": 12,
   "id": "6bc362cb",
   "metadata": {},
   "outputs": [
    {
     "name": "stdout",
     "output_type": "stream",
     "text": [
      "[3, 6, 7, 3, 5, 7, 545, 3, 34, 235, 234, 5]\n",
      "[234, 6, 7, 3, 5, 7, 545, 3, 34, 235, 3, 5]\n"
     ]
    }
   ],
   "source": [
    "list1 = [3, 5, 7, 3, 5, 7, 3, 545, 34, 235, 234, 6]\n",
    "\n",
    "max1 =max(list1)\n",
    "index_1 = list1.index(max1)\n",
    "list1[index_1],list1[6] = list1[6],list1[index_1]\n",
    "\n",
    "if list1[1] < list1[-1]:\n",
    "    list1[1],list1[-1] = list1[-1],list1[1]\n",
    "# print(list1)\n",
    "\n",
    "index_1 = 0\n",
    "while(list1[-2]>list1[7]+list1[5]):\n",
    "    if index_1!=1 and index_1!=6:\n",
    "        list1[index_1],list1[-2] = list1[-2],list1[index_1]\n",
    "        index_1 = index_1 +1\n",
    "print(list1)"
   ]
  },
  {
   "cell_type": "code",
   "execution_count": null,
   "id": "da761ad4",
   "metadata": {},
   "outputs": [],
   "source": []
  }
 ],
 "metadata": {
  "kernelspec": {
   "display_name": "Python 3 (ipykernel)",
   "language": "python",
   "name": "python3"
  },
  "language_info": {
   "codemirror_mode": {
    "name": "ipython",
    "version": 3
   },
   "file_extension": ".py",
   "mimetype": "text/x-python",
   "name": "python",
   "nbconvert_exporter": "python",
   "pygments_lexer": "ipython3",
   "version": "3.9.13"
  }
 },
 "nbformat": 4,
 "nbformat_minor": 5
}
