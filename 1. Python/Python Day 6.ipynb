{
 "cells": [
  {
   "cell_type": "code",
   "execution_count": 1,
   "id": "06cf311f",
   "metadata": {},
   "outputs": [],
   "source": [
    "# create the patterns using numpy"
   ]
  },
  {
   "cell_type": "code",
   "execution_count": 2,
   "id": "23af41c9",
   "metadata": {},
   "outputs": [],
   "source": [
    "# [\n",
    "#     1 1 1 1 1\n",
    "#     1 0 0 0 1\n",
    "#     1 0 0 0 1\n",
    "#     1 1 1 1 1\n",
    "# ]\n",
    "\n",
    "# [\n",
    "#     1 0 1 0 1 0\n",
    "#     0 1 0 1 0 1\n",
    "#     1 0 1 0 1 0\n",
    "#     0 1 0 1 0 1\n",
    "# ]"
   ]
  },
  {
   "cell_type": "code",
   "execution_count": 3,
   "id": "7f5524b5",
   "metadata": {},
   "outputs": [
    {
     "name": "stdout",
     "output_type": "stream",
     "text": [
      "[[1 1 1 1 1]\n",
      " [1 0 0 0 1]\n",
      " [1 0 0 0 1]\n",
      " [1 0 0 0 1]\n",
      " [1 0 0 0 1]\n",
      " [1 1 1 1 1]]\n"
     ]
    }
   ],
   "source": [
    "import numpy as np\n",
    "def border(rows,cols):\n",
    "    states=np.zeros((rows,cols),dtype=\"int\")\n",
    "    states[0]=[1]*cols\n",
    "    states[1:-1,0],states[1:-1,-1]=1,1\n",
    "    states[-1]=[1]*cols\n",
    "    return states\n",
    "\n",
    "print(border(6,5))"
   ]
  },
  {
   "cell_type": "code",
   "execution_count": 4,
   "id": "969e93cd",
   "metadata": {},
   "outputs": [
    {
     "name": "stdout",
     "output_type": "stream",
     "text": [
      "[[1 0 1 0 1]\n",
      " [0 1 0 1 0]\n",
      " [1 0 1 0 1]\n",
      " [0 1 0 1 0]\n",
      " [1 0 1 0 1]\n",
      " [0 1 0 1 0]]\n"
     ]
    }
   ],
   "source": [
    "def checker(rows, cols):\n",
    "    states=np.ones((rows,cols),dtype=\"int\")\n",
    "    states[1::2,::2],states[::2,1::2]=0,0\n",
    "    return states\n",
    "print(checker(6,5))"
   ]
  },
  {
   "cell_type": "code",
   "execution_count": 5,
   "id": "b6c32e65",
   "metadata": {},
   "outputs": [
    {
     "data": {
      "text/plain": [
       "nan"
      ]
     },
     "execution_count": 5,
     "metadata": {},
     "output_type": "execute_result"
    }
   ],
   "source": [
    "np.nan"
   ]
  },
  {
   "cell_type": "code",
   "execution_count": 6,
   "id": "510727da",
   "metadata": {},
   "outputs": [
    {
     "name": "stdout",
     "output_type": "stream",
     "text": [
      "[[ 1. nan  1. nan  1. nan  1. nan  1. nan]\n",
      " [nan  1. nan  1. nan  1. nan  1. nan  1.]\n",
      " [ 1. nan  1. nan  1. nan  1. nan  1. nan]\n",
      " [nan  1. nan  1. nan  1. nan  1. nan  1.]\n",
      " [ 1. nan  1. nan  1. nan  1. nan  1. nan]\n",
      " [nan  1. nan  1. nan  1. nan  1. nan  1.]\n",
      " [ 1. nan  1. nan  1. nan  1. nan  1. nan]\n",
      " [nan  1. nan  1. nan  1. nan  1. nan  1.]\n",
      " [ 1. nan  1. nan  1. nan  1. nan  1. nan]\n",
      " [nan  1. nan  1. nan  1. nan  1. nan  1.]]\n"
     ]
    }
   ],
   "source": [
    "states=np.ones((10,10))\n",
    "states[1::2,::2],states[::2,1::2]=np.nan,np.nan\n",
    "print(states)"
   ]
  },
  {
   "cell_type": "code",
   "execution_count": 7,
   "id": "29ba5615",
   "metadata": {},
   "outputs": [
    {
     "data": {
      "text/plain": [
       "array([[False,  True, False,  True, False,  True, False,  True, False,\n",
       "         True],\n",
       "       [ True, False,  True, False,  True, False,  True, False,  True,\n",
       "        False],\n",
       "       [False,  True, False,  True, False,  True, False,  True, False,\n",
       "         True],\n",
       "       [ True, False,  True, False,  True, False,  True, False,  True,\n",
       "        False],\n",
       "       [False,  True, False,  True, False,  True, False,  True, False,\n",
       "         True],\n",
       "       [ True, False,  True, False,  True, False,  True, False,  True,\n",
       "        False],\n",
       "       [False,  True, False,  True, False,  True, False,  True, False,\n",
       "         True],\n",
       "       [ True, False,  True, False,  True, False,  True, False,  True,\n",
       "        False],\n",
       "       [False,  True, False,  True, False,  True, False,  True, False,\n",
       "         True],\n",
       "       [ True, False,  True, False,  True, False,  True, False,  True,\n",
       "        False]])"
      ]
     },
     "execution_count": 7,
     "metadata": {},
     "output_type": "execute_result"
    }
   ],
   "source": [
    "np.isnan(states) # a function which returns a boolean value true for missing data and false for non-missing data"
   ]
  },
  {
   "cell_type": "code",
   "execution_count": 8,
   "id": "fd084d35",
   "metadata": {},
   "outputs": [
    {
     "data": {
      "text/plain": [
       "50"
      ]
     },
     "execution_count": 8,
     "metadata": {},
     "output_type": "execute_result"
    }
   ],
   "source": [
    "# np.count_nonzero() counts false or 0 values\n",
    "np.count_nonzero(np.isnan(states))"
   ]
  },
  {
   "cell_type": "code",
   "execution_count": 37,
   "id": "5190ee44",
   "metadata": {},
   "outputs": [
    {
     "ename": "SyntaxError",
     "evalue": "invalid non-printable character U+00A0 (3178097236.py, line 6)",
     "output_type": "error",
     "traceback": [
      "\u001b[1;36m  File \u001b[1;32m\"C:\\Users\\pdharantej\\AppData\\Local\\Temp\\ipykernel_15664\\3178097236.py\"\u001b[1;36m, line \u001b[1;32m6\u001b[0m\n\u001b[1;33m    for j in range(4):\u001b[0m\n\u001b[1;37m    ^\u001b[0m\n\u001b[1;31mSyntaxError\u001b[0m\u001b[1;31m:\u001b[0m invalid non-printable character U+00A0\n"
     ]
    }
   ],
   "source": [
    "list2=[]\n",
    "asci=65\n",
    "for i in range(6):\n",
    "    list2.append([])\n",
    "for i in range(6):\n",
    "    for j in range(4):\n",
    "        list2[i].append(chr(asci))\n",
    "        asci+=1\n",
    "for i in range(6):\n",
    "    for j in range(4):\n",
    "        if list2[i][j] in ['A','E','I','O','U']:\n",
    "            list2[i][j]=0\n",
    "arr_2=np.array(list2)   \n",
    "arr_2\n",
    "\n",
    "\n",
    "for i in range(6):\n",
    "    for j in range(4):\n",
    "        if arr_2[i][j] ==0:\n",
    "            arr_2[i][j]=np.nan\n",
    "\n"
   ]
  },
  {
   "cell_type": "code",
   "execution_count": 38,
   "id": "a84b1f59",
   "metadata": {},
   "outputs": [
    {
     "data": {
      "text/plain": [
       "array([[ 0,  1,  2,  3,  4,  5],\n",
       "       [ 6,  7,  8,  9, 10, 11],\n",
       "       [12, 13, 14, 15, 16, 17],\n",
       "       [18, 19, 20, 21, 22, 23],\n",
       "       [24, 25, 26, 27, 28, 29],\n",
       "       [30, 31, 32, 33, 34, 35]])"
      ]
     },
     "execution_count": 38,
     "metadata": {},
     "output_type": "execute_result"
    }
   ],
   "source": [
    "arr2=np.arange(0,36).reshape(6,6)\n",
    "arr2"
   ]
  },
  {
   "cell_type": "code",
   "execution_count": 39,
   "id": "3570f671",
   "metadata": {},
   "outputs": [
    {
     "data": {
      "text/plain": [
       "array([[30, 31, 32, 33, 34, 35],\n",
       "       [24, 25, 26, 27, 28, 29],\n",
       "       [18, 19, 20, 21, 22, 23],\n",
       "       [12, 13, 14, 15, 16, 17],\n",
       "       [ 6,  7,  8,  9, 10, 11],\n",
       "       [ 0,  1,  2,  3,  4,  5]])"
      ]
     },
     "execution_count": 39,
     "metadata": {},
     "output_type": "execute_result"
    }
   ],
   "source": [
    "np.flipud(arr2) # up/down"
   ]
  },
  {
   "cell_type": "code",
   "execution_count": 40,
   "id": "b8f57a2f",
   "metadata": {},
   "outputs": [
    {
     "data": {
      "text/plain": [
       "array([[ 5,  4,  3,  2,  1,  0],\n",
       "       [11, 10,  9,  8,  7,  6],\n",
       "       [17, 16, 15, 14, 13, 12],\n",
       "       [23, 22, 21, 20, 19, 18],\n",
       "       [29, 28, 27, 26, 25, 24],\n",
       "       [35, 34, 33, 32, 31, 30]])"
      ]
     },
     "execution_count": 40,
     "metadata": {},
     "output_type": "execute_result"
    }
   ],
   "source": [
    "np.fliplr(arr2) # leftright"
   ]
  },
  {
   "cell_type": "code",
   "execution_count": 42,
   "id": "6eb14c08",
   "metadata": {},
   "outputs": [
    {
     "data": {
      "text/plain": [
       "array([[35, 34, 33, 32, 31, 30],\n",
       "       [29, 28, 27, 26, 25, 24],\n",
       "       [23, 22, 21, 20, 19, 18],\n",
       "       [17, 16, 15, 14, 13, 12],\n",
       "       [11, 10,  9,  8,  7,  6],\n",
       "       [ 5,  4,  3,  2,  1,  0]])"
      ]
     },
     "execution_count": 42,
     "metadata": {},
     "output_type": "execute_result"
    }
   ],
   "source": [
    "np.flip(arr2) # both ud() and lr()"
   ]
  },
  {
   "cell_type": "markdown",
   "id": "5e6b6176",
   "metadata": {},
   "source": [
    "#### Numpy - Array calculation Method"
   ]
  },
  {
   "cell_type": "code",
   "execution_count": 43,
   "id": "6af1037b",
   "metadata": {},
   "outputs": [
    {
     "data": {
      "text/plain": [
       "array([[1, 2, 3],\n",
       "       [4, 5, 6]])"
      ]
     },
     "execution_count": 43,
     "metadata": {},
     "output_type": "execute_result"
    }
   ],
   "source": [
    "arr3=np.array([\n",
    "    [1, 2, 3],\n",
    "    [4, 5, 6]\n",
    "])\n",
    "arr3"
   ]
  },
  {
   "cell_type": "code",
   "execution_count": 44,
   "id": "bb6335ff",
   "metadata": {},
   "outputs": [
    {
     "data": {
      "text/plain": [
       "21"
      ]
     },
     "execution_count": 44,
     "metadata": {},
     "output_type": "execute_result"
    }
   ],
   "source": [
    "arr3.sum() # sum of all elements"
   ]
  },
  {
   "cell_type": "code",
   "execution_count": 45,
   "id": "0ec27dff",
   "metadata": {},
   "outputs": [
    {
     "data": {
      "text/plain": [
       "array([5, 7, 9])"
      ]
     },
     "execution_count": 45,
     "metadata": {},
     "output_type": "execute_result"
    }
   ],
   "source": [
    "arr3.sum(axis=0) # sum of corresponding elements of rows"
   ]
  },
  {
   "cell_type": "code",
   "execution_count": 48,
   "id": "2ebe6bd8",
   "metadata": {},
   "outputs": [
    {
     "data": {
      "text/plain": [
       "array([ 6, 15])"
      ]
     },
     "execution_count": 48,
     "metadata": {},
     "output_type": "execute_result"
    }
   ],
   "source": [
    "arr3.sum(axis=1) # sum of cols"
   ]
  },
  {
   "cell_type": "code",
   "execution_count": 49,
   "id": "506f8893",
   "metadata": {},
   "outputs": [
    {
     "data": {
      "text/plain": [
       "1"
      ]
     },
     "execution_count": 49,
     "metadata": {},
     "output_type": "execute_result"
    }
   ],
   "source": [
    "arr3.min()"
   ]
  },
  {
   "cell_type": "code",
   "execution_count": 50,
   "id": "b3519b6d",
   "metadata": {},
   "outputs": [
    {
     "data": {
      "text/plain": [
       "3"
      ]
     },
     "execution_count": 50,
     "metadata": {},
     "output_type": "execute_result"
    }
   ],
   "source": [
    "arr4=[0,0,0,1,0,0,0]\n",
    "np.argmax(arr4) # returns index of the max value along the axis"
   ]
  },
  {
   "cell_type": "code",
   "execution_count": 64,
   "id": "cabdc892",
   "metadata": {},
   "outputs": [
    {
     "data": {
      "text/plain": [
       "array([[ 0,  1,  2,  3,  4,  5],\n",
       "       [ 6,  7,  8,  9, 10, 11],\n",
       "       [12, 13, 14, 15, 16, 17],\n",
       "       [18, 19, 20, 21, 22, 23],\n",
       "       [24, 25, 26, 27, 28, 29],\n",
       "       [30, 31, 32, 33, 34, 35]])"
      ]
     },
     "execution_count": 64,
     "metadata": {},
     "output_type": "execute_result"
    }
   ],
   "source": [
    "arr5=np.arange(0,36).reshape(6,6)\n",
    "# arr5=np.flipud(arr5)\n",
    "arr5"
   ]
  },
  {
   "cell_type": "code",
   "execution_count": 65,
   "id": "88072335",
   "metadata": {},
   "outputs": [
    {
     "data": {
      "text/plain": [
       "array([5, 5, 5, 5, 5, 5], dtype=int64)"
      ]
     },
     "execution_count": 65,
     "metadata": {},
     "output_type": "execute_result"
    }
   ],
   "source": [
    "np.argmax(arr5,axis=0)"
   ]
  },
  {
   "cell_type": "code",
   "execution_count": 66,
   "id": "83548024",
   "metadata": {},
   "outputs": [
    {
     "data": {
      "text/plain": [
       "array([[ 5,  4,  3,  2,  1,  0],\n",
       "       [11, 10,  9,  8,  7,  6],\n",
       "       [17, 16, 15, 14, 13, 12],\n",
       "       [23, 22, 21, 20, 19, 18],\n",
       "       [29, 28, 27, 26, 25, 24],\n",
       "       [35, 34, 33, 32, 31, 30]])"
      ]
     },
     "execution_count": 66,
     "metadata": {},
     "output_type": "execute_result"
    }
   ],
   "source": [
    "arr5=np.fliplr(arr5)\n",
    "arr5"
   ]
  },
  {
   "cell_type": "code",
   "execution_count": 67,
   "id": "6e76719e",
   "metadata": {},
   "outputs": [
    {
     "data": {
      "text/plain": [
       "array([0, 0, 0, 0, 0, 0], dtype=int64)"
      ]
     },
     "execution_count": 67,
     "metadata": {},
     "output_type": "execute_result"
    }
   ],
   "source": [
    "np.argmax(arr5,axis=1)"
   ]
  },
  {
   "cell_type": "markdown",
   "id": "0a1b5c68",
   "metadata": {},
   "source": [
    "#### Statistical analysis on an array"
   ]
  },
  {
   "cell_type": "code",
   "execution_count": 69,
   "id": "68d3c847",
   "metadata": {},
   "outputs": [
    {
     "data": {
      "text/plain": [
       "array([[0, 1, 2],\n",
       "       [3, 4, 5]])"
      ]
     },
     "execution_count": 69,
     "metadata": {},
     "output_type": "execute_result"
    }
   ],
   "source": [
    "arr6=np.arange(6).reshape(2,3)\n",
    "arr6"
   ]
  },
  {
   "cell_type": "code",
   "execution_count": 70,
   "id": "771013ee",
   "metadata": {},
   "outputs": [
    {
     "data": {
      "text/plain": [
       "2.5"
      ]
     },
     "execution_count": 70,
     "metadata": {},
     "output_type": "execute_result"
    }
   ],
   "source": [
    "arr6.mean()"
   ]
  },
  {
   "cell_type": "markdown",
   "id": "372922b7",
   "metadata": {},
   "source": [
    "#### Statistical methods\n",
    "* Central Tendency\n",
    "    * Mean\n",
    "    * Median\n",
    "    * Mode"
   ]
  },
  {
   "cell_type": "code",
   "execution_count": 74,
   "id": "3db2ef29",
   "metadata": {},
   "outputs": [
    {
     "data": {
      "text/plain": [
       "2.5"
      ]
     },
     "execution_count": 74,
     "metadata": {},
     "output_type": "execute_result"
    }
   ],
   "source": [
    "np.mean(arr6)"
   ]
  },
  {
   "cell_type": "code",
   "execution_count": 75,
   "id": "2781f239",
   "metadata": {},
   "outputs": [
    {
     "data": {
      "text/plain": [
       "2.5"
      ]
     },
     "execution_count": 75,
     "metadata": {},
     "output_type": "execute_result"
    }
   ],
   "source": [
    "np.median(arr6)"
   ]
  },
  {
   "cell_type": "code",
   "execution_count": 80,
   "id": "f1a1636c",
   "metadata": {},
   "outputs": [
    {
     "data": {
      "text/plain": [
       "1.707825127659933"
      ]
     },
     "execution_count": 80,
     "metadata": {},
     "output_type": "execute_result"
    }
   ],
   "source": [
    "np.std(arr6)"
   ]
  },
  {
   "cell_type": "code",
   "execution_count": 82,
   "id": "0b1457c4",
   "metadata": {},
   "outputs": [
    {
     "data": {
      "text/plain": [
       "2.9166666666666665"
      ]
     },
     "execution_count": 82,
     "metadata": {},
     "output_type": "execute_result"
    }
   ],
   "source": [
    "np.var(arr6)"
   ]
  },
  {
   "cell_type": "code",
   "execution_count": null,
   "id": "baf80596",
   "metadata": {},
   "outputs": [],
   "source": []
  }
 ],
 "metadata": {
  "kernelspec": {
   "display_name": "Python 3 (ipykernel)",
   "language": "python",
   "name": "python3"
  },
  "language_info": {
   "codemirror_mode": {
    "name": "ipython",
    "version": 3
   },
   "file_extension": ".py",
   "mimetype": "text/x-python",
   "name": "python",
   "nbconvert_exporter": "python",
   "pygments_lexer": "ipython3",
   "version": "3.9.13"
  }
 },
 "nbformat": 4,
 "nbformat_minor": 5
}
