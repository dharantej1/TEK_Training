{
 "cells": [
  {
   "cell_type": "code",
   "execution_count": 1,
   "id": "1cf465a8",
   "metadata": {},
   "outputs": [
    {
     "name": "stdout",
     "output_type": "stream",
     "text": [
      "Requirement already satisfied: pytest in c:\\users\\pdharantej\\anaconda3\\lib\\site-packages (7.1.2)\n",
      "Requirement already satisfied: attrs>=19.2.0 in c:\\users\\pdharantej\\anaconda3\\lib\\site-packages (from pytest) (21.4.0)\n",
      "Requirement already satisfied: iniconfig in c:\\users\\pdharantej\\anaconda3\\lib\\site-packages (from pytest) (1.1.1)\n",
      "Requirement already satisfied: packaging in c:\\users\\pdharantej\\anaconda3\\lib\\site-packages (from pytest) (21.3)\n",
      "Requirement already satisfied: pluggy<2.0,>=0.12 in c:\\users\\pdharantej\\anaconda3\\lib\\site-packages (from pytest) (1.0.0)\n",
      "Requirement already satisfied: py>=1.8.2 in c:\\users\\pdharantej\\anaconda3\\lib\\site-packages (from pytest) (1.11.0)\n",
      "Requirement already satisfied: tomli>=1.0.0 in c:\\users\\pdharantej\\anaconda3\\lib\\site-packages (from pytest) (2.0.1)\n",
      "Requirement already satisfied: atomicwrites>=1.0 in c:\\users\\pdharantej\\anaconda3\\lib\\site-packages (from pytest) (1.4.0)\n",
      "Requirement already satisfied: colorama in c:\\users\\pdharantej\\anaconda3\\lib\\site-packages (from pytest) (0.4.5)\n",
      "Requirement already satisfied: pyparsing!=3.0.5,>=2.0.2 in c:\\users\\pdharantej\\anaconda3\\lib\\site-packages (from packaging->pytest) (3.0.9)\n"
     ]
    }
   ],
   "source": [
    "!pip install pytest"
   ]
  },
  {
   "cell_type": "code",
   "execution_count": 2,
   "id": "92dbe2e7",
   "metadata": {},
   "outputs": [],
   "source": [
    "# numpy - numerical python\n",
    "# pandas - data frames"
   ]
  },
  {
   "cell_type": "code",
   "execution_count": 3,
   "id": "7cd652e3",
   "metadata": {},
   "outputs": [],
   "source": [
    "# numpy\n",
    "# image is a stored in a 3d matrix\n",
    "# grayscale image is stored in a 2d matrix"
   ]
  },
  {
   "cell_type": "code",
   "execution_count": 4,
   "id": "3be027b4",
   "metadata": {},
   "outputs": [],
   "source": [
    "# pandas\n",
    "\n",
    "# Structured\n",
    "# ---------------------\n",
    "# Data is arranged in tabular form\n",
    "# eg. excel, RDBMS, MSAccess\n",
    "\n",
    "# delimiters => space, comma, semi-colon, tab\n",
    "\n",
    "# Semi-structured\n",
    "# ------------------\n",
    "# json => key-value pair\n",
    "# XML => .xml\n",
    "# <rowid>\n",
    "# <orderid></orderid>\n",
    "# <productid></productid>\n",
    "# <price></price>\n",
    "# <rowid>\n",
    "\n",
    "# Unstructured\n",
    "# ------------------\n",
    "# textfile, pdf, docs, html\n",
    "\n",
    "# Big Data file formats\n",
    "# =========================\n",
    "# These files stores data in compressed format.\n",
    "# parquet, avro -> Hive"
   ]
  },
  {
   "cell_type": "code",
   "execution_count": 5,
   "id": "7237b75f",
   "metadata": {},
   "outputs": [],
   "source": [
    "# used for numerical python (alias np)\n",
    "import numpy as np"
   ]
  },
  {
   "cell_type": "code",
   "execution_count": 7,
   "id": "166cbc73",
   "metadata": {},
   "outputs": [
    {
     "name": "stdout",
     "output_type": "stream",
     "text": [
      "1.21.5\n"
     ]
    }
   ],
   "source": [
    "print(np.__version__)"
   ]
  },
  {
   "cell_type": "markdown",
   "id": "a1122208",
   "metadata": {},
   "source": [
    "#### Numpy Array"
   ]
  },
  {
   "cell_type": "code",
   "execution_count": 8,
   "id": "8db1aed6",
   "metadata": {},
   "outputs": [
    {
     "data": {
      "text/plain": [
       "array([1, 2, 3, 4, 5, 6, 7])"
      ]
     },
     "execution_count": 8,
     "metadata": {},
     "output_type": "execute_result"
    }
   ],
   "source": [
    "list1=[1,2,3,4,5,6,7]\n",
    "np.array(list1)"
   ]
  },
  {
   "cell_type": "code",
   "execution_count": 9,
   "id": "342f0e2f",
   "metadata": {},
   "outputs": [
    {
     "data": {
      "text/plain": [
       "numpy.ndarray"
      ]
     },
     "execution_count": 9,
     "metadata": {},
     "output_type": "execute_result"
    }
   ],
   "source": [
    "# N-Dimensional array\n",
    "type(np.array(list1))"
   ]
  },
  {
   "cell_type": "code",
   "execution_count": 10,
   "id": "b9be22f3",
   "metadata": {},
   "outputs": [],
   "source": [
    "arr1=np.array(list1)"
   ]
  },
  {
   "cell_type": "code",
   "execution_count": 11,
   "id": "2944031b",
   "metadata": {},
   "outputs": [
    {
     "data": {
      "text/plain": [
       "dtype('int32')"
      ]
     },
     "execution_count": 11,
     "metadata": {},
     "output_type": "execute_result"
    }
   ],
   "source": [
    "arr1.dtype"
   ]
  },
  {
   "cell_type": "code",
   "execution_count": 12,
   "id": "82a9f242",
   "metadata": {},
   "outputs": [
    {
     "data": {
      "text/plain": [
       "(7,)"
      ]
     },
     "execution_count": 12,
     "metadata": {},
     "output_type": "execute_result"
    }
   ],
   "source": [
    "arr1.shape"
   ]
  },
  {
   "cell_type": "code",
   "execution_count": 13,
   "id": "4573c025",
   "metadata": {},
   "outputs": [
    {
     "data": {
      "text/plain": [
       "1"
      ]
     },
     "execution_count": 13,
     "metadata": {},
     "output_type": "execute_result"
    }
   ],
   "source": [
    "arr1.ndim"
   ]
  },
  {
   "cell_type": "code",
   "execution_count": 14,
   "id": "c6ef4420",
   "metadata": {},
   "outputs": [
    {
     "data": {
      "text/plain": [
       "28"
      ]
     },
     "execution_count": 14,
     "metadata": {},
     "output_type": "execute_result"
    }
   ],
   "source": [
    "# returns size in bytes used by entire array\n",
    "arr1.nbytes"
   ]
  },
  {
   "cell_type": "markdown",
   "id": "9eeb30a8",
   "metadata": {},
   "source": [
    "#### Array Operations\n",
    "* Simple array mathematical operations"
   ]
  },
  {
   "cell_type": "code",
   "execution_count": 16,
   "id": "c9fcc274",
   "metadata": {},
   "outputs": [
    {
     "name": "stdout",
     "output_type": "stream",
     "text": [
      "[5.0, 5.0, 10.0, 10.0, 10.0, 10.0, 10.0, 10.0, 10.0]\n"
     ]
    }
   ],
   "source": [
    "list1=[10,20,30,40,50,60,70,80,90]\n",
    "list2=[2,4,3,4,5,6,7,8,9]\n",
    "list3=[i/j for i, j in zip(list1,list2)]\n",
    "print(list3)"
   ]
  },
  {
   "cell_type": "code",
   "execution_count": 17,
   "id": "ee9d924f",
   "metadata": {},
   "outputs": [
    {
     "name": "stdout",
     "output_type": "stream",
     "text": [
      "[ 5.  5. 10. 10. 10. 10. 10. 10. 10.]\n"
     ]
    }
   ],
   "source": [
    "print(np.array(list1)/np.array(list2))"
   ]
  },
  {
   "cell_type": "code",
   "execution_count": 18,
   "id": "55fa9abe",
   "metadata": {},
   "outputs": [
    {
     "data": {
      "text/plain": [
       "array([ 5.,  5., 10., 10., 10., 10., 10., 10., 10.])"
      ]
     },
     "execution_count": 18,
     "metadata": {},
     "output_type": "execute_result"
    }
   ],
   "source": [
    "np.divide(list1,list2)"
   ]
  },
  {
   "cell_type": "code",
   "execution_count": 22,
   "id": "5927203b",
   "metadata": {},
   "outputs": [
    {
     "data": {
      "text/plain": [
       "array([12, 22, 32, 42, 52, 62, 72, 82, 92])"
      ]
     },
     "execution_count": 22,
     "metadata": {},
     "output_type": "execute_result"
    }
   ],
   "source": [
    "arr1=np.array([10,20,30,40,50,60,70,80,90])\n",
    "arr2=np.array([2])\n",
    "arr1+arr2"
   ]
  },
  {
   "cell_type": "code",
   "execution_count": 24,
   "id": "2afb65c8",
   "metadata": {},
   "outputs": [
    {
     "data": {
      "text/plain": [
       "array([1, 3, 5, 7, 9])"
      ]
     },
     "execution_count": 24,
     "metadata": {},
     "output_type": "execute_result"
    }
   ],
   "source": [
    "np.arange(1,11,2)\n",
    "# generates numpy array using arange(start, stop, stepsize) \n"
   ]
  },
  {
   "cell_type": "code",
   "execution_count": 25,
   "id": "87327b43",
   "metadata": {},
   "outputs": [
    {
     "data": {
      "text/plain": [
       "array([ 2,  4,  6,  8, 10, 12, 14, 16, 18, 20])"
      ]
     },
     "execution_count": 25,
     "metadata": {},
     "output_type": "execute_result"
    }
   ],
   "source": [
    "np.arange(2, 21, 2)\n",
    "# numpy array of even numbers "
   ]
  },
  {
   "cell_type": "markdown",
   "id": "8cc64c27",
   "metadata": {},
   "source": [
    "#### Types of numpy array"
   ]
  },
  {
   "cell_type": "code",
   "execution_count": 39,
   "id": "f4955e40",
   "metadata": {},
   "outputs": [
    {
     "data": {
      "text/plain": [
       "array([  10,   12,   15,   18,   16,   20,   25,    0,   -1,   -2, -128],\n",
       "      dtype=int8)"
      ]
     },
     "execution_count": 39,
     "metadata": {},
     "output_type": "execute_result"
    }
   ],
   "source": [
    "# dtype= data-type with size\n",
    "# int8, int16, int32, int64\n",
    "# -128 to 127\n",
    "arr1=np.array([10,12,15,18,16,20,25,256,255,254,128],dtype=\"int8\")\n",
    "arr1"
   ]
  },
  {
   "cell_type": "code",
   "execution_count": 35,
   "id": "d7df43ee",
   "metadata": {},
   "outputs": [
    {
     "data": {
      "text/plain": [
       "array([10., 12., 15., 18., 16., 20., 25.], dtype=float32)"
      ]
     },
     "execution_count": 35,
     "metadata": {},
     "output_type": "execute_result"
    }
   ],
   "source": [
    "arr2=np.array([10,12,15,18,16,20,25],dtype=\"float32\")\n",
    "arr2"
   ]
  },
  {
   "cell_type": "code",
   "execution_count": 40,
   "id": "775fd423",
   "metadata": {},
   "outputs": [
    {
     "name": "stdout",
     "output_type": "stream",
     "text": [
      "[10, 20, 30, 40, 50, 60, 70, 80, 90]\n"
     ]
    },
    {
     "data": {
      "text/plain": [
       "136"
      ]
     },
     "execution_count": 40,
     "metadata": {},
     "output_type": "execute_result"
    }
   ],
   "source": [
    "print(list1)\n",
    "list1.__sizeof__()"
   ]
  },
  {
   "cell_type": "code",
   "execution_count": 43,
   "id": "6e31bae7",
   "metadata": {},
   "outputs": [
    {
     "name": "stdout",
     "output_type": "stream",
     "text": [
      "[10 20 30 40 50 60 70 80 90]\n"
     ]
    },
    {
     "data": {
      "text/plain": [
       "44"
      ]
     },
     "execution_count": 43,
     "metadata": {},
     "output_type": "execute_result"
    }
   ],
   "source": [
    "print(np.arange(10,91,10))\n",
    "np.arange(11).nbytes"
   ]
  },
  {
   "cell_type": "markdown",
   "id": "a5358c9b",
   "metadata": {},
   "source": [
    "### Why numpy is better than, list()"
   ]
  },
  {
   "cell_type": "code",
   "execution_count": 72,
   "id": "eec8a0c0",
   "metadata": {},
   "outputs": [],
   "source": [
    "import time\n",
    "def list_version():\n",
    "    start=time.time()\n",
    "    list1=[i for i in range(1,100000)]\n",
    "    list2=[i for i in range(1,100000)]\n",
    "    list3=[i+j for i, j in zip(list1,list2)]\n",
    "    end=time.time()\n",
    "    print(\"Total time taken for list version: \",end - start)\n",
    "#     print(list3)\n",
    "\n",
    "def numpy_version():\n",
    "    start=time.time()\n",
    "    arr1=np.arange(1,100000)\n",
    "    arr2=np.arange(1,100000)\n",
    "    arr3=arr1+arr2\n",
    "    end=time.time()\n",
    "    print(\"Total time taken for numpy version: \",end - start)\n",
    "#     print(arr3)"
   ]
  },
  {
   "cell_type": "code",
   "execution_count": 93,
   "id": "419e7383",
   "metadata": {},
   "outputs": [
    {
     "name": "stdout",
     "output_type": "stream",
     "text": [
      "Total time taken for list version:  0.014183282852172852\n",
      "Total time taken for numpy version:  0.0\n"
     ]
    }
   ],
   "source": [
    "list_version()\n",
    "numpy_version()"
   ]
  },
  {
   "cell_type": "markdown",
   "id": "3d9dd11f",
   "metadata": {},
   "source": [
    "#### Two dimensional array"
   ]
  },
  {
   "cell_type": "code",
   "execution_count": 94,
   "id": "f866b80b",
   "metadata": {},
   "outputs": [],
   "source": [
    "arr2=np.array([[0,1,2,3,4,5,6,7],\n",
    "               [10,11,12,13,14,15,16,17]])"
   ]
  },
  {
   "cell_type": "code",
   "execution_count": 95,
   "id": "b5321cc8",
   "metadata": {},
   "outputs": [
    {
     "data": {
      "text/plain": [
       "(2, 8)"
      ]
     },
     "execution_count": 95,
     "metadata": {},
     "output_type": "execute_result"
    }
   ],
   "source": [
    "# shapearray\n",
    "arr2.shape"
   ]
  },
  {
   "cell_type": "code",
   "execution_count": 96,
   "id": "34648320",
   "metadata": {},
   "outputs": [
    {
     "data": {
      "text/plain": [
       "(2, 8)"
      ]
     },
     "execution_count": 96,
     "metadata": {},
     "output_type": "execute_result"
    }
   ],
   "source": [
    "arr2.shape[0],arr2.shape[1]"
   ]
  },
  {
   "cell_type": "code",
   "execution_count": 97,
   "id": "9ead424a",
   "metadata": {},
   "outputs": [
    {
     "data": {
      "text/plain": [
       "2"
      ]
     },
     "execution_count": 97,
     "metadata": {},
     "output_type": "execute_result"
    }
   ],
   "source": [
    "# returns dimension\n",
    "arr2.ndim"
   ]
  },
  {
   "cell_type": "code",
   "execution_count": 98,
   "id": "b8408104",
   "metadata": {},
   "outputs": [
    {
     "data": {
      "text/plain": [
       "array([0, 1, 2, 3, 4, 5, 6, 7])"
      ]
     },
     "execution_count": 98,
     "metadata": {},
     "output_type": "execute_result"
    }
   ],
   "source": [
    "# slicing in numpy array\n",
    "# display first row\n",
    "arr2[0]"
   ]
  },
  {
   "cell_type": "code",
   "execution_count": 99,
   "id": "ccc10903",
   "metadata": {},
   "outputs": [
    {
     "data": {
      "text/plain": [
       "13"
      ]
     },
     "execution_count": 99,
     "metadata": {},
     "output_type": "execute_result"
    }
   ],
   "source": [
    "# display single element row\n",
    "arr2[1,3]"
   ]
  },
  {
   "cell_type": "code",
   "execution_count": 100,
   "id": "4194d38d",
   "metadata": {},
   "outputs": [
    {
     "data": {
      "text/plain": [
       "17"
      ]
     },
     "execution_count": 100,
     "metadata": {},
     "output_type": "execute_result"
    }
   ],
   "source": [
    "arr2[-1][-1]"
   ]
  },
  {
   "cell_type": "code",
   "execution_count": 101,
   "id": "320d8d76",
   "metadata": {},
   "outputs": [
    {
     "data": {
      "text/plain": [
       "array([[0, 1, 2, 3, 4, 5, 6]])"
      ]
     },
     "execution_count": 101,
     "metadata": {},
     "output_type": "execute_result"
    }
   ],
   "source": [
    "# slicing 2D array\n",
    "# displays all rows and cols except last row and last col\n",
    "arr2[:-1,:-1]"
   ]
  },
  {
   "cell_type": "markdown",
   "id": "e2600641",
   "metadata": {},
   "source": [
    "#### Three Domensional array"
   ]
  },
  {
   "cell_type": "code",
   "execution_count": 107,
   "id": "6cbc4965",
   "metadata": {},
   "outputs": [
    {
     "data": {
      "text/plain": [
       "(3, 2, 8)"
      ]
     },
     "execution_count": 107,
     "metadata": {},
     "output_type": "execute_result"
    }
   ],
   "source": [
    "# 3D Array => Tensor\n",
    "arr2=np.array([[[0,1,2,3,4,5,6,7],\n",
    "               [10,11,12,13,14,15,16,17]],\n",
    "             [[1,1,2,3,4,5,6,7],\n",
    "               [10,11,12,13,14,15,16,17]],\n",
    "              [[2,1,2,3,4,5,6,7],\n",
    "               [10,11,12,13,14,15,16,17]]])\n",
    "arr2.shape\n",
    "# rank, rows, cols"
   ]
  },
  {
   "cell_type": "code",
   "execution_count": 108,
   "id": "3f2a4655",
   "metadata": {},
   "outputs": [
    {
     "data": {
      "text/plain": [
       "array([[[ 0,  1,  2,  3,  4,  5,  6,  7],\n",
       "        [10, 11, 12, 13, 14, 15, 16, 17]],\n",
       "\n",
       "       [[ 1,  1,  2,  3,  4,  5,  6,  7],\n",
       "        [10, 11, 12, 13, 14, 15, 16, 17]],\n",
       "\n",
       "       [[ 2,  1,  2,  3,  4,  5,  6,  7],\n",
       "        [10, 11, 12, 13, 14, 15, 16, 17]]])"
      ]
     },
     "execution_count": 108,
     "metadata": {},
     "output_type": "execute_result"
    }
   ],
   "source": [
    "arr2"
   ]
  },
  {
   "cell_type": "code",
   "execution_count": 109,
   "id": "49ad3ca1",
   "metadata": {},
   "outputs": [
    {
     "data": {
      "text/plain": [
       "48"
      ]
     },
     "execution_count": 109,
     "metadata": {},
     "output_type": "execute_result"
    }
   ],
   "source": [
    "# shows length of all elements\n",
    "# size= number of elements present in an array\n",
    "arr2.size"
   ]
  },
  {
   "cell_type": "code",
   "execution_count": 114,
   "id": "2b7c9cc3",
   "metadata": {},
   "outputs": [
    {
     "data": {
      "text/plain": [
       "14"
      ]
     },
     "execution_count": 114,
     "metadata": {},
     "output_type": "execute_result"
    }
   ],
   "source": [
    "arr2[1,1,4]"
   ]
  },
  {
   "cell_type": "markdown",
   "id": "b637a638",
   "metadata": {},
   "source": [
    "#### Empty array and fill it with some constant values"
   ]
  },
  {
   "cell_type": "code",
   "execution_count": 116,
   "id": "6a27c0da",
   "metadata": {},
   "outputs": [
    {
     "data": {
      "text/plain": [
       "array([     2,      4,      6, 199994, 199996, 199998])"
      ]
     },
     "execution_count": 116,
     "metadata": {},
     "output_type": "execute_result"
    }
   ],
   "source": [
    "arr4=np.empty(6,dtype=\"int32\")\n",
    "arr4\n",
    "# these are the buffer values"
   ]
  },
  {
   "cell_type": "code",
   "execution_count": 118,
   "id": "dc837b3f",
   "metadata": {},
   "outputs": [
    {
     "data": {
      "text/plain": [
       "array([[ 0,  1,  2,  3,  4,  5,  6,  7,  8],\n",
       "       [ 9, 10, 11, 12, 13, 14, 15, 16, 17],\n",
       "       [18, 19, 20, 21, 22, 23, 24, 25, 26],\n",
       "       [27, 28, 29, 30, 31, 32, 33, 34, 35]])"
      ]
     },
     "execution_count": 118,
     "metadata": {},
     "output_type": "execute_result"
    }
   ],
   "source": [
    "arr5=np.arange(0,36).reshape(4,9)\n",
    "arr5"
   ]
  },
  {
   "cell_type": "code",
   "execution_count": 120,
   "id": "53e5b5cc",
   "metadata": {},
   "outputs": [
    {
     "data": {
      "text/plain": [
       "array([[[ 0,  1,  2,  3],\n",
       "        [ 4,  5,  6,  7],\n",
       "        [ 8,  9, 10, 11]],\n",
       "\n",
       "       [[12, 13, 14, 15],\n",
       "        [16, 17, 18, 19],\n",
       "        [20, 21, 22, 23]],\n",
       "\n",
       "       [[24, 25, 26, 27],\n",
       "        [28, 29, 30, 31],\n",
       "        [32, 33, 34, 35]]])"
      ]
     },
     "execution_count": 120,
     "metadata": {},
     "output_type": "execute_result"
    }
   ],
   "source": [
    "arr5=arr5.reshape(3,3,4)\n",
    "arr5"
   ]
  },
  {
   "cell_type": "markdown",
   "id": "6f90da35",
   "metadata": {},
   "source": [
    "#### Reversing an array"
   ]
  },
  {
   "cell_type": "code",
   "execution_count": 122,
   "id": "6f26787d",
   "metadata": {},
   "outputs": [
    {
     "data": {
      "text/plain": [
       "array([ 0,  1,  2,  3,  4,  5,  6,  7,  8,  9, 10, 11, 12, 13, 14, 15, 16,\n",
       "       17, 18, 19, 20, 21, 22, 23, 24, 25, 26, 27, 28, 29, 30, 31, 32, 33,\n",
       "       34, 35, 36, 37, 38, 39, 40, 41, 42, 43, 44, 45, 46, 47, 48, 49])"
      ]
     },
     "execution_count": 122,
     "metadata": {},
     "output_type": "execute_result"
    }
   ],
   "source": [
    "arr6=np.arange(50)\n",
    "arr6"
   ]
  },
  {
   "cell_type": "code",
   "execution_count": 123,
   "id": "a11a02f6",
   "metadata": {},
   "outputs": [
    {
     "data": {
      "text/plain": [
       "array([49, 48, 47, 46, 45, 44, 43, 42, 41, 40, 39, 38, 37, 36, 35, 34, 33,\n",
       "       32, 31, 30, 29, 28, 27, 26, 25, 24, 23, 22, 21, 20, 19, 18, 17, 16,\n",
       "       15, 14, 13, 12, 11, 10,  9,  8,  7,  6,  5,  4,  3,  2,  1,  0])"
      ]
     },
     "execution_count": 123,
     "metadata": {},
     "output_type": "execute_result"
    }
   ],
   "source": [
    "arr6[::-1]"
   ]
  },
  {
   "cell_type": "markdown",
   "id": "3976b081",
   "metadata": {},
   "source": [
    "#### Create and array using Methods\n",
    "* np.ones()\n",
    "* np.zeros()"
   ]
  },
  {
   "cell_type": "code",
   "execution_count": 124,
   "id": "dbfefd19",
   "metadata": {},
   "outputs": [
    {
     "data": {
      "text/plain": [
       "array([[0., 0., 0., 0., 0., 0.],\n",
       "       [0., 0., 0., 0., 0., 0.],\n",
       "       [0., 0., 0., 0., 0., 0.]])"
      ]
     },
     "execution_count": 124,
     "metadata": {},
     "output_type": "execute_result"
    }
   ],
   "source": [
    "# shape -> 3 rows, 6 cols\n",
    "np.zeros((3,6),dtype=\"float\")"
   ]
  },
  {
   "cell_type": "markdown",
   "id": "43413936",
   "metadata": {},
   "source": [
    "* Identity Matrix\n",
    "    * Generate a n*n identity matrix, default matrix dtype=float\n",
    "    * diagonal values are 1, non diagonal values are 0"
   ]
  },
  {
   "cell_type": "code",
   "execution_count": 125,
   "id": "ba22fb0c",
   "metadata": {},
   "outputs": [
    {
     "data": {
      "text/plain": [
       "array([[1., 0., 0., 0., 0., 0., 0.],\n",
       "       [0., 1., 0., 0., 0., 0., 0.],\n",
       "       [0., 0., 1., 0., 0., 0., 0.],\n",
       "       [0., 0., 0., 1., 0., 0., 0.],\n",
       "       [0., 0., 0., 0., 1., 0., 0.],\n",
       "       [0., 0., 0., 0., 0., 1., 0.],\n",
       "       [0., 0., 0., 0., 0., 0., 1.]])"
      ]
     },
     "execution_count": 125,
     "metadata": {},
     "output_type": "execute_result"
    }
   ],
   "source": [
    "np.identity(7)"
   ]
  },
  {
   "cell_type": "code",
   "execution_count": 126,
   "id": "f30602eb",
   "metadata": {},
   "outputs": [
    {
     "data": {
      "text/plain": [
       "array([[1, 0, 0, 0, 0, 0, 0],\n",
       "       [0, 1, 0, 0, 0, 0, 0],\n",
       "       [0, 0, 1, 0, 0, 0, 0],\n",
       "       [0, 0, 0, 1, 0, 0, 0],\n",
       "       [0, 0, 0, 0, 1, 0, 0],\n",
       "       [0, 0, 0, 0, 0, 1, 0],\n",
       "       [0, 0, 0, 0, 0, 0, 1]])"
      ]
     },
     "execution_count": 126,
     "metadata": {},
     "output_type": "execute_result"
    }
   ],
   "source": [
    "np.identity(7,dtype=\"int\")"
   ]
  },
  {
   "cell_type": "code",
   "execution_count": 128,
   "id": "251c7a52",
   "metadata": {},
   "outputs": [
    {
     "data": {
      "text/plain": [
       "array([0. , 0.1, 0.2, 0.3, 0.4, 0.5, 0.6, 0.7, 0.8, 0.9, 1. ])"
      ]
     },
     "execution_count": 128,
     "metadata": {},
     "output_type": "execute_result"
    }
   ],
   "source": [
    "# start, stop, elements\n",
    "# equally spaces elements\n",
    "np.linspace(0,1,11)"
   ]
  },
  {
   "cell_type": "code",
   "execution_count": 129,
   "id": "1cff7550",
   "metadata": {},
   "outputs": [
    {
     "data": {
      "text/plain": [
       "array([[[ 0,  1,  2,  3,  4,  5,  6,  7],\n",
       "        [10, 11, 12, 13, 14, 15, 16, 17]],\n",
       "\n",
       "       [[ 1,  1,  2,  3,  4,  5,  6,  7],\n",
       "        [10, 11, 12, 13, 14, 15, 16, 17]],\n",
       "\n",
       "       [[ 2,  1,  2,  3,  4,  5,  6,  7],\n",
       "        [10, 11, 12, 13, 14, 15, 16, 17]]])"
      ]
     },
     "execution_count": 129,
     "metadata": {},
     "output_type": "execute_result"
    }
   ],
   "source": [
    "arr2"
   ]
  },
  {
   "cell_type": "code",
   "execution_count": 132,
   "id": "4f0bee07",
   "metadata": {},
   "outputs": [
    {
     "data": {
      "text/plain": [
       "array([[[ 1,  2,  3,  4,  5,  6],\n",
       "        [11, 12, 13, 14, 15, 16]],\n",
       "\n",
       "       [[ 1,  2,  3,  4,  5,  6],\n",
       "        [11, 12, 13, 14, 15, 16]],\n",
       "\n",
       "       [[ 1,  2,  3,  4,  5,  6],\n",
       "        [11, 12, 13, 14, 15, 16]]])"
      ]
     },
     "execution_count": 132,
     "metadata": {},
     "output_type": "execute_result"
    }
   ],
   "source": [
    "arr2[:,:,1:7]"
   ]
  },
  {
   "cell_type": "code",
   "execution_count": null,
   "id": "4ced2b61",
   "metadata": {},
   "outputs": [],
   "source": [
    "boundary=np."
   ]
  }
 ],
 "metadata": {
  "kernelspec": {
   "display_name": "Python 3 (ipykernel)",
   "language": "python",
   "name": "python3"
  },
  "language_info": {
   "codemirror_mode": {
    "name": "ipython",
    "version": 3
   },
   "file_extension": ".py",
   "mimetype": "text/x-python",
   "name": "python",
   "nbconvert_exporter": "python",
   "pygments_lexer": "ipython3",
   "version": "3.9.13"
  }
 },
 "nbformat": 4,
 "nbformat_minor": 5
}
