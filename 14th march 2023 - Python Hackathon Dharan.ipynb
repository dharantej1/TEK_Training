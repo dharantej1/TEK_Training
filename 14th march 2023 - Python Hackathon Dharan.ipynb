{
 "cells": [
  {
   "cell_type": "code",
   "execution_count": 1,
   "id": "a089b9ce",
   "metadata": {},
   "outputs": [],
   "source": [
    "# Create a CountDividedBy() Function:\n",
    "# This function will take a list of integers as an Input and return an Integer count of numbers \n",
    "# that satisfies the condition, mentioned below.\n",
    "# Sample Input:\n",
    "# 4\n",
    "# 3\n",
    "# 7\n",
    "# 12\n",
    "# 21\n",
    "# Sample Output\n",
    "# 1\n",
    "# Explanation: Only 12 out of all input list of numbers will be divisible by both 3 and 4 but sum \n",
    "# of digits of 12, i.e., 1 + 2 = 3 is not divisible by 5."
   ]
  },
  {
   "cell_type": "code",
   "execution_count": 2,
   "id": "c8d33e5a",
   "metadata": {},
   "outputs": [
    {
     "name": "stdout",
     "output_type": "stream",
     "text": [
      "2\n"
     ]
    }
   ],
   "source": [
    "# 1\n",
    "def isOK(num):\n",
    "    def sumOfDigits(num):\n",
    "        total=0\n",
    "        for i in str(num):\n",
    "            total+=int(i)\n",
    "        return total\n",
    "    \n",
    "    if (num%3==0 and num%4==0) and (sumOfDigits(num)%5!=0):\n",
    "        return True\n",
    "    else: return False\n",
    "\n",
    "def countDividedBy(lis):\n",
    "    count=0\n",
    "    for i in lis:\n",
    "        if isOK(i):\n",
    "            count+=1\n",
    "    return count\n",
    "\n",
    "\n",
    "print(countDividedBy([4,3,7,12,21,99,108]))\n"
   ]
  },
  {
   "cell_type": "code",
   "execution_count": 3,
   "id": "a7092b0a",
   "metadata": {},
   "outputs": [],
   "source": [
    "# Create a function StringBinaryOperations ()\n",
    "# Description:\n",
    "# The Binary number system uses two digits 0 and 1 and number system can be called binary \n",
    "# string. You are required to implement given function\n",
    "# StringBinaryOperations() This function accepts a string str as its argument. The string str \n",
    "# consists of binary digits separated with an alphabet as follows:\n",
    "# - X denotes AND operation\n",
    "# - Y denotes OR operation\n",
    "# - Z denotes XOR Operation\n",
    "# You are required to calculate the result of the string, scanning the string to right taking one \n",
    "# operation at a time, and return the same.\n",
    "# Note:\n",
    "# • No order of priorities of operations is required\n",
    "# • Length of str is odd\n",
    "# • If str is NULL / None (in case of Python), return “Invalid Input”\n",
    "# Input str: 1Z0Z1Z1X0Y1\n",
    "# Output: 1"
   ]
  },
  {
   "cell_type": "code",
   "execution_count": 4,
   "id": "5c4d5f42",
   "metadata": {},
   "outputs": [
    {
     "name": "stdout",
     "output_type": "stream",
     "text": [
      "Enter the string (like 1Z0Z1Z1X0Y1): 1Z0Z1Z1X0Y1\n",
      "1\n"
     ]
    }
   ],
   "source": [
    "# 2\n",
    "def stringBinaryOperations(string):\n",
    "    if len(string)==0 or len(string)%2==0:\n",
    "        return \"Invalid Input\"\n",
    "    \n",
    "    result = int(string[0])\n",
    "    \n",
    "    for i in range(1, len(string), 2):\n",
    "        operation = string[i]\n",
    "        digit = int(string[i+1])\n",
    "        \n",
    "        if operation == 'X':\n",
    "            result &= digit\n",
    "        elif operation == 'Y':\n",
    "            result |= digit\n",
    "        elif operation == 'Z':\n",
    "            result ^= digit\n",
    "    \n",
    "    return str(result)\n",
    "\n",
    "\n",
    "    \n",
    "binaryInput=str(input(\"Enter the string (like 1Z0Z1Z1X0Y1): \"))\n",
    "print(stringBinaryOperations(binaryInput))"
   ]
  },
  {
   "cell_type": "code",
   "execution_count": 5,
   "id": "383b3c44",
   "metadata": {},
   "outputs": [],
   "source": [
    "# Create a class Account with the below attributes:\n",
    "# accntNo (Integer)\n",
    "# accntName (String)\n",
    "# accntBalance (Integer)\n",
    "# Create a constructor which takes all parameters in the above sequence.\n",
    "# Create a class AccountDemo Create a default constructor in the AccountDemo class as \n",
    "# below \n",
    "# def __init__(self):\n",
    "#     pass\n",
    "# Create a method depositAmnt which takes an account object and amount to be deposited\n",
    "# (amount) as input parameters. Update the balance i.e. Add the amount to the \n",
    "# existingbalance and return the updated balanceCreate another method withdrawAmnt \n",
    "# which takes an Account object and amount to bedeposited (amount) as input parameters. \n",
    "# Deduct the amount from the balance and returnthe updated balance. Minimum balance to \n",
    "# be maintained is 10000. i.e if the balance isbecoming less than 10000 when deducting the \n",
    "# withdrawal amount, the operation needs tobe stopped with a message “No Adequate \n",
    "# balance”. \n",
    "# Create a main function \n",
    "# if __name__ == ‘__main__’. Declare all user’s input using input() \n",
    "# required."
   ]
  },
  {
   "cell_type": "code",
   "execution_count": 6,
   "id": "e75908b9",
   "metadata": {},
   "outputs": [
    {
     "name": "stdout",
     "output_type": "stream",
     "text": [
      "Enter Account Number: 10089\n",
      "Enter Account Name: Dharan\n",
      "Enter Account Balance: 10000\n",
      "Enter Amount to Deposit: 10\n",
      "Updated Balance after deposit: 10010\n",
      "Enter Amount to Withdraw: 100000\n",
      "No Adequate balance\n",
      "Updated Balance after withdrawal: 10010\n"
     ]
    }
   ],
   "source": [
    "# 3\n",
    "class Account:\n",
    "    def __init__(self, accntNo, accntName, accntBalance):\n",
    "        self.accntNo = accntNo\n",
    "        self.accntName = accntName\n",
    "        self.accntBalance = accntBalance\n",
    "    \n",
    "class AccountDemo:\n",
    "    def __init__(self):\n",
    "        pass\n",
    "    \n",
    "    def depositAmnt(self, account, amount):\n",
    "        account.accntBalance += amount\n",
    "        return account.accntBalance\n",
    "    \n",
    "    def withdrawAmnt(self, account, amount):\n",
    "        if account.accntBalance - amount < 10000:\n",
    "            print(\"No Adequate balance\")\n",
    "            return account.accntBalance\n",
    "        else:\n",
    "            account.accntBalance -= amount\n",
    "            return account.accntBalance\n",
    "    \n",
    "if __name__ == '__main__':\n",
    "    accntNo = int(input(\"Enter Account Number: \"))\n",
    "    accntName = input(\"Enter Account Name: \")\n",
    "    accntBalance = int(input(\"Enter Account Balance: \"))\n",
    "    account = Account(accntNo, accntName, accntBalance)\n",
    "    account_demo = AccountDemo()\n",
    "    \n",
    "    deposit_amount = int(input(\"Enter Amount to Deposit: \"))\n",
    "    updated_balance = account_demo.depositAmnt(account, deposit_amount)\n",
    "    print(\"Updated Balance after deposit:\", updated_balance)\n",
    "    \n",
    "    withdraw_amount = int(input(\"Enter Amount to Withdraw: \"))\n",
    "    updated_balance = account_demo.withdrawAmnt(account, withdraw_amount)\n",
    "    print(\"Updated Balance after withdrawal:\", updated_balance)\n"
   ]
  },
  {
   "cell_type": "code",
   "execution_count": 7,
   "id": "afdb9830",
   "metadata": {},
   "outputs": [],
   "source": [
    "# An Autobiographical Number is a number N such that the \n",
    "# first digit of N represents the count of how many zeroes are there in N, \n",
    "# the second digit represents the count of how many ones are there in N and so on.\n",
    "# You are given a function, def FindAutoCount(n):\n",
    "# The function accepts string “n” which is a number and checks whether the number is an \n",
    "# autobiographical number or not. If it is, an integer is returned, i.e. the count of distinct \n",
    "# numbers in ‘n’. If not, it returns 0.\n",
    "# Assumption:\n",
    "# The input string will not be longer than 10 characters.\n",
    "# Input string will consist of numeric characters.\n",
    "# Note:\n",
    "# If string is None return 0.\n",
    "# Example:\n",
    "# Input:\n",
    "# n: “1210”\n",
    "# Output:\n",
    "# 3\n",
    "# Explanation:\n",
    "# 0th position in the input contains the number of 0 present in input, i.e., 1, in 1st position the \n",
    "# count of number of 1s in input i.e. 2, in 2nd position the count of 2s in input i.e. 1, and in 3rd \n",
    "# position the count of 3s i.e. 0, so the number is an autobiographical number.\n",
    "# Now unique numbers in the input are 0, 1, 2, so the count of unique numbers is 3."
   ]
  },
  {
   "cell_type": "code",
   "execution_count": 8,
   "id": "30b7d52a",
   "metadata": {},
   "outputs": [
    {
     "name": "stdout",
     "output_type": "stream",
     "text": [
      "3\n"
     ]
    }
   ],
   "source": [
    "# 4\n",
    "\n",
    "def FindAutoCount(n):\n",
    "    if len(n)==0:\n",
    "        return 0\n",
    "    count = [0] * 10\n",
    "    for c in n:\n",
    "        count[int(c)] += 1\n",
    "    for i, c in enumerate(n):\n",
    "        if count[i] != int(c):\n",
    "            return 0\n",
    "    return len(set(n))\n",
    "\n",
    "n=\"1210\"\n",
    "print(FindAutoCount(n))"
   ]
  },
  {
   "cell_type": "code",
   "execution_count": 9,
   "id": "fb7b85f9",
   "metadata": {},
   "outputs": [],
   "source": [
    "# Write a function isAnagrams () to validate if the provided two strings are anagrams or not. If \n",
    "# the two strings are anagrams, then return ‘Anagrams. Otherwise, return ‘Word is not\n",
    "# anagrams.\n",
    "# Words Example: Race and Care, Listen and Silent"
   ]
  },
  {
   "cell_type": "code",
   "execution_count": 10,
   "id": "af92a087",
   "metadata": {},
   "outputs": [
    {
     "name": "stdout",
     "output_type": "stream",
     "text": [
      "Enter two words separated by single space: care Race\n",
      "Yes, its Anagram\n"
     ]
    }
   ],
   "source": [
    "# 5\n",
    "def isAnagram(word1,word2):\n",
    "    if sorted(list(word1.lower()))==sorted(list(word2.lower())):\n",
    "        return \"Yes, its Anagram\"\n",
    "    return \"No, its not Anagram\"\n",
    "\n",
    "word1,word2=map(str,input(\"Enter two words separated by single space: \").split())\n",
    "print(isAnagram(word1,word2))"
   ]
  }
 ],
 "metadata": {
  "kernelspec": {
   "display_name": "Python 3 (ipykernel)",
   "language": "python",
   "name": "python3"
  },
  "language_info": {
   "codemirror_mode": {
    "name": "ipython",
    "version": 3
   },
   "file_extension": ".py",
   "mimetype": "text/x-python",
   "name": "python",
   "nbconvert_exporter": "python",
   "pygments_lexer": "ipython3",
   "version": "3.9.13"
  }
 },
 "nbformat": 4,
 "nbformat_minor": 5
}
