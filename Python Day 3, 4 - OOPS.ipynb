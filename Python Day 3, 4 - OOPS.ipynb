{
 "cells": [
  {
   "cell_type": "markdown",
   "id": "333e8ddd",
   "metadata": {},
   "source": [
    "# Day 3 - 27th February 2023\n",
    "# OOPS in Python\n",
    "#### Classes and objects\n",
    "\n",
    "* a class is an object constructor or a blueprint for creating objects\n",
    "* objects are nothing but an encapsulation of multiple variables and methods in a single entity\n",
    "* objects get their variables and functions from classes\n",
    "* self parameters is reference to current/ newly created obj of class, with object user can access attributes/ methods etc.\n",
    "* self is the first parameter of any method(function) in class"
   ]
  },
  {
   "cell_type": "code",
   "execution_count": 2,
   "id": "87a11efb",
   "metadata": {},
   "outputs": [],
   "source": [
    "# declare a class with class name\n",
    "class className:\n",
    "    # declaring a function with parameter name\n",
    "    def createName(self, name):\n",
    "        # initialize attribute with self.name = name passed by the user\n",
    "        self.name= name\n",
    "    def greetings(self):\n",
    "        print(\"Hello, Good Afternoon \",self.name)\n",
    "\n",
    "# object of the class\n",
    "obj= className()"
   ]
  },
  {
   "cell_type": "code",
   "execution_count": 3,
   "id": "f7d97774",
   "metadata": {},
   "outputs": [
    {
     "name": "stdout",
     "output_type": "stream",
     "text": [
      "Hello, Good Afternoon  XYZ\n"
     ]
    }
   ],
   "source": [
    "obj.createName(\"XYZ\")\n",
    "obj.greetings()"
   ]
  },
  {
   "cell_type": "markdown",
   "id": "b9c7210e",
   "metadata": {},
   "source": [
    "#### __init__ method\n",
    "* special method, when we call the class object a new instance of the class is created and this method is immediately executed with all the parameters that we passed to the class object"
   ]
  },
  {
   "cell_type": "code",
   "execution_count": 12,
   "id": "4664d677",
   "metadata": {},
   "outputs": [
    {
     "name": "stdout",
     "output_type": "stream",
     "text": [
      "Employee 1 Name: Arya\n",
      "Employee 1 Id: 98172\n",
      "Thanks for joining XYZ Company, Arya\n",
      "Employee 2 Name: Bhavi\n",
      "Employee 2 Id: 89856\n",
      "Thanks for joining XYZ Company, Bhavi\n",
      "India\n",
      "Dharan\n",
      "Thanks for joining XYZ Company, Dharan\n"
     ]
    }
   ],
   "source": [
    "# create an employee class\n",
    "class Employee:\n",
    "    def __init__(self,name,empid): # __init__ method is used to assign value at the obj declaration\n",
    "        self.name=name\n",
    "        self.empid=empid\n",
    "    def greet(self):\n",
    "        print(\"Thanks for joining XYZ Company, {}\".format(self.name))\n",
    "        \n",
    "emp1=Employee(\"Arya\",98172)\n",
    "print(\"Employee 1 Name: {}\".format(emp1.name))\n",
    "print(\"Employee 1 Id: {}\".format(emp1.empid))\n",
    "emp1.greet()\n",
    "\n",
    "emp2=Employee(\"Bhavi\",89856)\n",
    "print(\"Employee 2 Name: {}\".format(emp2.name))\n",
    "print(\"Employee 2 Id: {}\".format(emp2.empid))\n",
    "emp2.greet()\n",
    "\n",
    "emp2.country=\"India\" # Instance variable can be created manually\n",
    "print(emp2.country)\n",
    "\n",
    "# Modify properties\n",
    "emp1.name=\"Dharan\"\n",
    "print(emp1.name)\n",
    "emp1.greet()"
   ]
  },
  {
   "cell_type": "code",
   "execution_count": 13,
   "id": "97f00755",
   "metadata": {},
   "outputs": [],
   "source": [
    "# delete and object properties\n",
    "del(emp2)"
   ]
  },
  {
   "cell_type": "code",
   "execution_count": 15,
   "id": "61ec169d",
   "metadata": {},
   "outputs": [
    {
     "ename": "NameError",
     "evalue": "name 'emp2' is not defined",
     "output_type": "error",
     "traceback": [
      "\u001b[1;31m---------------------------------------------------------------------------\u001b[0m",
      "\u001b[1;31mNameError\u001b[0m                                 Traceback (most recent call last)",
      "\u001b[1;32m~\\AppData\\Local\\Temp\\ipykernel_6300\\2065909617.py\u001b[0m in \u001b[0;36m<module>\u001b[1;34m\u001b[0m\n\u001b[1;32m----> 1\u001b[1;33m \u001b[0memp2\u001b[0m\u001b[1;33m.\u001b[0m\u001b[0mname\u001b[0m\u001b[1;33m\u001b[0m\u001b[1;33m\u001b[0m\u001b[0m\n\u001b[0m",
      "\u001b[1;31mNameError\u001b[0m: name 'emp2' is not defined"
     ]
    }
   ],
   "source": [
    "emp2.name"
   ]
  },
  {
   "cell_type": "markdown",
   "id": "062229eb",
   "metadata": {},
   "source": [
    "#### Exercise: Create a class Person.\n",
    "* initialize vallues like name, surname, DOB, address, contact number and email\n",
    "* create a method that returns age"
   ]
  },
  {
   "cell_type": "code",
   "execution_count": 69,
   "id": "09e3f01b",
   "metadata": {},
   "outputs": [
    {
     "name": "stdout",
     "output_type": "stream",
     "text": [
      "Age is: 21\n"
     ]
    }
   ],
   "source": [
    "import datetime\n",
    "class Person:\n",
    "    def __init__(self, name, surname, dob, address, contact_number, email):\n",
    "        self.name=name\n",
    "        self.surname=surname\n",
    "        self.dob=dob\n",
    "        self.address=address\n",
    "        self.contact_number=contact_number\n",
    "        self.email=email\n",
    "    def calculate_age(self):\n",
    "        today=datetime.date.today()\n",
    "        age=today.year-self.dob.year\n",
    "        if today<datetime.date(today.year,self.dob.month,self.dob.day):\n",
    "            return -1\n",
    "        return age\n",
    "person1=Person(\"Dharan\",\"Pusthakala\",datetime.date(2002, 1, 1),\"Hyderabad, Telangana\",9848282831,\"pdharantej@teksystems.com\")\n",
    "print(\"Age is:\",person1.calculate_age())"
   ]
  },
  {
   "cell_type": "code",
   "execution_count": 26,
   "id": "9ad35fbe",
   "metadata": {},
   "outputs": [
    {
     "name": "stdout",
     "output_type": "stream",
     "text": [
      "2023-02-27\n"
     ]
    }
   ],
   "source": [
    "import datetime\n",
    "print(datetime.date.today())\n"
   ]
  },
  {
   "cell_type": "markdown",
   "id": "6e32352f",
   "metadata": {},
   "source": [
    "#### Access Modifiers - Public, Private and Protected\n",
    "* Public - accessed every where\n",
    "* Protected - within the class and deriverd class\n",
    "* Private - Only within the class"
   ]
  },
  {
   "cell_type": "code",
   "execution_count": 61,
   "id": "646c9072",
   "metadata": {},
   "outputs": [
    {
     "name": "stdout",
     "output_type": "stream",
     "text": [
      "Employee age:  21\n"
     ]
    }
   ],
   "source": [
    "# Example public access modifiers in a class\n",
    "class Employee:\n",
    "    # declare constructor\n",
    "    def __init__(self, name, age):\n",
    "        # public data member\n",
    "        self.employeeName=name\n",
    "        self.employeeAge=age\n",
    "    #public member function\n",
    "    def printAge(self):\n",
    "        print(\"Employee age: \",self.employeeAge)\n",
    "\n",
    "# create an obj of a class\n",
    "empobj=Employee(\"ABC\",21)\n",
    "empobj.printAge()"
   ]
  },
  {
   "cell_type": "code",
   "execution_count": 68,
   "id": "a4482c0c",
   "metadata": {},
   "outputs": [
    {
     "name": "stdout",
     "output_type": "stream",
     "text": [
      "Name:  Dharan\n",
      "Dharan\n",
      "Data Insights\n"
     ]
    }
   ],
   "source": [
    "# Example of Protected Access modifiers in a class\n",
    "\n",
    "# ====== Parent Class ======\n",
    "class Employee:\n",
    "    # protected data members\n",
    "    _name=None\n",
    "    _department=None\n",
    "    # declare constructor def init\n",
    "    def __init__(self, name, department):\n",
    "        # protected data members\n",
    "        self._name=name\n",
    "        self._department=department\n",
    "    # protected member function\n",
    "    def _display(self):\n",
    "        print(self._name) # 2nd line in the output\n",
    "        print(self._department) # 3rd line in the output\n",
    "\n",
    "        \n",
    "# ====== Derived Class ====== - Can access data members of parent class\n",
    "class EmpDetails(Employee):\n",
    "    def __init__(self, name, department):\n",
    "        Employee.__init__(self, name, department) # re-initializing the same variables from the parent class\n",
    "    \n",
    "    # public data method\n",
    "    def displayDetails(self):\n",
    "        print(\"Name: \",self._name) # 1st line in the output\n",
    "        # accessing protected data within derived class\n",
    "        return (self._display())\n",
    "\n",
    "# declare obj for derived class\n",
    "obj= EmpDetails(\"Dharan\",\"Data Insights\")\n",
    "obj.displayDetails()"
   ]
  },
  {
   "cell_type": "code",
   "execution_count": 70,
   "id": "56c5031a",
   "metadata": {},
   "outputs": [
    {
     "name": "stdout",
     "output_type": "stream",
     "text": [
      "Enter Employee name: dharan\n",
      "Enter Department name: data insights\n"
     ]
    }
   ],
   "source": [
    "# Example of Private Access modifiers in a class\n",
    "\n",
    "class Employee:\n",
    "    # private data members \n",
    "    __name=None\n",
    "    __department=None\n",
    "    # declare constructor def init\n",
    "    def __init__(self, name, department):\n",
    "        # private data members\n",
    "        self.__name=name\n",
    "        self.__department=department\n",
    "    # private member function\n",
    "    def __display(self):\n",
    "        print(self.__name) \n",
    "        print(self.__department) \n",
    "    # public method\n",
    "    def accessPrivateFunction(self):\n",
    "        self.__display()\n",
    "\n",
    "        \n",
    "name=input(\"Enter Employee name: \")\n",
    "department=input(\"Enter Department name: \")\n",
    "obj=Employee(name,department)\n"
   ]
  },
  {
   "cell_type": "code",
   "execution_count": 72,
   "id": "cb321aae",
   "metadata": {},
   "outputs": [
    {
     "name": "stdout",
     "output_type": "stream",
     "text": [
      "dharan\n",
      "data insights\n"
     ]
    }
   ],
   "source": [
    "obj.accessPrivateFunction() # only public function is accesible"
   ]
  },
  {
   "cell_type": "code",
   "execution_count": 73,
   "id": "9627555c",
   "metadata": {},
   "outputs": [
    {
     "ename": "AttributeError",
     "evalue": "'Employee' object has no attribute '__display'",
     "output_type": "error",
     "traceback": [
      "\u001b[1;31m---------------------------------------------------------------------------\u001b[0m",
      "\u001b[1;31mAttributeError\u001b[0m                            Traceback (most recent call last)",
      "\u001b[1;32m~\\AppData\\Local\\Temp\\ipykernel_6300\\1971042372.py\u001b[0m in \u001b[0;36m<module>\u001b[1;34m\u001b[0m\n\u001b[1;32m----> 1\u001b[1;33m \u001b[0mobj\u001b[0m\u001b[1;33m.\u001b[0m\u001b[0m__display\u001b[0m\u001b[1;33m(\u001b[0m\u001b[1;33m)\u001b[0m\u001b[1;33m\u001b[0m\u001b[1;33m\u001b[0m\u001b[0m\n\u001b[0m",
      "\u001b[1;31mAttributeError\u001b[0m: 'Employee' object has no attribute '__display'"
     ]
    }
   ],
   "source": [
    "obj.__display() # private function/ methods are not recognised outside the class here!"
   ]
  },
  {
   "cell_type": "markdown",
   "id": "f3f851d8",
   "metadata": {},
   "source": [
    "# Day 4 - 28th February 2023"
   ]
  },
  {
   "cell_type": "markdown",
   "id": "2efe5f12",
   "metadata": {},
   "source": [
    "#### Inheritance\n",
    "* Single inheritance - single base -> single derived\n",
    "* Multiple inheritance - multiple base -> single derived\n",
    "* Multi level inheritance - single base -> many derived class (in diff level)\n",
    "* Hierarchial inheritance - single base -> many derived class (in same level)\n",
    "\n",
    "#### Def:\n",
    "* provides code reusability in prog because we can use an existing class (super class/ parent class/ base class) to create a new class (sub-class/ child class/ derived class) instead of creatingeverything from scratch"
   ]
  },
  {
   "cell_type": "code",
   "execution_count": 4,
   "id": "7e4d8dd6",
   "metadata": {},
   "outputs": [
    {
     "name": "stdout",
     "output_type": "stream",
     "text": [
      "calling name:  Python\n",
      "calling child constructor\n",
      "calling child class method\n",
      "calling parent class method\n"
     ]
    }
   ],
   "source": [
    "# parent class declaratin\n",
    "class Parent:\n",
    "    # constructor\n",
    "    def __init__(self, name):\n",
    "        self.name=name\n",
    "        print(\"calling name: \",self.name)\n",
    "    def parentMethod(self):\n",
    "        print(\"calling parent class method\")\n",
    "\n",
    "# derived class\n",
    "class Child(Parent):\n",
    "    def __init__(self):\n",
    "        print(\"calling child constructor\")\n",
    "    def childMethod(self):\n",
    "        print(\"calling child class method\")\n",
    "        \n",
    "obj1=Parent(\"Python\") # obj of parent class\n",
    "obj2=Child() # obj of child class\n",
    "\n",
    "obj2.childMethod() # calling child class method from child class\n",
    "obj2.parentMethod() # calling parent class method from parent class\n"
   ]
  },
  {
   "cell_type": "code",
   "execution_count": null,
   "id": "d65a65f7",
   "metadata": {},
   "outputs": [],
   "source": [
    "# #Multi level inheritance\n",
    "\n",
    "# class Parent:\n",
    "#     statements\n",
    "    \n",
    "# class Child(Parent):\n",
    "#     statements\n",
    "    \n",
    "# class grandChild(Child):\n",
    "#     statements"
   ]
  },
  {
   "cell_type": "code",
   "execution_count": 23,
   "id": "76168687",
   "metadata": {},
   "outputs": [],
   "source": [
    "class Person:\n",
    "    # constructor\n",
    "    def __init__(self, name, age, gender):\n",
    "        self.name=name\n",
    "        self.age=age\n",
    "        self.gender=gender\n",
    "    def personInfo(self):\n",
    "        print(\"Name: \",self.name)\n",
    "        print(\"Age: \",self.age)\n",
    "        print(\"Gender: \",self.gender)\n",
    "        \n",
    "# child class of person\n",
    "class Employee(Person):\n",
    "    def __init__(self, name, age, gender, empid, salary):\n",
    "        Person.__init__(self, name, age, gender) # deriving the constructor for variables of parent class\n",
    "        self.empid=empid\n",
    "        self.salary=salary\n",
    "    def employeeInfo(self):\n",
    "        print(\"Employee ID: \",self.empid)\n",
    "        print(\"Salary: \",self.salary)\n",
    "    \n",
    "# grand child class\n",
    "class fullTime(Employee):\n",
    "    def __init__(self, name, age, gender, empid, salary, workExperience):\n",
    "        Employee.__init__(self, name, age, gender, empid, salary)\n",
    "        self.workExperience=workExperience\n",
    "    def fullTimeInfo(self):\n",
    "        print(\"Work experience of: {} years\".format(self.workExperience))\n",
    "        \n",
    "# grand child class\n",
    "class contractual(Employee):\n",
    "    def __init__(self, name, age, gender, empid, salary, contractExperience):\n",
    "        Employee.__init__(self, name, age, gender, empid, salary)\n",
    "        self.contractExperience=contractExperience\n",
    "    def contractInfo(self):\n",
    "        print(\"Contract experience from: {}\".format(self.contractExperience))"
   ]
  },
  {
   "cell_type": "code",
   "execution_count": 24,
   "id": "d39f979a",
   "metadata": {},
   "outputs": [
    {
     "name": "stdout",
     "output_type": "stream",
     "text": [
      "Contractual Employee Details: \n",
      "******************************\n",
      "Name:  Dharan\n",
      "Age:  22\n",
      "Gender:  Male\n",
      "Employee ID:  234574\n",
      "Salary:  70000\n",
      "Contract experience from: 30-02-2023\n"
     ]
    }
   ],
   "source": [
    "print(\"Contractual Employee Details: \")\n",
    "print(\"******************************\")\n",
    "contr_obj=contractual(\"Dharan\", 22, \"Male\", 234574, 70000, \"30-02-2023\")\n",
    "contr_obj.personInfo()\n",
    "contr_obj.employeeInfo()\n",
    "contr_obj.contractInfo()"
   ]
  },
  {
   "cell_type": "code",
   "execution_count": 25,
   "id": "7142d8f3",
   "metadata": {},
   "outputs": [
    {
     "name": "stdout",
     "output_type": "stream",
     "text": [
      "Full Time Employee Details: \n",
      "******************************\n",
      "Name:  Dharan\n",
      "Age:  22\n",
      "Gender:  Male\n",
      "Employee ID:  234574\n",
      "Salary:  70000\n",
      "Work experience of: 5 years\n"
     ]
    }
   ],
   "source": [
    "print(\"Full Time Employee Details: \")\n",
    "print(\"******************************\")\n",
    "full_obj=fullTime(\"Dharan\", 22, \"Male\", 234574, 70000, 5)\n",
    "full_obj.personInfo()\n",
    "full_obj.employeeInfo()\n",
    "full_obj.fullTimeInfo()"
   ]
  },
  {
   "cell_type": "code",
   "execution_count": 26,
   "id": "48abd44a",
   "metadata": {},
   "outputs": [],
   "source": [
    "# # Multiple Inheritance\n",
    "\n",
    "# class Father:\n",
    "#     statements\n",
    "# class Mother:\n",
    "#     statements\n",
    "# class Child(Father, Mother):\n",
    "#     statements"
   ]
  },
  {
   "cell_type": "code",
   "execution_count": 38,
   "id": "90277474",
   "metadata": {},
   "outputs": [
    {
     "name": "stdout",
     "output_type": "stream",
     "text": [
      "2023-02-2810:58:02\n"
     ]
    }
   ],
   "source": [
    "class currentDate:\n",
    "    def __init__(self, date):\n",
    "        self.date=date\n",
    "    \n",
    "class currentTime:\n",
    "    def __init__(self, time):\n",
    "        self.time=time\n",
    "        \n",
    "class timeStamp(currentDate, currentTime):\n",
    "    def __init__(self, date, time):\n",
    "        currentDate.__init__(self, date)\n",
    "        currentTime.__init__(self, time)\n",
    "        timestamp = self.date + self.time\n",
    "        print(timestamp)\n",
    "datetime1= timeStamp(\"2023-02-28\",\"10:58:02\")\n"
   ]
  },
  {
   "cell_type": "code",
   "execution_count": 39,
   "id": "d34299a6",
   "metadata": {},
   "outputs": [],
   "source": [
    "# # Hierarchial Inheritance\n",
    "\n",
    "# class Parent:\n",
    "#     statements\n",
    "\n",
    "# # two derived classes from Parent class\n",
    "# class Child1(Parent):\n",
    "#     statements\n",
    "# class Child2(Parent):\n",
    "#     statements"
   ]
  },
  {
   "cell_type": "code",
   "execution_count": 44,
   "id": "de12ccd8",
   "metadata": {},
   "outputs": [
    {
     "name": "stdout",
     "output_type": "stream",
     "text": [
      "One of the Thakrey family's son lives in Mumbai\n",
      "One of the Thakrey family's son lives in Canada\n"
     ]
    }
   ],
   "source": [
    "class Family:\n",
    "    def __init__(self, surname, place):\n",
    "        self.surname=surname\n",
    "        self.place=place\n",
    "    def displayDetails(self):\n",
    "        print(\"One of the {} family's son lives in {}\".format(self.surname,self.place))\n",
    "        \n",
    "class firstSon(Family):\n",
    "    def __init__(self, surname, place, children):\n",
    "        Family.__init__(self, surname, place)\n",
    "        self.children=children\n",
    "    def firstSonDetails(self):\n",
    "        print(\"First son from {} has {} children\".format(self.place,self.children))\n",
    "        \n",
    "class secondSon(Family):\n",
    "    def __init__(self, surname, place, children):\n",
    "        Family.__init__(self, surname, place)\n",
    "        self.children=children\n",
    "    def secondSonDetails(self):\n",
    "        print(\"Second son from {} has {} children\".format(self.place,self.children))\n",
    "    \n",
    "firstChildObj=firstSon(\"Thakrey\",\"Mumbai\",2)\n",
    "firstChildObj.displayDetails()\n",
    "\n",
    "secondChildObj=secondSon(\"Thakrey\",\"Canada\",3)\n",
    "secondChildObj.displayDetails()"
   ]
  },
  {
   "cell_type": "markdown",
   "id": "0280857b",
   "metadata": {},
   "source": [
    "#### Super function\n",
    "* **super()**: built-in function which allows to access methods of parent class.\n"
   ]
  },
  {
   "cell_type": "code",
   "execution_count": 48,
   "id": "70bb5984",
   "metadata": {},
   "outputs": [
    {
     "name": "stdout",
     "output_type": "stream",
     "text": [
      "Name:  ABC\n",
      "Age:  22\n",
      "Gender:  Female\n",
      "Student ID:  123478\n",
      "Fees:  10000\n"
     ]
    }
   ],
   "source": [
    "class Person: # parent class\n",
    "    def __init__(self, name, age, gender):\n",
    "        self.name=name\n",
    "        self.age=age\n",
    "        self.gender=gender\n",
    "    def personInfo(self):\n",
    "        print(\"Name: \",self.name)\n",
    "        print(\"Age: \",self.age)\n",
    "        print(\"Gender: \",self.gender)\n",
    "class Student(Person):\n",
    "    def __init__(self, name, age, gender, studentid, fees):\n",
    "#         Person.__init__(self, name, age, gender) # instead of this you can use super() function\n",
    "        super().__init__(name, age, gender) # remove self if you are using super() function\n",
    "        self.studentid=studentid\n",
    "        self.fees=fees\n",
    "    def studentInfo(self):\n",
    "#         Person.personInfo()\n",
    "        super().personInfo()\n",
    "        print(\"Student ID: \",self.studentid)\n",
    "        print(\"Fees: \",self.fees)\n",
    "        \n",
    "studentobj=Student(\"ABC\", 22, \"Female\", 123478, 10000)\n",
    "studentobj.studentInfo()"
   ]
  },
  {
   "cell_type": "markdown",
   "id": "b8bb96e2",
   "metadata": {},
   "source": [
    "#### Encapsulation\n",
    "* process of binding data members and member functions into a single unit. Hides the state and structured data objects inside a class preventing unauthorised access to unauthorised person.\n",
    "* example: only the chemist has the access to medicines, to reduce the risk of unauthorised people taking any unnecessary medicines"
   ]
  },
  {
   "cell_type": "code",
   "execution_count": 49,
   "id": "addfd168",
   "metadata": {},
   "outputs": [],
   "source": [
    "# Encapsulation\n",
    "# wrapping up of data methods that work on data within one unit."
   ]
  },
  {
   "cell_type": "code",
   "execution_count": 54,
   "id": "6182da8d",
   "metadata": {},
   "outputs": [
    {
     "name": "stdout",
     "output_type": "stream",
     "text": [
      "Calling a protected members:  10\n",
      "Calling a protected members:  10010\n"
     ]
    },
    {
     "data": {
      "text/plain": [
       "10010"
      ]
     },
     "execution_count": 54,
     "metadata": {},
     "output_type": "execute_result"
    }
   ],
   "source": [
    "class Parent:\n",
    "    def __init__(self):\n",
    "        # protected member of base class\n",
    "        self._value=10\n",
    "        self.__value=\"Protected Member\"\n",
    "class Child(Parent):\n",
    "    def __init__(self):\n",
    "        Parent.__init__(self)\n",
    "        print(\"Calling a protected members: \",self._value)\n",
    "        # modify protected variable\n",
    "        self._value+=10000\n",
    "        print(\"Calling a protected members: \",self._value)\n",
    "obj1=Parent()\n",
    "obj2=Child()\n",
    "\n",
    "obj1._value\n",
    "obj2._value"
   ]
  },
  {
   "cell_type": "markdown",
   "id": "9857f5f6",
   "metadata": {},
   "source": [
    "#### Exercise: Write a program to demonstrate encapsulation using classes, objects and methods\n",
    "* steps to perform:\n",
    "    * create a class called employee\n",
    "    * declare variables in the initiation function\n",
    "    * make a method to print variables\n",
    "    * create an object for the employee class\n",
    "    * call the display method"
   ]
  },
  {
   "cell_type": "code",
   "execution_count": 79,
   "id": "f3131c75",
   "metadata": {},
   "outputs": [
    {
     "ename": "RuntimeError",
     "evalue": "super(): no arguments",
     "output_type": "error",
     "traceback": [
      "\u001b[1;31m---------------------------------------------------------------------------\u001b[0m",
      "\u001b[1;31mRuntimeError\u001b[0m                              Traceback (most recent call last)",
      "\u001b[1;32m~\\AppData\\Local\\Temp\\ipykernel_8300\\4056427699.py\u001b[0m in \u001b[0;36m<module>\u001b[1;34m\u001b[0m\n\u001b[0;32m      9\u001b[0m         \u001b[0mprint\u001b[0m\u001b[1;33m(\u001b[0m\u001b[1;34m\"Gender: {}\"\u001b[0m\u001b[1;33m.\u001b[0m\u001b[0mformat\u001b[0m\u001b[1;33m(\u001b[0m\u001b[0mself\u001b[0m\u001b[1;33m.\u001b[0m\u001b[0m_gender\u001b[0m\u001b[1;33m)\u001b[0m\u001b[1;33m)\u001b[0m\u001b[1;33m\u001b[0m\u001b[1;33m\u001b[0m\u001b[0m\n\u001b[0;32m     10\u001b[0m \u001b[1;33m\u001b[0m\u001b[0m\n\u001b[1;32m---> 11\u001b[1;33m \u001b[1;32mclass\u001b[0m \u001b[0mDerived\u001b[0m\u001b[1;33m(\u001b[0m\u001b[0mEmployee\u001b[0m\u001b[1;33m)\u001b[0m\u001b[1;33m:\u001b[0m\u001b[1;33m\u001b[0m\u001b[1;33m\u001b[0m\u001b[0m\n\u001b[0m\u001b[0;32m     12\u001b[0m     \u001b[0msuper\u001b[0m\u001b[1;33m(\u001b[0m\u001b[1;33m)\u001b[0m\u001b[1;33m.\u001b[0m\u001b[0m__init__\u001b[0m\u001b[1;33m(\u001b[0m\u001b[0mname\u001b[0m\u001b[1;33m)\u001b[0m\u001b[1;33m\u001b[0m\u001b[1;33m\u001b[0m\u001b[0m\n\u001b[0;32m     13\u001b[0m     \u001b[0mprint\u001b[0m\u001b[1;33m(\u001b[0m\u001b[0mself\u001b[0m\u001b[1;33m.\u001b[0m\u001b[0m_name\u001b[0m\u001b[1;33m)\u001b[0m\u001b[1;33m\u001b[0m\u001b[1;33m\u001b[0m\u001b[0m\n",
      "\u001b[1;32m~\\AppData\\Local\\Temp\\ipykernel_8300\\4056427699.py\u001b[0m in \u001b[0;36mDerived\u001b[1;34m()\u001b[0m\n\u001b[0;32m     10\u001b[0m \u001b[1;33m\u001b[0m\u001b[0m\n\u001b[0;32m     11\u001b[0m \u001b[1;32mclass\u001b[0m \u001b[0mDerived\u001b[0m\u001b[1;33m(\u001b[0m\u001b[0mEmployee\u001b[0m\u001b[1;33m)\u001b[0m\u001b[1;33m:\u001b[0m\u001b[1;33m\u001b[0m\u001b[1;33m\u001b[0m\u001b[0m\n\u001b[1;32m---> 12\u001b[1;33m     \u001b[0msuper\u001b[0m\u001b[1;33m(\u001b[0m\u001b[1;33m)\u001b[0m\u001b[1;33m.\u001b[0m\u001b[0m__init__\u001b[0m\u001b[1;33m(\u001b[0m\u001b[0mname\u001b[0m\u001b[1;33m)\u001b[0m\u001b[1;33m\u001b[0m\u001b[1;33m\u001b[0m\u001b[0m\n\u001b[0m\u001b[0;32m     13\u001b[0m     \u001b[0mprint\u001b[0m\u001b[1;33m(\u001b[0m\u001b[0mself\u001b[0m\u001b[1;33m.\u001b[0m\u001b[0m_name\u001b[0m\u001b[1;33m)\u001b[0m\u001b[1;33m\u001b[0m\u001b[1;33m\u001b[0m\u001b[0m\n\u001b[0;32m     14\u001b[0m \u001b[1;33m\u001b[0m\u001b[0m\n",
      "\u001b[1;31mRuntimeError\u001b[0m: super(): no arguments"
     ]
    }
   ],
   "source": [
    "class Employee:\n",
    "    def __init__(self, name, age, gender):\n",
    "        self._name=name\n",
    "        self.__age=age\n",
    "        self._gender=gender\n",
    "    def displayDetails(self):\n",
    "        print(\"Name: {}\".format(self._name))\n",
    "        print(\"Age after 10 years: {}\".format(self.__age+10))\n",
    "        print(\"Gender: {}\".format(self._gender))\n",
    "\n",
    "class Derived(Employee):\n",
    "    super().__init__(name)\n",
    "    print(self._name)\n",
    "\n",
    "obj=Employee(\"Dharan\", 22, \"Male\")\n",
    "obj.displayDetails()\n",
    "\n",
    "derobj=Derived(\"Tej\", 22, \"Male\")\n",
    "derobj"
   ]
  },
  {
   "cell_type": "markdown",
   "id": "b941fdf2",
   "metadata": {},
   "source": [
    "#### Method Overriding\n",
    "* ability of OOP that allows child class to provide a specific implementation of method is already persent by super-class/ parent class"
   ]
  },
  {
   "cell_type": "code",
   "execution_count": 85,
   "id": "8262e4aa",
   "metadata": {},
   "outputs": [
    {
     "name": "stdout",
     "output_type": "stream",
     "text": [
      "3\n"
     ]
    }
   ],
   "source": [
    "class Vehicle:\n",
    "    # constructor\n",
    "    def __init__(self):\n",
    "        self.tyres=1\n",
    "    def showtyres(self):\n",
    "        print(self.tyres)\n",
    "\n",
    "# child class - Inheritance\n",
    "class Auto(Vehicle):\n",
    "    # constructor\n",
    "    def __init__(self):\n",
    "        self.tyres=3 # same method is declared and over-ridden\n",
    "    def showtyres(self):\n",
    "        print(self.tyres)\n",
    "\n",
    "# child class - Inheritance\n",
    "class Car(Vehicle):\n",
    "    # constructor\n",
    "    def __init__(self):\n",
    "        self.tyres=4 # same method is declared and over-ridden\n",
    "    def showtyres(self):\n",
    "        print(self.tyres)\n",
    "        \n",
    "autoobj=Auto()\n",
    "autoobj.showtyres()"
   ]
  },
  {
   "cell_type": "markdown",
   "id": "41f33b91",
   "metadata": {},
   "source": [
    "#### Decorators\n",
    "* so for getting the same value as 2.0 we use decorator function to give additional functionality for the existing function\n",
    "* we usually write if, else conditions to perform the same task\n",
    "* what if we need a program that will check if den>num and if it so it will swap the values\n",
    "* This is one of the powerful tools of python programming that allows programmers to modify the behaviour of a method/ function/ even for a class.\n",
    "* decorators allow you to modify the functionality of a method by wrapping it in another function\n",
    "* the outer function which is called as decorator \"@function\" which takes the original function and returns the modified version of it."
   ]
  },
  {
   "cell_type": "code",
   "execution_count": 89,
   "id": "a1c51e56",
   "metadata": {},
   "outputs": [],
   "source": [
    "def calculate(a,b):\n",
    "    print(a/b)"
   ]
  },
  {
   "cell_type": "code",
   "execution_count": 90,
   "id": "6168d5d3",
   "metadata": {},
   "outputs": [
    {
     "name": "stdout",
     "output_type": "stream",
     "text": [
      "0.5\n"
     ]
    }
   ],
   "source": [
    "calculate(2,4)"
   ]
  },
  {
   "cell_type": "code",
   "execution_count": 91,
   "id": "4d97c771",
   "metadata": {},
   "outputs": [
    {
     "name": "stdout",
     "output_type": "stream",
     "text": [
      "2.0\n"
     ]
    }
   ],
   "source": [
    "calculate(4,2)"
   ]
  },
  {
   "cell_type": "code",
   "execution_count": 92,
   "id": "6c8965b1",
   "metadata": {},
   "outputs": [],
   "source": [
    "# so what if we needed a program that swaps the values but not inside the function assuming the main function is not given to you."
   ]
  },
  {
   "cell_type": "code",
   "execution_count": 98,
   "id": "ecb428b0",
   "metadata": {},
   "outputs": [
    {
     "name": "stdout",
     "output_type": "stream",
     "text": [
      "2.0\n",
      "2.0\n",
      "<class 'function'>\n"
     ]
    }
   ],
   "source": [
    "def calculate(a,b):\n",
    "    print(a/b)\n",
    "\n",
    "def calculate_smart(func):\n",
    "    def inner(a, b):\n",
    "        if a<b:\n",
    "            a,b=b,a\n",
    "        return func(a,b)\n",
    "    return inner # returning a function not a variable\n",
    "\n",
    "# decorators\n",
    "calculate1=calculate_smart(calculate)\n",
    "calculate1(4,2)\n",
    "calculate1(2,4)\n",
    "print(type(calculate1))"
   ]
  },
  {
   "cell_type": "code",
   "execution_count": 100,
   "id": "e8182a5f",
   "metadata": {},
   "outputs": [
    {
     "name": "stdout",
     "output_type": "stream",
     "text": [
      "2.0\n",
      "2.0\n"
     ]
    }
   ],
   "source": [
    "# decorators\n",
    "def calculate_smart(func):\n",
    "    def inner(a, b):\n",
    "        if a<b:\n",
    "            a,b=b,a\n",
    "        return func(a,b)\n",
    "    return inner\n",
    "\n",
    "# decorator\n",
    "\n",
    "@calculate_smart\n",
    "def calculate(a,b):\n",
    "    print(a/b)\n",
    "    \n",
    "calculate(2,4)\n",
    "calculate(4,2)"
   ]
  },
  {
   "cell_type": "markdown",
   "id": "6b4e68f8",
   "metadata": {},
   "source": [
    "#### Polymorphism :\n",
    "* compile time\n",
    "    * method overloading - same function name but diff in number of parameters\n",
    "    * method overriding - same function name but diff functionality of the method\n",
    "* run time\n",
    "    * virtual functions"
   ]
  },
  {
   "cell_type": "code",
   "execution_count": 102,
   "id": "47734c9b",
   "metadata": {},
   "outputs": [
    {
     "name": "stdout",
     "output_type": "stream",
     "text": [
      "30\n"
     ]
    }
   ],
   "source": [
    "# polymorphism in addition operator\n",
    "\n",
    "var1=10\n",
    "var2=20\n",
    "print(var1+var2)"
   ]
  },
  {
   "cell_type": "code",
   "execution_count": 103,
   "id": "47224a6f",
   "metadata": {},
   "outputs": [
    {
     "name": "stdout",
     "output_type": "stream",
     "text": [
      "Python Programming Polymorphism\n"
     ]
    }
   ],
   "source": [
    "str1=\"Python\"\n",
    "str2=\"Programming\"\n",
    "str3=\"Polymorphism\"\n",
    "print(str1+\" \"+str2+\" \"+str3)"
   ]
  },
  {
   "cell_type": "code",
   "execution_count": 117,
   "id": "c728aeb0",
   "metadata": {},
   "outputs": [],
   "source": [
    "# Polymorphism in class methods\n",
    "\n",
    "class Tortoise:\n",
    "    def __init__(self, name, age):\n",
    "        self.name=name\n",
    "        self.age=age\n",
    "    def petInfo(self):\n",
    "        return (\"Hey I am Tortoise. My name is {}. My age is {}\".format(self.name,self.age))\n",
    "    def sound(self):\n",
    "        return (\"Click\")\n",
    "        \n",
    "class Dog:\n",
    "    def __init__(self, name, age):\n",
    "        self.name=name\n",
    "        self.age=age\n",
    "    def petInfo(self):\n",
    "        return (\"Hey I am Dog. My name is {}. My age is {}\".format(self.name,self.age))\n",
    "    def sound(self):\n",
    "        return (\"Bark\")\n",
    "        \n",
    "class Cat:\n",
    "    def __init__(self, name, age):\n",
    "        self.name=name\n",
    "        self.age=age\n",
    "    def petInfo(self):\n",
    "        return (\"Hey I am Cat. My name is {}. My age is {}\".format(self.name,self.age))\n",
    "    def sound(self):\n",
    "        return (\"Meow\")"
   ]
  },
  {
   "cell_type": "code",
   "execution_count": 118,
   "id": "12f7ba9b",
   "metadata": {},
   "outputs": [
    {
     "data": {
      "text/plain": [
       "'Meow'"
      ]
     },
     "execution_count": 118,
     "metadata": {},
     "output_type": "execute_result"
    }
   ],
   "source": [
    "cat_obj=Cat(\"Kitty\",2.5)\n",
    "dog_obj=Dog(\"Tommy\",7)\n",
    "tortoise_obj=Tortoise(\"Toto\",100)\n",
    "\n",
    "cat_obj.petInfo()\n",
    "cat_obj.sound()"
   ]
  },
  {
   "cell_type": "code",
   "execution_count": 120,
   "id": "1016dab9",
   "metadata": {},
   "outputs": [
    {
     "name": "stdout",
     "output_type": "stream",
     "text": [
      "Hey I am Cat. My name is Kitty. My age is 2.5 and I Meow\n",
      "Hey I am Dog. My name is Tommy. My age is 7 and I Bark\n",
      "Hey I am Tortoise. My name is Toto. My age is 100 and I Click\n"
     ]
    }
   ],
   "source": [
    "# or\n",
    "\n",
    "for objects in [cat_obj, dog_obj, tortoise_obj]:\n",
    "    print(objects.petInfo(),\"and I\",objects.sound())"
   ]
  },
  {
   "cell_type": "code",
   "execution_count": 146,
   "id": "3662415c",
   "metadata": {},
   "outputs": [],
   "source": [
    "# Polymorphism in class inheritance\n",
    "\n",
    "import math\n",
    "import random\n",
    "\n",
    "class Shape:\n",
    "    def __init__(self, name):\n",
    "        self.name=name\n",
    "    def area(self):\n",
    "        pass\n",
    "\n",
    "class Circle(Shape):\n",
    "    def __init__(self, name, radius):\n",
    "        super().__init__(name)\n",
    "        self.radius=radius\n",
    "    def area(self):\n",
    "        return math.pi*self.radius**2"
   ]
  },
  {
   "cell_type": "code",
   "execution_count": 147,
   "id": "55c7efd0",
   "metadata": {},
   "outputs": [
    {
     "data": {
      "text/plain": [
       "1134.1149479459152"
      ]
     },
     "execution_count": 147,
     "metadata": {},
     "output_type": "execute_result"
    }
   ],
   "source": [
    "# pass value using random.randint() function - generate random integer value from 2 to 30\n",
    "circle_obj=Circle(\"Circle\",random.randint(2,30))\n",
    "circle_obj.area()"
   ]
  },
  {
   "cell_type": "code",
   "execution_count": 164,
   "id": "362d6e5d",
   "metadata": {},
   "outputs": [
    {
     "data": {
      "text/plain": [
       "5"
      ]
     },
     "execution_count": 164,
     "metadata": {},
     "output_type": "execute_result"
    }
   ],
   "source": [
    "random.randint(2,30)"
   ]
  },
  {
   "cell_type": "code",
   "execution_count": 149,
   "id": "29c7fd0a",
   "metadata": {},
   "outputs": [
    {
     "data": {
      "text/plain": [
       "1"
      ]
     },
     "execution_count": 149,
     "metadata": {},
     "output_type": "execute_result"
    }
   ],
   "source": [
    "random.randrange(1,3)"
   ]
  },
  {
   "cell_type": "code",
   "execution_count": 150,
   "id": "30ac519c",
   "metadata": {},
   "outputs": [
    {
     "data": {
      "text/plain": [
       "0.10857217104408179"
      ]
     },
     "execution_count": 150,
     "metadata": {},
     "output_type": "execute_result"
    }
   ],
   "source": [
    "random.random()"
   ]
  },
  {
   "cell_type": "raw",
   "id": "99e56f3f",
   "metadata": {},
   "source": []
  }
 ],
 "metadata": {
  "kernelspec": {
   "display_name": "Python 3 (ipykernel)",
   "language": "python",
   "name": "python3"
  },
  "language_info": {
   "codemirror_mode": {
    "name": "ipython",
    "version": 3
   },
   "file_extension": ".py",
   "mimetype": "text/x-python",
   "name": "python",
   "nbconvert_exporter": "python",
   "pygments_lexer": "ipython3",
   "version": "3.9.13"
  }
 },
 "nbformat": 4,
 "nbformat_minor": 5
}
