{
 "cells": [
  {
   "cell_type": "code",
   "execution_count": 1,
   "id": "65ecfaa5",
   "metadata": {},
   "outputs": [
    {
     "data": {
      "text/plain": [
       "'C:\\\\Users\\\\pdharantej\\\\OneDrive - ALLEGIS GROUP\\\\Desktop\\\\TEK_Training\\\\5. Data Analysis'"
      ]
     },
     "execution_count": 1,
     "metadata": {},
     "output_type": "execute_result"
    }
   ],
   "source": [
    "import os\n",
    "os.getcwd()"
   ]
  },
  {
   "cell_type": "code",
   "execution_count": 2,
   "id": "d2794a4b",
   "metadata": {},
   "outputs": [],
   "source": [
    "from pyspark.sql import SparkSession"
   ]
  },
  {
   "cell_type": "code",
   "execution_count": 3,
   "id": "491b0e0a",
   "metadata": {},
   "outputs": [],
   "source": [
    "spark = SparkSession.builder.appName('WindowFunctions').getOrCreate()"
   ]
  },
  {
   "cell_type": "code",
   "execution_count": 4,
   "id": "4e4f7911",
   "metadata": {},
   "outputs": [
    {
     "name": "stdout",
     "output_type": "stream",
     "text": [
      "+-------+--------+-------+----------+-------+-----+\n",
      "| emp_no|emp_name| salary|manager_id|dept_no| comm|\n",
      "+-------+--------+-------+----------+-------+-----+\n",
      "|1000245| PRADEEP|5000.00|      null|    100| 0.00|\n",
      "|1000258|   BLAKE|2850.00|   1000245|    300|50.00|\n",
      "|1000262|   CLARK|2450.00|   1000245|    100|50.00|\n",
      "|1000276|   JONES|2975.00|   1000245|    200|75.00|\n",
      "|1000288|   SCOTT|3000.00|   1000276|    200| 0.00|\n",
      "|1000292|    FORD|3000.00|   1000276|    200| 0.00|\n",
      "|1000294|   SMITH| 800.00|   1000292|    200| 0.00|\n",
      "|1000299|   ALLEN|1600.00|   1000258|    300| 0.00|\n",
      "|1000310|    WARD|1250.00|   1000258|    300|50.00|\n",
      "|1000312|  MARTIN|1250.00|   1000258|    300|50.00|\n",
      "|1000315|  TURNER|1500.00|   1000258|    300| 0.00|\n",
      "|1000326|   ADAMS|1100.00|   1000288|    200| 0.00|\n",
      "|1000336|   JAMES| 950.00|   1000258|    300|50.00|\n",
      "|1000346|  MILLER|1300.00|   1000262|    100| 0.00|\n",
      "|1000347|   DAVID|1400.00|   1000245|    500| 0.00|\n",
      "+-------+--------+-------+----------+-------+-----+\n",
      "\n"
     ]
    }
   ],
   "source": [
    "df=spark.read.parquet('./emp_data.parquet')\n",
    "df.show()"
   ]
  },
  {
   "cell_type": "code",
   "execution_count": 5,
   "id": "07e031f4",
   "metadata": {},
   "outputs": [],
   "source": [
    "from pyspark.sql.window import Window\n",
    "from pyspark.sql.functions import count, col"
   ]
  },
  {
   "cell_type": "code",
   "execution_count": 6,
   "id": "5dab5b1e",
   "metadata": {},
   "outputs": [
    {
     "name": "stdout",
     "output_type": "stream",
     "text": [
      "+--------+-------+-------+----------+\n",
      "|emp_name|dept_no| salary|Total_Emps|\n",
      "+--------+-------+-------+----------+\n",
      "| PRADEEP|    100|5000.00|         3|\n",
      "|   CLARK|    100|2450.00|         3|\n",
      "|  MILLER|    100|1300.00|         3|\n",
      "|   JONES|    200|2975.00|         5|\n",
      "|   SCOTT|    200|3000.00|         5|\n",
      "|    FORD|    200|3000.00|         5|\n",
      "|   SMITH|    200| 800.00|         5|\n",
      "|   ADAMS|    200|1100.00|         5|\n",
      "|   BLAKE|    300|2850.00|         6|\n",
      "|   ALLEN|    300|1600.00|         6|\n",
      "|    WARD|    300|1250.00|         6|\n",
      "|  MARTIN|    300|1250.00|         6|\n",
      "|  TURNER|    300|1500.00|         6|\n",
      "|   JAMES|    300| 950.00|         6|\n",
      "|   DAVID|    500|1400.00|         1|\n",
      "+--------+-------+-------+----------+\n",
      "\n"
     ]
    }
   ],
   "source": [
    "empdf = df.select('emp_name', 'dept_no', 'salary', count('*').over(Window.partitionBy('dept_no')).alias('Total_Emps'))\n",
    "empdf.show()"
   ]
  },
  {
   "cell_type": "code",
   "execution_count": 7,
   "id": "d877f15a",
   "metadata": {},
   "outputs": [
    {
     "name": "stdout",
     "output_type": "stream",
     "text": [
      "+--------+-------+-------+-------------+\n",
      "|emp_name|dept_no| salary|Reminaing_cnt|\n",
      "+--------+-------+-------+-------------+\n",
      "| PRADEEP|    100|5000.00|            2|\n",
      "|   CLARK|    100|2450.00|            1|\n",
      "|  MILLER|    100|1300.00|            0|\n",
      "|   JONES|    200|2975.00|            4|\n",
      "|   SCOTT|    200|3000.00|            3|\n",
      "|    FORD|    200|3000.00|            2|\n",
      "|   SMITH|    200| 800.00|            1|\n",
      "|   ADAMS|    200|1100.00|            0|\n",
      "|   BLAKE|    300|2850.00|            5|\n",
      "|   ALLEN|    300|1600.00|            4|\n",
      "|    WARD|    300|1250.00|            3|\n",
      "|  MARTIN|    300|1250.00|            2|\n",
      "|  TURNER|    300|1500.00|            1|\n",
      "|   JAMES|    300| 950.00|            0|\n",
      "|   DAVID|    500|1400.00|            0|\n",
      "+--------+-------+-------+-------------+\n",
      "\n"
     ]
    }
   ],
   "source": [
    "empdf = df.select('emp_name', 'dept_no', 'salary', count('*').over(Window.partitionBy('dept_no').rowsBetween(Window.currentRow+1, Window.unboundedFollowing)).alias('Reminaing_cnt'))\n",
    "empdf.show()"
   ]
  },
  {
   "cell_type": "code",
   "execution_count": 8,
   "id": "a98a68aa",
   "metadata": {},
   "outputs": [],
   "source": [
    "from pyspark.sql.functions import sum"
   ]
  },
  {
   "cell_type": "code",
   "execution_count": 9,
   "id": "73cf4ce7",
   "metadata": {},
   "outputs": [
    {
     "name": "stdout",
     "output_type": "stream",
     "text": [
      "+--------+-------+-------+---------------+\n",
      "|emp_name|dept_no| salary|cummulative_sum|\n",
      "+--------+-------+-------+---------------+\n",
      "| PRADEEP|    100|5000.00|        5000.00|\n",
      "|   CLARK|    100|2450.00|        7450.00|\n",
      "|  MILLER|    100|1300.00|        8750.00|\n",
      "|   SCOTT|    200|3000.00|        6000.00|\n",
      "|    FORD|    200|3000.00|        6000.00|\n",
      "|   JONES|    200|2975.00|        8975.00|\n",
      "|   ADAMS|    200|1100.00|       10075.00|\n",
      "|   SMITH|    200| 800.00|       10875.00|\n",
      "|   BLAKE|    300|2850.00|        2850.00|\n",
      "|   ALLEN|    300|1600.00|        4450.00|\n",
      "|  TURNER|    300|1500.00|        5950.00|\n",
      "|    WARD|    300|1250.00|        8450.00|\n",
      "|  MARTIN|    300|1250.00|        8450.00|\n",
      "|   JAMES|    300| 950.00|        9400.00|\n",
      "|   DAVID|    500|1400.00|        1400.00|\n",
      "+--------+-------+-------+---------------+\n",
      "\n"
     ]
    }
   ],
   "source": [
    "empdf = df.select('emp_name', 'dept_no', 'salary', sum('salary').over(Window.partitionBy('dept_no').orderBy(col('salary').desc())).alias('cummulative_sum'))\n",
    "empdf.show()"
   ]
  },
  {
   "cell_type": "code",
   "execution_count": 10,
   "id": "3c8a1a0d",
   "metadata": {},
   "outputs": [
    {
     "name": "stdout",
     "output_type": "stream",
     "text": [
      "+--------+-------+-------+--------------------+\n",
      "|emp_name|dept_no| salary|true_cummulative_sum|\n",
      "+--------+-------+-------+--------------------+\n",
      "| PRADEEP|    100|5000.00|             5000.00|\n",
      "|   SCOTT|    200|3000.00|             8000.00|\n",
      "|    FORD|    200|3000.00|            11000.00|\n",
      "|   JONES|    200|2975.00|            13975.00|\n",
      "|   BLAKE|    300|2850.00|            16825.00|\n",
      "|   CLARK|    100|2450.00|            19275.00|\n",
      "|   ALLEN|    300|1600.00|            20875.00|\n",
      "|  TURNER|    300|1500.00|            22375.00|\n",
      "|   DAVID|    500|1400.00|            23775.00|\n",
      "|  MILLER|    100|1300.00|            25075.00|\n",
      "|    WARD|    300|1250.00|            26325.00|\n",
      "|  MARTIN|    300|1250.00|            27575.00|\n",
      "|   ADAMS|    200|1100.00|            28675.00|\n",
      "|   JAMES|    300| 950.00|            29625.00|\n",
      "|   SMITH|    200| 800.00|            30425.00|\n",
      "+--------+-------+-------+--------------------+\n",
      "\n"
     ]
    }
   ],
   "source": [
    "# cumulative sum without partitions\n",
    "\n",
    "empdf = df.select('emp_name', 'dept_no', 'salary', sum('salary').over(Window.orderBy(col('salary').desc(), col('emp_name').desc())).alias('true_cummulative_sum'))\n",
    "empdf.show()"
   ]
  },
  {
   "cell_type": "code",
   "execution_count": 11,
   "id": "3dab955c",
   "metadata": {},
   "outputs": [
    {
     "name": "stdout",
     "output_type": "stream",
     "text": [
      "+--------+-------+-------+----------------------+\n",
      "|emp_name|dept_no| salary|row_number_Dept_salary|\n",
      "+--------+-------+-------+----------------------+\n",
      "|  MILLER|    100|1300.00|                     1|\n",
      "|   CLARK|    100|2450.00|                     2|\n",
      "| PRADEEP|    100|5000.00|                     3|\n",
      "|   SMITH|    200| 800.00|                     1|\n",
      "|   ADAMS|    200|1100.00|                     2|\n",
      "|   JONES|    200|2975.00|                     3|\n",
      "|   SCOTT|    200|3000.00|                     4|\n",
      "|    FORD|    200|3000.00|                     5|\n",
      "|   JAMES|    300| 950.00|                     1|\n",
      "|    WARD|    300|1250.00|                     2|\n",
      "|  MARTIN|    300|1250.00|                     3|\n",
      "|  TURNER|    300|1500.00|                     4|\n",
      "|   ALLEN|    300|1600.00|                     5|\n",
      "|   BLAKE|    300|2850.00|                     6|\n",
      "|   DAVID|    500|1400.00|                     1|\n",
      "+--------+-------+-------+----------------------+\n",
      "\n"
     ]
    }
   ],
   "source": [
    "from pyspark.sql.functions import row_number, col\n",
    "\n",
    "empdf_update = df.select('emp_name', 'dept_no', 'salary', row_number().over(Window.partitionBy('dept_no').orderBy('salary')).alias('row_number_Dept_salary'))\n",
    "empdf_update.show()"
   ]
  },
  {
   "cell_type": "code",
   "execution_count": 12,
   "id": "b0294240",
   "metadata": {},
   "outputs": [
    {
     "name": "stdout",
     "output_type": "stream",
     "text": [
      "+--------+-------+-------+----------------+\n",
      "|emp_name|dept_no|salary |rank_Dept_salary|\n",
      "+--------+-------+-------+----------------+\n",
      "|MILLER  |100    |1300.00|1               |\n",
      "|CLARK   |100    |2450.00|2               |\n",
      "|PRADEEP |100    |5000.00|3               |\n",
      "|SMITH   |200    |800.00 |1               |\n",
      "|ADAMS   |200    |1100.00|2               |\n",
      "|JONES   |200    |2975.00|3               |\n",
      "|SCOTT   |200    |3000.00|4               |\n",
      "|FORD    |200    |3000.00|4               |\n",
      "|JAMES   |300    |950.00 |1               |\n",
      "|WARD    |300    |1250.00|2               |\n",
      "|MARTIN  |300    |1250.00|2               |\n",
      "|TURNER  |300    |1500.00|4               |\n",
      "|ALLEN   |300    |1600.00|5               |\n",
      "|BLAKE   |300    |2850.00|6               |\n",
      "|DAVID   |500    |1400.00|1               |\n",
      "+--------+-------+-------+----------------+\n",
      "\n"
     ]
    }
   ],
   "source": [
    "# rank of employees by salary within department\n",
    "\n",
    "from pyspark.sql.functions import rank, col\n",
    "\n",
    "empdf_update = df.select('emp_name', 'dept_no', 'salary', rank().over(Window.partitionBy('dept_no').orderBy('salary')).alias('rank_Dept_salary'))\n",
    "empdf_update.show(truncate=False)"
   ]
  },
  {
   "cell_type": "code",
   "execution_count": 13,
   "id": "b6a595bb",
   "metadata": {},
   "outputs": [],
   "source": [
    "temp_table_name = 'emp_data_csv'\n",
    "df.createOrReplaceTempView(temp_table_name)"
   ]
  },
  {
   "cell_type": "code",
   "execution_count": 14,
   "id": "764c2c33",
   "metadata": {},
   "outputs": [],
   "source": [
    "# import os\n",
    "# os.environ[\"HADOOP_HOME\"] = \"C:/path/to/hadoop\"\n",
    "# os.environ[\"hadoop.home.dir\"] = \"C:/path/to/hadoop\""
   ]
  },
  {
   "cell_type": "code",
   "execution_count": 15,
   "id": "15d298f0",
   "metadata": {},
   "outputs": [],
   "source": [
    "# permanent_table_name = 'emp_data_table'\n",
    "# df.write.format('parquet').saveAsTable(permanent_table_name)"
   ]
  },
  {
   "cell_type": "code",
   "execution_count": 16,
   "id": "e4431bba",
   "metadata": {},
   "outputs": [],
   "source": [
    "# spark.sql('select * from emp_data_table').show()"
   ]
  },
  {
   "cell_type": "code",
   "execution_count": 17,
   "id": "ac2eda0b",
   "metadata": {},
   "outputs": [
    {
     "name": "stdout",
     "output_type": "stream",
     "text": [
      "+-------+--------+-------+----------+-------+-----+\n",
      "| emp_no|emp_name| salary|manager_id|dept_no| comm|\n",
      "+-------+--------+-------+----------+-------+-----+\n",
      "|1000245| PRADEEP|5000.00|      null|    100| 0.00|\n",
      "|1000258|   BLAKE|2850.00|   1000245|    300|50.00|\n",
      "|1000262|   CLARK|2450.00|   1000245|    100|50.00|\n",
      "|1000276|   JONES|2975.00|   1000245|    200|75.00|\n",
      "|1000288|   SCOTT|3000.00|   1000276|    200| 0.00|\n",
      "|1000292|    FORD|3000.00|   1000276|    200| 0.00|\n",
      "|1000294|   SMITH| 800.00|   1000292|    200| 0.00|\n",
      "|1000299|   ALLEN|1600.00|   1000258|    300| 0.00|\n",
      "|1000310|    WARD|1250.00|   1000258|    300|50.00|\n",
      "|1000312|  MARTIN|1250.00|   1000258|    300|50.00|\n",
      "|1000315|  TURNER|1500.00|   1000258|    300| 0.00|\n",
      "|1000326|   ADAMS|1100.00|   1000288|    200| 0.00|\n",
      "|1000336|   JAMES| 950.00|   1000258|    300|50.00|\n",
      "|1000346|  MILLER|1300.00|   1000262|    100| 0.00|\n",
      "|1000347|   DAVID|1400.00|   1000245|    500| 0.00|\n",
      "+-------+--------+-------+----------+-------+-----+\n",
      "\n"
     ]
    }
   ],
   "source": [
    "df = spark.sql('select * from emp_data_csv')\n",
    "df.show()"
   ]
  },
  {
   "cell_type": "code",
   "execution_count": 18,
   "id": "b96de654",
   "metadata": {
    "scrolled": true
   },
   "outputs": [
    {
     "name": "stdout",
     "output_type": "stream",
     "text": [
      "+-------+--------+-------+----------+-------+-----+-----------+\n",
      "| emp_no|emp_name| salary|manager_id|dept_no| comm| avg_salary|\n",
      "+-------+--------+-------+----------+-------+-----+-----------+\n",
      "|1000346|  MILLER|1300.00|   1000262|    100| 0.00|1300.000000|\n",
      "|1000262|   CLARK|2450.00|   1000245|    100|50.00|1875.000000|\n",
      "|1000245| PRADEEP|5000.00|      null|    100| 0.00|2916.666667|\n",
      "|1000294|   SMITH| 800.00|   1000292|    200| 0.00| 800.000000|\n",
      "|1000326|   ADAMS|1100.00|   1000288|    200| 0.00| 950.000000|\n",
      "|1000276|   JONES|2975.00|   1000245|    200|75.00|1625.000000|\n",
      "|1000288|   SCOTT|3000.00|   1000276|    200| 0.00|2175.000000|\n",
      "|1000292|    FORD|3000.00|   1000276|    200| 0.00|2175.000000|\n",
      "|1000336|   JAMES| 950.00|   1000258|    300|50.00| 950.000000|\n",
      "|1000310|    WARD|1250.00|   1000258|    300|50.00|1150.000000|\n",
      "|1000312|  MARTIN|1250.00|   1000258|    300|50.00|1150.000000|\n",
      "|1000315|  TURNER|1500.00|   1000258|    300| 0.00|1237.500000|\n",
      "|1000299|   ALLEN|1600.00|   1000258|    300| 0.00|1310.000000|\n",
      "|1000258|   BLAKE|2850.00|   1000245|    300|50.00|1566.666667|\n",
      "|1000347|   DAVID|1400.00|   1000245|    500| 0.00|1400.000000|\n",
      "+-------+--------+-------+----------+-------+-----+-----------+\n",
      "\n",
      "None\n",
      "+-------+--------+-------+----------+-------+-----+-----------+----------+\n",
      "| emp_no|emp_name| salary|manager_id|dept_no| comm| avg_salary|max_salary|\n",
      "+-------+--------+-------+----------+-------+-----+-----------+----------+\n",
      "|1000346|  MILLER|1300.00|   1000262|    100| 0.00|1300.000000|   5000.00|\n",
      "|1000262|   CLARK|2450.00|   1000245|    100|50.00|1875.000000|   5000.00|\n",
      "|1000245| PRADEEP|5000.00|      null|    100| 0.00|2916.666667|   5000.00|\n",
      "|1000294|   SMITH| 800.00|   1000292|    200| 0.00| 800.000000|   3000.00|\n",
      "|1000326|   ADAMS|1100.00|   1000288|    200| 0.00| 950.000000|   3000.00|\n",
      "|1000276|   JONES|2975.00|   1000245|    200|75.00|1625.000000|   3000.00|\n",
      "|1000288|   SCOTT|3000.00|   1000276|    200| 0.00|2175.000000|   3000.00|\n",
      "|1000292|    FORD|3000.00|   1000276|    200| 0.00|2175.000000|   3000.00|\n",
      "|1000336|   JAMES| 950.00|   1000258|    300|50.00| 950.000000|   2850.00|\n",
      "|1000310|    WARD|1250.00|   1000258|    300|50.00|1150.000000|   2850.00|\n",
      "|1000312|  MARTIN|1250.00|   1000258|    300|50.00|1150.000000|   2850.00|\n",
      "|1000315|  TURNER|1500.00|   1000258|    300| 0.00|1237.500000|   2850.00|\n",
      "|1000299|   ALLEN|1600.00|   1000258|    300| 0.00|1310.000000|   2850.00|\n",
      "|1000258|   BLAKE|2850.00|   1000245|    300|50.00|1566.666667|   2850.00|\n",
      "|1000347|   DAVID|1400.00|   1000245|    500| 0.00|1400.000000|   1400.00|\n",
      "+-------+--------+-------+----------+-------+-----+-----------+----------+\n",
      "\n",
      "None\n",
      "+-------+--------+-------+----------+-------+-----+-----------+----------+----------+\n",
      "| emp_no|emp_name| salary|manager_id|dept_no| comm| avg_salary|max_salary|min_salary|\n",
      "+-------+--------+-------+----------+-------+-----+-----------+----------+----------+\n",
      "|1000346|  MILLER|1300.00|   1000262|    100| 0.00|1300.000000|   5000.00|   1300.00|\n",
      "|1000262|   CLARK|2450.00|   1000245|    100|50.00|1875.000000|   5000.00|   1300.00|\n",
      "|1000245| PRADEEP|5000.00|      null|    100| 0.00|2916.666667|   5000.00|   1300.00|\n",
      "|1000294|   SMITH| 800.00|   1000292|    200| 0.00| 800.000000|   3000.00|    800.00|\n",
      "|1000326|   ADAMS|1100.00|   1000288|    200| 0.00| 950.000000|   3000.00|    800.00|\n",
      "|1000276|   JONES|2975.00|   1000245|    200|75.00|1625.000000|   3000.00|    800.00|\n",
      "|1000288|   SCOTT|3000.00|   1000276|    200| 0.00|2175.000000|   3000.00|    800.00|\n",
      "|1000292|    FORD|3000.00|   1000276|    200| 0.00|2175.000000|   3000.00|    800.00|\n",
      "|1000336|   JAMES| 950.00|   1000258|    300|50.00| 950.000000|   2850.00|    950.00|\n",
      "|1000310|    WARD|1250.00|   1000258|    300|50.00|1150.000000|   2850.00|    950.00|\n",
      "|1000312|  MARTIN|1250.00|   1000258|    300|50.00|1150.000000|   2850.00|    950.00|\n",
      "|1000315|  TURNER|1500.00|   1000258|    300| 0.00|1237.500000|   2850.00|    950.00|\n",
      "|1000299|   ALLEN|1600.00|   1000258|    300| 0.00|1310.000000|   2850.00|    950.00|\n",
      "|1000258|   BLAKE|2850.00|   1000245|    300|50.00|1566.666667|   2850.00|    950.00|\n",
      "|1000347|   DAVID|1400.00|   1000245|    500| 0.00|1400.000000|   1400.00|   1400.00|\n",
      "+-------+--------+-------+----------+-------+-----+-----------+----------+----------+\n",
      "\n",
      "None\n",
      "+-------+--------+-------+----------+-------+-----+-----------+----------+----------+----------+\n",
      "| emp_no|emp_name| salary|manager_id|dept_no| comm| avg_salary|max_salary|min_salary|sum_salary|\n",
      "+-------+--------+-------+----------+-------+-----+-----------+----------+----------+----------+\n",
      "|1000346|  MILLER|1300.00|   1000262|    100| 0.00|1300.000000|   5000.00|   1300.00|   1300.00|\n",
      "|1000262|   CLARK|2450.00|   1000245|    100|50.00|1875.000000|   5000.00|   1300.00|   3750.00|\n",
      "|1000245| PRADEEP|5000.00|      null|    100| 0.00|2916.666667|   5000.00|   1300.00|   8750.00|\n",
      "|1000294|   SMITH| 800.00|   1000292|    200| 0.00| 800.000000|   3000.00|    800.00|    800.00|\n",
      "|1000326|   ADAMS|1100.00|   1000288|    200| 0.00| 950.000000|   3000.00|    800.00|   1900.00|\n",
      "|1000276|   JONES|2975.00|   1000245|    200|75.00|1625.000000|   3000.00|    800.00|   4875.00|\n",
      "|1000288|   SCOTT|3000.00|   1000276|    200| 0.00|2175.000000|   3000.00|    800.00|  10875.00|\n",
      "|1000292|    FORD|3000.00|   1000276|    200| 0.00|2175.000000|   3000.00|    800.00|  10875.00|\n",
      "|1000336|   JAMES| 950.00|   1000258|    300|50.00| 950.000000|   2850.00|    950.00|    950.00|\n",
      "|1000310|    WARD|1250.00|   1000258|    300|50.00|1150.000000|   2850.00|    950.00|   3450.00|\n",
      "|1000312|  MARTIN|1250.00|   1000258|    300|50.00|1150.000000|   2850.00|    950.00|   3450.00|\n",
      "|1000315|  TURNER|1500.00|   1000258|    300| 0.00|1237.500000|   2850.00|    950.00|   4950.00|\n",
      "|1000299|   ALLEN|1600.00|   1000258|    300| 0.00|1310.000000|   2850.00|    950.00|   6550.00|\n",
      "|1000258|   BLAKE|2850.00|   1000245|    300|50.00|1566.666667|   2850.00|    950.00|   9400.00|\n",
      "|1000347|   DAVID|1400.00|   1000245|    500| 0.00|1400.000000|   1400.00|   1400.00|   1400.00|\n",
      "+-------+--------+-------+----------+-------+-----+-----------+----------+----------+----------+\n",
      "\n",
      "None\n",
      "+-------+--------+-------+----------+-------+-----+-----------+----------+----------+----------+------------------+\n",
      "| emp_no|emp_name| salary|manager_id|dept_no| comm| avg_salary|max_salary|min_salary|sum_salary|count_salary_units|\n",
      "+-------+--------+-------+----------+-------+-----+-----------+----------+----------+----------+------------------+\n",
      "|1000346|  MILLER|1300.00|   1000262|    100| 0.00|1300.000000|   5000.00|   1300.00|   1300.00|                 3|\n",
      "|1000262|   CLARK|2450.00|   1000245|    100|50.00|1875.000000|   5000.00|   1300.00|   3750.00|                 3|\n",
      "|1000245| PRADEEP|5000.00|      null|    100| 0.00|2916.666667|   5000.00|   1300.00|   8750.00|                 3|\n",
      "|1000294|   SMITH| 800.00|   1000292|    200| 0.00| 800.000000|   3000.00|    800.00|    800.00|                 5|\n",
      "|1000326|   ADAMS|1100.00|   1000288|    200| 0.00| 950.000000|   3000.00|    800.00|   1900.00|                 5|\n",
      "|1000276|   JONES|2975.00|   1000245|    200|75.00|1625.000000|   3000.00|    800.00|   4875.00|                 5|\n",
      "|1000288|   SCOTT|3000.00|   1000276|    200| 0.00|2175.000000|   3000.00|    800.00|  10875.00|                 5|\n",
      "|1000292|    FORD|3000.00|   1000276|    200| 0.00|2175.000000|   3000.00|    800.00|  10875.00|                 5|\n",
      "|1000336|   JAMES| 950.00|   1000258|    300|50.00| 950.000000|   2850.00|    950.00|    950.00|                 6|\n",
      "|1000310|    WARD|1250.00|   1000258|    300|50.00|1150.000000|   2850.00|    950.00|   3450.00|                 6|\n",
      "|1000312|  MARTIN|1250.00|   1000258|    300|50.00|1150.000000|   2850.00|    950.00|   3450.00|                 6|\n",
      "|1000315|  TURNER|1500.00|   1000258|    300| 0.00|1237.500000|   2850.00|    950.00|   4950.00|                 6|\n",
      "|1000299|   ALLEN|1600.00|   1000258|    300| 0.00|1310.000000|   2850.00|    950.00|   6550.00|                 6|\n",
      "|1000258|   BLAKE|2850.00|   1000245|    300|50.00|1566.666667|   2850.00|    950.00|   9400.00|                 6|\n",
      "|1000347|   DAVID|1400.00|   1000245|    500| 0.00|1400.000000|   1400.00|   1400.00|   1400.00|                 1|\n",
      "+-------+--------+-------+----------+-------+-----+-----------+----------+----------+----------+------------------+\n",
      "\n",
      "None\n"
     ]
    }
   ],
   "source": [
    "from pyspark.sql.functions import col,avg,sum,min,max,count\n",
    "from pyspark.sql import Window\n",
    "\n",
    "# Aggregate Window Functions\n",
    "\n",
    "df=df.withColumn(\"avg_salary\",avg(col(\"salary\")).over(Window.partitionBy(\"dept_no\").orderBy(\"salary\")))\n",
    "print(df.show())\n",
    "\n",
    "df=df.withColumn(\"max_salary\",max(col(\"salary\")).over(Window.partitionBy(\"dept_no\")))\n",
    "print(df.show())\n",
    "\n",
    "df=df.withColumn(\"min_salary\",min(col(\"salary\")).over(Window.partitionBy(\"dept_no\")))\n",
    "print(df.show())\n",
    "\n",
    "df=df.withColumn(\"sum_salary\",sum(col(\"salary\")).over(Window.partitionBy(\"dept_no\").orderBy(\"salary\")))\n",
    "print(df.show())\n",
    "\n",
    "df=df.withColumn(\"count_salary_units\",count(col(\"salary\")).over(Window.partitionBy(\"dept_no\")))\n",
    "print(df.show())"
   ]
  },
  {
   "cell_type": "code",
   "execution_count": 19,
   "id": "b6ef58e8",
   "metadata": {},
   "outputs": [],
   "source": [
    "from pyspark.sql.functions import row_number, rank, dense_rank, ntile, percent_rank\n",
    "from pyspark.sql import Window\n",
    "\n",
    "df=df.withColumn('row_number', row_number().over(Window.partitionBy('dept_no').orderBy('salary')))\n",
    "print(df.sho)\n",
    "df=df.withColumn('rank', rank().over(Window.partitionBy('dept_no').orderBy('salary')))\n",
    "df=df.withColumn('dense_rank', dense_rank().over(Window.partitionBy('dept_no').orderBy('salary')))\n",
    "df=df.withColumn('percent_rank', percent_rank().over(Window.partitionBy('dept_no').orderBy('salary')))\n",
    "df=df.withColumn('ntile', ntile(10).over(Window.partitionBy('dept_no').orderBy('salary')))"
   ]
  },
  {
   "cell_type": "code",
   "execution_count": 23,
   "id": "3d0df7c2",
   "metadata": {},
   "outputs": [
    {
     "name": "stdout",
     "output_type": "stream",
     "text": [
      "+-------+--------+-------+-------+----------+----+----------+------------+-----+\n",
      "| emp_no|emp_name|dept_no| salary|row_number|rank|dense_rank|percent_rank|ntile|\n",
      "+-------+--------+-------+-------+----------+----+----------+------------+-----+\n",
      "|1000336|   JAMES|    300| 950.00|         1|   1|         1|         0.0|    1|\n",
      "|1000310|    WARD|    300|1250.00|         2|   2|         2|         0.2|    2|\n",
      "|1000312|  MARTIN|    300|1250.00|         3|   2|         2|         0.2|    3|\n",
      "|1000315|  TURNER|    300|1500.00|         4|   4|         3|         0.6|    4|\n",
      "|1000299|   ALLEN|    300|1600.00|         5|   5|         4|         0.8|    5|\n",
      "+-------+--------+-------+-------+----------+----+----------+------------+-----+\n",
      "\n"
     ]
    }
   ],
   "source": [
    "df.select(\"emp_no\",\"emp_name\",\"dept_no\",\"salary\",\"row_number\",\"rank\",\"dense_rank\",\"percent_rank\",\"ntile\").distinct().filter(df.manager_id == \"1000258\").show()"
   ]
  },
  {
   "cell_type": "code",
   "execution_count": 26,
   "id": "c921834c",
   "metadata": {},
   "outputs": [
    {
     "name": "stdout",
     "output_type": "stream",
     "text": [
      "+-------+--------+-------+-------+-------------------+-------+-------+\n",
      "| emp_no|emp_name|dept_no| salary|          cume_dist|    lag|   lead|\n",
      "+-------+--------+-------+-------+-------------------+-------+-------+\n",
      "|1000310|    WARD|    300|1250.00|                0.5| 950.00|1250.00|\n",
      "|1000312|  MARTIN|    300|1250.00|                0.5|1250.00|1500.00|\n",
      "|1000315|  TURNER|    300|1500.00| 0.6666666666666666|1250.00|1600.00|\n",
      "|1000299|   ALLEN|    300|1600.00| 0.8333333333333334|1500.00|2850.00|\n",
      "|1000336|   JAMES|    300| 950.00|0.16666666666666666|   null|1250.00|\n",
      "+-------+--------+-------+-------+-------------------+-------+-------+\n",
      "\n"
     ]
    }
   ],
   "source": [
    "# Analytical Window Function\n",
    "\n",
    "# lead, lag, cume_dist\n",
    "from pyspark.sql.functions import cume_dist, lag, lead\n",
    "\n",
    "df = df.withColumn(\"cume_dist\",cume_dist().over(Window.partitionBy(\"dept_no\").orderBy(\"salary\")))\n",
    "df = df.withColumn(\"lag\",lag(\"salary\").over(Window.partitionBy(\"dept_no\").orderBy(\"salary\")))\n",
    "df = df.withColumn(\"lead\",lead(\"salary\").over(Window.partitionBy(\"dept_no\").orderBy(\"salary\")))\n",
    "\n",
    "df.select(\"emp_no\",\"emp_name\",\"dept_no\",\"salary\",\"cume_dist\",\"lag\",\"lead\").distinct().filter(df.manager_id == \"1000258\").show()"
   ]
  },
  {
   "cell_type": "code",
   "execution_count": null,
   "id": "13d8d1b9",
   "metadata": {},
   "outputs": [],
   "source": []
  }
 ],
 "metadata": {
  "kernelspec": {
   "display_name": "Python 3 (ipykernel)",
   "language": "python",
   "name": "python3"
  },
  "language_info": {
   "codemirror_mode": {
    "name": "ipython",
    "version": 3
   },
   "file_extension": ".py",
   "mimetype": "text/x-python",
   "name": "python",
   "nbconvert_exporter": "python",
   "pygments_lexer": "ipython3",
   "version": "3.9.13"
  }
 },
 "nbformat": 4,
 "nbformat_minor": 5
}
