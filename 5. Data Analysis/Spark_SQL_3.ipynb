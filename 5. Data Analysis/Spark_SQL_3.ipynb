{
 "cells": [
  {
   "cell_type": "code",
   "execution_count": 3,
   "id": "ac4b02e5",
   "metadata": {},
   "outputs": [
    {
     "data": {
      "text/plain": [
       "'C:\\\\Users\\\\pdharantej\\\\OneDrive - ALLEGIS GROUP\\\\Desktop\\\\TEK_Training\\\\5. Data Analysis'"
      ]
     },
     "execution_count": 3,
     "metadata": {},
     "output_type": "execute_result"
    }
   ],
   "source": [
    "import os\n",
    "os.getcwd()"
   ]
  },
  {
   "cell_type": "code",
   "execution_count": 4,
   "id": "a7ceded6",
   "metadata": {},
   "outputs": [],
   "source": [
    "from pyspark.sql import SparkSession"
   ]
  },
  {
   "cell_type": "code",
   "execution_count": 5,
   "id": "7a83d5be",
   "metadata": {},
   "outputs": [],
   "source": [
    "spark = SparkSession.builder.appName('WindowFunctions').getOrCreate()"
   ]
  },
  {
   "cell_type": "code",
   "execution_count": 6,
   "id": "53300900",
   "metadata": {},
   "outputs": [
    {
     "name": "stdout",
     "output_type": "stream",
     "text": [
      "+-------+--------+-------+----------+-------+-----+\n",
      "| emp_no|emp_name| salary|manager_id|dept_no| comm|\n",
      "+-------+--------+-------+----------+-------+-----+\n",
      "|1000245| PRADEEP|5000.00|      null|    100| 0.00|\n",
      "|1000258|   BLAKE|2850.00|   1000245|    300|50.00|\n",
      "|1000262|   CLARK|2450.00|   1000245|    100|50.00|\n",
      "|1000276|   JONES|2975.00|   1000245|    200|75.00|\n",
      "|1000288|   SCOTT|3000.00|   1000276|    200| 0.00|\n",
      "|1000292|    FORD|3000.00|   1000276|    200| 0.00|\n",
      "|1000294|   SMITH| 800.00|   1000292|    200| 0.00|\n",
      "|1000299|   ALLEN|1600.00|   1000258|    300| 0.00|\n",
      "|1000310|    WARD|1250.00|   1000258|    300|50.00|\n",
      "|1000312|  MARTIN|1250.00|   1000258|    300|50.00|\n",
      "|1000315|  TURNER|1500.00|   1000258|    300| 0.00|\n",
      "|1000326|   ADAMS|1100.00|   1000288|    200| 0.00|\n",
      "|1000336|   JAMES| 950.00|   1000258|    300|50.00|\n",
      "|1000346|  MILLER|1300.00|   1000262|    100| 0.00|\n",
      "|1000347|   DAVID|1400.00|   1000245|    500| 0.00|\n",
      "+-------+--------+-------+----------+-------+-----+\n",
      "\n"
     ]
    }
   ],
   "source": [
    "df=spark.read.parquet('./emp_data.parquet')\n",
    "df.show()"
   ]
  },
  {
   "cell_type": "code",
   "execution_count": 7,
   "id": "d6b87fab",
   "metadata": {},
   "outputs": [],
   "source": [
    "from pyspark.sql.window import Window\n",
    "from pyspark.sql.functions import count, col"
   ]
  },
  {
   "cell_type": "code",
   "execution_count": 9,
   "id": "afa576e9",
   "metadata": {},
   "outputs": [
    {
     "name": "stdout",
     "output_type": "stream",
     "text": [
      "+--------+-------+-------+----------+\n",
      "|emp_name|dept_no| salary|Total_Emps|\n",
      "+--------+-------+-------+----------+\n",
      "| PRADEEP|    100|5000.00|         3|\n",
      "|   CLARK|    100|2450.00|         3|\n",
      "|  MILLER|    100|1300.00|         3|\n",
      "|   JONES|    200|2975.00|         5|\n",
      "|   SCOTT|    200|3000.00|         5|\n",
      "|    FORD|    200|3000.00|         5|\n",
      "|   SMITH|    200| 800.00|         5|\n",
      "|   ADAMS|    200|1100.00|         5|\n",
      "|   BLAKE|    300|2850.00|         6|\n",
      "|   ALLEN|    300|1600.00|         6|\n",
      "|    WARD|    300|1250.00|         6|\n",
      "|  MARTIN|    300|1250.00|         6|\n",
      "|  TURNER|    300|1500.00|         6|\n",
      "|   JAMES|    300| 950.00|         6|\n",
      "|   DAVID|    500|1400.00|         1|\n",
      "+--------+-------+-------+----------+\n",
      "\n"
     ]
    }
   ],
   "source": [
    "empdf = df.select('emp_name', 'dept_no', 'salary', count('*').over(Window.partitionBy('dept_no')).alias('Total_Emps'))\n",
    "empdf.show()"
   ]
  },
  {
   "cell_type": "code",
   "execution_count": 10,
   "id": "f5b3dca7",
   "metadata": {},
   "outputs": [
    {
     "name": "stdout",
     "output_type": "stream",
     "text": [
      "+--------+-------+-------+-------------+\n",
      "|emp_name|dept_no| salary|Reminaing_cnt|\n",
      "+--------+-------+-------+-------------+\n",
      "| PRADEEP|    100|5000.00|            2|\n",
      "|   CLARK|    100|2450.00|            1|\n",
      "|  MILLER|    100|1300.00|            0|\n",
      "|   JONES|    200|2975.00|            4|\n",
      "|   SCOTT|    200|3000.00|            3|\n",
      "|    FORD|    200|3000.00|            2|\n",
      "|   SMITH|    200| 800.00|            1|\n",
      "|   ADAMS|    200|1100.00|            0|\n",
      "|   BLAKE|    300|2850.00|            5|\n",
      "|   ALLEN|    300|1600.00|            4|\n",
      "|    WARD|    300|1250.00|            3|\n",
      "|  MARTIN|    300|1250.00|            2|\n",
      "|  TURNER|    300|1500.00|            1|\n",
      "|   JAMES|    300| 950.00|            0|\n",
      "|   DAVID|    500|1400.00|            0|\n",
      "+--------+-------+-------+-------------+\n",
      "\n"
     ]
    }
   ],
   "source": [
    "empdf = df.select('emp_name', 'dept_no', 'salary', count('*').over(Window.partitionBy('dept_no').rowsBetween(Window.currentRow+1, Window.unboundedFollowing)).alias('Reminaing_cnt'))\n",
    "empdf.show()"
   ]
  },
  {
   "cell_type": "code",
   "execution_count": 14,
   "id": "5e351e4e",
   "metadata": {},
   "outputs": [],
   "source": [
    "from pyspark.sql.functions import sum"
   ]
  },
  {
   "cell_type": "code",
   "execution_count": 15,
   "id": "5c888960",
   "metadata": {},
   "outputs": [
    {
     "name": "stdout",
     "output_type": "stream",
     "text": [
      "+--------+-------+-------+---------------+\n",
      "|emp_name|dept_no| salary|cummulative_sum|\n",
      "+--------+-------+-------+---------------+\n",
      "| PRADEEP|    100|5000.00|        5000.00|\n",
      "|   CLARK|    100|2450.00|        7450.00|\n",
      "|  MILLER|    100|1300.00|        8750.00|\n",
      "|   SCOTT|    200|3000.00|        6000.00|\n",
      "|    FORD|    200|3000.00|        6000.00|\n",
      "|   JONES|    200|2975.00|        8975.00|\n",
      "|   ADAMS|    200|1100.00|       10075.00|\n",
      "|   SMITH|    200| 800.00|       10875.00|\n",
      "|   BLAKE|    300|2850.00|        2850.00|\n",
      "|   ALLEN|    300|1600.00|        4450.00|\n",
      "|  TURNER|    300|1500.00|        5950.00|\n",
      "|    WARD|    300|1250.00|        8450.00|\n",
      "|  MARTIN|    300|1250.00|        8450.00|\n",
      "|   JAMES|    300| 950.00|        9400.00|\n",
      "|   DAVID|    500|1400.00|        1400.00|\n",
      "+--------+-------+-------+---------------+\n",
      "\n"
     ]
    }
   ],
   "source": [
    "empdf = df.select('emp_name', 'dept_no', 'salary', sum('salary').over(Window.partitionBy('dept_no').orderBy(col('salary').desc())).alias('cummulative_sum'))\n",
    "empdf.show()"
   ]
  },
  {
   "cell_type": "code",
   "execution_count": 18,
   "id": "a45c39e6",
   "metadata": {},
   "outputs": [
    {
     "name": "stdout",
     "output_type": "stream",
     "text": [
      "+--------+-------+-------+--------------------+\n",
      "|emp_name|dept_no| salary|true_cummulative_sum|\n",
      "+--------+-------+-------+--------------------+\n",
      "| PRADEEP|    100|5000.00|             5000.00|\n",
      "|   SCOTT|    200|3000.00|             8000.00|\n",
      "|    FORD|    200|3000.00|            11000.00|\n",
      "|   JONES|    200|2975.00|            13975.00|\n",
      "|   BLAKE|    300|2850.00|            16825.00|\n",
      "|   CLARK|    100|2450.00|            19275.00|\n",
      "|   ALLEN|    300|1600.00|            20875.00|\n",
      "|  TURNER|    300|1500.00|            22375.00|\n",
      "|   DAVID|    500|1400.00|            23775.00|\n",
      "|  MILLER|    100|1300.00|            25075.00|\n",
      "|    WARD|    300|1250.00|            26325.00|\n",
      "|  MARTIN|    300|1250.00|            27575.00|\n",
      "|   ADAMS|    200|1100.00|            28675.00|\n",
      "|   JAMES|    300| 950.00|            29625.00|\n",
      "|   SMITH|    200| 800.00|            30425.00|\n",
      "+--------+-------+-------+--------------------+\n",
      "\n"
     ]
    }
   ],
   "source": [
    "# cumulative sum without partitions\n",
    "\n",
    "empdf = df.select('emp_name', 'dept_no', 'salary', sum('salary').over(Window.orderBy(col('salary').desc(), col('emp_name').desc())).alias('true_cummulative_sum'))\n",
    "empdf.show()"
   ]
  },
  {
   "cell_type": "code",
   "execution_count": null,
   "id": "01e89e42",
   "metadata": {},
   "outputs": [],
   "source": []
  }
 ],
 "metadata": {
  "kernelspec": {
   "display_name": "Python 3 (ipykernel)",
   "language": "python",
   "name": "python3"
  },
  "language_info": {
   "codemirror_mode": {
    "name": "ipython",
    "version": 3
   },
   "file_extension": ".py",
   "mimetype": "text/x-python",
   "name": "python",
   "nbconvert_exporter": "python",
   "pygments_lexer": "ipython3",
   "version": "3.9.13"
  }
 },
 "nbformat": 4,
 "nbformat_minor": 5
}
