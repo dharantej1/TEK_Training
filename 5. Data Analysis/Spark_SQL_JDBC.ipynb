{
 "cells": [
  {
   "cell_type": "code",
   "execution_count": 1,
   "id": "bf71201a",
   "metadata": {},
   "outputs": [
    {
     "data": {
      "text/plain": [
       "'C:\\\\Users\\\\pdharantej\\\\OneDrive - ALLEGIS GROUP\\\\Desktop\\\\TEK_Training\\\\5. Data Analysis'"
      ]
     },
     "execution_count": 1,
     "metadata": {},
     "output_type": "execute_result"
    }
   ],
   "source": [
    "import os\n",
    "os.getcwd()"
   ]
  },
  {
   "cell_type": "code",
   "execution_count": null,
   "id": "8a963daf",
   "metadata": {},
   "outputs": [],
   "source": [
    "userDetails={\n",
    "    'userName':'username',\n",
    "    'pwd':'password'\n",
    "}\n",
    "import pyspark\n",
    "from pyspark.sql import SparkSession\n",
    "spark = SparkSession.builder.config(\"spark.jars\", \"./db_&_jarfiles_spark_sql/mysql-connector-java-8.0.22.jar\") \\\n",
    "    .master(\"local[*]\").appName(\"PySpark_MySQL_test\").getOrCreate()\n",
    "products_df = spark.read.format(\"jdbc\").option(\"url\", \"jdbc:mysql://localhost:3306/cust_db\") \\\n",
    "    .option(\"driver\", \"com.mysql.jdbc.Driver\").option(\"dbtable\", \"bank\") \\\n",
    "    .option(\"user\", userDetails['userName']).option(\"password\", userDetails['pwd']).load()"
   ]
  },
  {
   "cell_type": "code",
   "execution_count": null,
   "id": "719195eb",
   "metadata": {},
   "outputs": [],
   "source": []
  }
 ],
 "metadata": {
  "kernelspec": {
   "display_name": "Python 3 (ipykernel)",
   "language": "python",
   "name": "python3"
  },
  "language_info": {
   "codemirror_mode": {
    "name": "ipython",
    "version": 3
   },
   "file_extension": ".py",
   "mimetype": "text/x-python",
   "name": "python",
   "nbconvert_exporter": "python",
   "pygments_lexer": "ipython3",
   "version": "3.9.13"
  }
 },
 "nbformat": 4,
 "nbformat_minor": 5
}
