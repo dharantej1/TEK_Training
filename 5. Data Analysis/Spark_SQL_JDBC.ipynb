{
 "cells": [
  {
   "cell_type": "markdown",
   "id": "83ae2ae6",
   "metadata": {},
   "source": [
    "## Connect to MySQL DataBase"
   ]
  },
  {
   "cell_type": "code",
   "execution_count": 1,
   "id": "bf71201a",
   "metadata": {},
   "outputs": [
    {
     "data": {
      "text/plain": [
       "'C:\\\\Users\\\\pdharantej\\\\OneDrive - ALLEGIS GROUP\\\\Desktop\\\\TEK_Training\\\\5. Data Analysis'"
      ]
     },
     "execution_count": 1,
     "metadata": {},
     "output_type": "execute_result"
    }
   ],
   "source": [
    "import os\n",
    "os.getcwd()"
   ]
  },
  {
   "cell_type": "code",
   "execution_count": 2,
   "id": "719195eb",
   "metadata": {},
   "outputs": [
    {
     "data": {
      "text/plain": [
       "<sqlite3.Cursor at 0x28ab3c5cdc0>"
      ]
     },
     "execution_count": 2,
     "metadata": {},
     "output_type": "execute_result"
    }
   ],
   "source": [
    "import sqlite3\n",
    "\n",
    "con = sqlite3.connect('products.db')\n",
    "cur = con.cursor()\n",
    "\n",
    "cur.execute(\n",
    "'''\n",
    "    create table if not exists products(date text, trans text, product_id int, product_name text, qty real, price float)\n",
    "'''\n",
    ")\n"
   ]
  },
  {
   "cell_type": "code",
   "execution_count": 3,
   "id": "f9929a6b",
   "metadata": {},
   "outputs": [],
   "source": [
    "cur.execute(\"insert into products values('2023-04-05', 'credit-card', 1331, 'iphone', 10, 35.45)\")\n",
    "con.commit()\n",
    "con.close()"
   ]
  },
  {
   "cell_type": "code",
   "execution_count": null,
   "id": "29851a1d",
   "metadata": {},
   "outputs": [],
   "source": [
    "# 2"
   ]
  },
  {
   "cell_type": "code",
   "execution_count": 5,
   "id": "d49c6476",
   "metadata": {},
   "outputs": [
    {
     "name": "stdout",
     "output_type": "stream",
     "text": [
      "Requirement already satisfied: pyarrow in c:\\users\\pdharantej\\anaconda3\\lib\\site-packages (11.0.0)\n",
      "Requirement already satisfied: numpy>=1.16.6 in c:\\users\\pdharantej\\anaconda3\\lib\\site-packages (from pyarrow) (1.21.5)\n"
     ]
    }
   ],
   "source": [
    "!pip install pyarrow"
   ]
  },
  {
   "cell_type": "code",
   "execution_count": 6,
   "id": "d6d6a5dc",
   "metadata": {},
   "outputs": [
    {
     "name": "stdout",
     "output_type": "stream",
     "text": [
      "('2023-04-05', 'credit_card', 1331, 'Iphone', 10.0, 35.14)\n"
     ]
    }
   ],
   "source": [
    "import sqlite3\n",
    "con = sqlite3.connect('products.db')\n",
    "cur = con.cursor()\n",
    "# Create table\n",
    "cur.execute(\"\"\"Drop table if exists productsTbl\"\"\")\n",
    "cur.execute(\n",
    "    '''CREATE TABLE productsTbl\n",
    "       (date text, trans text, product_id int,product_name text, qty real, price float)''')\n",
    "# Insert a row of data\n",
    "cur.execute(\"INSERT INTO productsTbl VALUES ('2023-04-05','credit_card',1331,'Iphone',10,35.14)\")\n",
    "# Save (commit) the changes\n",
    "con.commit()\n",
    "# con.close()\n",
    "for i in cur.execute(\"Select * from productsTbl\"):\n",
    "    print(i)"
   ]
  },
  {
   "cell_type": "code",
   "execution_count": 7,
   "id": "bdd202b3",
   "metadata": {},
   "outputs": [
    {
     "name": "stdout",
     "output_type": "stream",
     "text": [
      "('2023-04-05', 'credit_card', 1331, 'Iphone', 10.0, 35.14)\n"
     ]
    }
   ],
   "source": [
    "for i in cur.execute('select * from productsTbl'):\n",
    "    print(i)"
   ]
  },
  {
   "cell_type": "code",
   "execution_count": null,
   "id": "d7677d72",
   "metadata": {},
   "outputs": [],
   "source": []
  },
  {
   "cell_type": "code",
   "execution_count": null,
   "id": "35b12093",
   "metadata": {},
   "outputs": [],
   "source": []
  }
 ],
 "metadata": {
  "kernelspec": {
   "display_name": "Python 3 (ipykernel)",
   "language": "python",
   "name": "python3"
  },
  "language_info": {
   "codemirror_mode": {
    "name": "ipython",
    "version": 3
   },
   "file_extension": ".py",
   "mimetype": "text/x-python",
   "name": "python",
   "nbconvert_exporter": "python",
   "pygments_lexer": "ipython3",
   "version": "3.9.13"
  }
 },
 "nbformat": 4,
 "nbformat_minor": 5
}
