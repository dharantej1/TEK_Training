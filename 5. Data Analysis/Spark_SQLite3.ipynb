{
 "cells": [
  {
   "cell_type": "code",
   "execution_count": 1,
   "id": "97a1af1d",
   "metadata": {},
   "outputs": [
    {
     "data": {
      "text/plain": [
       "<sqlite3.Cursor at 0x1f4c1ac9c40>"
      ]
     },
     "execution_count": 1,
     "metadata": {},
     "output_type": "execute_result"
    }
   ],
   "source": [
    "import sqlite3\n",
    "con=sqlite3.connect('product2.db')\n",
    "cur=con.cursor()\n",
    "\n",
    "\n",
    "cur.execute('''CREATE TABLE products (date text,trans text,product_id int, product_name text,qty real,price float)''')"
   ]
  },
  {
   "cell_type": "code",
   "execution_count": 2,
   "id": "1fd97b93",
   "metadata": {},
   "outputs": [],
   "source": [
    "from pyspark import SparkContext\n",
    "from pyspark.sql import SparkSession\n",
    "import findspark\n",
    "findspark.init()\n",
    "import os"
   ]
  },
  {
   "cell_type": "code",
   "execution_count": 3,
   "id": "659d304a",
   "metadata": {},
   "outputs": [
    {
     "data": {
      "text/plain": [
       "<sqlite3.Cursor at 0x1f4c1ac9c40>"
      ]
     },
     "execution_count": 3,
     "metadata": {},
     "output_type": "execute_result"
    }
   ],
   "source": [
    "cur.execute(\"INSERT INTO products VALUES('2023-04-05','credit card',1331,'Iphone',10,35.14)\")"
   ]
  },
  {
   "cell_type": "code",
   "execution_count": 4,
   "id": "01dad5cc",
   "metadata": {},
   "outputs": [],
   "source": [
    "con.commit()\n",
    "con.close()"
   ]
  },
  {
   "cell_type": "code",
   "execution_count": 5,
   "id": "726ce734",
   "metadata": {},
   "outputs": [],
   "source": [
    "spark=SparkSession.builder \\\n",
    ".master(\"local\") \\\n",
    ".appName(\"SQLite JDBC\") \\\n",
    ".config(\"spark.jars\",\"C:\\\\Users\\\\user\\\\Downloads\\\\sqlite-jdbc-3.34.0.jar\")\\\n",
    ".config(\"spark.driver.extraClassPath\",\"C:\\\\Users\\\\user\\\\Downloads\\\\sqlite-jdbc-3.34.0.jar\") \\\n",
    ".getOrCreate()"
   ]
  },
  {
   "cell_type": "code",
   "execution_count": 6,
   "id": "37b857df",
   "metadata": {
    "scrolled": true
   },
   "outputs": [],
   "source": [
    "products_df=spark.read.format(\"jdbc\").option(\"url\",\"jdbc:sqlite://{}/product2.db\".format(os.getcwd())).option(\"driver\",\"org.sqlite.JDBC\").option(\"dbtable\",\"products\").load()"
   ]
  },
  {
   "cell_type": "code",
   "execution_count": 7,
   "id": "90083dab",
   "metadata": {},
   "outputs": [
    {
     "name": "stdout",
     "output_type": "stream",
     "text": [
      "+----------+-----------+----------+------------+----+-----+\n",
      "|      date|      trans|product_id|product_name| qty|price|\n",
      "+----------+-----------+----------+------------+----+-----+\n",
      "|2023-04-05|credit card|      1331|      Iphone|10.0|35.14|\n",
      "+----------+-----------+----------+------------+----+-----+\n",
      "\n"
     ]
    }
   ],
   "source": [
    "products_df.show()"
   ]
  },
  {
   "cell_type": "code",
   "execution_count": null,
   "id": "15baa62c",
   "metadata": {},
   "outputs": [],
   "source": []
  }
 ],
 "metadata": {
  "kernelspec": {
   "display_name": "Python 3 (ipykernel)",
   "language": "python",
   "name": "python3"
  },
  "language_info": {
   "codemirror_mode": {
    "name": "ipython",
    "version": 3
   },
   "file_extension": ".py",
   "mimetype": "text/x-python",
   "name": "python",
   "nbconvert_exporter": "python",
   "pygments_lexer": "ipython3",
   "version": "3.9.13"
  }
 },
 "nbformat": 4,
 "nbformat_minor": 5
}
