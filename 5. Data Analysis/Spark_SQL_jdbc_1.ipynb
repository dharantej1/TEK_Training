{
 "cells": [
  {
   "cell_type": "code",
   "execution_count": 1,
   "id": "862cd016",
   "metadata": {},
   "outputs": [],
   "source": [
    "from pyspark import SparkContext\n",
    "from pyspark.sql import SparkSession\n",
    "import findspark\n",
    "findspark.init()"
   ]
  },
  {
   "cell_type": "code",
   "execution_count": 2,
   "id": "176641c4",
   "metadata": {},
   "outputs": [
    {
     "data": {
      "text/plain": [
       "'C:\\\\Users\\\\user'"
      ]
     },
     "execution_count": 2,
     "metadata": {},
     "output_type": "execute_result"
    }
   ],
   "source": [
    "import os\n",
    "os.getcwd()"
   ]
  },
  {
   "cell_type": "code",
   "execution_count": 3,
   "id": "8facb4b3",
   "metadata": {},
   "outputs": [],
   "source": [
    "userdetails={'userName':'root','pwd':'Cloud@123$'}\n",
    "spark = SparkSession.builder.config(\"spark.jars\", \"C:\\\\Users\\\\user\\\\Downloads\\\\mysql-connector-j-8.0.32.jar\") \\\n",
    "    .master(\"local[*]\").appName(\"abcd\").getOrCreate()\n",
    "products_df = spark.read.format(\"jdbc\").option(\"url\", \"jdbc:mysql://localhost:3306/world\") \\\n",
    "    .option(\"driver\", \"com.mysql.jdbc.Driver\").option(\"dbtable\", \"country\") \\\n",
    "    .option(\"user\", userdetails['userName']).option(\"password\", userdetails['pwd']).load()"
   ]
  },
  {
   "cell_type": "code",
   "execution_count": 6,
   "id": "95c8b726",
   "metadata": {
    "scrolled": true
   },
   "outputs": [
    {
     "name": "stdout",
     "output_type": "stream",
     "text": [
      "+----+--------------------+-------------+--------------------+-----------+---------+----------+--------------+---------+---------+--------------------+--------------------+--------------------+-------+-----+\n",
      "|Code|                Name|    Continent|              Region|SurfaceArea|IndepYear|Population|LifeExpectancy|      GNP|   GNPOld|           LocalName|      GovernmentForm|         HeadOfState|Capital|Code2|\n",
      "+----+--------------------+-------------+--------------------+-----------+---------+----------+--------------+---------+---------+--------------------+--------------------+--------------------+-------+-----+\n",
      "| ABW|               Aruba|North America|           Caribbean|     193.00|     null|    103000|          78.4|   828.00|   793.00|               Aruba|Nonmetropolitan T...|             Beatrix|    129|   AW|\n",
      "| AFG|         Afghanistan|         Asia|Southern and Cent...|  652090.00|     1919|  22720000|          45.9|  5976.00|     null|Afganistan/Afqane...|     Islamic Emirate|       Mohammad Omar|      1|   AF|\n",
      "| AGO|              Angola|       Africa|      Central Africa| 1246700.00|     1975|  12878000|          38.3|  6648.00|  7984.00|              Angola|            Republic|José Eduardo dos ...|     56|   AO|\n",
      "| AIA|            Anguilla|North America|           Caribbean|      96.00|     null|      8000|          76.1|    63.20|     null|            Anguilla|Dependent Territo...|        Elisabeth II|     62|   AI|\n",
      "| ALB|             Albania|       Europe|     Southern Europe|   28748.00|     1912|   3401200|          71.6|  3205.00|  2500.00|           Shqipëria|            Republic|      Rexhep Mejdani|     34|   AL|\n",
      "| AND|             Andorra|       Europe|     Southern Europe|     468.00|     1278|     78000|          83.5|  1630.00|     null|             Andorra|Parliamentary Cop...|                    |     55|   AD|\n",
      "| ANT|Netherlands Antilles|North America|           Caribbean|     800.00|     null|    217000|          74.7|  1941.00|     null|Nederlandse Antillen|Nonmetropolitan T...|             Beatrix|     33|   AN|\n",
      "| ARE|United Arab Emirates|         Asia|         Middle East|   83600.00|     1971|   2441000|          74.1| 37966.00| 36846.00|Al-Imarat al-´Ara...|  Emirate Federation|Zayid bin Sultan ...|     65|   AE|\n",
      "| ARG|           Argentina|South America|       South America| 2780400.00|     1816|  37032000|          75.1|340238.00|323310.00|           Argentina|    Federal Republic|  Fernando de la Rúa|     69|   AR|\n",
      "| ARM|             Armenia|         Asia|         Middle East|   29800.00|     1991|   3520000|          66.4|  1813.00|  1627.00|            Hajastan|            Republic|    Robert Kotšarjan|    126|   AM|\n",
      "| ASM|      American Samoa|      Oceania|           Polynesia|     199.00|     null|     68000|          75.1|   334.00|     null|       Amerika Samoa|        US Territory|      George W. Bush|     54|   AS|\n",
      "| ATA|          Antarctica|   Antarctica|          Antarctica|13120000.00|     null|         0|          null|     0.00|     null|                   –|    Co-administrated|                    |   null|   AQ|\n",
      "| ATF|French Southern t...|   Antarctica|          Antarctica|    7780.00|     null|         0|          null|     0.00|     null|Terres australes ...|Nonmetropolitan T...|      Jacques Chirac|   null|   TF|\n",
      "| ATG| Antigua and Barbuda|North America|           Caribbean|     442.00|     1981|     68000|          70.5|   612.00|   584.00| Antigua and Barbuda|Constitutional Mo...|        Elisabeth II|     63|   AG|\n",
      "| AUS|           Australia|      Oceania|Australia and New...| 7741220.00|     1901|  18886000|          79.8|351182.00|392911.00|           Australia|Constitutional Mo...|        Elisabeth II|    135|   AU|\n",
      "| AUT|             Austria|       Europe|      Western Europe|   83859.00|     1918|   8091800|          77.7|211860.00|206025.00|          Österreich|    Federal Republic|      Thomas Klestil|   1523|   AT|\n",
      "| AZE|          Azerbaijan|         Asia|         Middle East|   86600.00|     1991|   7734000|          62.9|  4127.00|  4100.00|          Azärbaycan|    Federal Republic|       Heydär Äliyev|    144|   AZ|\n",
      "| BDI|             Burundi|       Africa|      Eastern Africa|   27834.00|     1962|   6695000|          46.2|   903.00|   982.00|    Burundi/Uburundi|            Republic|       Pierre Buyoya|    552|   BI|\n",
      "| BEL|             Belgium|       Europe|      Western Europe|   30518.00|     1830|  10239000|          77.8|249704.00|243948.00|     België/Belgique|Constitutional Mo...|           Albert II|    179|   BE|\n",
      "| BEN|               Benin|       Africa|      Western Africa|  112622.00|     1960|   6097000|          50.2|  2357.00|  2141.00|               Bénin|            Republic|     Mathieu Kérékou|    187|   BJ|\n",
      "+----+--------------------+-------------+--------------------+-----------+---------+----------+--------------+---------+---------+--------------------+--------------------+--------------------+-------+-----+\n",
      "only showing top 20 rows\n",
      "\n"
     ]
    }
   ],
   "source": [
    "products_df.show()"
   ]
  },
  {
   "cell_type": "code",
   "execution_count": null,
   "id": "4c31ccbf",
   "metadata": {},
   "outputs": [],
   "source": []
  },
  {
   "cell_type": "code",
   "execution_count": null,
   "id": "6307c120",
   "metadata": {},
   "outputs": [],
   "source": []
  },
  {
   "cell_type": "code",
   "execution_count": null,
   "id": "1ce4e638",
   "metadata": {},
   "outputs": [],
   "source": []
  },
  {
   "cell_type": "code",
   "execution_count": null,
   "id": "7dcd7758",
   "metadata": {},
   "outputs": [],
   "source": []
  },
  {
   "cell_type": "code",
   "execution_count": null,
   "id": "21bdebe8",
   "metadata": {},
   "outputs": [],
   "source": []
  },
  {
   "cell_type": "code",
   "execution_count": 13,
   "id": "e2a7d233",
   "metadata": {},
   "outputs": [
    {
     "data": {
      "text/plain": [
       "'C:\\\\Users\\\\user'"
      ]
     },
     "execution_count": 13,
     "metadata": {},
     "output_type": "execute_result"
    }
   ],
   "source": [
    "os.getcwd()"
   ]
  },
  {
   "cell_type": "code",
   "execution_count": null,
   "id": "82c5d733",
   "metadata": {
    "scrolled": true
   },
   "outputs": [],
   "source": []
  },
  {
   "cell_type": "code",
   "execution_count": null,
   "id": "cfcf3d71",
   "metadata": {},
   "outputs": [],
   "source": []
  }
 ],
 "metadata": {
  "kernelspec": {
   "display_name": "Python 3 (ipykernel)",
   "language": "python",
   "name": "python3"
  },
  "language_info": {
   "codemirror_mode": {
    "name": "ipython",
    "version": 3
   },
   "file_extension": ".py",
   "mimetype": "text/x-python",
   "name": "python",
   "nbconvert_exporter": "python",
   "pygments_lexer": "ipython3",
   "version": "3.9.13"
  }
 },
 "nbformat": 4,
 "nbformat_minor": 5
}
