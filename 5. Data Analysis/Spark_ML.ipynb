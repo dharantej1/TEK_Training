{
 "cells": [
  {
   "cell_type": "code",
   "execution_count": 1,
   "id": "06e0d5e4",
   "metadata": {},
   "outputs": [],
   "source": [
    "# data types in Machine learning"
   ]
  },
  {
   "cell_type": "code",
   "execution_count": 2,
   "id": "f90c5957",
   "metadata": {},
   "outputs": [],
   "source": [
    "from pyspark.ml.linalg import Vector, DenseVector, SparseVector"
   ]
  },
  {
   "cell_type": "code",
   "execution_count": 3,
   "id": "b6ed29ed",
   "metadata": {},
   "outputs": [
    {
     "data": {
      "text/plain": [
       "DenseVector([1.0, 0.0, 0.0, 0.0, 4.5, 0.0])"
      ]
     },
     "execution_count": 3,
     "metadata": {},
     "output_type": "execute_result"
    }
   ],
   "source": [
    "dv=DenseVector([1.0, 0., 0., 0., 4.5, 0])\n",
    "dv"
   ]
  },
  {
   "cell_type": "code",
   "execution_count": 4,
   "id": "933f0fee",
   "metadata": {},
   "outputs": [
    {
     "data": {
      "text/plain": [
       "SparseVector(6, {0: 1.0, 4: 4.5})"
      ]
     },
     "execution_count": 4,
     "metadata": {},
     "output_type": "execute_result"
    }
   ],
   "source": [
    "sv = SparseVector(6, {0:1.0, 4:4.5})\n",
    "sv"
   ]
  },
  {
   "cell_type": "code",
   "execution_count": 5,
   "id": "084f7c1b",
   "metadata": {},
   "outputs": [
    {
     "data": {
      "text/plain": [
       "DenseVector([1.0, 0.0, 0.0, 0.0, 4.5, 0.0])"
      ]
     },
     "execution_count": 5,
     "metadata": {},
     "output_type": "execute_result"
    }
   ],
   "source": [
    "# convert sparse vector to dense vector\n",
    "\n",
    "DenseVector(sv.toArray())"
   ]
  },
  {
   "cell_type": "code",
   "execution_count": 6,
   "id": "869ae7dc",
   "metadata": {},
   "outputs": [
    {
     "data": {
      "text/plain": [
       "{0: 1.0, 4: 4.5}"
      ]
     },
     "execution_count": 6,
     "metadata": {},
     "output_type": "execute_result"
    }
   ],
   "source": [
    "# convert Dense vector to sparse vector\n",
    "\n",
    "active_elements_dict = {index: value for index, value in enumerate(dv) if value!=0}\n",
    "active_elements_dict"
   ]
  },
  {
   "cell_type": "code",
   "execution_count": 7,
   "id": "054cb4c6",
   "metadata": {},
   "outputs": [
    {
     "data": {
      "text/plain": [
       "SparseVector(6, {0: 1.0, 4: 4.5})"
      ]
     },
     "execution_count": 7,
     "metadata": {},
     "output_type": "execute_result"
    }
   ],
   "source": [
    "SparseVector(len(dv), active_elements_dict)"
   ]
  },
  {
   "cell_type": "code",
   "execution_count": 8,
   "id": "1aa28da6",
   "metadata": {},
   "outputs": [],
   "source": [
    "import findspark\n",
    "findspark.init()"
   ]
  },
  {
   "cell_type": "code",
   "execution_count": 9,
   "id": "d8f027cd",
   "metadata": {},
   "outputs": [],
   "source": [
    "from pyspark.ml import Pipeline\n",
    "from pyspark.ml.feature import HashingTF, IDF, Tokenizer"
   ]
  },
  {
   "cell_type": "code",
   "execution_count": 10,
   "id": "ba64d648",
   "metadata": {},
   "outputs": [],
   "source": [
    "import pyspark\n",
    "from pyspark.sql import SparkSession\n",
    "spark = SparkSession.builder.master('local[*]') \\\n",
    "                    .appName('TEKS-Spark-ML-Example') \\\n",
    "                    .getOrCreate()"
   ]
  },
  {
   "cell_type": "code",
   "execution_count": 11,
   "id": "cfa0bc3f",
   "metadata": {},
   "outputs": [],
   "source": [
    "sentenceData = spark.createDataFrame([\n",
    "    (0, 'welcome to spark spark pyspark'),\n",
    "    (1, 'Python SQL'),\n",
    "    (2, 'Python SQL Transformation'),\n",
    "    (3, 'Estimator and Transformer')\n",
    "], ['document', 'sentence'])"
   ]
  },
  {
   "cell_type": "code",
   "execution_count": 12,
   "id": "825ee790",
   "metadata": {},
   "outputs": [
    {
     "name": "stdout",
     "output_type": "stream",
     "text": [
      "+--------+------------------------------+\n",
      "|document|sentence                      |\n",
      "+--------+------------------------------+\n",
      "|0       |welcome to spark spark pyspark|\n",
      "|1       |Python SQL                    |\n",
      "|2       |Python SQL Transformation     |\n",
      "|3       |Estimator and Transformer     |\n",
      "+--------+------------------------------+\n",
      "\n"
     ]
    }
   ],
   "source": [
    "sentenceData.show(truncate=False)"
   ]
  },
  {
   "cell_type": "code",
   "execution_count": 13,
   "id": "159e6232",
   "metadata": {},
   "outputs": [
    {
     "name": "stdout",
     "output_type": "stream",
     "text": [
      "+---+-----------------------------------------+-------------------------+\n",
      "|id |words                                    |features                 |\n",
      "+---+-----------------------------------------+-------------------------+\n",
      "|0  |[welcome, to, spark, spark, pyspark, sql]|(3,[0,1,2],[1.0,1.0,1.0])|\n",
      "|1  |[pyspark, sql, welcome]                  |(3,[0,1,2],[1.0,1.0,1.0])|\n",
      "+---+-----------------------------------------+-------------------------+\n",
      "\n"
     ]
    }
   ],
   "source": [
    "from pyspark.ml.feature import CountVectorizer\n",
    "\n",
    "\n",
    "df = spark.createDataFrame([\n",
    "    (0, 'welcome to spark spark pyspark sql'.split(' ')),\n",
    "    (1, 'pyspark sql welcome'.split(' '))\n",
    "], ['id', 'words'])\n",
    "\n",
    "cv = CountVectorizer(inputCol='words', outputCol='features', vocabSize=3, minDF=2.0)\n",
    "\n",
    "model = cv.fit(df)\n",
    "\n",
    "result = model.transform(df)\n",
    "result.show(truncate=False)"
   ]
  },
  {
   "cell_type": "code",
   "execution_count": 18,
   "id": "7b0ce32d",
   "metadata": {},
   "outputs": [
    {
     "name": "stdout",
     "output_type": "stream",
     "text": [
      "+---+-----------------------------------------+-------------------------------------+\n",
      "|id |words                                    |features                             |\n",
      "+---+-----------------------------------------+-------------------------------------+\n",
      "|0  |[welcome, to, spark, spark, pyspark, sql]|(7,[0,1,2,3,6],[1.0,2.0,1.0,1.0,1.0])|\n",
      "|1  |[helo, hi, pyspark, sql, welcome]        |(7,[0,2,3,4,5],[1.0,1.0,1.0,1.0,1.0])|\n",
      "+---+-----------------------------------------+-------------------------------------+\n",
      "\n"
     ]
    }
   ],
   "source": [
    "from pyspark.ml.feature import CountVectorizer\n",
    "\n",
    "\n",
    "df = spark.createDataFrame([\n",
    "    (0, 'welcome to spark spark pyspark sql'.split(' ')),\n",
    "    (1, 'helo hi pyspark sql welcome'.split(' '))\n",
    "], ['id', 'words'])\n",
    "\n",
    "cv = CountVectorizer(inputCol='words', outputCol='features')\n",
    "\n",
    "model = cv.fit(df)\n",
    "\n",
    "result = model.transform(df)\n",
    "result.show(truncate=False)"
   ]
  },
  {
   "cell_type": "code",
   "execution_count": 19,
   "id": "facf2c13",
   "metadata": {},
   "outputs": [
    {
     "name": "stdout",
     "output_type": "stream",
     "text": [
      "+---+----------------------------+--------------------+\n",
      "|id |raw                         |filtered            |\n",
      "+---+----------------------------+--------------------+\n",
      "|0  |[I, saw, the, red, balloon] |[saw, red, balloon] |\n",
      "|1  |[Mary, had, a, little, lamb]|[Mary, little, lamb]|\n",
      "+---+----------------------------+--------------------+\n",
      "\n"
     ]
    }
   ],
   "source": [
    "from pyspark.ml.feature import StopWordsRemover\n",
    "sentenceData=spark.createDataFrame([\n",
    "    (0,[\"I\",\"saw\",\"the\",\"red\",\"balloon\"]),\n",
    "    (1,[\"Mary\",\"had\",\"a\",\"little\",\"lamb\"])\n",
    "],[\"id\",\"raw\"])\n",
    "remover=StopWordsRemover(inputCol=\"raw\",outputCol=\"filtered\")\n",
    "remover.transform(sentenceData).show(truncate=False)"
   ]
  },
  {
   "cell_type": "code",
   "execution_count": null,
   "id": "ed35c891",
   "metadata": {},
   "outputs": [],
   "source": []
  }
 ],
 "metadata": {
  "kernelspec": {
   "display_name": "Python 3 (ipykernel)",
   "language": "python",
   "name": "python3"
  },
  "language_info": {
   "codemirror_mode": {
    "name": "ipython",
    "version": 3
   },
   "file_extension": ".py",
   "mimetype": "text/x-python",
   "name": "python",
   "nbconvert_exporter": "python",
   "pygments_lexer": "ipython3",
   "version": "3.9.13"
  }
 },
 "nbformat": 4,
 "nbformat_minor": 5
}
