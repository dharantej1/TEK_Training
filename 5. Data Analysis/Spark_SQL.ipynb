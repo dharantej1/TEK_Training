{
 "cells": [
  {
   "cell_type": "markdown",
   "id": "97ae3e58",
   "metadata": {},
   "source": [
    "## Spark SQL"
   ]
  },
  {
   "cell_type": "markdown",
   "id": "8f59801c",
   "metadata": {},
   "source": [
    "### Block diagram - Double Click to expand\n",
    "<!--    \n",
    "+----------------------------------------------+\n",
    "|                  User Program                |\n",
    "+----------------------------------------------+\n",
    "                        |\n",
    "                        v\n",
    "+----------------+    +-----------------------+\n",
    "|    Data Source  |    |      SparkSession      |\n",
    "+----------------+    +-----------------------+\n",
    "                        |\n",
    "                        v\n",
    "+----------------+    +-----------------------+\n",
    "|  JDBC/ODBC API |    | Spark SQL Engine / API |\n",
    "+----------------+    +-----------------------+\n",
    "                        |\n",
    "                        v\n",
    "+----------------+    +-----------------------+\n",
    "|     Dataset    |    |    DataFrame / SQL     |\n",
    "+----------------+    +-----------------------+\n",
    "                        |\n",
    "                        v\n",
    "+----------------+    +-----------------------+\n",
    "|    Catalyst     |    |  Spark Core / Cluster  |\n",
    "|    Optimizer    |    +-----------------------+\n",
    "+----------------+               |\n",
    "                                 v\n",
    "+----------------------------------------------+\n",
    "|                    RDDs                      |\n",
    "+----------------------------------------------+\n",
    "\n",
    " -->"
   ]
  },
  {
   "cell_type": "code",
   "execution_count": 1,
   "id": "c45be860",
   "metadata": {},
   "outputs": [
    {
     "name": "stdout",
     "output_type": "stream",
     "text": [
      "Requirement already satisfied: findspark in c:\\users\\pdharantej\\anaconda3\\lib\\site-packages (2.0.1)\n"
     ]
    }
   ],
   "source": [
    "!pip install findspark\n",
    "import findspark\n",
    "findspark.init()"
   ]
  },
  {
   "cell_type": "code",
   "execution_count": 2,
   "id": "e22e0ff9",
   "metadata": {},
   "outputs": [],
   "source": [
    "import pyspark\n",
    "from pyspark.sql import SparkSession"
   ]
  },
  {
   "cell_type": "code",
   "execution_count": 3,
   "id": "9e874b7c",
   "metadata": {},
   "outputs": [],
   "source": [
    "spark=SparkSession.builder.appName('SparkSQL_UseCase').master('local[2]').getOrCreate()"
   ]
  },
  {
   "cell_type": "code",
   "execution_count": 4,
   "id": "2d91827d",
   "metadata": {},
   "outputs": [
    {
     "data": {
      "text/html": [
       "\n",
       "            <div>\n",
       "                <p><b>SparkSession - in-memory</b></p>\n",
       "                \n",
       "        <div>\n",
       "            <p><b>SparkContext</b></p>\n",
       "\n",
       "            <p><a href=\"http://HSC-PF1DSZBD.allegisgroup.com:4040\">Spark UI</a></p>\n",
       "\n",
       "            <dl>\n",
       "              <dt>Version</dt>\n",
       "                <dd><code>v3.3.2</code></dd>\n",
       "              <dt>Master</dt>\n",
       "                <dd><code>local[2]</code></dd>\n",
       "              <dt>AppName</dt>\n",
       "                <dd><code>SparkSQL_UseCase</code></dd>\n",
       "            </dl>\n",
       "        </div>\n",
       "        \n",
       "            </div>\n",
       "        "
      ],
      "text/plain": [
       "<pyspark.sql.session.SparkSession at 0x270d6281b80>"
      ]
     },
     "execution_count": 4,
     "metadata": {},
     "output_type": "execute_result"
    }
   ],
   "source": [
    "spark"
   ]
  },
  {
   "cell_type": "code",
   "execution_count": 5,
   "id": "ed392f36",
   "metadata": {},
   "outputs": [],
   "source": [
    "rangeDF=spark.range(100).toDF('number')"
   ]
  },
  {
   "cell_type": "code",
   "execution_count": 6,
   "id": "00b15523",
   "metadata": {},
   "outputs": [
    {
     "data": {
      "text/plain": [
       "DataFrame[number: bigint]"
      ]
     },
     "execution_count": 6,
     "metadata": {},
     "output_type": "execute_result"
    }
   ],
   "source": [
    "rangeDF"
   ]
  },
  {
   "cell_type": "code",
   "execution_count": 7,
   "id": "c0a23694",
   "metadata": {},
   "outputs": [
    {
     "name": "stdout",
     "output_type": "stream",
     "text": [
      "+------+\n",
      "|number|\n",
      "+------+\n",
      "|     0|\n",
      "|     1|\n",
      "|     2|\n",
      "|     3|\n",
      "+------+\n",
      "only showing top 4 rows\n",
      "\n"
     ]
    }
   ],
   "source": [
    "rangeDF.show(4)"
   ]
  },
  {
   "cell_type": "code",
   "execution_count": 8,
   "id": "c9fa7a84",
   "metadata": {},
   "outputs": [
    {
     "data": {
      "text/plain": [
       "100"
      ]
     },
     "execution_count": 8,
     "metadata": {},
     "output_type": "execute_result"
    }
   ],
   "source": [
    "rangeDF.count()"
   ]
  },
  {
   "cell_type": "code",
   "execution_count": 9,
   "id": "e653d445",
   "metadata": {},
   "outputs": [],
   "source": [
    "evenDF=rangeDF.where('number%2==0')"
   ]
  },
  {
   "cell_type": "code",
   "execution_count": 10,
   "id": "db7d68ec",
   "metadata": {},
   "outputs": [
    {
     "data": {
      "text/plain": [
       "DataFrame[number: bigint]"
      ]
     },
     "execution_count": 10,
     "metadata": {},
     "output_type": "execute_result"
    }
   ],
   "source": [
    "evenDF"
   ]
  },
  {
   "cell_type": "code",
   "execution_count": 11,
   "id": "0d8b7c53",
   "metadata": {},
   "outputs": [
    {
     "name": "stdout",
     "output_type": "stream",
     "text": [
      "+------+\n",
      "|number|\n",
      "+------+\n",
      "|     0|\n",
      "|     2|\n",
      "|     4|\n",
      "|     6|\n",
      "|     8|\n",
      "+------+\n",
      "only showing top 5 rows\n",
      "\n"
     ]
    }
   ],
   "source": [
    "evenDF.show(5)"
   ]
  },
  {
   "cell_type": "code",
   "execution_count": 12,
   "id": "5577f3d6",
   "metadata": {},
   "outputs": [],
   "source": [
    "# spark.createDataFrame function\n",
    "\n",
    "nameDF=spark.createDataFrame([[1,'Alice',30,'Female'],\n",
    "                              [2,'Beneth',30,'Male'],\n",
    "                              [3,'Charlie',30,'Male'],\n",
    "                              [4,'Dharan',30,'Male']],['Id','Name','Age','Gender'])"
   ]
  },
  {
   "cell_type": "code",
   "execution_count": 13,
   "id": "597c2ae6",
   "metadata": {},
   "outputs": [
    {
     "name": "stdout",
     "output_type": "stream",
     "text": [
      "+---+-------+---+------+\n",
      "| Id|   Name|Age|Gender|\n",
      "+---+-------+---+------+\n",
      "|  1|  Alice| 30|Female|\n",
      "|  2| Beneth| 30|  Male|\n",
      "|  3|Charlie| 30|  Male|\n",
      "+---+-------+---+------+\n",
      "only showing top 3 rows\n",
      "\n"
     ]
    }
   ],
   "source": [
    "nameDF.show(3)"
   ]
  },
  {
   "cell_type": "code",
   "execution_count": 14,
   "id": "98fdb946",
   "metadata": {},
   "outputs": [],
   "source": [
    "# constructing DataFrame from RDD\n",
    "\n",
    "sc=spark.sparkContext"
   ]
  },
  {
   "cell_type": "code",
   "execution_count": 15,
   "id": "1afd9134",
   "metadata": {},
   "outputs": [
    {
     "data": {
      "text/html": [
       "\n",
       "        <div>\n",
       "            <p><b>SparkContext</b></p>\n",
       "\n",
       "            <p><a href=\"http://HSC-PF1DSZBD.allegisgroup.com:4040\">Spark UI</a></p>\n",
       "\n",
       "            <dl>\n",
       "              <dt>Version</dt>\n",
       "                <dd><code>v3.3.2</code></dd>\n",
       "              <dt>Master</dt>\n",
       "                <dd><code>local[2]</code></dd>\n",
       "              <dt>AppName</dt>\n",
       "                <dd><code>SparkSQL_UseCase</code></dd>\n",
       "            </dl>\n",
       "        </div>\n",
       "        "
      ],
      "text/plain": [
       "<SparkContext master=local[2] appName=SparkSQL_UseCase>"
      ]
     },
     "execution_count": 15,
     "metadata": {},
     "output_type": "execute_result"
    }
   ],
   "source": [
    "sc"
   ]
  },
  {
   "cell_type": "code",
   "execution_count": 16,
   "id": "ecd7e07a",
   "metadata": {},
   "outputs": [
    {
     "data": {
      "text/plain": [
       "'C:\\\\Users\\\\pdharantej\\\\OneDrive - ALLEGIS GROUP\\\\Desktop\\\\TEK_Training\\\\5. Data Analysis'"
      ]
     },
     "execution_count": 16,
     "metadata": {},
     "output_type": "execute_result"
    }
   ],
   "source": [
    "# infer schema by using RDD\n",
    "\n",
    "import os\n",
    "os.getcwd()"
   ]
  },
  {
   "cell_type": "code",
   "execution_count": 17,
   "id": "bab895df",
   "metadata": {},
   "outputs": [],
   "source": [
    "tempRDD=sc.textFile('./temp_data.txt')"
   ]
  },
  {
   "cell_type": "code",
   "execution_count": 18,
   "id": "2b942444",
   "metadata": {},
   "outputs": [
    {
     "data": {
      "text/plain": [
       "13131"
      ]
     },
     "execution_count": 18,
     "metadata": {},
     "output_type": "execute_result"
    }
   ],
   "source": [
    "tempRDD.count()"
   ]
  },
  {
   "cell_type": "code",
   "execution_count": 19,
   "id": "06b5c211",
   "metadata": {},
   "outputs": [
    {
     "data": {
      "text/plain": [
       "pyspark.rdd.RDD"
      ]
     },
     "execution_count": 19,
     "metadata": {},
     "output_type": "execute_result"
    }
   ],
   "source": [
    "type(tempRDD)"
   ]
  },
  {
   "cell_type": "code",
   "execution_count": 20,
   "id": "a19fe4a0",
   "metadata": {},
   "outputs": [
    {
     "data": {
      "text/plain": [
       "['1901\\t-78\\t1', '1901\\t-72\\t1', '1901\\t-94\\t1']"
      ]
     },
     "execution_count": 20,
     "metadata": {},
     "output_type": "execute_result"
    }
   ],
   "source": [
    "tempRDD.take(3)"
   ]
  },
  {
   "cell_type": "code",
   "execution_count": 21,
   "id": "33992dcf",
   "metadata": {},
   "outputs": [
    {
     "data": {
      "text/plain": [
       "[['1901', '-78', '1'], ['1901', '-72', '1'], ['1901', '-94', '1']]"
      ]
     },
     "execution_count": 21,
     "metadata": {},
     "output_type": "execute_result"
    }
   ],
   "source": [
    "splitRDD=tempRDD.map(lambda record: record.split('\\t'))\n",
    "splitRDD.take(3)"
   ]
  },
  {
   "cell_type": "code",
   "execution_count": 22,
   "id": "d42ccca4",
   "metadata": {},
   "outputs": [],
   "source": [
    "# constructing the RDD using the Row object\n",
    "\n",
    "from pyspark.sql import Row"
   ]
  },
  {
   "cell_type": "code",
   "execution_count": 23,
   "id": "3d9579b7",
   "metadata": {},
   "outputs": [],
   "source": [
    "schemaRDD=splitRDD.map(lambda line: Row(year=line[0],temp=int(line[1]),status=int(line[2])))"
   ]
  },
  {
   "cell_type": "code",
   "execution_count": 24,
   "id": "7e6b1dd1",
   "metadata": {},
   "outputs": [
    {
     "data": {
      "text/plain": [
       "[Row(year='1901', temp=-78, status=1),\n",
       " Row(year='1901', temp=-72, status=1),\n",
       " Row(year='1901', temp=-94, status=1)]"
      ]
     },
     "execution_count": 24,
     "metadata": {},
     "output_type": "execute_result"
    }
   ],
   "source": [
    "schemaRDD.take(3)"
   ]
  },
  {
   "cell_type": "code",
   "execution_count": 25,
   "id": "822ec85e",
   "metadata": {},
   "outputs": [
    {
     "name": "stdout",
     "output_type": "stream",
     "text": [
      "+----+----+------+\n",
      "|year|temp|status|\n",
      "+----+----+------+\n",
      "|1901| -78|     1|\n",
      "|1901| -72|     1|\n",
      "|1901| -94|     1|\n",
      "+----+----+------+\n",
      "only showing top 3 rows\n",
      "\n"
     ]
    }
   ],
   "source": [
    "tempDF=spark.createDataFrame(schemaRDD)\n",
    "tempDF.show(3)"
   ]
  },
  {
   "cell_type": "code",
   "execution_count": 26,
   "id": "d43ef6d0",
   "metadata": {},
   "outputs": [
    {
     "data": {
      "text/plain": [
       "[Row(year='1901', temp=-78, status=1),\n",
       " Row(year='1901', temp=-72, status=1),\n",
       " Row(year='1901', temp=-94, status=1)]"
      ]
     },
     "execution_count": 26,
     "metadata": {},
     "output_type": "execute_result"
    }
   ],
   "source": [
    "tempDF.head(3)"
   ]
  },
  {
   "cell_type": "code",
   "execution_count": 27,
   "id": "cf27f5e3",
   "metadata": {},
   "outputs": [
    {
     "name": "stdout",
     "output_type": "stream",
     "text": [
      "root\n",
      " |-- year: string (nullable = true)\n",
      " |-- temp: long (nullable = true)\n",
      " |-- status: long (nullable = true)\n",
      "\n"
     ]
    }
   ],
   "source": [
    "tempDF.printSchema()"
   ]
  },
  {
   "cell_type": "code",
   "execution_count": 28,
   "id": "57997742",
   "metadata": {},
   "outputs": [
    {
     "data": {
      "text/plain": [
       "233600"
      ]
     },
     "execution_count": 28,
     "metadata": {},
     "output_type": "execute_result"
    }
   ],
   "source": [
    "# reading a csv file as an RDD and then building the RDD as a dataframe\n",
    "\n",
    "# # read test.csv as RDD and convert it to dataframe\n",
    "testRDD=sc.textFile('./test.csv')\n",
    "testRDD.count()"
   ]
  },
  {
   "cell_type": "code",
   "execution_count": 29,
   "id": "b0ebcf5e",
   "metadata": {},
   "outputs": [
    {
     "data": {
      "text/plain": [
       "['User_ID,Product_ID,Gender,Age,Occupation,City_Category,Stay_In_Current_City_Years,Marital_Status,Product_Category_1,Product_Category_2,Product_Category_3',\n",
       " '1000004,P00128942,M,46-50,7,B,2,1,1,11,',\n",
       " '1000009,P00113442,M,26-35,17,C,0,0,3,5,']"
      ]
     },
     "execution_count": 29,
     "metadata": {},
     "output_type": "execute_result"
    }
   ],
   "source": [
    "testRDD.take(3)"
   ]
  },
  {
   "cell_type": "code",
   "execution_count": 30,
   "id": "6cbc0210",
   "metadata": {},
   "outputs": [],
   "source": [
    "header=testRDD.first()"
   ]
  },
  {
   "cell_type": "code",
   "execution_count": 31,
   "id": "97bae5d1",
   "metadata": {},
   "outputs": [],
   "source": [
    "testRDD=testRDD.filter(lambda line: line!=header)"
   ]
  },
  {
   "cell_type": "code",
   "execution_count": 32,
   "id": "9375ebdf",
   "metadata": {},
   "outputs": [
    {
     "name": "stdout",
     "output_type": "stream",
     "text": [
      "After the header record is removed \n"
     ]
    },
    {
     "data": {
      "text/plain": [
       "'1000004,P00128942,M,46-50,7,B,2,1,1,11,'"
      ]
     },
     "execution_count": 32,
     "metadata": {},
     "output_type": "execute_result"
    }
   ],
   "source": [
    "print('After the header record is removed ')\n",
    "testRDD.first()"
   ]
  },
  {
   "cell_type": "code",
   "execution_count": 33,
   "id": "cd33277a",
   "metadata": {},
   "outputs": [
    {
     "name": "stdout",
     "output_type": "stream",
     "text": [
      "After splitting the records are : \n",
      "\n"
     ]
    },
    {
     "data": {
      "text/plain": [
       "[['1000004', 'P00128942', 'M', '46-50', '7', 'B', '2', '1', '1', '11', ''],\n",
       " ['1000009', 'P00113442', 'M', '26-35', '17', 'C', '0', '0', '3', '5', '']]"
      ]
     },
     "execution_count": 33,
     "metadata": {},
     "output_type": "execute_result"
    }
   ],
   "source": [
    "# split data based on the separator\n",
    "splitRDD=testRDD.map(lambda line: line.split(','))\n",
    "print('After splitting the records are : \\n')\n",
    "splitRDD.take(2)"
   ]
  },
  {
   "cell_type": "code",
   "execution_count": 34,
   "id": "a416f18e",
   "metadata": {},
   "outputs": [],
   "source": [
    "from pyspark.sql.types import *\n",
    "testRDDSchema=StructType([\n",
    "    StructField('User_Id', StringType(),True),\n",
    "    StructField('ProductId', StringType(),True),\n",
    "    StructField('Gender', StringType(),True),\n",
    "    StructField('Age', StringType(),True),\n",
    "    StructField('Occupation', StringType(),True),\n",
    "    StructField('City_Category', StringType(),True),\n",
    "    StructField('Stay_In_Current_City_Years', StringType(),True),\n",
    "    StructField('Marital_Status', StringType(),True),\n",
    "    StructField('Product_Category_1', StringType(),True),\n",
    "    StructField('Product_Category_2', StringType(),True),\n",
    "    StructField('Product_Category_3', StringType(),True),\n",
    "])"
   ]
  },
  {
   "cell_type": "code",
   "execution_count": 35,
   "id": "98a19143",
   "metadata": {},
   "outputs": [],
   "source": [
    "testDF=spark.createDataFrame(data=splitRDD,schema=testRDDSchema)"
   ]
  },
  {
   "cell_type": "code",
   "execution_count": 36,
   "id": "0cb0fcf8",
   "metadata": {},
   "outputs": [
    {
     "name": "stdout",
     "output_type": "stream",
     "text": [
      "+-------+---------+------+-----+----------+-------------+--------------------------+--------------+------------------+------------------+------------------+\n",
      "|User_Id|ProductId|Gender|  Age|Occupation|City_Category|Stay_In_Current_City_Years|Marital_Status|Product_Category_1|Product_Category_2|Product_Category_3|\n",
      "+-------+---------+------+-----+----------+-------------+--------------------------+--------------+------------------+------------------+------------------+\n",
      "|1000004|P00128942|     M|46-50|         7|            B|                         2|             1|                 1|                11|                  |\n",
      "|1000009|P00113442|     M|26-35|        17|            C|                         0|             0|                 3|                 5|                  |\n",
      "+-------+---------+------+-----+----------+-------------+--------------------------+--------------+------------------+------------------+------------------+\n",
      "only showing top 2 rows\n",
      "\n"
     ]
    }
   ],
   "source": [
    "testDF.show(2)"
   ]
  },
  {
   "cell_type": "code",
   "execution_count": 37,
   "id": "23dd5e02",
   "metadata": {},
   "outputs": [
    {
     "data": {
      "text/plain": [
       "233599"
      ]
     },
     "execution_count": 37,
     "metadata": {},
     "output_type": "execute_result"
    }
   ],
   "source": [
    "testDF.count()"
   ]
  },
  {
   "cell_type": "code",
   "execution_count": 38,
   "id": "13dbda25",
   "metadata": {},
   "outputs": [],
   "source": [
    "testSample=testDF.sample(False,0.1,98) # <without_duplication, sample_percentage, seed_value>"
   ]
  },
  {
   "cell_type": "code",
   "execution_count": 39,
   "id": "815903e6",
   "metadata": {},
   "outputs": [
    {
     "data": {
      "text/plain": [
       "23403"
      ]
     },
     "execution_count": 39,
     "metadata": {},
     "output_type": "execute_result"
    }
   ],
   "source": [
    "testSample.count()"
   ]
  },
  {
   "cell_type": "code",
   "execution_count": 40,
   "id": "ebdb31d4",
   "metadata": {},
   "outputs": [],
   "source": [
    "trainDF=spark.read.format('csv').option('header','true').option('inferSchema','true').load('./train.csv')"
   ]
  },
  {
   "cell_type": "code",
   "execution_count": 41,
   "id": "e9388300",
   "metadata": {},
   "outputs": [
    {
     "data": {
      "text/plain": [
       "DataFrame[User_ID: int, Product_ID: string, Gender: string, Age: string, Occupation: int, City_Category: string, Stay_In_Current_City_Years: string, Marital_Status: int, Product_Category_1: int, Product_Category_2: int, Product_Category_3: int, Purchase: int]"
      ]
     },
     "execution_count": 41,
     "metadata": {},
     "output_type": "execute_result"
    }
   ],
   "source": [
    "trainDF"
   ]
  },
  {
   "cell_type": "code",
   "execution_count": 42,
   "id": "97c7f592",
   "metadata": {},
   "outputs": [
    {
     "name": "stdout",
     "output_type": "stream",
     "text": [
      "+-------+----------+------+-----+----------+-------------+--------------------------+--------------+------------------+------------------+------------------+--------+\n",
      "|User_ID|Product_ID|Gender|  Age|Occupation|City_Category|Stay_In_Current_City_Years|Marital_Status|Product_Category_1|Product_Category_2|Product_Category_3|Purchase|\n",
      "+-------+----------+------+-----+----------+-------------+--------------------------+--------------+------------------+------------------+------------------+--------+\n",
      "|1000001| P00069042|     F| 0-17|        10|            A|                         2|             0|                 3|              null|              null|    8370|\n",
      "|1000001| P00248942|     F| 0-17|        10|            A|                         2|             0|                 1|                 6|                14|   15200|\n",
      "|1000001| P00087842|     F| 0-17|        10|            A|                         2|             0|                12|              null|              null|    1422|\n",
      "|1000001| P00085442|     F| 0-17|        10|            A|                         2|             0|                12|                14|              null|    1057|\n",
      "|1000002| P00285442|     M|  55+|        16|            C|                        4+|             0|                 8|              null|              null|    7969|\n",
      "|1000003| P00193542|     M|26-35|        15|            A|                         3|             0|                 1|                 2|              null|   15227|\n",
      "|1000004| P00184942|     M|46-50|         7|            B|                         2|             1|                 1|                 8|                17|   19215|\n",
      "|1000004| P00346142|     M|46-50|         7|            B|                         2|             1|                 1|                15|              null|   15854|\n",
      "|1000004|  P0097242|     M|46-50|         7|            B|                         2|             1|                 1|                16|              null|   15686|\n",
      "|1000005| P00274942|     M|26-35|        20|            A|                         1|             1|                 8|              null|              null|    7871|\n",
      "|1000005| P00251242|     M|26-35|        20|            A|                         1|             1|                 5|                11|              null|    5254|\n",
      "|1000005| P00014542|     M|26-35|        20|            A|                         1|             1|                 8|              null|              null|    3957|\n",
      "|1000005| P00031342|     M|26-35|        20|            A|                         1|             1|                 8|              null|              null|    6073|\n",
      "|1000005| P00145042|     M|26-35|        20|            A|                         1|             1|                 1|                 2|                 5|   15665|\n",
      "|1000006| P00231342|     F|51-55|         9|            A|                         1|             0|                 5|                 8|                14|    5378|\n",
      "|1000006| P00190242|     F|51-55|         9|            A|                         1|             0|                 4|                 5|              null|    2079|\n",
      "|1000006|  P0096642|     F|51-55|         9|            A|                         1|             0|                 2|                 3|                 4|   13055|\n",
      "|1000006| P00058442|     F|51-55|         9|            A|                         1|             0|                 5|                14|              null|    8851|\n",
      "|1000007| P00036842|     M|36-45|         1|            B|                         1|             1|                 1|                14|                16|   11788|\n",
      "|1000008| P00249542|     M|26-35|        12|            C|                        4+|             1|                 1|                 5|                15|   19614|\n",
      "+-------+----------+------+-----+----------+-------------+--------------------------+--------------+------------------+------------------+------------------+--------+\n",
      "only showing top 20 rows\n",
      "\n"
     ]
    }
   ],
   "source": [
    "trainDF.show()"
   ]
  },
  {
   "cell_type": "code",
   "execution_count": 43,
   "id": "26a0f63a",
   "metadata": {},
   "outputs": [
    {
     "data": {
      "text/plain": [
       "54729"
      ]
     },
     "execution_count": 43,
     "metadata": {},
     "output_type": "execute_result"
    }
   ],
   "source": [
    "trainSample=trainDF.sample(False, 0.1, 192)\n",
    "trainSample.count()"
   ]
  },
  {
   "cell_type": "code",
   "execution_count": 44,
   "id": "77523569",
   "metadata": {},
   "outputs": [
    {
     "name": "stdout",
     "output_type": "stream",
     "text": [
      "<class 'pyspark.sql.dataframe.DataFrame'>\n",
      "<class 'pandas.core.frame.DataFrame'>\n"
     ]
    }
   ],
   "source": [
    "trainSamplePD=trainSample.toPandas()\n",
    "print(type(trainSample))\n",
    "print(type(trainSamplePD))"
   ]
  },
  {
   "cell_type": "code",
   "execution_count": 45,
   "id": "a8a1abbf",
   "metadata": {},
   "outputs": [],
   "source": [
    "# trainSamplePD = trainSamplePD.set_index('User_ID')"
   ]
  },
  {
   "cell_type": "code",
   "execution_count": 46,
   "id": "858df762",
   "metadata": {},
   "outputs": [
    {
     "data": {
      "text/html": [
       "<div>\n",
       "<style scoped>\n",
       "    .dataframe tbody tr th:only-of-type {\n",
       "        vertical-align: middle;\n",
       "    }\n",
       "\n",
       "    .dataframe tbody tr th {\n",
       "        vertical-align: top;\n",
       "    }\n",
       "\n",
       "    .dataframe thead th {\n",
       "        text-align: right;\n",
       "    }\n",
       "</style>\n",
       "<table border=\"1\" class=\"dataframe\">\n",
       "  <thead>\n",
       "    <tr style=\"text-align: right;\">\n",
       "      <th></th>\n",
       "      <th>User_ID</th>\n",
       "      <th>Product_ID</th>\n",
       "      <th>Gender</th>\n",
       "      <th>Age</th>\n",
       "      <th>Occupation</th>\n",
       "      <th>City_Category</th>\n",
       "      <th>Stay_In_Current_City_Years</th>\n",
       "      <th>Marital_Status</th>\n",
       "      <th>Product_Category_1</th>\n",
       "      <th>Product_Category_2</th>\n",
       "      <th>Product_Category_3</th>\n",
       "      <th>Purchase</th>\n",
       "    </tr>\n",
       "  </thead>\n",
       "  <tbody>\n",
       "    <tr>\n",
       "      <th>0</th>\n",
       "      <td>1000005</td>\n",
       "      <td>P00031342</td>\n",
       "      <td>M</td>\n",
       "      <td>26-35</td>\n",
       "      <td>20</td>\n",
       "      <td>A</td>\n",
       "      <td>1</td>\n",
       "      <td>1</td>\n",
       "      <td>8</td>\n",
       "      <td>NaN</td>\n",
       "      <td>NaN</td>\n",
       "      <td>6073</td>\n",
       "    </tr>\n",
       "    <tr>\n",
       "      <th>1</th>\n",
       "      <td>1000006</td>\n",
       "      <td>P00231342</td>\n",
       "      <td>F</td>\n",
       "      <td>51-55</td>\n",
       "      <td>9</td>\n",
       "      <td>A</td>\n",
       "      <td>1</td>\n",
       "      <td>0</td>\n",
       "      <td>5</td>\n",
       "      <td>8.0</td>\n",
       "      <td>14.0</td>\n",
       "      <td>5378</td>\n",
       "    </tr>\n",
       "    <tr>\n",
       "      <th>2</th>\n",
       "      <td>1000006</td>\n",
       "      <td>P00190242</td>\n",
       "      <td>F</td>\n",
       "      <td>51-55</td>\n",
       "      <td>9</td>\n",
       "      <td>A</td>\n",
       "      <td>1</td>\n",
       "      <td>0</td>\n",
       "      <td>4</td>\n",
       "      <td>5.0</td>\n",
       "      <td>NaN</td>\n",
       "      <td>2079</td>\n",
       "    </tr>\n",
       "    <tr>\n",
       "      <th>3</th>\n",
       "      <td>1000008</td>\n",
       "      <td>P00220442</td>\n",
       "      <td>M</td>\n",
       "      <td>26-35</td>\n",
       "      <td>12</td>\n",
       "      <td>C</td>\n",
       "      <td>4+</td>\n",
       "      <td>1</td>\n",
       "      <td>5</td>\n",
       "      <td>14.0</td>\n",
       "      <td>NaN</td>\n",
       "      <td>8584</td>\n",
       "    </tr>\n",
       "    <tr>\n",
       "      <th>4</th>\n",
       "      <td>1000010</td>\n",
       "      <td>P00297942</td>\n",
       "      <td>F</td>\n",
       "      <td>36-45</td>\n",
       "      <td>1</td>\n",
       "      <td>B</td>\n",
       "      <td>4+</td>\n",
       "      <td>1</td>\n",
       "      <td>8</td>\n",
       "      <td>NaN</td>\n",
       "      <td>NaN</td>\n",
       "      <td>5875</td>\n",
       "    </tr>\n",
       "  </tbody>\n",
       "</table>\n",
       "</div>"
      ],
      "text/plain": [
       "   User_ID Product_ID Gender    Age  Occupation City_Category  \\\n",
       "0  1000005  P00031342      M  26-35          20             A   \n",
       "1  1000006  P00231342      F  51-55           9             A   \n",
       "2  1000006  P00190242      F  51-55           9             A   \n",
       "3  1000008  P00220442      M  26-35          12             C   \n",
       "4  1000010  P00297942      F  36-45           1             B   \n",
       "\n",
       "  Stay_In_Current_City_Years  Marital_Status  Product_Category_1  \\\n",
       "0                          1               1                   8   \n",
       "1                          1               0                   5   \n",
       "2                          1               0                   4   \n",
       "3                         4+               1                   5   \n",
       "4                         4+               1                   8   \n",
       "\n",
       "   Product_Category_2  Product_Category_3  Purchase  \n",
       "0                 NaN                 NaN      6073  \n",
       "1                 8.0                14.0      5378  \n",
       "2                 5.0                 NaN      2079  \n",
       "3                14.0                 NaN      8584  \n",
       "4                 NaN                 NaN      5875  "
      ]
     },
     "execution_count": 46,
     "metadata": {},
     "output_type": "execute_result"
    }
   ],
   "source": [
    "trainSamplePD.head()"
   ]
  },
  {
   "cell_type": "code",
   "execution_count": 47,
   "id": "7956d7eb",
   "metadata": {},
   "outputs": [],
   "source": [
    "trainSamplePD.to_csv('./2023_train_sample.csv')"
   ]
  },
  {
   "cell_type": "code",
   "execution_count": 48,
   "id": "01234b6a",
   "metadata": {},
   "outputs": [
    {
     "name": "stdout",
     "output_type": "stream",
     "text": [
      "root\n",
      " |-- User_ID: integer (nullable = true)\n",
      " |-- Product_ID: string (nullable = true)\n",
      " |-- Gender: string (nullable = true)\n",
      " |-- Age: string (nullable = true)\n",
      " |-- Occupation: integer (nullable = true)\n",
      " |-- City_Category: string (nullable = true)\n",
      " |-- Stay_In_Current_City_Years: string (nullable = true)\n",
      " |-- Marital_Status: integer (nullable = true)\n",
      " |-- Product_Category_1: integer (nullable = true)\n",
      " |-- Product_Category_2: integer (nullable = true)\n",
      " |-- Product_Category_3: integer (nullable = true)\n",
      " |-- Purchase: integer (nullable = true)\n",
      "\n"
     ]
    }
   ],
   "source": [
    "trainDF.printSchema()"
   ]
  },
  {
   "cell_type": "code",
   "execution_count": 49,
   "id": "1c66bbae",
   "metadata": {},
   "outputs": [
    {
     "data": {
      "text/plain": [
       "[Row(User_ID=1000001, Product_ID='P00069042', Gender='F', Age='0-17', Occupation=10, City_Category='A', Stay_In_Current_City_Years='2', Marital_Status=0, Product_Category_1=3, Product_Category_2=None, Product_Category_3=None, Purchase=8370),\n",
       " Row(User_ID=1000001, Product_ID='P00248942', Gender='F', Age='0-17', Occupation=10, City_Category='A', Stay_In_Current_City_Years='2', Marital_Status=0, Product_Category_1=1, Product_Category_2=6, Product_Category_3=14, Purchase=15200)]"
      ]
     },
     "execution_count": 49,
     "metadata": {},
     "output_type": "execute_result"
    }
   ],
   "source": [
    "trainDF.head(2)"
   ]
  },
  {
   "cell_type": "code",
   "execution_count": 50,
   "id": "43b5fc44",
   "metadata": {},
   "outputs": [
    {
     "name": "stdout",
     "output_type": "stream",
     "text": [
      "+-------+----------+------+----+----------+-------------+--------------------------+--------------+------------------+------------------+------------------+--------+\n",
      "|User_ID|Product_ID|Gender| Age|Occupation|City_Category|Stay_In_Current_City_Years|Marital_Status|Product_Category_1|Product_Category_2|Product_Category_3|Purchase|\n",
      "+-------+----------+------+----+----------+-------------+--------------------------+--------------+------------------+------------------+------------------+--------+\n",
      "|1000001| P00069042|     F|0-17|        10|            A|                         2|             0|                 3|              null|              null|    8370|\n",
      "|1000001| P00248942|     F|0-17|        10|            A|                         2|             0|                 1|                 6|                14|   15200|\n",
      "+-------+----------+------+----+----------+-------------+--------------------------+--------------+------------------+------------------+------------------+--------+\n",
      "only showing top 2 rows\n",
      "\n"
     ]
    }
   ],
   "source": [
    "trainDF.show(2)"
   ]
  },
  {
   "cell_type": "code",
   "execution_count": 51,
   "id": "0690f8bb",
   "metadata": {},
   "outputs": [
    {
     "name": "stdout",
     "output_type": "stream",
     "text": [
      "Number of records in Training Dataset 550068\n",
      "Number of records in Testing Dataset 233599\n"
     ]
    }
   ],
   "source": [
    "print('Number of records in Training Dataset {}'.format(trainDF.count()))\n",
    "print('Number of records in Testing Dataset {}'.format(testDF.count()))"
   ]
  },
  {
   "cell_type": "code",
   "execution_count": 52,
   "id": "e00f152f",
   "metadata": {},
   "outputs": [
    {
     "name": "stdout",
     "output_type": "stream",
     "text": [
      "+-------+------------------+----------+------+------+-----------------+-------------+--------------------------+-------------------+------------------+------------------+------------------+-----------------+\n",
      "|summary|           User_ID|Product_ID|Gender|   Age|       Occupation|City_Category|Stay_In_Current_City_Years|     Marital_Status|Product_Category_1|Product_Category_2|Product_Category_3|         Purchase|\n",
      "+-------+------------------+----------+------+------+-----------------+-------------+--------------------------+-------------------+------------------+------------------+------------------+-----------------+\n",
      "|  count|            550068|    550068|550068|550068|           550068|       550068|                    550068|             550068|            550068|            376430|            166821|           550068|\n",
      "|   mean|1003028.8424013031|      null|  null|  null|8.076706879876669|         null|         1.468494139793958|0.40965298835780306| 5.404270017525106| 9.842329251122386|12.668243206790512|9263.968712959126|\n",
      "| stddev|1727.5915855313747|      null|  null|  null|6.522660487341741|         null|        0.9890866807573103| 0.4917701263173315| 3.936211369201365| 5.086589648693497| 4.125337631575274|5023.065393820575|\n",
      "|    min|           1000001| P00000142|     F|  0-17|                0|            A|                         0|                  0|                 1|                 2|                 3|               12|\n",
      "|    max|           1006040|  P0099942|     M|   55+|               20|            C|                        4+|                  1|                20|                18|                18|            23961|\n",
      "+-------+------------------+----------+------+------+-----------------+-------------+--------------------------+-------------------+------------------+------------------+------------------+-----------------+\n",
      "\n"
     ]
    }
   ],
   "source": [
    "trainDF.describe().show()"
   ]
  },
  {
   "cell_type": "code",
   "execution_count": 53,
   "id": "ede809fd",
   "metadata": {},
   "outputs": [
    {
     "name": "stdout",
     "output_type": "stream",
     "text": [
      "+-------+------------------+---------+------+------+-----------------+-------------+--------------------------+------------------+------------------+------------------+------------------+\n",
      "|summary|           User_Id|ProductId|Gender|   Age|       Occupation|City_Category|Stay_In_Current_City_Years|    Marital_Status|Product_Category_1|Product_Category_2|Product_Category_3|\n",
      "+-------+------------------+---------+------+------+-----------------+-------------+--------------------------+------------------+------------------+------------------+------------------+\n",
      "|  count|            233599|   233599|233599|233599|           233599|       233599|                    233599|            233599|            233599|            233599|            233599|\n",
      "|   mean|1003029.3568594044|     null|  null|  null|8.085407043694536|         null|        1.4682778997642345|0.4100702485883929| 5.276542279718663| 9.849586059346997|12.669453946534905|\n",
      "| stddev|  1726.50496799554|     null|  null|  null|6.521146481494506|         null|        0.9859464965736936|0.4918472073772924|  3.73638011226564| 5.094942849775061| 4.125944373515665|\n",
      "|    min|           1000001|P00000142|     F|  0-17|                0|            A|                         0|                 0|                 1|                  |                  |\n",
      "|    max|           1006040| P0099942|     M|   55+|                9|            C|                        4+|                 1|                 9|                 9|                 9|\n",
      "+-------+------------------+---------+------+------+-----------------+-------------+--------------------------+------------------+------------------+------------------+------------------+\n",
      "\n"
     ]
    }
   ],
   "source": [
    "testDF.describe().show()"
   ]
  },
  {
   "cell_type": "code",
   "execution_count": 54,
   "id": "4791d7b9",
   "metadata": {},
   "outputs": [
    {
     "name": "stdout",
     "output_type": "stream",
     "text": [
      "+-------+-----------------+\n",
      "|summary|         Purchase|\n",
      "+-------+-----------------+\n",
      "|  count|           550068|\n",
      "|   mean|9263.968712959126|\n",
      "| stddev|5023.065393820575|\n",
      "|    min|               12|\n",
      "|    max|            23961|\n",
      "+-------+-----------------+\n",
      "\n"
     ]
    }
   ],
   "source": [
    "trainDF.describe('Purchase').show()"
   ]
  },
  {
   "cell_type": "code",
   "execution_count": 55,
   "id": "62610de9",
   "metadata": {},
   "outputs": [],
   "source": [
    "trainDF.createOrReplaceTempView('trainDFTable')"
   ]
  },
  {
   "cell_type": "code",
   "execution_count": 56,
   "id": "9baf63cd",
   "metadata": {},
   "outputs": [
    {
     "name": "stdout",
     "output_type": "stream",
     "text": [
      "+-------+----------+------+----+----------+-------------+--------------------------+--------------+------------------+------------------+------------------+--------+\n",
      "|User_ID|Product_ID|Gender| Age|Occupation|City_Category|Stay_In_Current_City_Years|Marital_Status|Product_Category_1|Product_Category_2|Product_Category_3|Purchase|\n",
      "+-------+----------+------+----+----------+-------------+--------------------------+--------------+------------------+------------------+------------------+--------+\n",
      "|1000001| P00069042|     F|0-17|        10|            A|                         2|             0|                 3|              null|              null|    8370|\n",
      "|1000001| P00248942|     F|0-17|        10|            A|                         2|             0|                 1|                 6|                14|   15200|\n",
      "+-------+----------+------+----+----------+-------------+--------------------------+--------------+------------------+------------------+------------------+--------+\n",
      "only showing top 2 rows\n",
      "\n"
     ]
    }
   ],
   "source": [
    "trainDF.show(2)"
   ]
  },
  {
   "cell_type": "code",
   "execution_count": 57,
   "id": "dff5ea90",
   "metadata": {},
   "outputs": [
    {
     "data": {
      "text/plain": [
       "DataFrame[User_ID: int, Product_ID: string, Gender: string, Age: string, Occupation: int, City_Category: string, Stay_In_Current_City_Years: string, Marital_Status: int, Product_Category_1: int, Product_Category_2: int, Product_Category_3: int, Purchase: int]"
      ]
     },
     "execution_count": 57,
     "metadata": {},
     "output_type": "execute_result"
    }
   ],
   "source": [
    "spark.sql(\"select * from trainDFTable limit 2\")"
   ]
  },
  {
   "cell_type": "code",
   "execution_count": 58,
   "id": "b9c74f45",
   "metadata": {},
   "outputs": [
    {
     "name": "stdout",
     "output_type": "stream",
     "text": [
      "+-------+----------+------+----+----------+-------------+--------------------------+--------------+------------------+------------------+------------------+--------+\n",
      "|User_ID|Product_ID|Gender| Age|Occupation|City_Category|Stay_In_Current_City_Years|Marital_Status|Product_Category_1|Product_Category_2|Product_Category_3|Purchase|\n",
      "+-------+----------+------+----+----------+-------------+--------------------------+--------------+------------------+------------------+------------------+--------+\n",
      "|1000001| P00069042|     F|0-17|        10|            A|                         2|             0|                 3|              null|              null|    8370|\n",
      "|1000001| P00248942|     F|0-17|        10|            A|                         2|             0|                 1|                 6|                14|   15200|\n",
      "+-------+----------+------+----+----------+-------------+--------------------------+--------------+------------------+------------------+------------------+--------+\n",
      "\n"
     ]
    }
   ],
   "source": [
    "spark.sql(\"select * from trainDFTable limit 2\").show()"
   ]
  },
  {
   "cell_type": "code",
   "execution_count": 59,
   "id": "e38b1d1b",
   "metadata": {},
   "outputs": [
    {
     "data": {
      "text/plain": [
       "DataFrame[Age: string, count: bigint]"
      ]
     },
     "execution_count": 59,
     "metadata": {},
     "output_type": "execute_result"
    }
   ],
   "source": [
    "dataFrameWay=trainDF.groupBy('Age').count()\n",
    "dataFrameWay"
   ]
  },
  {
   "cell_type": "code",
   "execution_count": 60,
   "id": "435edcc2",
   "metadata": {},
   "outputs": [
    {
     "name": "stdout",
     "output_type": "stream",
     "text": [
      "== Physical Plan ==\n",
      "AdaptiveSparkPlan isFinalPlan=false\n",
      "+- HashAggregate(keys=[Age#183], functions=[count(1)])\n",
      "   +- Exchange hashpartitioning(Age#183, 200), ENSURE_REQUIREMENTS, [plan_id=485]\n",
      "      +- HashAggregate(keys=[Age#183], functions=[partial_count(1)])\n",
      "         +- FileScan csv [Age#183] Batched: false, DataFilters: [], Format: CSV, Location: InMemoryFileIndex(1 paths)[file:/C:/Users/pdharantej/OneDrive - ALLEGIS GROUP/Desktop/TEK_Trainin..., PartitionFilters: [], PushedFilters: [], ReadSchema: struct<Age:string>\n",
      "\n",
      "\n"
     ]
    }
   ],
   "source": [
    "dataFrameWay.explain()"
   ]
  },
  {
   "cell_type": "code",
   "execution_count": 61,
   "id": "7e912715",
   "metadata": {},
   "outputs": [],
   "source": [
    "sqlWay=spark.sql('select Age, count(1) from trainDFTable group by Age')"
   ]
  },
  {
   "cell_type": "code",
   "execution_count": 62,
   "id": "5e8ed72c",
   "metadata": {},
   "outputs": [
    {
     "name": "stdout",
     "output_type": "stream",
     "text": [
      "== Physical Plan ==\n",
      "AdaptiveSparkPlan isFinalPlan=false\n",
      "+- HashAggregate(keys=[Age#183], functions=[count(1)])\n",
      "   +- Exchange hashpartitioning(Age#183, 200), ENSURE_REQUIREMENTS, [plan_id=498]\n",
      "      +- HashAggregate(keys=[Age#183], functions=[partial_count(1)])\n",
      "         +- FileScan csv [Age#183] Batched: false, DataFilters: [], Format: CSV, Location: InMemoryFileIndex(1 paths)[file:/C:/Users/pdharantej/OneDrive - ALLEGIS GROUP/Desktop/TEK_Trainin..., PartitionFilters: [], PushedFilters: [], ReadSchema: struct<Age:string>\n",
      "\n",
      "\n"
     ]
    }
   ],
   "source": [
    "sqlWay.explain()"
   ]
  },
  {
   "cell_type": "code",
   "execution_count": 63,
   "id": "c11c4126",
   "metadata": {},
   "outputs": [],
   "source": [
    "# The above two statements give the same output "
   ]
  },
  {
   "cell_type": "code",
   "execution_count": 64,
   "id": "a450410e",
   "metadata": {},
   "outputs": [],
   "source": [
    "from pyspark.sql.functions import expr, col, column\n",
    "dfWay=trainDF.filter(col('Age')!='0-17').groupBy('Age').count()"
   ]
  },
  {
   "cell_type": "code",
   "execution_count": 65,
   "id": "05fef3b4",
   "metadata": {},
   "outputs": [
    {
     "name": "stdout",
     "output_type": "stream",
     "text": [
      "+-----+------+\n",
      "|  Age| count|\n",
      "+-----+------+\n",
      "|18-25| 99660|\n",
      "|26-35|219587|\n",
      "|46-50| 45701|\n",
      "|51-55| 38501|\n",
      "|36-45|110013|\n",
      "|  55+| 21504|\n",
      "+-----+------+\n",
      "\n"
     ]
    }
   ],
   "source": [
    "dfWay.show()"
   ]
  },
  {
   "cell_type": "code",
   "execution_count": 66,
   "id": "4f4e6c90",
   "metadata": {},
   "outputs": [],
   "source": [
    "sqlWay=spark.sql('select Age from trainDFTable')"
   ]
  },
  {
   "cell_type": "code",
   "execution_count": 67,
   "id": "77b2c6ee",
   "metadata": {},
   "outputs": [
    {
     "name": "stdout",
     "output_type": "stream",
     "text": [
      "+-------+-------+-------+\n",
      "| userID|User_ID|User_ID|\n",
      "+-------+-------+-------+\n",
      "|1000001|1000001|1000001|\n",
      "|1000001|1000001|1000001|\n",
      "|1000001|1000001|1000001|\n",
      "+-------+-------+-------+\n",
      "only showing top 3 rows\n",
      "\n"
     ]
    }
   ],
   "source": [
    "trainDF.select(expr('User_Id as userID'),col('User_ID'),'User_ID').show(3)"
   ]
  },
  {
   "cell_type": "code",
   "execution_count": 68,
   "id": "4acf11e9",
   "metadata": {},
   "outputs": [
    {
     "name": "stdout",
     "output_type": "stream",
     "text": [
      "+-------+\n",
      "|   user|\n",
      "+-------+\n",
      "|1000001|\n",
      "|1000001|\n",
      "+-------+\n",
      "only showing top 2 rows\n",
      "\n"
     ]
    }
   ],
   "source": [
    "trainDF.select(expr('User_ID as user')).show(2)"
   ]
  },
  {
   "cell_type": "code",
   "execution_count": 69,
   "id": "faafd187",
   "metadata": {},
   "outputs": [
    {
     "name": "stdout",
     "output_type": "stream",
     "text": [
      "+-------+\n",
      "| userID|\n",
      "+-------+\n",
      "|1000001|\n",
      "|1000001|\n",
      "+-------+\n",
      "only showing top 2 rows\n",
      "\n"
     ]
    }
   ],
   "source": [
    "spark.sql('select User_ID as userID from trainDFTable').show(2)"
   ]
  },
  {
   "cell_type": "code",
   "execution_count": 70,
   "id": "1016040c",
   "metadata": {},
   "outputs": [
    {
     "name": "stdout",
     "output_type": "stream",
     "text": [
      "+-------+---------+\n",
      "| userId|productID|\n",
      "+-------+---------+\n",
      "|1000001|P00069042|\n",
      "|1000001|P00248942|\n",
      "+-------+---------+\n",
      "only showing top 2 rows\n",
      "\n"
     ]
    }
   ],
   "source": [
    "trainDF.selectExpr('User_ID as userId', 'product_ID as productID').show(2)"
   ]
  },
  {
   "cell_type": "code",
   "execution_count": 71,
   "id": "68b65423",
   "metadata": {},
   "outputs": [
    {
     "name": "stdout",
     "output_type": "stream",
     "text": [
      "+-------+----------+-----+\n",
      "|User_ID|product_ID|  Age|\n",
      "+-------+----------+-----+\n",
      "|1000001| P00069042| 0-17|\n",
      "|1000001| P00248942| 0-17|\n",
      "|1000001| P00087842| 0-17|\n",
      "|1000001| P00085442| 0-17|\n",
      "|1000002| P00285442|  55+|\n",
      "|1000003| P00193542|26-35|\n",
      "|1000004| P00184942|46-50|\n",
      "|1000004| P00346142|46-50|\n",
      "|1000004|  P0097242|46-50|\n",
      "|1000005| P00274942|26-35|\n",
      "|1000005| P00251242|26-35|\n",
      "|1000005| P00014542|26-35|\n",
      "|1000005| P00031342|26-35|\n",
      "|1000005| P00145042|26-35|\n",
      "|1000006| P00231342|51-55|\n",
      "|1000006| P00190242|51-55|\n",
      "|1000006|  P0096642|51-55|\n",
      "|1000006| P00058442|51-55|\n",
      "|1000007| P00036842|36-45|\n",
      "|1000008| P00249542|26-35|\n",
      "+-------+----------+-----+\n",
      "only showing top 20 rows\n",
      "\n"
     ]
    }
   ],
   "source": [
    "trainDF.select('User_ID', 'product_ID', 'Age').show()"
   ]
  },
  {
   "cell_type": "code",
   "execution_count": 72,
   "id": "86bbd07e",
   "metadata": {},
   "outputs": [
    {
     "name": "stdout",
     "output_type": "stream",
     "text": [
      "+-------+----------+------+----+----------+-------------+--------------------------+--------------+------------------+------------------+------------------+--------+-----------+\n",
      "|User_ID|Product_ID|Gender| Age|Occupation|City_Category|Stay_In_Current_City_Years|Marital_Status|Product_Category_1|Product_Category_2|Product_Category_3|Purchase|ConstantOne|\n",
      "+-------+----------+------+----+----------+-------------+--------------------------+--------------+------------------+------------------+------------------+--------+-----------+\n",
      "|1000001| P00069042|     F|0-17|        10|            A|                         2|             0|                 3|              null|              null|    8370|          1|\n",
      "|1000001| P00248942|     F|0-17|        10|            A|                         2|             0|                 1|                 6|                14|   15200|          1|\n",
      "|1000001| P00087842|     F|0-17|        10|            A|                         2|             0|                12|              null|              null|    1422|          1|\n",
      "+-------+----------+------+----+----------+-------------+--------------------------+--------------+------------------+------------------+------------------+--------+-----------+\n",
      "only showing top 3 rows\n",
      "\n"
     ]
    }
   ],
   "source": [
    "from pyspark.sql.functions import lit\n",
    "trainDF.select('*', lit(1).alias('ConstantOne')).show(3)"
   ]
  },
  {
   "cell_type": "code",
   "execution_count": 73,
   "id": "e6c46fb2",
   "metadata": {},
   "outputs": [],
   "source": [
    "# pyspark datastructures are immutable "
   ]
  },
  {
   "cell_type": "code",
   "execution_count": 74,
   "id": "d9246834",
   "metadata": {},
   "outputs": [
    {
     "name": "stdout",
     "output_type": "stream",
     "text": [
      "+-------+----------+------+----+----------+-------------+--------------------------+--------------+------------------+------------------+------------------+--------+-----------+\n",
      "|User_ID|Product_ID|Gender| Age|Occupation|City_Category|Stay_In_Current_City_Years|Marital_Status|Product_Category_1|Product_Category_2|Product_Category_3|Purchase|ConstantOne|\n",
      "+-------+----------+------+----+----------+-------------+--------------------------+--------------+------------------+------------------+------------------+--------+-----------+\n",
      "|1000001| P00069042|     F|0-17|        10|            A|                         2|             0|                 3|              null|              null|    8370|          1|\n",
      "|1000001| P00248942|     F|0-17|        10|            A|                         2|             0|                 1|                 6|                14|   15200|          1|\n",
      "|1000001| P00087842|     F|0-17|        10|            A|                         2|             0|                12|              null|              null|    1422|          1|\n",
      "+-------+----------+------+----+----------+-------------+--------------------------+--------------+------------------+------------------+------------------+--------+-----------+\n",
      "\n"
     ]
    }
   ],
   "source": [
    "spark.sql('select *, 1 as ConstantOne from trainDFTable limit 3').show()"
   ]
  },
  {
   "cell_type": "code",
   "execution_count": 75,
   "id": "9f7a215b",
   "metadata": {},
   "outputs": [],
   "source": [
    "trainDF=trainDF.withColumn('ConstantOne', lit(1))"
   ]
  },
  {
   "cell_type": "code",
   "execution_count": 76,
   "id": "fb693fdd",
   "metadata": {},
   "outputs": [
    {
     "name": "stdout",
     "output_type": "stream",
     "text": [
      "+-------+----------+------+----+----------+-------------+--------------------------+--------------+------------------+------------------+------------------+--------+-----------+\n",
      "|User_ID|Product_ID|Gender| Age|Occupation|City_Category|Stay_In_Current_City_Years|Marital_Status|Product_Category_1|Product_Category_2|Product_Category_3|Purchase|ConstantOne|\n",
      "+-------+----------+------+----+----------+-------------+--------------------------+--------------+------------------+------------------+------------------+--------+-----------+\n",
      "|1000001| P00069042|     F|0-17|        10|            A|                         2|             0|                 3|              null|              null|    8370|          1|\n",
      "|1000001| P00248942|     F|0-17|        10|            A|                         2|             0|                 1|                 6|                14|   15200|          1|\n",
      "|1000001| P00087842|     F|0-17|        10|            A|                         2|             0|                12|              null|              null|    1422|          1|\n",
      "+-------+----------+------+----+----------+-------------+--------------------------+--------------+------------------+------------------+------------------+--------+-----------+\n",
      "only showing top 3 rows\n",
      "\n"
     ]
    }
   ],
   "source": [
    "trainDF.show(3)"
   ]
  },
  {
   "cell_type": "code",
   "execution_count": 77,
   "id": "c486a4f9",
   "metadata": {},
   "outputs": [
    {
     "name": "stdout",
     "output_type": "stream",
     "text": [
      "+-------+----------+------+-----+----------+-------------+--------------------------+--------------+------------------+------------------+------------------+--------+-----------+--------------+\n",
      "|User_ID|Product_ID|Gender|  Age|Occupation|City_Category|Stay_In_Current_City_Years|Marital_Status|Product_Category_1|Product_Category_2|Product_Category_3|Purchase|ConstantOne|OccuopationOne|\n",
      "+-------+----------+------+-----+----------+-------------+--------------------------+--------------+------------------+------------------+------------------+--------+-----------+--------------+\n",
      "|1000001| P00069042|     F| 0-17|        10|            A|                         2|             0|                 3|              null|              null|    8370|          1|            11|\n",
      "|1000001| P00248942|     F| 0-17|        10|            A|                         2|             0|                 1|                 6|                14|   15200|          1|            11|\n",
      "|1000001| P00087842|     F| 0-17|        10|            A|                         2|             0|                12|              null|              null|    1422|          1|            11|\n",
      "|1000001| P00085442|     F| 0-17|        10|            A|                         2|             0|                12|                14|              null|    1057|          1|            11|\n",
      "|1000002| P00285442|     M|  55+|        16|            C|                        4+|             0|                 8|              null|              null|    7969|          1|            17|\n",
      "|1000003| P00193542|     M|26-35|        15|            A|                         3|             0|                 1|                 2|              null|   15227|          1|            16|\n",
      "|1000004| P00184942|     M|46-50|         7|            B|                         2|             1|                 1|                 8|                17|   19215|          1|             8|\n",
      "|1000004| P00346142|     M|46-50|         7|            B|                         2|             1|                 1|                15|              null|   15854|          1|             8|\n",
      "|1000004|  P0097242|     M|46-50|         7|            B|                         2|             1|                 1|                16|              null|   15686|          1|             8|\n",
      "|1000005| P00274942|     M|26-35|        20|            A|                         1|             1|                 8|              null|              null|    7871|          1|            21|\n",
      "|1000005| P00251242|     M|26-35|        20|            A|                         1|             1|                 5|                11|              null|    5254|          1|            21|\n",
      "|1000005| P00014542|     M|26-35|        20|            A|                         1|             1|                 8|              null|              null|    3957|          1|            21|\n",
      "|1000005| P00031342|     M|26-35|        20|            A|                         1|             1|                 8|              null|              null|    6073|          1|            21|\n",
      "|1000005| P00145042|     M|26-35|        20|            A|                         1|             1|                 1|                 2|                 5|   15665|          1|            21|\n",
      "|1000006| P00231342|     F|51-55|         9|            A|                         1|             0|                 5|                 8|                14|    5378|          1|            10|\n",
      "|1000006| P00190242|     F|51-55|         9|            A|                         1|             0|                 4|                 5|              null|    2079|          1|            10|\n",
      "|1000006|  P0096642|     F|51-55|         9|            A|                         1|             0|                 2|                 3|                 4|   13055|          1|            10|\n",
      "|1000006| P00058442|     F|51-55|         9|            A|                         1|             0|                 5|                14|              null|    8851|          1|            10|\n",
      "|1000007| P00036842|     M|36-45|         1|            B|                         1|             1|                 1|                14|                16|   11788|          1|             2|\n",
      "|1000008| P00249542|     M|26-35|        12|            C|                        4+|             1|                 1|                 5|                15|   19614|          1|            13|\n",
      "+-------+----------+------+-----+----------+-------------+--------------------------+--------------+------------------+------------------+------------------+--------+-----------+--------------+\n",
      "only showing top 20 rows\n",
      "\n"
     ]
    }
   ],
   "source": [
    "trainDF.withColumn('OccuopationOne', trainDF.Occupation+1).show()"
   ]
  },
  {
   "cell_type": "code",
   "execution_count": 78,
   "id": "dfbc8612",
   "metadata": {},
   "outputs": [
    {
     "name": "stdout",
     "output_type": "stream",
     "text": [
      "+-------+----------+------+----+----------+-------------+--------------------------+--------------+------------------+------------------+------------------+--------+-----------+----------------+\n",
      "|User_ID|Product_ID|Gender| Age|Occupation|City_Category|Stay_In_Current_City_Years|Marital_Status|Product_Category_1|Product_Category_2|Product_Category_3|Purchase|ConstantOne|SameCategoryCode|\n",
      "+-------+----------+------+----+----------+-------------+--------------------------+--------------+------------------+------------------+------------------+--------+-----------+----------------+\n",
      "|1000001| P00069042|     F|0-17|        10|            A|                         2|             0|                 3|              null|              null|    8370|          1|            null|\n",
      "|1000001| P00248942|     F|0-17|        10|            A|                         2|             0|                 1|                 6|                14|   15200|          1|           false|\n",
      "+-------+----------+------+----+----------+-------------+--------------------------+--------------+------------------+------------------+------------------+--------+-----------+----------------+\n",
      "only showing top 2 rows\n",
      "\n"
     ]
    }
   ],
   "source": [
    "tempDF=trainDF.withColumn('SameCategoryCode',\n",
    "                          trainDF['Product_Category_1']==trainDF['Product_Category_2'])\n",
    "tempDF.show(2)"
   ]
  },
  {
   "cell_type": "code",
   "execution_count": 79,
   "id": "a66c44ca",
   "metadata": {},
   "outputs": [
    {
     "name": "stdout",
     "output_type": "stream",
     "text": [
      "+-------+----------+------+-----+----------+-------------+--------------------------+--------------+------------------+------------------+------------------+--------+-----------+----------------+\n",
      "|User_ID|Product_ID|Gender|  Age|Occupation|City_Category|Stay_In_Current_City_Years|Marital_Status|Product_Category_1|Product_Category_2|Product_Category_3|Purchase|ConstantOne|SameCategoryCode|\n",
      "+-------+----------+------+-----+----------+-------------+--------------------------+--------------+------------------+------------------+------------------+--------+-----------+----------------+\n",
      "|1000001| P00248942|     F| 0-17|        10|            A|                         2|             0|                 1|                 6|                14|   15200|          1|           false|\n",
      "|1000001| P00085442|     F| 0-17|        10|            A|                         2|             0|                12|                14|              null|    1057|          1|           false|\n",
      "|1000003| P00193542|     M|26-35|        15|            A|                         3|             0|                 1|                 2|              null|   15227|          1|           false|\n",
      "+-------+----------+------+-----+----------+-------------+--------------------------+--------------+------------------+------------------+------------------+--------+-----------+----------------+\n",
      "only showing top 3 rows\n",
      "\n"
     ]
    }
   ],
   "source": [
    "tempDF.filter(col('SameCategoryCode')==False).show(3)"
   ]
  },
  {
   "cell_type": "code",
   "execution_count": 80,
   "id": "1e3b9c93",
   "metadata": {},
   "outputs": [
    {
     "name": "stdout",
     "output_type": "stream",
     "text": [
      "+-------+----------+------+-----+----------+-------------+--------------------------+--------------+------------------+------------------+------------------+--------+-----------+-------------------+\n",
      "|User_ID|Product_ID|Gender|  Age|Occupation|City_Category|Stay_In_Current_City_Years|Marital_Status|Product_Category_1|Product_Category_2|Product_Category_3|Purchase|ConstantOne|SimilarCategoryCode|\n",
      "+-------+----------+------+-----+----------+-------------+--------------------------+--------------+------------------+------------------+------------------+--------+-----------+-------------------+\n",
      "|1000001| P00069042|     F| 0-17|        10|            A|                         2|             0|                 3|              null|              null|    8370|          1|               null|\n",
      "|1000001| P00248942|     F| 0-17|        10|            A|                         2|             0|                 1|                 6|                14|   15200|          1|              false|\n",
      "|1000001| P00087842|     F| 0-17|        10|            A|                         2|             0|                12|              null|              null|    1422|          1|               null|\n",
      "|1000001| P00085442|     F| 0-17|        10|            A|                         2|             0|                12|                14|              null|    1057|          1|              false|\n",
      "|1000002| P00285442|     M|  55+|        16|            C|                        4+|             0|                 8|              null|              null|    7969|          1|               null|\n",
      "|1000003| P00193542|     M|26-35|        15|            A|                         3|             0|                 1|                 2|              null|   15227|          1|              false|\n",
      "|1000004| P00184942|     M|46-50|         7|            B|                         2|             1|                 1|                 8|                17|   19215|          1|              false|\n",
      "|1000004| P00346142|     M|46-50|         7|            B|                         2|             1|                 1|                15|              null|   15854|          1|              false|\n",
      "|1000004|  P0097242|     M|46-50|         7|            B|                         2|             1|                 1|                16|              null|   15686|          1|              false|\n",
      "|1000005| P00274942|     M|26-35|        20|            A|                         1|             1|                 8|              null|              null|    7871|          1|               null|\n",
      "|1000005| P00251242|     M|26-35|        20|            A|                         1|             1|                 5|                11|              null|    5254|          1|              false|\n",
      "|1000005| P00014542|     M|26-35|        20|            A|                         1|             1|                 8|              null|              null|    3957|          1|               null|\n",
      "|1000005| P00031342|     M|26-35|        20|            A|                         1|             1|                 8|              null|              null|    6073|          1|               null|\n",
      "|1000005| P00145042|     M|26-35|        20|            A|                         1|             1|                 1|                 2|                 5|   15665|          1|              false|\n",
      "|1000006| P00231342|     F|51-55|         9|            A|                         1|             0|                 5|                 8|                14|    5378|          1|              false|\n",
      "|1000006| P00190242|     F|51-55|         9|            A|                         1|             0|                 4|                 5|              null|    2079|          1|              false|\n",
      "|1000006|  P0096642|     F|51-55|         9|            A|                         1|             0|                 2|                 3|                 4|   13055|          1|              false|\n",
      "|1000006| P00058442|     F|51-55|         9|            A|                         1|             0|                 5|                14|              null|    8851|          1|              false|\n",
      "|1000007| P00036842|     M|36-45|         1|            B|                         1|             1|                 1|                14|                16|   11788|          1|              false|\n",
      "|1000008| P00249542|     M|26-35|        12|            C|                        4+|             1|                 1|                 5|                15|   19614|          1|              false|\n",
      "+-------+----------+------+-----+----------+-------------+--------------------------+--------------+------------------+------------------+------------------+--------+-----------+-------------------+\n",
      "only showing top 20 rows\n",
      "\n"
     ]
    }
   ],
   "source": [
    "tempDF.withColumnRenamed('SameCategoryCode', 'SimilarCategoryCode').show()"
   ]
  },
  {
   "cell_type": "code",
   "execution_count": 81,
   "id": "edba6a8b",
   "metadata": {},
   "outputs": [
    {
     "name": "stdout",
     "output_type": "stream",
     "text": [
      "+-------+----------+------+-----+----------+-------------+--------------------------+--------------+------------------+------------------+------------------+--------+-----------+\n",
      "|User_ID|Product_ID|Gender|  Age|Occupation|City_Category|Stay_In_Current_City_Years|Marital_Status|Product_Category_1|Product_Category_2|Product_Category_3|Purchase|ConstantOne|\n",
      "+-------+----------+------+-----+----------+-------------+--------------------------+--------------+------------------+------------------+------------------+--------+-----------+\n",
      "|1000001| P00069042|     F| 0-17|        10|            A|                         2|             0|                 3|              null|              null|    8370|          1|\n",
      "|1000001| P00248942|     F| 0-17|        10|            A|                         2|             0|                 1|                 6|                14|   15200|          1|\n",
      "|1000001| P00087842|     F| 0-17|        10|            A|                         2|             0|                12|              null|              null|    1422|          1|\n",
      "|1000001| P00085442|     F| 0-17|        10|            A|                         2|             0|                12|                14|              null|    1057|          1|\n",
      "|1000002| P00285442|     M|  55+|        16|            C|                        4+|             0|                 8|              null|              null|    7969|          1|\n",
      "|1000003| P00193542|     M|26-35|        15|            A|                         3|             0|                 1|                 2|              null|   15227|          1|\n",
      "|1000004| P00184942|     M|46-50|         7|            B|                         2|             1|                 1|                 8|                17|   19215|          1|\n",
      "|1000004| P00346142|     M|46-50|         7|            B|                         2|             1|                 1|                15|              null|   15854|          1|\n",
      "|1000004|  P0097242|     M|46-50|         7|            B|                         2|             1|                 1|                16|              null|   15686|          1|\n",
      "|1000005| P00274942|     M|26-35|        20|            A|                         1|             1|                 8|              null|              null|    7871|          1|\n",
      "|1000005| P00251242|     M|26-35|        20|            A|                         1|             1|                 5|                11|              null|    5254|          1|\n",
      "|1000005| P00014542|     M|26-35|        20|            A|                         1|             1|                 8|              null|              null|    3957|          1|\n",
      "|1000005| P00031342|     M|26-35|        20|            A|                         1|             1|                 8|              null|              null|    6073|          1|\n",
      "|1000005| P00145042|     M|26-35|        20|            A|                         1|             1|                 1|                 2|                 5|   15665|          1|\n",
      "|1000006| P00231342|     F|51-55|         9|            A|                         1|             0|                 5|                 8|                14|    5378|          1|\n",
      "|1000006| P00190242|     F|51-55|         9|            A|                         1|             0|                 4|                 5|              null|    2079|          1|\n",
      "|1000006|  P0096642|     F|51-55|         9|            A|                         1|             0|                 2|                 3|                 4|   13055|          1|\n",
      "|1000006| P00058442|     F|51-55|         9|            A|                         1|             0|                 5|                14|              null|    8851|          1|\n",
      "|1000007| P00036842|     M|36-45|         1|            B|                         1|             1|                 1|                14|                16|   11788|          1|\n",
      "|1000008| P00249542|     M|26-35|        12|            C|                        4+|             1|                 1|                 5|                15|   19614|          1|\n",
      "+-------+----------+------+-----+----------+-------------+--------------------------+--------------+------------------+------------------+------------------+--------+-----------+\n",
      "only showing top 20 rows\n",
      "\n"
     ]
    }
   ],
   "source": [
    "tempDF.drop('SameCategoryCode').show()"
   ]
  },
  {
   "cell_type": "code",
   "execution_count": 82,
   "id": "41dca5ba",
   "metadata": {},
   "outputs": [
    {
     "name": "stdout",
     "output_type": "stream",
     "text": [
      "root\n",
      " |-- User_ID: integer (nullable = true)\n",
      " |-- Product_ID: string (nullable = true)\n",
      " |-- Gender: string (nullable = true)\n",
      " |-- Age: string (nullable = true)\n",
      " |-- Occupation: integer (nullable = true)\n",
      " |-- City_Category: string (nullable = true)\n",
      " |-- Stay_In_Current_City_Years: string (nullable = true)\n",
      " |-- Marital_Status: integer (nullable = true)\n",
      " |-- Product_Category_1: integer (nullable = true)\n",
      " |-- Product_Category_2: integer (nullable = true)\n",
      " |-- Product_Category_3: integer (nullable = true)\n",
      " |-- Purchase: integer (nullable = true)\n",
      " |-- ConstantOne: integer (nullable = false)\n",
      " |-- SameCategoryCode: boolean (nullable = true)\n",
      "\n"
     ]
    }
   ],
   "source": [
    "tempDF.printSchema()"
   ]
  },
  {
   "cell_type": "code",
   "execution_count": 83,
   "id": "c3750f25",
   "metadata": {},
   "outputs": [
    {
     "name": "stdout",
     "output_type": "stream",
     "text": [
      "root\n",
      " |-- User_ID: integer (nullable = true)\n",
      " |-- Product_ID: string (nullable = true)\n",
      " |-- Gender: string (nullable = true)\n",
      " |-- Age: string (nullable = true)\n",
      " |-- Occupation: integer (nullable = true)\n",
      " |-- City_Category: string (nullable = true)\n",
      " |-- Stay_In_Current_City_Years: string (nullable = true)\n",
      " |-- Marital_Status: integer (nullable = true)\n",
      " |-- Product_Category_1: integer (nullable = true)\n",
      " |-- Product_Category_2: integer (nullable = true)\n",
      " |-- Product_Category_3: integer (nullable = true)\n",
      " |-- Purchase: string (nullable = true)\n",
      " |-- ConstantOne: integer (nullable = false)\n",
      " |-- SameCategoryCode: boolean (nullable = true)\n",
      "\n"
     ]
    }
   ],
   "source": [
    "tempDF.withColumn('Purchase', col('Purchase').cast('String')).printSchema()"
   ]
  },
  {
   "cell_type": "code",
   "execution_count": 84,
   "id": "198819cf",
   "metadata": {},
   "outputs": [
    {
     "data": {
      "text/plain": [
       "3631"
      ]
     },
     "execution_count": 84,
     "metadata": {},
     "output_type": "execute_result"
    }
   ],
   "source": [
    "trainDF.select('Product_ID').distinct().count()"
   ]
  },
  {
   "cell_type": "code",
   "execution_count": 85,
   "id": "33f2c314",
   "metadata": {},
   "outputs": [],
   "source": [
    "testDF=testDF.withColumn('Product_ID', col('ProductID'))"
   ]
  },
  {
   "cell_type": "code",
   "execution_count": 86,
   "id": "24f408e7",
   "metadata": {},
   "outputs": [
    {
     "data": {
      "text/plain": [
       "3491"
      ]
     },
     "execution_count": 86,
     "metadata": {},
     "output_type": "execute_result"
    }
   ],
   "source": [
    "testDF.select('Product_ID').distinct().count()"
   ]
  },
  {
   "cell_type": "code",
   "execution_count": 87,
   "id": "63b34c7d",
   "metadata": {},
   "outputs": [
    {
     "data": {
      "text/plain": [
       "46"
      ]
     },
     "execution_count": 87,
     "metadata": {},
     "output_type": "execute_result"
    }
   ],
   "source": [
    "diff_cat_in_test_train=testDF.select('Product_ID').subtract(trainDF.select('Product_ID'))\n",
    "diff_cat_in_test_train.count()"
   ]
  },
  {
   "cell_type": "code",
   "execution_count": 88,
   "id": "a0ee611e",
   "metadata": {},
   "outputs": [
    {
     "data": {
      "text/plain": [
       "186"
      ]
     },
     "execution_count": 88,
     "metadata": {},
     "output_type": "execute_result"
    }
   ],
   "source": [
    "diff_cat_in_train_test=trainDF.select('Product_ID').subtract(testDF.select('Product_ID'))\n",
    "diff_cat_in_train_test.count()"
   ]
  },
  {
   "cell_type": "code",
   "execution_count": 89,
   "id": "8662f5c8",
   "metadata": {},
   "outputs": [
    {
     "name": "stdout",
     "output_type": "stream",
     "text": [
      "+----------+-----+------+\n",
      "|Age_Gender|    F|     M|\n",
      "+----------+-----+------+\n",
      "|      0-17| 5083| 10019|\n",
      "|     46-50|13199| 32502|\n",
      "|     18-25|24628| 75032|\n",
      "|     36-45|27170| 82843|\n",
      "|       55+| 5083| 16421|\n",
      "|     51-55| 9894| 28607|\n",
      "|     26-35|50752|168835|\n",
      "+----------+-----+------+\n",
      "\n"
     ]
    }
   ],
   "source": [
    "trainDF.crosstab('Age', 'Gender').show()"
   ]
  },
  {
   "cell_type": "code",
   "execution_count": 90,
   "id": "6a88f51b",
   "metadata": {},
   "outputs": [
    {
     "name": "stdout",
     "output_type": "stream",
     "text": [
      "+----------+-----+-----+------+-----+-----+-----+-----+\n",
      "|Gender_Age| 0-17|18-25| 26-35|36-45|46-50|51-55|  55+|\n",
      "+----------+-----+-----+------+-----+-----+-----+-----+\n",
      "|         F| 5083|24628| 50752|27170|13199| 9894| 5083|\n",
      "|         M|10019|75032|168835|82843|32502|28607|16421|\n",
      "+----------+-----+-----+------+-----+-----+-----+-----+\n",
      "\n"
     ]
    }
   ],
   "source": [
    "trainDF.crosstab('Gender', 'Age').show()"
   ]
  },
  {
   "cell_type": "code",
   "execution_count": 91,
   "id": "fdb8ee08",
   "metadata": {},
   "outputs": [
    {
     "name": "stdout",
     "output_type": "stream",
     "text": [
      "+-----+------+------+\n",
      "|  Age|Gender| count|\n",
      "+-----+------+------+\n",
      "|51-55|     F|  9894|\n",
      "|18-25|     M| 75032|\n",
      "| 0-17|     F|  5083|\n",
      "|46-50|     M| 32502|\n",
      "|18-25|     F| 24628|\n",
      "|  55+|     M| 16421|\n",
      "|  55+|     F|  5083|\n",
      "|36-45|     M| 82843|\n",
      "|26-35|     F| 50752|\n",
      "| 0-17|     M| 10019|\n",
      "|36-45|     F| 27170|\n",
      "|51-55|     M| 28607|\n",
      "|26-35|     M|168835|\n",
      "|46-50|     F| 13199|\n",
      "+-----+------+------+\n",
      "\n"
     ]
    }
   ],
   "source": [
    "trainDF.groupBy('Age', 'Gender').count().show()"
   ]
  },
  {
   "cell_type": "code",
   "execution_count": 92,
   "id": "4a8c28f7",
   "metadata": {},
   "outputs": [
    {
     "name": "stdout",
     "output_type": "stream",
     "text": [
      "+------+-----+------+\n",
      "|Gender|  Age| count|\n",
      "+------+-----+------+\n",
      "|     F|46-50| 13199|\n",
      "|     M| 0-17| 10019|\n",
      "|     M|26-35|168835|\n",
      "|     M|51-55| 28607|\n",
      "|     M|18-25| 75032|\n",
      "|     M|  55+| 16421|\n",
      "|     F|51-55|  9894|\n",
      "|     F|36-45| 27170|\n",
      "|     F|18-25| 24628|\n",
      "|     F|  55+|  5083|\n",
      "|     M|36-45| 82843|\n",
      "|     F| 0-17|  5083|\n",
      "|     M|46-50| 32502|\n",
      "|     F|26-35| 50752|\n",
      "+------+-----+------+\n",
      "\n"
     ]
    }
   ],
   "source": [
    "trainDF.groupBy('Gender', 'Age').count().show()"
   ]
  },
  {
   "cell_type": "code",
   "execution_count": 93,
   "id": "d7bfa0b6",
   "metadata": {},
   "outputs": [
    {
     "name": "stdout",
     "output_type": "stream",
     "text": [
      "+-----+------+------+\n",
      "|  age|Female|  Male|\n",
      "+-----+------+------+\n",
      "|18-25| 24628| 75032|\n",
      "|26-35| 50752|168835|\n",
      "| 0-17|  5083| 10019|\n",
      "|46-50| 13199| 32502|\n",
      "|51-55|  9894| 28607|\n",
      "|36-45| 27170| 82843|\n",
      "|  55+|  5083| 16421|\n",
      "+-----+------+------+\n",
      "\n"
     ]
    }
   ],
   "source": [
    "spark.sql('''\n",
    "    select age, \n",
    "    sum(case when gender='F' then 1 else 0 end) as Female,\n",
    "    sum(case when gender='M' then 1 else 0 end) as Male\n",
    "    from trainDFTable\n",
    "    group by age\n",
    "''').show()"
   ]
  },
  {
   "cell_type": "code",
   "execution_count": 94,
   "id": "72074e39",
   "metadata": {},
   "outputs": [
    {
     "name": "stdout",
     "output_type": "stream",
     "text": [
      "+-----+------+\n",
      "|  Age|Gender|\n",
      "+-----+------+\n",
      "|51-55|     F|\n",
      "|18-25|     M|\n",
      "| 0-17|     F|\n",
      "|46-50|     M|\n",
      "|18-25|     F|\n",
      "|  55+|     M|\n",
      "|  55+|     F|\n",
      "|36-45|     M|\n",
      "|26-35|     F|\n",
      "| 0-17|     M|\n",
      "|36-45|     F|\n",
      "|51-55|     M|\n",
      "|26-35|     M|\n",
      "|46-50|     F|\n",
      "+-----+------+\n",
      "\n"
     ]
    }
   ],
   "source": [
    "trainDF.select('Age', 'Gender').dropDuplicates().show(20)"
   ]
  },
  {
   "cell_type": "code",
   "execution_count": 95,
   "id": "d7516740",
   "metadata": {},
   "outputs": [
    {
     "data": {
      "text/plain": [
       "166821"
      ]
     },
     "execution_count": 95,
     "metadata": {},
     "output_type": "execute_result"
    }
   ],
   "source": [
    "trainDF.dropna().count()"
   ]
  },
  {
   "cell_type": "code",
   "execution_count": 96,
   "id": "135d2b91",
   "metadata": {},
   "outputs": [
    {
     "data": {
      "text/plain": [
       "166821"
      ]
     },
     "execution_count": 96,
     "metadata": {},
     "output_type": "execute_result"
    }
   ],
   "source": [
    "trainDF.na.drop('any').count()\n",
    "# any column has the null values, the whole row gets to drop"
   ]
  },
  {
   "cell_type": "code",
   "execution_count": 97,
   "id": "e006f693",
   "metadata": {},
   "outputs": [
    {
     "data": {
      "text/plain": [
       "166821"
      ]
     },
     "execution_count": 97,
     "metadata": {},
     "output_type": "execute_result"
    }
   ],
   "source": [
    "trainDF.na.drop().count()"
   ]
  },
  {
   "cell_type": "code",
   "execution_count": 98,
   "id": "05baada9",
   "metadata": {},
   "outputs": [
    {
     "name": "stdout",
     "output_type": "stream",
     "text": [
      "+-------+----------+------+-----+----------+-------------+--------------------------+--------------+------------------+------------------+------------------+--------+-----------+\n",
      "|User_ID|Product_ID|Gender|  Age|Occupation|City_Category|Stay_In_Current_City_Years|Marital_Status|Product_Category_1|Product_Category_2|Product_Category_3|Purchase|ConstantOne|\n",
      "+-------+----------+------+-----+----------+-------------+--------------------------+--------------+------------------+------------------+------------------+--------+-----------+\n",
      "|1000001| P00069042|     F| 0-17|        10|            A|                         2|             0|                 3|                -1|                -1|    8370|          1|\n",
      "|1000001| P00248942|     F| 0-17|        10|            A|                         2|             0|                 1|                 6|                14|   15200|          1|\n",
      "|1000001| P00087842|     F| 0-17|        10|            A|                         2|             0|                12|                -1|                -1|    1422|          1|\n",
      "|1000001| P00085442|     F| 0-17|        10|            A|                         2|             0|                12|                14|                -1|    1057|          1|\n",
      "|1000002| P00285442|     M|  55+|        16|            C|                        4+|             0|                 8|                -1|                -1|    7969|          1|\n",
      "|1000003| P00193542|     M|26-35|        15|            A|                         3|             0|                 1|                 2|                -1|   15227|          1|\n",
      "|1000004| P00184942|     M|46-50|         7|            B|                         2|             1|                 1|                 8|                17|   19215|          1|\n",
      "|1000004| P00346142|     M|46-50|         7|            B|                         2|             1|                 1|                15|                -1|   15854|          1|\n",
      "|1000004|  P0097242|     M|46-50|         7|            B|                         2|             1|                 1|                16|                -1|   15686|          1|\n",
      "|1000005| P00274942|     M|26-35|        20|            A|                         1|             1|                 8|                -1|                -1|    7871|          1|\n",
      "|1000005| P00251242|     M|26-35|        20|            A|                         1|             1|                 5|                11|                -1|    5254|          1|\n",
      "|1000005| P00014542|     M|26-35|        20|            A|                         1|             1|                 8|                -1|                -1|    3957|          1|\n",
      "|1000005| P00031342|     M|26-35|        20|            A|                         1|             1|                 8|                -1|                -1|    6073|          1|\n",
      "|1000005| P00145042|     M|26-35|        20|            A|                         1|             1|                 1|                 2|                 5|   15665|          1|\n",
      "|1000006| P00231342|     F|51-55|         9|            A|                         1|             0|                 5|                 8|                14|    5378|          1|\n",
      "|1000006| P00190242|     F|51-55|         9|            A|                         1|             0|                 4|                 5|                -1|    2079|          1|\n",
      "|1000006|  P0096642|     F|51-55|         9|            A|                         1|             0|                 2|                 3|                 4|   13055|          1|\n",
      "|1000006| P00058442|     F|51-55|         9|            A|                         1|             0|                 5|                14|                -1|    8851|          1|\n",
      "|1000007| P00036842|     M|36-45|         1|            B|                         1|             1|                 1|                14|                16|   11788|          1|\n",
      "|1000008| P00249542|     M|26-35|        12|            C|                        4+|             1|                 1|                 5|                15|   19614|          1|\n",
      "+-------+----------+------+-----+----------+-------------+--------------------------+--------------+------------------+------------------+------------------+--------+-----------+\n",
      "only showing top 20 rows\n",
      "\n"
     ]
    }
   ],
   "source": [
    "trainDF.fillna(-1).show()"
   ]
  },
  {
   "cell_type": "code",
   "execution_count": 99,
   "id": "1c00831e",
   "metadata": {},
   "outputs": [
    {
     "ename": "TypeError",
     "evalue": "fillna() missing 1 required positional argument: 'value'",
     "output_type": "error",
     "traceback": [
      "\u001b[1;31m---------------------------------------------------------------------------\u001b[0m",
      "\u001b[1;31mTypeError\u001b[0m                                 Traceback (most recent call last)",
      "\u001b[1;32m~\\AppData\\Local\\Temp\\ipykernel_4200\\3216679066.py\u001b[0m in \u001b[0;36m<module>\u001b[1;34m\u001b[0m\n\u001b[1;32m----> 1\u001b[1;33m \u001b[0mtrainDF\u001b[0m\u001b[1;33m.\u001b[0m\u001b[0mfillna\u001b[0m\u001b[1;33m(\u001b[0m\u001b[1;33m)\u001b[0m\u001b[1;33m.\u001b[0m\u001b[0mshow\u001b[0m\u001b[1;33m(\u001b[0m\u001b[1;36m2\u001b[0m\u001b[1;33m)\u001b[0m\u001b[1;33m\u001b[0m\u001b[1;33m\u001b[0m\u001b[0m\n\u001b[0m",
      "\u001b[1;31mTypeError\u001b[0m: fillna() missing 1 required positional argument: 'value'"
     ]
    }
   ],
   "source": [
    "trainDF.fillna().show(2)"
   ]
  },
  {
   "cell_type": "code",
   "execution_count": 100,
   "id": "dd4187e0",
   "metadata": {},
   "outputs": [
    {
     "name": "stdout",
     "output_type": "stream",
     "text": [
      "+-------+----------+------+----+----------+-------------+--------------------------+--------------+------------------+------------------+------------------+--------+-----------+\n",
      "|User_ID|Product_ID|Gender| Age|Occupation|City_Category|Stay_In_Current_City_Years|Marital_Status|Product_Category_1|Product_Category_2|Product_Category_3|Purchase|ConstantOne|\n",
      "+-------+----------+------+----+----------+-------------+--------------------------+--------------+------------------+------------------+------------------+--------+-----------+\n",
      "|1000001| P00069042|     F|0-17|        10|            A|                         2|             0|                 3|              null|                -1|    8370|          1|\n",
      "|1000001| P00248942|     F|0-17|        10|            A|                         2|             0|                 1|                 6|                14|   15200|          1|\n",
      "|1000001| P00087842|     F|0-17|        10|            A|                         2|             0|                12|              null|                -1|    1422|          1|\n",
      "+-------+----------+------+----+----------+-------------+--------------------------+--------------+------------------+------------------+------------------+--------+-----------+\n",
      "only showing top 3 rows\n",
      "\n"
     ]
    }
   ],
   "source": [
    "fill_col_values={\n",
    "    \"Gender\": 'M',\n",
    "    'Purchase': 9999999,\n",
    "    'Product_Category_3': -1\n",
    "}\n",
    "trainDF.na.fill(fill_col_values).show(3)"
   ]
  },
  {
   "cell_type": "code",
   "execution_count": 101,
   "id": "cd807394",
   "metadata": {},
   "outputs": [
    {
     "data": {
      "text/plain": [
       "550068"
      ]
     },
     "execution_count": 101,
     "metadata": {},
     "output_type": "execute_result"
    }
   ],
   "source": [
    "trainDF.na.replace([''], ['UNKNOWN'], ['Gender']).count()"
   ]
  },
  {
   "cell_type": "code",
   "execution_count": 102,
   "id": "18fbfd96",
   "metadata": {},
   "outputs": [
    {
     "name": "stdout",
     "output_type": "stream",
     "text": [
      "Purchase amount greater than 15000 {}\n"
     ]
    }
   ],
   "source": [
    "print('Purchase amount greater than 15000 {}')"
   ]
  },
  {
   "cell_type": "code",
   "execution_count": 103,
   "id": "9ca9c097",
   "metadata": {},
   "outputs": [
    {
     "data": {
      "text/plain": [
       "21429"
      ]
     },
     "execution_count": 103,
     "metadata": {},
     "output_type": "execute_result"
    }
   ],
   "source": [
    "trainDF.where('Purchase > 15000').where('Gender = \"F\"').count()"
   ]
  },
  {
   "cell_type": "code",
   "execution_count": 104,
   "id": "65d5fc79",
   "metadata": {},
   "outputs": [
    {
     "data": {
      "text/plain": [
       "21429"
      ]
     },
     "execution_count": 104,
     "metadata": {},
     "output_type": "execute_result"
    }
   ],
   "source": [
    "trainDF.filter('Purchase > 15000').where('Gender = \"F\"').count()"
   ]
  },
  {
   "cell_type": "code",
   "execution_count": 105,
   "id": "d18a9fbb",
   "metadata": {},
   "outputs": [
    {
     "data": {
      "text/plain": [
       "21429"
      ]
     },
     "execution_count": 105,
     "metadata": {},
     "output_type": "execute_result"
    }
   ],
   "source": [
    "trainDF.where((col('Purchase') > 15000) & (col('Gender')=='F')).count()"
   ]
  },
  {
   "cell_type": "code",
   "execution_count": 106,
   "id": "e672704a",
   "metadata": {},
   "outputs": [
    {
     "data": {
      "text/plain": [
       "21429"
      ]
     },
     "execution_count": 106,
     "metadata": {},
     "output_type": "execute_result"
    }
   ],
   "source": [
    "trainDF.filter((col('Purchase') > 15000) & (col('Gender')=='F')).count()"
   ]
  },
  {
   "cell_type": "code",
   "execution_count": 107,
   "id": "a0447e3d",
   "metadata": {},
   "outputs": [
    {
     "data": {
      "text/plain": [
       "21429"
      ]
     },
     "execution_count": 107,
     "metadata": {},
     "output_type": "execute_result"
    }
   ],
   "source": [
    "spark.sql('select * from trainDFTable where Purchase > 15000 and Gender = \"F\"').count()"
   ]
  },
  {
   "cell_type": "code",
   "execution_count": 108,
   "id": "468d42dc",
   "metadata": {},
   "outputs": [
    {
     "name": "stdout",
     "output_type": "stream",
     "text": [
      "+------------+\n",
      "|DISTINCT_Age|\n",
      "+------------+\n",
      "|           7|\n",
      "+------------+\n",
      "\n"
     ]
    }
   ],
   "source": [
    "from pyspark.sql.functions import countDistinct\n",
    "trainDF.select(countDistinct('Age').alias('DISTINCT_Age')).show()"
   ]
  },
  {
   "cell_type": "code",
   "execution_count": 109,
   "id": "a52df092",
   "metadata": {},
   "outputs": [
    {
     "name": "stdout",
     "output_type": "stream",
     "text": [
      "+------------+\n",
      "|DISTINCT_Age|\n",
      "+------------+\n",
      "|           7|\n",
      "+------------+\n",
      "\n"
     ]
    }
   ],
   "source": [
    "trainDF.agg(countDistinct('Age').alias('DISTINCT_Age')).show()"
   ]
  },
  {
   "cell_type": "code",
   "execution_count": 110,
   "id": "8aa87162",
   "metadata": {},
   "outputs": [],
   "source": [
    "from pyspark.sql import functions as func"
   ]
  },
  {
   "cell_type": "code",
   "execution_count": 111,
   "id": "99e44bf2",
   "metadata": {},
   "outputs": [
    {
     "name": "stdout",
     "output_type": "stream",
     "text": [
      "+-------+----------+------+----+----------+-------------+--------------------------+--------------+------------------+------------------+------------------+--------+-----------+\n",
      "|User_ID|Product_ID|Gender| Age|Occupation|City_Category|Stay_In_Current_City_Years|Marital_Status|Product_Category_1|Product_Category_2|Product_Category_3|Purchase|ConstantOne|\n",
      "+-------+----------+------+----+----------+-------------+--------------------------+--------------+------------------+------------------+------------------+--------+-----------+\n",
      "|1000001| P00069042|     F|0-17|        10|            A|                         2|             0|                 3|              null|              null|    8370|          1|\n",
      "|1000001| P00248942|     F|0-17|        10|            A|                         2|             0|                 1|                 6|                14|   15200|          1|\n",
      "+-------+----------+------+----+----------+-------------+--------------------------+--------------+------------------+------------------+------------------+--------+-----------+\n",
      "only showing top 2 rows\n",
      "\n"
     ]
    }
   ],
   "source": [
    "trainDF.show(2)"
   ]
  },
  {
   "cell_type": "code",
   "execution_count": 112,
   "id": "9da38569",
   "metadata": {},
   "outputs": [
    {
     "name": "stdout",
     "output_type": "stream",
     "text": [
      "+--------+-----------------+\n",
      "|min(Age)|    avg(Purchase)|\n",
      "+--------+-----------------+\n",
      "|    0-17|9263.968712959126|\n",
      "+--------+-----------------+\n",
      "\n"
     ]
    }
   ],
   "source": [
    "trainDF.agg(func.min('Age'), func.avg('Purchase')).show()"
   ]
  },
  {
   "cell_type": "code",
   "execution_count": 113,
   "id": "b3b0f04e",
   "metadata": {},
   "outputs": [
    {
     "name": "stdout",
     "output_type": "stream",
     "text": [
      "+-----+------+\n",
      "|  Age| count|\n",
      "+-----+------+\n",
      "|18-25| 99660|\n",
      "|26-35|219587|\n",
      "| 0-17| 15102|\n",
      "|46-50| 45701|\n",
      "|51-55| 38501|\n",
      "|36-45|110013|\n",
      "|  55+| 21504|\n",
      "+-----+------+\n",
      "\n"
     ]
    }
   ],
   "source": [
    "trainDF.groupBy('Age').count().show()"
   ]
  },
  {
   "cell_type": "code",
   "execution_count": 114,
   "id": "3e5343a1",
   "metadata": {},
   "outputs": [],
   "source": [
    "from pyspark.sql.functions import approx_count_distinct"
   ]
  },
  {
   "cell_type": "code",
   "execution_count": 115,
   "id": "fec5fe10",
   "metadata": {},
   "outputs": [],
   "source": [
    "?approx_count_distinct"
   ]
  },
  {
   "cell_type": "code",
   "execution_count": 116,
   "id": "c744ed4c",
   "metadata": {},
   "outputs": [
    {
     "name": "stdout",
     "output_type": "stream",
     "text": [
      "+--------------------------+\n",
      "|approx_count_distinct(Age)|\n",
      "+--------------------------+\n",
      "|                         7|\n",
      "+--------------------------+\n",
      "\n"
     ]
    }
   ],
   "source": [
    "trainDF.select(approx_count_distinct('Age',0.1)).show()"
   ]
  },
  {
   "cell_type": "code",
   "execution_count": 117,
   "id": "b64a9ba5",
   "metadata": {},
   "outputs": [
    {
     "name": "stdout",
     "output_type": "stream",
     "text": [
      "+-----------------+----------------+\n",
      "|first(Product_ID)|last(Product_ID)|\n",
      "+-----------------+----------------+\n",
      "|        P00069042|       P00371644|\n",
      "+-----------------+----------------+\n",
      "\n"
     ]
    }
   ],
   "source": [
    "from pyspark.sql.functions import first, last\n",
    "trainDF.select(first('Product_ID',True),last('Product_ID',True)).show()"
   ]
  },
  {
   "cell_type": "code",
   "execution_count": 118,
   "id": "9ad094e8",
   "metadata": {},
   "outputs": [
    {
     "name": "stdout",
     "output_type": "stream",
     "text": [
      "+-------------+-------------+\n",
      "|min(Purchase)|max(Purchase)|\n",
      "+-------------+-------------+\n",
      "|           12|        23961|\n",
      "+-------------+-------------+\n",
      "\n"
     ]
    }
   ],
   "source": [
    "from pyspark.sql.functions import min, max\n",
    "trainDF.select(min('Purchase'),max('Purchase')).show()"
   ]
  },
  {
   "cell_type": "code",
   "execution_count": 119,
   "id": "861fe9f6",
   "metadata": {},
   "outputs": [],
   "source": [
    "from pyspark.sql.functions import sum, sum_distinct"
   ]
  },
  {
   "cell_type": "code",
   "execution_count": 120,
   "id": "8c4d3dd7",
   "metadata": {},
   "outputs": [
    {
     "name": "stdout",
     "output_type": "stream",
     "text": [
      "+-------------+\n",
      "|sum(Purchase)|\n",
      "+-------------+\n",
      "|   5095812742|\n",
      "+-------------+\n",
      "\n"
     ]
    }
   ],
   "source": [
    "trainDF.select(sum('Purchase')).show()"
   ]
  },
  {
   "cell_type": "code",
   "execution_count": 121,
   "id": "436a2e36",
   "metadata": {},
   "outputs": [
    {
     "name": "stdout",
     "output_type": "stream",
     "text": [
      "+----------------------+\n",
      "|sum(DISTINCT Purchase)|\n",
      "+----------------------+\n",
      "|             208520914|\n",
      "+----------------------+\n",
      "\n"
     ]
    }
   ],
   "source": [
    "trainDF.select(sum_distinct('Purchase')).show()"
   ]
  },
  {
   "cell_type": "code",
   "execution_count": 122,
   "id": "115f2061",
   "metadata": {},
   "outputs": [
    {
     "name": "stdout",
     "output_type": "stream",
     "text": [
      "+--------------------------------------+-----------------+-----------------+\n",
      "|(total_purchases / total_transactions)|    avg_purchases|   mean_purchases|\n",
      "+--------------------------------------+-----------------+-----------------+\n",
      "|                     9263.968712959126|9263.968712959126|9263.968712959126|\n",
      "+--------------------------------------+-----------------+-----------------+\n",
      "\n"
     ]
    }
   ],
   "source": [
    "from pyspark.sql.functions import sum, count, avg, expr\n",
    "trainDF.select(\n",
    "    count('Purchase').alias('total_transactions'),\n",
    "    sum('Purchase').alias('total_purchases'),\n",
    "    avg('Purchase').alias('avg_purchases'),\n",
    "    expr('mean(Purchase)').alias('mean_purchases')\n",
    ").selectExpr(\n",
    "    'total_purchases/total_transactions', 'avg_purchases', 'mean_purchases'\n",
    ").show()"
   ]
  },
  {
   "cell_type": "code",
   "execution_count": 123,
   "id": "01932304",
   "metadata": {},
   "outputs": [
    {
     "name": "stdout",
     "output_type": "stream",
     "text": [
      "+--------------------+-------------------+--------------------+---------------------+\n",
      "|   var_pop(Purchase)| var_samp(Purchase)|stddev_pop(Purchase)|stddev_samp(Purchase)|\n",
      "+--------------------+-------------------+--------------------+---------------------+\n",
      "|2.5231140081385408E7|2.523118595059785E7|   5023.060827959921|    5023.065393820575|\n",
      "+--------------------+-------------------+--------------------+---------------------+\n",
      "\n"
     ]
    }
   ],
   "source": [
    "from pyspark.sql.functions import var_pop, var_samp, stddev_pop, stddev_samp\n",
    "trainDF.select(var_pop('Purchase'), var_samp('Purchase'), stddev_pop('Purchase'), stddev_samp('Purchase')).show()"
   ]
  },
  {
   "cell_type": "code",
   "execution_count": 124,
   "id": "1c575fa0",
   "metadata": {},
   "outputs": [
    {
     "name": "stdout",
     "output_type": "stream",
     "text": [
      "+--------------------+--------------------+\n",
      "|    collect_set(Age)|   collect_list(Age)|\n",
      "+--------------------+--------------------+\n",
      "|[55+, 51-55, 0-17...|[0-17, 0-17, 0-17...|\n",
      "+--------------------+--------------------+\n",
      "\n"
     ]
    }
   ],
   "source": [
    "from pyspark.sql.functions import collect_list, collect_set\n",
    "trainDF.agg(collect_set('Age'), collect_list('Age')).show()"
   ]
  },
  {
   "cell_type": "code",
   "execution_count": 125,
   "id": "717f3dac",
   "metadata": {},
   "outputs": [
    {
     "name": "stdout",
     "output_type": "stream",
     "text": [
      "+--------------------+--------------------+\n",
      "|    collect_set(Age)|   collect_list(Age)|\n",
      "+--------------------+--------------------+\n",
      "|[55+, 51-55, 0-17...|[0-17, 0-17, 0-17...|\n",
      "+--------------------+--------------------+\n",
      "\n"
     ]
    }
   ],
   "source": [
    "spark.sql('select collect_set(Age), collect_list(Age) from trainDFTable').show()"
   ]
  },
  {
   "cell_type": "code",
   "execution_count": 126,
   "id": "2fb37064",
   "metadata": {},
   "outputs": [
    {
     "name": "stdout",
     "output_type": "stream",
     "text": [
      "+-----+------+---------------+\n",
      "|  Age|  quan|count(Purchase)|\n",
      "+-----+------+---------------+\n",
      "|18-25| 99660|          99660|\n",
      "|26-35|219587|         219587|\n",
      "| 0-17| 15102|          15102|\n",
      "|46-50| 45701|          45701|\n",
      "|51-55| 38501|          38501|\n",
      "|36-45|110013|         110013|\n",
      "|  55+| 21504|          21504|\n",
      "+-----+------+---------------+\n",
      "\n"
     ]
    }
   ],
   "source": [
    "trainDF.groupBy('Age').agg(count('Purchase').alias('quan'),\n",
    "                          expr('count(Purchase)')).show()"
   ]
  },
  {
   "cell_type": "code",
   "execution_count": 127,
   "id": "c8860917",
   "metadata": {},
   "outputs": [
    {
     "name": "stdout",
     "output_type": "stream",
     "text": [
      "+-----+-----------------+\n",
      "|  Age|    avg(Purchase)|\n",
      "+-----+-----------------+\n",
      "|18-25|9169.663606261289|\n",
      "|26-35|9252.690632869888|\n",
      "| 0-17|8933.464640444974|\n",
      "|46-50|9208.625697468327|\n",
      "|51-55|9534.808030960236|\n",
      "|36-45|9331.350694917874|\n",
      "|  55+|9336.280459449405|\n",
      "+-----+-----------------+\n",
      "\n"
     ]
    }
   ],
   "source": [
    "trainDF.groupBy('Age').agg({'Purchase':'mean'}).show()"
   ]
  },
  {
   "cell_type": "code",
   "execution_count": 128,
   "id": "91f4550b",
   "metadata": {},
   "outputs": [
    {
     "name": "stdout",
     "output_type": "stream",
     "text": [
      "+-----+-------------+\n",
      "|  Age|sum(Purchase)|\n",
      "+-----+-------------+\n",
      "|18-25|    913848675|\n",
      "|26-35|   2031770578|\n",
      "| 0-17|    134913183|\n",
      "|46-50|    420843403|\n",
      "|51-55|    367099644|\n",
      "|36-45|   1026569884|\n",
      "|  55+|    200767375|\n",
      "+-----+-------------+\n",
      "\n"
     ]
    }
   ],
   "source": [
    "trainDF.groupBy('Age').agg({'Purchase':'sum'}).show()"
   ]
  },
  {
   "cell_type": "code",
   "execution_count": 129,
   "id": "572aee30",
   "metadata": {},
   "outputs": [
    {
     "name": "stdout",
     "output_type": "stream",
     "text": [
      "+-----+------------------+-----------------------+-------------------+-------------+------------+---------------+-------------------------------+-----------------------+--------+----------------+-----------+-----------------------+---------------+\n",
      "|  Age|sum(City_Category)|sum(Product_Category_3)|sum(Marital_Status)|sum(Purchase)|sum(User_ID)|sum(Occupation)|sum(Stay_In_Current_City_Years)|sum(Product_Category_1)|sum(Age)|sum(ConstantOne)|sum(Gender)|sum(Product_Category_2)|sum(Product_ID)|\n",
      "+-----+------------------+-----------------------+-------------------+-------------+------------+---------------+-------------------------------+-----------------------+--------+----------------+-----------+-----------------------+---------------+\n",
      "|18-25|              null|                 388041|              21116|    913848675| 99939196632|         671348|                       116997.0|                 509371|    null|           99660|       null|                 654936|           null|\n",
      "|26-35|              null|                 846624|              86291|   2031770578|220270500414|        1734073|                       275611.0|                1166945|    null|          219587|       null|                1473278|           null|\n",
      "| 0-17|              null|                  57725|                  0|    134913183| 15143112813|         132309|                        20320.0|                  76775|    null|           15102|       null|                  96155|           null|\n",
      "|46-50|              null|                 173059|              33011|    420843403| 45846804203|         389239|                        51742.0|                 262424|    null|           45701|       null|                 315572|           null|\n",
      "|51-55|              null|                 146334|              27662|    367099644| 38615925320|         339198|                        44243.0|                 222313|    null|           38501|       null|                 267570|           null|\n",
      "|36-45|              null|                 424412|              43636|   1026569884|110350311441|         972225|                       148162.0|                 604438|    null|          110013|       null|                 750081|           null|\n",
      "|  55+|              null|                  77134|              13621|    200767375| 21568218459|         204346|                        26277.0|                 130450|    null|           21504|       null|                 147356|           null|\n",
      "+-----+------------------+-----------------------+-------------------+-------------+------------+---------------+-------------------------------+-----------------------+--------+----------------+-----------+-----------------------+---------------+\n",
      "\n"
     ]
    }
   ],
   "source": [
    "exprs={x: 'sum' for x in trainDF.columns}\n",
    "trainDF.groupBy('Age').agg(exprs).show()"
   ]
  },
  {
   "cell_type": "code",
   "execution_count": 130,
   "id": "e4a55453",
   "metadata": {},
   "outputs": [],
   "source": [
    "### Joins\n",
    "\n",
    "person=spark.createDataFrame(\n",
    "    [\n",
    "        (0,'Sundar Pichai',0,[250,100]),\n",
    "        (1,'Sergery',1,[500,250,100]),\n",
    "        (2,'William Oak',2,[100])\n",
    "    ]\n",
    ").toDF('id', 'name', 'graduate_program', 'role_status')\n"
   ]
  },
  {
   "cell_type": "code",
   "execution_count": 131,
   "id": "385481cd",
   "metadata": {},
   "outputs": [
    {
     "data": {
      "text/plain": [
       "DataFrame[id: bigint, name: string, graduate_program: bigint, role_status: array<bigint>]"
      ]
     },
     "execution_count": 131,
     "metadata": {},
     "output_type": "execute_result"
    }
   ],
   "source": [
    "person"
   ]
  },
  {
   "cell_type": "code",
   "execution_count": 132,
   "id": "332a5d61",
   "metadata": {},
   "outputs": [
    {
     "name": "stdout",
     "output_type": "stream",
     "text": [
      "+---+-------------+----------------+---------------+\n",
      "| id|         name|graduate_program|    role_status|\n",
      "+---+-------------+----------------+---------------+\n",
      "|  0|Sundar Pichai|               0|     [250, 100]|\n",
      "|  1|      Sergery|               1|[500, 250, 100]|\n",
      "|  2|  William Oak|               2|          [100]|\n",
      "+---+-------------+----------------+---------------+\n",
      "\n"
     ]
    }
   ],
   "source": [
    "person.show()"
   ]
  },
  {
   "cell_type": "code",
   "execution_count": 133,
   "id": "90118a8b",
   "metadata": {},
   "outputs": [],
   "source": [
    "graduateProgram = spark.createDataFrame(\n",
    "    [\n",
    "        (0, 'MBA', 'School of MBA', 'Penn State University'),\n",
    "        (1, 'Ph.D', 'Computer Science', 'Stanford University'),\n",
    "        (2, 'Ph.D', 'School of Information', 'Oklhama University')\n",
    "    ]\n",
    ").toDF('id', 'degree', 'dept', 'school')"
   ]
  },
  {
   "cell_type": "code",
   "execution_count": 134,
   "id": "02dd0067",
   "metadata": {},
   "outputs": [
    {
     "data": {
      "text/plain": [
       "DataFrame[id: bigint, degree: string, dept: string, school: string]"
      ]
     },
     "execution_count": 134,
     "metadata": {},
     "output_type": "execute_result"
    }
   ],
   "source": [
    "graduateProgram"
   ]
  },
  {
   "cell_type": "code",
   "execution_count": 135,
   "id": "f12edaa1",
   "metadata": {},
   "outputs": [
    {
     "name": "stdout",
     "output_type": "stream",
     "text": [
      "+---+------+---------------------+---------------------+\n",
      "|id |degree|dept                 |school               |\n",
      "+---+------+---------------------+---------------------+\n",
      "|0  |MBA   |School of MBA        |Penn State University|\n",
      "|1  |Ph.D  |Computer Science     |Stanford University  |\n",
      "|2  |Ph.D  |School of Information|Oklhama University   |\n",
      "+---+------+---------------------+---------------------+\n",
      "\n"
     ]
    }
   ],
   "source": [
    "graduateProgram.show(truncate=False)"
   ]
  },
  {
   "cell_type": "code",
   "execution_count": 136,
   "id": "bad3a175",
   "metadata": {},
   "outputs": [],
   "source": [
    "roleStatus=spark.createDataFrame(\n",
    "    [\n",
    "        (500, 'President'),\n",
    "        (250, 'Founder'),\n",
    "        (100, 'Director')\n",
    "    ]\n",
    ").toDF('id', 'status')"
   ]
  },
  {
   "cell_type": "code",
   "execution_count": 137,
   "id": "1f2fb505",
   "metadata": {},
   "outputs": [
    {
     "data": {
      "text/plain": [
       "DataFrame[id: bigint, status: string]"
      ]
     },
     "execution_count": 137,
     "metadata": {},
     "output_type": "execute_result"
    }
   ],
   "source": [
    "roleStatus"
   ]
  },
  {
   "cell_type": "code",
   "execution_count": 138,
   "id": "d6f2a47c",
   "metadata": {},
   "outputs": [
    {
     "name": "stdout",
     "output_type": "stream",
     "text": [
      "+---+---------+\n",
      "|id |status   |\n",
      "+---+---------+\n",
      "|500|President|\n",
      "|250|Founder  |\n",
      "|100|Director |\n",
      "+---+---------+\n",
      "\n"
     ]
    }
   ],
   "source": [
    "roleStatus.show(truncate=False)"
   ]
  },
  {
   "cell_type": "code",
   "execution_count": 139,
   "id": "24c27abf",
   "metadata": {},
   "outputs": [],
   "source": [
    "# tempView is for one spark session\n",
    "# globalView is when you have multiple spark sessions\n",
    "person.createOrReplaceTempView('personTbl')\n",
    "graduateProgram.createOrReplaceTempView('graduateProgramTbl')\n",
    "roleStatus.createOrReplaceTempView('roleStatusTbl')"
   ]
  },
  {
   "cell_type": "code",
   "execution_count": 140,
   "id": "7ed5f692",
   "metadata": {},
   "outputs": [
    {
     "name": "stdout",
     "output_type": "stream",
     "text": [
      "+---+-------------+----------------+---------------+---+------+---------------------+---------------------+\n",
      "|id |name         |graduate_program|role_status    |id |degree|dept                 |school               |\n",
      "+---+-------------+----------------+---------------+---+------+---------------------+---------------------+\n",
      "|0  |Sundar Pichai|0               |[250, 100]     |0  |MBA   |School of MBA        |Penn State University|\n",
      "|1  |Sergery      |1               |[500, 250, 100]|1  |Ph.D  |Computer Science     |Stanford University  |\n",
      "|2  |William Oak  |2               |[100]          |2  |Ph.D  |School of Information|Oklhama University   |\n",
      "+---+-------------+----------------+---------------+---+------+---------------------+---------------------+\n",
      "\n"
     ]
    }
   ],
   "source": [
    "joinExpression=person['graduate_program'] == graduateProgram['id']\n",
    "person.join(graduateProgram, joinExpression).show(truncate=False)"
   ]
  },
  {
   "cell_type": "code",
   "execution_count": 141,
   "id": "8542554c",
   "metadata": {},
   "outputs": [
    {
     "name": "stdout",
     "output_type": "stream",
     "text": [
      "+---+-------------+----------------+---------------+---+------+---------------------+---------------------+\n",
      "|id |name         |graduate_program|role_status    |id |degree|dept                 |school               |\n",
      "+---+-------------+----------------+---------------+---+------+---------------------+---------------------+\n",
      "|0  |Sundar Pichai|0               |[250, 100]     |0  |MBA   |School of MBA        |Penn State University|\n",
      "|1  |Sergery      |1               |[500, 250, 100]|1  |Ph.D  |Computer Science     |Stanford University  |\n",
      "|2  |William Oak  |2               |[100]          |2  |Ph.D  |School of Information|Oklhama University   |\n",
      "+---+-------------+----------------+---------------+---+------+---------------------+---------------------+\n",
      "\n"
     ]
    }
   ],
   "source": [
    "spark.sql('''\n",
    "    select * from personTbl join graduateProgramTbl\n",
    "    on personTbl.graduate_program=graduateProgramTbl.id\n",
    "''').show(truncate=False)"
   ]
  },
  {
   "cell_type": "code",
   "execution_count": 142,
   "id": "434c38d2",
   "metadata": {},
   "outputs": [
    {
     "name": "stdout",
     "output_type": "stream",
     "text": [
      "+---+-------------+----------------+---------------+---+------+---------------------+---------------------+\n",
      "|id |name         |graduate_program|role_status    |id |degree|dept                 |school               |\n",
      "+---+-------------+----------------+---------------+---+------+---------------------+---------------------+\n",
      "|0  |Sundar Pichai|0               |[250, 100]     |0  |MBA   |School of MBA        |Penn State University|\n",
      "|1  |Sergery      |1               |[500, 250, 100]|1  |Ph.D  |Computer Science     |Stanford University  |\n",
      "|2  |William Oak  |2               |[100]          |2  |Ph.D  |School of Information|Oklhama University   |\n",
      "+---+-------------+----------------+---------------+---+------+---------------------+---------------------+\n",
      "\n"
     ]
    }
   ],
   "source": [
    "joinType='inner'\n",
    "person.join(graduateProgram, joinExpression, joinType).show(truncate=False)"
   ]
  },
  {
   "cell_type": "code",
   "execution_count": 143,
   "id": "026027e0",
   "metadata": {},
   "outputs": [
    {
     "name": "stdout",
     "output_type": "stream",
     "text": [
      "+---+-------------+----------------+---------------+---+------+---------------------+---------------------+\n",
      "|id |name         |graduate_program|role_status    |id |degree|dept                 |school               |\n",
      "+---+-------------+----------------+---------------+---+------+---------------------+---------------------+\n",
      "|0  |Sundar Pichai|0               |[250, 100]     |0  |MBA   |School of MBA        |Penn State University|\n",
      "|1  |Sergery      |1               |[500, 250, 100]|1  |Ph.D  |Computer Science     |Stanford University  |\n",
      "|2  |William Oak  |2               |[100]          |2  |Ph.D  |School of Information|Oklhama University   |\n",
      "+---+-------------+----------------+---------------+---+------+---------------------+---------------------+\n",
      "\n"
     ]
    }
   ],
   "source": [
    "joinType='outer'\n",
    "person.join(graduateProgram, joinExpression, joinType).show(truncate=False)"
   ]
  },
  {
   "cell_type": "code",
   "execution_count": 144,
   "id": "2713a914",
   "metadata": {},
   "outputs": [
    {
     "name": "stdout",
     "output_type": "stream",
     "text": [
      "+---+-------------+----------------+---------------+---+------+---------------------+---------------------+\n",
      "|id |name         |graduate_program|role_status    |id |degree|dept                 |school               |\n",
      "+---+-------------+----------------+---------------+---+------+---------------------+---------------------+\n",
      "|0  |Sundar Pichai|0               |[250, 100]     |0  |MBA   |School of MBA        |Penn State University|\n",
      "|1  |Sergery      |1               |[500, 250, 100]|1  |Ph.D  |Computer Science     |Stanford University  |\n",
      "|2  |William Oak  |2               |[100]          |2  |Ph.D  |School of Information|Oklhama University   |\n",
      "+---+-------------+----------------+---------------+---+------+---------------------+---------------------+\n",
      "\n"
     ]
    }
   ],
   "source": [
    "joinType='left_outer'\n",
    "person.join(graduateProgram, joinExpression, joinType).show(truncate=False)"
   ]
  },
  {
   "cell_type": "code",
   "execution_count": 145,
   "id": "31fc41cf",
   "metadata": {},
   "outputs": [
    {
     "name": "stdout",
     "output_type": "stream",
     "text": [
      "+---+-------------+----------------+---------------+---+------+---------------------+---------------------+\n",
      "|id |name         |graduate_program|role_status    |id |degree|dept                 |school               |\n",
      "+---+-------------+----------------+---------------+---+------+---------------------+---------------------+\n",
      "|0  |Sundar Pichai|0               |[250, 100]     |0  |MBA   |School of MBA        |Penn State University|\n",
      "|1  |Sergery      |1               |[500, 250, 100]|1  |Ph.D  |Computer Science     |Stanford University  |\n",
      "|2  |William Oak  |2               |[100]          |2  |Ph.D  |School of Information|Oklhama University   |\n",
      "+---+-------------+----------------+---------------+---+------+---------------------+---------------------+\n",
      "\n"
     ]
    }
   ],
   "source": [
    "joinType='right_outer'\n",
    "person.join(graduateProgram, joinExpression, joinType).show(truncate=False)"
   ]
  },
  {
   "cell_type": "code",
   "execution_count": 146,
   "id": "30073a18",
   "metadata": {},
   "outputs": [
    {
     "name": "stdout",
     "output_type": "stream",
     "text": [
      "+--------+-------------+----------------+---------------+---+---------+\n",
      "|personId|name         |graduate_program|role_status    |id |status   |\n",
      "+--------+-------------+----------------+---------------+---+---------+\n",
      "|0       |Sundar Pichai|0               |[250, 100]     |250|Founder  |\n",
      "|0       |Sundar Pichai|0               |[250, 100]     |100|Director |\n",
      "|1       |Sergery      |1               |[500, 250, 100]|500|President|\n",
      "|1       |Sergery      |1               |[500, 250, 100]|250|Founder  |\n",
      "|1       |Sergery      |1               |[500, 250, 100]|100|Director |\n",
      "|2       |William Oak  |2               |[100]          |100|Director |\n",
      "+--------+-------------+----------------+---------------+---+---------+\n",
      "\n"
     ]
    }
   ],
   "source": [
    "from pyspark.sql.functions import expr\n",
    "person.withColumnRenamed('id', 'personId').join(roleStatus, expr('array_contains(role_status, id)')).show(truncate=False)"
   ]
  },
  {
   "cell_type": "code",
   "execution_count": 147,
   "id": "22be18ab",
   "metadata": {},
   "outputs": [
    {
     "name": "stdout",
     "output_type": "stream",
     "text": [
      "+--------+-------------+----------------+---------------+---+---------+\n",
      "|personId|name         |graduate_program|role_status    |id |status   |\n",
      "+--------+-------------+----------------+---------------+---+---------+\n",
      "|0       |Sundar Pichai|0               |[250, 100]     |250|Founder  |\n",
      "|0       |Sundar Pichai|0               |[250, 100]     |100|Director |\n",
      "|1       |Sergery      |1               |[500, 250, 100]|500|President|\n",
      "|1       |Sergery      |1               |[500, 250, 100]|250|Founder  |\n",
      "|1       |Sergery      |1               |[500, 250, 100]|100|Director |\n",
      "|2       |William Oak  |2               |[100]          |100|Director |\n",
      "+--------+-------------+----------------+---------------+---+---------+\n",
      "\n"
     ]
    }
   ],
   "source": [
    "spark.sql('''\n",
    "    select * from \n",
    "    (select id as personId, name, graduate_program, role_status from personTbl)\n",
    "    inner join roleStatusTbl on array_contains(role_status, id)\n",
    "''').show(truncate=False)"
   ]
  },
  {
   "cell_type": "code",
   "execution_count": 148,
   "id": "80a5d487",
   "metadata": {},
   "outputs": [
    {
     "data": {
      "text/plain": [
       "550068"
      ]
     },
     "execution_count": 148,
     "metadata": {},
     "output_type": "execute_result"
    }
   ],
   "source": [
    "trainDF.count()"
   ]
  },
  {
   "cell_type": "code",
   "execution_count": 149,
   "id": "ed86e2c8",
   "metadata": {},
   "outputs": [],
   "source": [
    "sample1=trainDF.sample(False, 0.1, 1234)\n",
    "sample2=trainDF.sample(False, 0.1, 2345)"
   ]
  },
  {
   "cell_type": "code",
   "execution_count": 150,
   "id": "14912083",
   "metadata": {},
   "outputs": [
    {
     "data": {
      "text/plain": [
       "55488"
      ]
     },
     "execution_count": 150,
     "metadata": {},
     "output_type": "execute_result"
    }
   ],
   "source": [
    "sample1.count()"
   ]
  },
  {
   "cell_type": "code",
   "execution_count": 151,
   "id": "ffaa0086",
   "metadata": {},
   "outputs": [
    {
     "data": {
      "text/plain": [
       "54712"
      ]
     },
     "execution_count": 151,
     "metadata": {},
     "output_type": "execute_result"
    }
   ],
   "source": [
    "sample2.count()"
   ]
  },
  {
   "cell_type": "code",
   "execution_count": 152,
   "id": "20fef89e",
   "metadata": {},
   "outputs": [],
   "source": [
    "splitDF=trainDF.randomSplit([0.7, 0.3], seed=8787)"
   ]
  },
  {
   "cell_type": "code",
   "execution_count": 153,
   "id": "7f484578",
   "metadata": {},
   "outputs": [
    {
     "data": {
      "text/plain": [
       "list"
      ]
     },
     "execution_count": 153,
     "metadata": {},
     "output_type": "execute_result"
    }
   ],
   "source": [
    "type(splitDF)"
   ]
  },
  {
   "cell_type": "code",
   "execution_count": 154,
   "id": "0d96ea0b",
   "metadata": {},
   "outputs": [
    {
     "data": {
      "text/plain": [
       "[DataFrame[User_ID: int, Product_ID: string, Gender: string, Age: string, Occupation: int, City_Category: string, Stay_In_Current_City_Years: string, Marital_Status: int, Product_Category_1: int, Product_Category_2: int, Product_Category_3: int, Purchase: int, ConstantOne: int],\n",
       " DataFrame[User_ID: int, Product_ID: string, Gender: string, Age: string, Occupation: int, City_Category: string, Stay_In_Current_City_Years: string, Marital_Status: int, Product_Category_1: int, Product_Category_2: int, Product_Category_3: int, Purchase: int, ConstantOne: int]]"
      ]
     },
     "execution_count": 154,
     "metadata": {},
     "output_type": "execute_result"
    }
   ],
   "source": [
    "splitDF"
   ]
  },
  {
   "cell_type": "code",
   "execution_count": 155,
   "id": "6c9e0e33",
   "metadata": {},
   "outputs": [
    {
     "data": {
      "text/plain": [
       "[(Row(User_ID=1000001), 1),\n",
       " (Row(User_ID=1000001), 1),\n",
       " (Row(User_ID=1000001), 1),\n",
       " (Row(User_ID=1000001), 1),\n",
       " (Row(User_ID=1000002), 1)]"
      ]
     },
     "execution_count": 155,
     "metadata": {},
     "output_type": "execute_result"
    }
   ],
   "source": [
    "trainDF.select('User_ID').rdd.map(lambda x: (x, 1)).take(5)"
   ]
  },
  {
   "cell_type": "code",
   "execution_count": 156,
   "id": "a9b8f194",
   "metadata": {},
   "outputs": [
    {
     "name": "stdout",
     "output_type": "stream",
     "text": [
      "+-------+----------+------+-----+----------+-------------+--------------------------+--------------+------------------+------------------+------------------+--------+-----------+\n",
      "|User_ID|Product_ID|Gender|  Age|Occupation|City_Category|Stay_In_Current_City_Years|Marital_Status|Product_Category_1|Product_Category_2|Product_Category_3|Purchase|ConstantOne|\n",
      "+-------+----------+------+-----+----------+-------------+--------------------------+--------------+------------------+------------------+------------------+--------+-----------+\n",
      "|1002272| P00052842|     M|26-35|         0|            C|                         1|             0|                10|                15|              null|   23961|          1|\n",
      "|1003160| P00052842|     M|26-35|        17|            C|                         3|             0|                10|                15|              null|   23961|          1|\n",
      "|1001474| P00052842|     M|26-35|         4|            A|                         2|             1|                10|                15|              null|   23961|          1|\n",
      "|1003045| P00052842|     M|46-50|         1|            B|                         2|             1|                10|                15|              null|   23960|          1|\n",
      "|1005848| P00119342|     M|51-55|        20|            A|                         0|             1|                10|                13|              null|   23960|          1|\n",
      "|1001577| P00052842|     M|  55+|         0|            C|                         1|             1|                10|                15|              null|   23960|          1|\n",
      "|1005596| P00117642|     M|36-45|        12|            B|                         1|             0|                10|                16|              null|   23960|          1|\n",
      "|1003947| P00116142|     M|26-35|         0|            C|                         3|             0|                10|                13|                16|   23959|          1|\n",
      "|1001387| P00086242|     F|51-55|        13|            B|                         1|             1|                10|              null|              null|   23959|          1|\n",
      "|1001178| P00116142|     M|  55+|         0|            C|                         1|             1|                10|                13|                16|   23958|          1|\n",
      "|1005367| P00085342|     M|18-25|         4|            A|                         1|             0|                10|                13|              null|   23958|          1|\n",
      "|1003511| P00085342|     M|51-55|         0|            C|                         2|             1|                10|                13|              null|   23958|          1|\n",
      "|1004117| P00161842|     M|18-25|         4|            B|                        4+|             0|                10|                13|                16|   23958|          1|\n",
      "|1005102| P00052842|     M|26-35|        12|            C|                         2|             0|                10|                15|              null|   23956|          1|\n",
      "|1005716| P00052842|     M| 0-17|        10|            C|                        4+|             0|                10|                15|              null|   23955|          1|\n",
      "|1002359| P00085342|     M|  55+|        13|            C|                         1|             1|                10|                13|              null|   23955|          1|\n",
      "|1003301| P00086242|     F|26-35|         2|            B|                         3|             0|                10|              null|              null|   23955|          1|\n",
      "|1002788| P00085342|     M|  55+|         1|            B|                         0|             1|                10|                13|              null|   23954|          1|\n",
      "|1002274| P00052842|     M|18-25|         2|            B|                         3|             0|                10|                15|              null|   23954|          1|\n",
      "|1004520| P00116142|     M|26-35|         4|            C|                         1|             1|                10|                13|                16|   23953|          1|\n",
      "+-------+----------+------+-----+----------+-------------+--------------------------+--------------+------------------+------------------+------------------+--------+-----------+\n",
      "only showing top 20 rows\n",
      "\n"
     ]
    }
   ],
   "source": [
    "trainDF.orderBy(trainDF.Purchase.desc()).show()"
   ]
  },
  {
   "cell_type": "code",
   "execution_count": 157,
   "id": "981ec1bc",
   "metadata": {},
   "outputs": [],
   "source": [
    "not_count_cat = diff_cat_in_test_train.rdd.map(lambda x: x[0]).collect()"
   ]
  },
  {
   "cell_type": "code",
   "execution_count": 158,
   "id": "f2430392",
   "metadata": {},
   "outputs": [
    {
     "data": {
      "text/plain": [
       "['P00300142',\n",
       " 'P00077642',\n",
       " 'P00092742',\n",
       " 'P00082142',\n",
       " 'P00062542',\n",
       " 'P00013042',\n",
       " 'P00279042',\n",
       " 'P00227242',\n",
       " 'P00359842',\n",
       " 'P00061642',\n",
       " 'P0099542',\n",
       " 'P00306842',\n",
       " 'P00140842',\n",
       " 'P00165542',\n",
       " 'P00268942',\n",
       " 'P00236842',\n",
       " 'P00172942',\n",
       " 'P00012642',\n",
       " 'P00336842',\n",
       " 'P00105742',\n",
       " 'P00309842',\n",
       " 'P00100242',\n",
       " 'P00315342',\n",
       " 'P00168242',\n",
       " 'P00156942',\n",
       " 'P00039042',\n",
       " 'P00056942',\n",
       " 'P00322642',\n",
       " 'P00249942',\n",
       " 'P00294942',\n",
       " 'P00106242',\n",
       " 'P00239542',\n",
       " 'P00074942',\n",
       " 'P00030342',\n",
       " 'P00063942',\n",
       " 'P00042642',\n",
       " 'P00322842',\n",
       " 'P00038942',\n",
       " 'P00270342',\n",
       " 'P00312642',\n",
       " 'P00166542',\n",
       " 'P00082642',\n",
       " 'P00253842',\n",
       " 'P00062242',\n",
       " 'P00058842',\n",
       " 'P00204642']"
      ]
     },
     "execution_count": 158,
     "metadata": {},
     "output_type": "execute_result"
    }
   ],
   "source": [
    "not_count_cat"
   ]
  },
  {
   "cell_type": "code",
   "execution_count": 159,
   "id": "2a26df80",
   "metadata": {},
   "outputs": [],
   "source": [
    "from pyspark.sql.functions import udf\n",
    "from pyspark.sql.types import StringType\n",
    "\n",
    "Function1=udf(lambda x: '-1' if x in not_count_cat else x, StringType())"
   ]
  },
  {
   "cell_type": "code",
   "execution_count": 160,
   "id": "bb4398d8",
   "metadata": {},
   "outputs": [],
   "source": [
    "k=testDF.withColumn('NewProductId', Function1(testDF['ProductId'])).select('NewProductId')"
   ]
  },
  {
   "cell_type": "code",
   "execution_count": 161,
   "id": "d2f76262",
   "metadata": {},
   "outputs": [
    {
     "name": "stdout",
     "output_type": "stream",
     "text": [
      "+------------+\n",
      "|NewProductId|\n",
      "+------------+\n",
      "|          -1|\n",
      "|          -1|\n",
      "|          -1|\n",
      "+------------+\n",
      "only showing top 3 rows\n",
      "\n"
     ]
    }
   ],
   "source": [
    "k.where(k['NewProductId']==-1).show(3)"
   ]
  },
  {
   "cell_type": "code",
   "execution_count": 162,
   "id": "978ca05b",
   "metadata": {},
   "outputs": [
    {
     "name": "stdout",
     "output_type": "stream",
     "text": [
      "+-------------+--------------+\n",
      "|round(2.5, 0)|bround(2.5, 0)|\n",
      "+-------------+--------------+\n",
      "|          3.0|           2.0|\n",
      "|          3.0|           2.0|\n",
      "+-------------+--------------+\n",
      "only showing top 2 rows\n",
      "\n"
     ]
    }
   ],
   "source": [
    "from pyspark.sql.functions import lit, round, bround\n",
    "trainDF.select(round(lit('2.5')), bround(lit('2.5'))).show(2)"
   ]
  },
  {
   "cell_type": "code",
   "execution_count": 163,
   "id": "3b7f35c0",
   "metadata": {},
   "outputs": [
    {
     "name": "stdout",
     "output_type": "stream",
     "text": [
      "+-------------+-------------+--------------+--------------+\n",
      "|round(2.9, 0)|round(2.5, 0)|bround(2.4, 0)|bround(2.9, 0)|\n",
      "+-------------+-------------+--------------+--------------+\n",
      "|            3|            3|             2|             3|\n",
      "+-------------+-------------+--------------+--------------+\n",
      "\n"
     ]
    }
   ],
   "source": [
    "spark.sql('select round(2.9), round(2.5), bround(2.4), bround(2.9)').show(3)"
   ]
  },
  {
   "cell_type": "code",
   "execution_count": 164,
   "id": "4ff5d0e1",
   "metadata": {},
   "outputs": [
    {
     "name": "stdout",
     "output_type": "stream",
     "text": [
      "+-------------+--------------+\n",
      "|round(2.5, 0)|bround(2.5, 0)|\n",
      "+-------------+--------------+\n",
      "|            3|             2|\n",
      "+-------------+--------------+\n",
      "\n"
     ]
    }
   ],
   "source": [
    "spark.sql('select round(2.5), bround(2.5)').show(2)"
   ]
  },
  {
   "cell_type": "code",
   "execution_count": 165,
   "id": "07e8aa61",
   "metadata": {},
   "outputs": [
    {
     "name": "stdout",
     "output_type": "stream",
     "text": [
      "+------+------+-----+-------+-------+\n",
      "| ltrim| rtrim| trim|   lpad|   rpad|\n",
      "+------+------+-----+-------+-------+\n",
      "|HELLO | HELLO|HELLO|  HELLO|HELLO  |\n",
      "|HELLO | HELLO|HELLO|  HELLO|HELLO  |\n",
      "+------+------+-----+-------+-------+\n",
      "only showing top 2 rows\n",
      "\n"
     ]
    }
   ],
   "source": [
    "# String Manipulations\n",
    "\n",
    "from pyspark.sql.functions import lit, ltrim, rtrim, lpad, rpad, trim\n",
    "trainDF.select(\n",
    "    ltrim(lit(\" HELLO \")).alias('ltrim'),\n",
    "    rtrim(lit(\" HELLO \")).alias('rtrim'),\n",
    "    trim(lit(\" HELLO \")).alias('trim'),\n",
    "    lpad(lit(\"HELLO\"),7,\" \").alias('lpad'),\n",
    "    rpad(lit(\"HELLO\"),7,\" \").alias('rpad')\n",
    ").show(2)"
   ]
  },
  {
   "cell_type": "code",
   "execution_count": 166,
   "id": "3f6cde7c",
   "metadata": {},
   "outputs": [
    {
     "name": "stdout",
     "output_type": "stream",
     "text": [
      "+----------------+----------------+---------------+-----------------+------------------+\n",
      "|ltrim(  HELLO  )|rtrim(  HELLO  )|trim(  HELLO  )|lpad(HELLO, 3,  )|rpad(HELLO, 10,  )|\n",
      "+----------------+----------------+---------------+-----------------+------------------+\n",
      "|         HELLO  |           HELLO|          HELLO|              HEL|        HELLO     |\n",
      "|         HELLO  |           HELLO|          HELLO|              HEL|        HELLO     |\n",
      "|         HELLO  |           HELLO|          HELLO|              HEL|        HELLO     |\n",
      "+----------------+----------------+---------------+-----------------+------------------+\n",
      "only showing top 3 rows\n",
      "\n"
     ]
    }
   ],
   "source": [
    "spark.sql('''\n",
    "    select \n",
    "    ltrim('  HELLO  '),\n",
    "    rtrim('  HELLO  '),\n",
    "    trim('  HELLO  '),\n",
    "    lpad('HELLO',3,\" \"),\n",
    "    rpad('HELLO',10,\" \")\n",
    "    from trainDFTable\n",
    "''').show(3)"
   ]
  },
  {
   "cell_type": "code",
   "execution_count": 167,
   "id": "df8b5b91",
   "metadata": {},
   "outputs": [
    {
     "name": "stdout",
     "output_type": "stream",
     "text": [
      "+--------------+------+\n",
      "| GENDER_DECODE|GENDER|\n",
      "+--------------+------+\n",
      "|MALE_OR_FEMALE|     F|\n",
      "|MALE_OR_FEMALE|     F|\n",
      "|MALE_OR_FEMALE|     F|\n",
      "|MALE_OR_FEMALE|     F|\n",
      "|MALE_OR_FEMALE|     M|\n",
      "+--------------+------+\n",
      "only showing top 5 rows\n",
      "\n"
     ]
    }
   ],
   "source": [
    "from pyspark.sql.functions import regexp_replace\n",
    "regex_string='F|M'\n",
    "\n",
    "trainDF.select(\n",
    "    regexp_replace(col('Gender'), regex_string, 'MALE_OR_FEMALE').alias('GENDER_DECODE'), col('GENDER')\n",
    ").show(5)"
   ]
  },
  {
   "cell_type": "code",
   "execution_count": 184,
   "id": "be2e2eb8",
   "metadata": {},
   "outputs": [
    {
     "name": "stdout",
     "output_type": "stream",
     "text": [
      "+--------------+------+\n",
      "| DECODE_GENDER|Gender|\n",
      "+--------------+------+\n",
      "|MALE_OR_FEMALE|     F|\n",
      "|MALE_OR_FEMALE|     F|\n",
      "|MALE_OR_FEMALE|     F|\n",
      "|MALE_OR_FEMALE|     F|\n",
      "+--------------+------+\n",
      "only showing top 4 rows\n",
      "\n"
     ]
    }
   ],
   "source": [
    "spark.sql('''\n",
    "    select \n",
    "    regexp_replace(Gender, \"F|M\", \"MALE_OR_FEMALE\") as DECODE_GENDER, Gender from trainDFTable\n",
    "''').show(4)"
   ]
  },
  {
   "cell_type": "code",
   "execution_count": 196,
   "id": "e5eab895",
   "metadata": {},
   "outputs": [
    {
     "name": "stdout",
     "output_type": "stream",
     "text": [
      "+-------------------------+------+\n",
      "|translate(Gender, FM, 01)|Gender|\n",
      "+-------------------------+------+\n",
      "|                        0|     F|\n",
      "|                        0|     F|\n",
      "|                        0|     F|\n",
      "|                        0|     F|\n",
      "|                        1|     M|\n",
      "|                        1|     M|\n",
      "|                        1|     M|\n",
      "|                        1|     M|\n",
      "|                        1|     M|\n",
      "|                        1|     M|\n",
      "+-------------------------+------+\n",
      "only showing top 10 rows\n",
      "\n"
     ]
    }
   ],
   "source": [
    "from pyspark.sql.functions import translate\n",
    "\n",
    "trainDF.select(\n",
    "    translate(col(\"Gender\"), \"FM\", \"01\"),\n",
    "    col(\"Gender\")\n",
    ").show(10)"
   ]
  },
  {
   "cell_type": "code",
   "execution_count": 185,
   "id": "84ac4952",
   "metadata": {},
   "outputs": [
    {
     "name": "stdout",
     "output_type": "stream",
     "text": [
      "+-------------+------+\n",
      "|DECODE_GENDER|Gender|\n",
      "+-------------+------+\n",
      "|            0|     F|\n",
      "|            0|     F|\n",
      "|            0|     F|\n",
      "|            0|     F|\n",
      "|            1|     M|\n",
      "|            1|     M|\n",
      "|            1|     M|\n",
      "|            1|     M|\n",
      "|            1|     M|\n",
      "|            1|     M|\n",
      "+-------------+------+\n",
      "only showing top 10 rows\n",
      "\n"
     ]
    }
   ],
   "source": [
    "from pyspark.sql.functions import translate\n",
    "\n",
    "trainDF.select(\n",
    "    translate(col(\"Gender\"), \"FM\", \"01\").alias(\"DECODE_GENDER\"),\n",
    "    col(\"Gender\")\n",
    ").show(10)\n"
   ]
  },
  {
   "cell_type": "code",
   "execution_count": 170,
   "id": "ca863a6d",
   "metadata": {},
   "outputs": [
    {
     "name": "stdout",
     "output_type": "stream",
     "text": [
      "+---+----------+--------------------------+\n",
      "|id |today     |now                       |\n",
      "+---+----------+--------------------------+\n",
      "|0  |2023-04-13|2023-04-13 10:29:18.837382|\n",
      "|1  |2023-04-13|2023-04-13 10:29:18.837382|\n",
      "|2  |2023-04-13|2023-04-13 10:29:18.837382|\n",
      "+---+----------+--------------------------+\n",
      "only showing top 3 rows\n",
      "\n"
     ]
    }
   ],
   "source": [
    "from pyspark.sql.functions import current_date,current_timestamp\n",
    "df_date =spark.range(10).withColumn(\"today\",current_date()).withColumn(\"now\",current_timestamp())\n",
    "df_date.show(3,truncate=False)\n",
    "\n"
   ]
  },
  {
   "cell_type": "code",
   "execution_count": 206,
   "id": "31767c57",
   "metadata": {},
   "outputs": [],
   "source": [
    "df_date.createOrReplaceTempView('dataDFTable')"
   ]
  },
  {
   "cell_type": "code",
   "execution_count": 207,
   "id": "1c1e69cf",
   "metadata": {},
   "outputs": [
    {
     "name": "stdout",
     "output_type": "stream",
     "text": [
      "+------------------+------------------+\n",
      "|date_sub(today, 5)|date_add(today, 5)|\n",
      "+------------------+------------------+\n",
      "|        2023-04-08|        2023-04-18|\n",
      "|        2023-04-08|        2023-04-18|\n",
      "|        2023-04-08|        2023-04-18|\n",
      "|        2023-04-08|        2023-04-18|\n",
      "|        2023-04-08|        2023-04-18|\n",
      "+------------------+------------------+\n",
      "only showing top 5 rows\n",
      "\n"
     ]
    }
   ],
   "source": [
    "from pyspark.sql.functions import col\n",
    "from pyspark.sql.functions import date_add,date_sub\n",
    "df_date.select(date_sub(col(\"today\"),5),date_add(col(\"today\"),5)).show(5)"
   ]
  },
  {
   "cell_type": "code",
   "execution_count": 208,
   "id": "c3f49ac8",
   "metadata": {},
   "outputs": [
    {
     "name": "stdout",
     "output_type": "stream",
     "text": [
      "+------------------+------------------+\n",
      "|date_sub(today, 5)|date_add(today, 5)|\n",
      "+------------------+------------------+\n",
      "|        2023-04-08|        2023-04-18|\n",
      "|        2023-04-08|        2023-04-18|\n",
      "|        2023-04-08|        2023-04-18|\n",
      "|        2023-04-08|        2023-04-18|\n",
      "|        2023-04-08|        2023-04-18|\n",
      "|        2023-04-08|        2023-04-18|\n",
      "|        2023-04-08|        2023-04-18|\n",
      "|        2023-04-08|        2023-04-18|\n",
      "|        2023-04-08|        2023-04-18|\n",
      "|        2023-04-08|        2023-04-18|\n",
      "+------------------+------------------+\n",
      "\n"
     ]
    }
   ],
   "source": [
    "spark.sql('''\n",
    "    select \n",
    "    date_sub(today, 5),\n",
    "    date_add(today, 5)\n",
    "    from dataDFTable\n",
    "''').show()"
   ]
  },
  {
   "cell_type": "code",
   "execution_count": 209,
   "id": "474b6c44",
   "metadata": {},
   "outputs": [
    {
     "name": "stdout",
     "output_type": "stream",
     "text": [
      "+-------------------------+\n",
      "|datediff(week_ago, today)|\n",
      "+-------------------------+\n",
      "|                       -7|\n",
      "|                       -7|\n",
      "|                       -7|\n",
      "|                       -7|\n",
      "+-------------------------+\n",
      "only showing top 4 rows\n",
      "\n"
     ]
    }
   ],
   "source": [
    "from pyspark.sql.functions import datediff, months_between, to_date\n",
    "df_date.withColumn('week_ago', date_sub(col('today'),7)).select(datediff(col('week_ago'),col('today'))).show(4)"
   ]
  },
  {
   "cell_type": "code",
   "execution_count": 210,
   "id": "aad06596",
   "metadata": {},
   "outputs": [
    {
     "name": "stdout",
     "output_type": "stream",
     "text": [
      "+--------------------------------+\n",
      "|months_between(start, end, true)|\n",
      "+--------------------------------+\n",
      "|                    -21.67741935|\n",
      "|                    -21.67741935|\n",
      "|                    -21.67741935|\n",
      "|                    -21.67741935|\n",
      "|                    -21.67741935|\n",
      "+--------------------------------+\n",
      "only showing top 5 rows\n",
      "\n"
     ]
    }
   ],
   "source": [
    "# same as above.\n",
    "df_date.select(\n",
    "to_date(lit(\"2019-02-20\")).alias(\"start\"),\n",
    "to_date(lit(\"2020-12-10\")).alias(\"end\"))\\\n",
    ".select(months_between(col(\"start\"),col(\"end\"))).show(5)"
   ]
  },
  {
   "cell_type": "code",
   "execution_count": 213,
   "id": "1a668323",
   "metadata": {},
   "outputs": [
    {
     "name": "stdout",
     "output_type": "stream",
     "text": [
      "+-------------------+--------------------------------------------+--------------------------------+\n",
      "|to_date(2019-02-20)|months_between(2019-02-20, 2020-11-10, true)|datediff(2020-02-20, 2020-11-10)|\n",
      "+-------------------+--------------------------------------------+--------------------------------+\n",
      "|         2019-02-20|                                -20.67741935|                            -264|\n",
      "|         2019-02-20|                                -20.67741935|                            -264|\n",
      "|         2019-02-20|                                -20.67741935|                            -264|\n",
      "|         2019-02-20|                                -20.67741935|                            -264|\n",
      "|         2019-02-20|                                -20.67741935|                            -264|\n",
      "+-------------------+--------------------------------------------+--------------------------------+\n",
      "only showing top 5 rows\n",
      "\n"
     ]
    }
   ],
   "source": [
    "\n",
    "spark.sql('''\n",
    "    select \n",
    "    to_date('2019-02-20'), months_between('2019-02-20', '2020-11-10'), datediff('2020-02-20', '2020-11-10')\n",
    "    from dataDFTable\n",
    "''').show(5)"
   ]
  },
  {
   "cell_type": "code",
   "execution_count": 214,
   "id": "891f822a",
   "metadata": {},
   "outputs": [
    {
     "name": "stdout",
     "output_type": "stream",
     "text": [
      "+-------------------+-------------------+\n",
      "|to_date(2020-20-11)|to_date(2020-11-20)|\n",
      "+-------------------+-------------------+\n",
      "|               null|         2020-11-20|\n",
      "|               null|         2020-11-20|\n",
      "+-------------------+-------------------+\n",
      "only showing top 2 rows\n",
      "\n"
     ]
    }
   ],
   "source": [
    "df_date.select(to_date(lit('2020-20-11')), to_date(lit('2020-11-20'))).show(2)"
   ]
  },
  {
   "cell_type": "code",
   "execution_count": 215,
   "id": "ee460a04",
   "metadata": {},
   "outputs": [],
   "source": [
    "from pyspark.sql.functions import unix_timestamp, from_unixtime\n",
    "dateformat=\"yyyy-dd-MM\"\n",
    "cleandateDF=spark.range(1).select(to_date(unix_timestamp(lit(\"2020-12-11\"),dateformat).cast(\"timestamp\"))\\\n",
    ".alias(\"date\"),\n",
    "to_date(unix_timestamp(lit('2020-20-11'),dateformat).cast(\"timestamp\")).alias(\"date_2\"))"
   ]
  },
  {
   "cell_type": "code",
   "execution_count": 216,
   "id": "7cac4e07",
   "metadata": {},
   "outputs": [
    {
     "name": "stdout",
     "output_type": "stream",
     "text": [
      "+----------+----------+\n",
      "|      date|    date_2|\n",
      "+----------+----------+\n",
      "|2020-11-12|2020-11-20|\n",
      "+----------+----------+\n",
      "\n"
     ]
    }
   ],
   "source": [
    "cleandateDF.show()"
   ]
  },
  {
   "cell_type": "code",
   "execution_count": 217,
   "id": "230ae6e9",
   "metadata": {},
   "outputs": [
    {
     "name": "stdout",
     "output_type": "stream",
     "text": [
      "root\n",
      " |-- date: date (nullable = true)\n",
      " |-- date_2: date (nullable = true)\n",
      "\n"
     ]
    }
   ],
   "source": [
    "cleandateDF.printSchema()"
   ]
  },
  {
   "cell_type": "code",
   "execution_count": 218,
   "id": "260cc3a7",
   "metadata": {},
   "outputs": [],
   "source": [
    "from pyspark.sql.functions import month, year, dayofweek\n",
    "\n",
    "cleanDF = cleandateDF.withColumn('month_col', month('date_2')) \\\n",
    "                    .withColumn('year_col', year('date_2')) \\\n",
    "                    .withColumn('dayOftheWeek', dayofweek('date_2'))\n"
   ]
  },
  {
   "cell_type": "code",
   "execution_count": 219,
   "id": "2c8ebe22",
   "metadata": {},
   "outputs": [
    {
     "name": "stdout",
     "output_type": "stream",
     "text": [
      "+----------+----------+---------+--------+------------+\n",
      "|      date|    date_2|month_col|year_col|dayOftheWeek|\n",
      "+----------+----------+---------+--------+------------+\n",
      "|2020-11-12|2020-11-20|       11|    2020|           6|\n",
      "+----------+----------+---------+--------+------------+\n",
      "\n"
     ]
    }
   ],
   "source": [
    "cleanDF.show()"
   ]
  },
  {
   "cell_type": "code",
   "execution_count": 220,
   "id": "48395c25",
   "metadata": {},
   "outputs": [
    {
     "name": "stdout",
     "output_type": "stream",
     "text": [
      "+--------------------------------------------------------------+-------------+\n",
      "|to_date(CAST(unix_timestamp(date_2, yyyy-dd-MM) AS TIMESTAMP))|to_date(date)|\n",
      "+--------------------------------------------------------------+-------------+\n",
      "|                                                    2020-11-20|   2020-11-12|\n",
      "+--------------------------------------------------------------+-------------+\n",
      "\n"
     ]
    }
   ],
   "source": [
    "cleanDF.createOrReplaceTempView('dateTable2')\n",
    "spark.sql(\"\"\"\n",
    "    select\n",
    "    to_date(cast(unix_timestamp(date_2, 'yyyy-dd-MM') as timestamp)), to_date(date)\n",
    "    from dateTable2\n",
    "\"\"\").show(2)"
   ]
  },
  {
   "cell_type": "code",
   "execution_count": 221,
   "id": "27ce1c5d",
   "metadata": {},
   "outputs": [],
   "source": [
    "textDF=spark.range(10).withColumn('Description', lit('we have a long sentence to be broken'))"
   ]
  },
  {
   "cell_type": "code",
   "execution_count": 222,
   "id": "a349cc4f",
   "metadata": {},
   "outputs": [],
   "source": [
    "my_collection = 'TEK Systems program is Data Engineering and Analytics'.split(' ')\n",
    "words = spark.sparkContext.parallelize(my_collection)"
   ]
  },
  {
   "cell_type": "code",
   "execution_count": 223,
   "id": "363b9cae",
   "metadata": {},
   "outputs": [
    {
     "data": {
      "text/plain": [
       "['TEK', 'Systems', 'program']"
      ]
     },
     "execution_count": 223,
     "metadata": {},
     "output_type": "execute_result"
    }
   ],
   "source": [
    "words.take(3)"
   ]
  },
  {
   "cell_type": "code",
   "execution_count": 224,
   "id": "dd1a0c71",
   "metadata": {},
   "outputs": [],
   "source": [
    "supplementData = {\n",
    "    'Systems': 100,\n",
    "    'program': 250,\n",
    "    'Data': 225,\n",
    "    'Engineering': -100,\n",
    "    'Analytics': 1220\n",
    "}"
   ]
  },
  {
   "cell_type": "code",
   "execution_count": 225,
   "id": "301ac9f0",
   "metadata": {},
   "outputs": [],
   "source": [
    "suppleBroadCast = spark.sparkContext.broadcast(supplementData)"
   ]
  },
  {
   "cell_type": "code",
   "execution_count": 226,
   "id": "1a74b30c",
   "metadata": {},
   "outputs": [
    {
     "data": {
      "text/plain": [
       "{'Systems': 100,\n",
       " 'program': 250,\n",
       " 'Data': 225,\n",
       " 'Engineering': -100,\n",
       " 'Analytics': 1220}"
      ]
     },
     "execution_count": 226,
     "metadata": {},
     "output_type": "execute_result"
    }
   ],
   "source": [
    "suppleBroadCast.value"
   ]
  },
  {
   "cell_type": "code",
   "execution_count": 227,
   "id": "92cfe88e",
   "metadata": {},
   "outputs": [
    {
     "data": {
      "text/plain": [
       "[('Engineering', -100),\n",
       " ('TEK', 0),\n",
       " ('is', 0),\n",
       " ('and', 0),\n",
       " ('Systems', 100),\n",
       " ('Data', 225),\n",
       " ('program', 250),\n",
       " ('Analytics', 1220)]"
      ]
     },
     "execution_count": 227,
     "metadata": {},
     "output_type": "execute_result"
    }
   ],
   "source": [
    "words.map(lambda x: (x, suppleBroadCast.value.get(x, 0))).sortBy(lambda wordPair: wordPair[1]).collect()"
   ]
  },
  {
   "cell_type": "code",
   "execution_count": 228,
   "id": "1669d4ae",
   "metadata": {},
   "outputs": [],
   "source": [
    "cwgDF = spark.read.format('csv').option('header', 'true').option('inferSchema', 'true').load('./XXI_Commonwealth_Games.csv')"
   ]
  },
  {
   "cell_type": "code",
   "execution_count": 229,
   "id": "d65e25b1",
   "metadata": {},
   "outputs": [
    {
     "name": "stdout",
     "output_type": "stream",
     "text": [
      "+---+----------+----------+----+------+------+-----+\n",
      "|Seq|NationCode|NationName|Gold|Silver|Bronze|Total|\n",
      "+---+----------+----------+----+------+------+-----+\n",
      "|  1|       AUS| Australia|  60|    45|    46|  151|\n",
      "|  2|       ENG|   England|  28|    31|    24|   83|\n",
      "+---+----------+----------+----+------+------+-----+\n",
      "only showing top 2 rows\n",
      "\n"
     ]
    }
   ],
   "source": [
    "cwgDF.show(2)"
   ]
  },
  {
   "cell_type": "code",
   "execution_count": 230,
   "id": "b9872192",
   "metadata": {},
   "outputs": [
    {
     "name": "stdout",
     "output_type": "stream",
     "text": [
      "root\n",
      " |-- Seq: integer (nullable = true)\n",
      " |-- NationCode: string (nullable = true)\n",
      " |-- NationName: string (nullable = true)\n",
      " |-- Gold: integer (nullable = true)\n",
      " |-- Silver: integer (nullable = true)\n",
      " |-- Bronze: integer (nullable = true)\n",
      " |-- Total: integer (nullable = true)\n",
      "\n"
     ]
    }
   ],
   "source": [
    "cwgDF.printSchema()"
   ]
  },
  {
   "cell_type": "code",
   "execution_count": 231,
   "id": "72a0db5e",
   "metadata": {},
   "outputs": [],
   "source": [
    "accInd = spark.sparkContext.accumulator(0)"
   ]
  },
  {
   "cell_type": "code",
   "execution_count": 232,
   "id": "3f63747b",
   "metadata": {},
   "outputs": [
    {
     "data": {
      "text/plain": [
       "0"
      ]
     },
     "execution_count": 232,
     "metadata": {},
     "output_type": "execute_result"
    }
   ],
   "source": [
    "accInd.value"
   ]
  },
  {
   "cell_type": "code",
   "execution_count": 234,
   "id": "3ba48f60",
   "metadata": {},
   "outputs": [],
   "source": [
    "def accIndFunc(each_row):\n",
    "    countryCD=each_row['NationCode']\n",
    "    list_ctrys=['IND','PAK','SRI','BAN']\n",
    "    if countryCD in list_ctrys:\n",
    "        accInd.add(each_row['Total'])"
   ]
  },
  {
   "cell_type": "code",
   "execution_count": 235,
   "id": "4524c479",
   "metadata": {},
   "outputs": [],
   "source": [
    "cwgDF.foreach(lambda each_row: accIndFunc(each_row))"
   ]
  },
  {
   "cell_type": "code",
   "execution_count": 236,
   "id": "c4ff586e",
   "metadata": {},
   "outputs": [
    {
     "data": {
      "text/plain": [
       "38"
      ]
     },
     "execution_count": 236,
     "metadata": {},
     "output_type": "execute_result"
    }
   ],
   "source": [
    "accInd.value"
   ]
  },
  {
   "cell_type": "code",
   "execution_count": 237,
   "id": "85059788",
   "metadata": {},
   "outputs": [],
   "source": [
    "tcs_bo_df = spark.read.format('csv')\\\n",
    "            .option('header', 'true')\\\n",
    "            .option('inferSchema', 'true')\\\n",
    "            .load('./TCS_BO.csv')"
   ]
  },
  {
   "cell_type": "code",
   "execution_count": 239,
   "id": "0996ce79",
   "metadata": {},
   "outputs": [
    {
     "name": "stdout",
     "output_type": "stream",
     "text": [
      "+-------------------+---------+---------+---------+---------+---------+------+\n",
      "|               Date|     Open|     High|      Low|    Close|Adj Close|Volume|\n",
      "+-------------------+---------+---------+---------+---------+---------+------+\n",
      "|2002-01-14 00:00:00|38.500000|39.500000|38.062500|38.400002|20.948002| 83688|\n",
      "|2002-01-15 00:00:00|38.112499|38.724998|37.150002|37.412498|20.409311| 47496|\n",
      "|2002-01-16 00:00:00|38.049999|38.500000|37.125000|37.700001|20.566145| 51624|\n",
      "|2002-01-17 00:00:00|36.250000|38.750000|36.250000|38.337502|20.913918| 85840|\n",
      "|2002-01-18 00:00:00|38.750000|39.974998|38.150002|38.549999|21.029835| 78928|\n",
      "+-------------------+---------+---------+---------+---------+---------+------+\n",
      "only showing top 5 rows\n",
      "\n"
     ]
    }
   ],
   "source": [
    "tcs_bo_df.show(5)"
   ]
  },
  {
   "cell_type": "code",
   "execution_count": 240,
   "id": "f4885561",
   "metadata": {},
   "outputs": [
    {
     "name": "stdout",
     "output_type": "stream",
     "text": [
      "root\n",
      " |-- Date: timestamp (nullable = true)\n",
      " |-- Open: string (nullable = true)\n",
      " |-- High: string (nullable = true)\n",
      " |-- Low: string (nullable = true)\n",
      " |-- Close: string (nullable = true)\n",
      " |-- Adj Close: string (nullable = true)\n",
      " |-- Volume: string (nullable = true)\n",
      "\n"
     ]
    }
   ],
   "source": [
    "tcs_bo_df.printSchema()"
   ]
  },
  {
   "cell_type": "code",
   "execution_count": 241,
   "id": "592c9560",
   "metadata": {},
   "outputs": [],
   "source": [
    "tcs_bo_df = tcs_bo_df.select(\n",
    "    col('Date').cast('date'),\n",
    "    col('Open').cast('double'),\n",
    "    col('High').cast('double'),\n",
    "    col('Low').cast('double'),\n",
    "    col('Close').cast('double'),\n",
    "    col('Adj Close').cast('double'),\n",
    "    col('Volume').cast('int'),\n",
    ")"
   ]
  },
  {
   "cell_type": "code",
   "execution_count": 242,
   "id": "e5b64f3f",
   "metadata": {},
   "outputs": [
    {
     "name": "stdout",
     "output_type": "stream",
     "text": [
      "root\n",
      " |-- Date: date (nullable = true)\n",
      " |-- Open: double (nullable = true)\n",
      " |-- High: double (nullable = true)\n",
      " |-- Low: double (nullable = true)\n",
      " |-- Close: double (nullable = true)\n",
      " |-- Adj Close: double (nullable = true)\n",
      " |-- Volume: integer (nullable = true)\n",
      "\n"
     ]
    }
   ],
   "source": [
    "tcs_bo_df.printSchema()"
   ]
  },
  {
   "cell_type": "code",
   "execution_count": 243,
   "id": "5381eae6",
   "metadata": {},
   "outputs": [],
   "source": [
    "tcs_bo_df = tcs_bo_df.withColumnRenamed('Adj Close', 'AdjClose')\n",
    "tcs_bo_df = tcs_bo_df.withColumnRenamed('date', 'StockDate')"
   ]
  },
  {
   "cell_type": "code",
   "execution_count": 256,
   "id": "e8e0d310",
   "metadata": {},
   "outputs": [],
   "source": [
    "# tcs_bo_df.write.format('json').mode('overwrite').save('./tcs_bo.json')"
   ]
  },
  {
   "cell_type": "code",
   "execution_count": 257,
   "id": "ff18f140",
   "metadata": {},
   "outputs": [],
   "source": [
    "# tcs_bo_df.write.format('parquet').mode('overwrite').save('./tcs_bo.parquet')"
   ]
  },
  {
   "cell_type": "code",
   "execution_count": 252,
   "id": "366a6322",
   "metadata": {},
   "outputs": [],
   "source": [
    "tcs_bo_json_df = spark.read.format('json')\\\n",
    "                .option('inferSchema','true')\\\n",
    "                .load('./part-00000-0f4cd396-8c43-4cb5-aef4-809b7d2f5536-c000.json')"
   ]
  },
  {
   "cell_type": "code",
   "execution_count": 253,
   "id": "f9aac6f0",
   "metadata": {},
   "outputs": [
    {
     "name": "stdout",
     "output_type": "stream",
     "text": [
      "+---------+---------+---------+---------+---------+----------+------+\n",
      "| AdjClose|    Close|     High|      Low|     Open|Stock_Date|Volume|\n",
      "+---------+---------+---------+---------+---------+----------+------+\n",
      "|20.948002|38.400002|     39.5|  38.0625|     38.5|2002-01-14| 83688|\n",
      "|20.409311|37.412498|38.724998|37.150002|38.112499|2002-01-15| 47496|\n",
      "|20.566145|37.700001|     38.5|   37.125|38.049999|2002-01-16| 51624|\n",
      "|20.913918|38.337502|    38.75|    36.25|    36.25|2002-01-17| 85840|\n",
      "+---------+---------+---------+---------+---------+----------+------+\n",
      "only showing top 4 rows\n",
      "\n"
     ]
    }
   ],
   "source": [
    "tcs_bo_json_df.show(4)"
   ]
  },
  {
   "cell_type": "code",
   "execution_count": 254,
   "id": "780d84a7",
   "metadata": {},
   "outputs": [],
   "source": [
    "tcs_bo_parquet_df = spark.read.format('parquet')\\\n",
    "                .option('inferSchema','true')\\\n",
    "                .load('./part-00000-bfe36681-0e42-4820-8ed1-58d386cab0a8-c000.snappy.parquet')"
   ]
  },
  {
   "cell_type": "code",
   "execution_count": 255,
   "id": "f97ccd27",
   "metadata": {},
   "outputs": [
    {
     "name": "stdout",
     "output_type": "stream",
     "text": [
      "+----------+---------+---------+---------+---------+---------+------+\n",
      "|Stock_Date|     Open|     High|      Low|    Close| AdjClose|Volume|\n",
      "+----------+---------+---------+---------+---------+---------+------+\n",
      "|2002-01-14|     38.5|     39.5|  38.0625|38.400002|20.948002| 83688|\n",
      "|2002-01-15|38.112499|38.724998|37.150002|37.412498|20.409311| 47496|\n",
      "|2002-01-16|38.049999|     38.5|   37.125|37.700001|20.566145| 51624|\n",
      "|2002-01-17|    36.25|    38.75|    36.25|38.337502|20.913918| 85840|\n",
      "+----------+---------+---------+---------+---------+---------+------+\n",
      "only showing top 4 rows\n",
      "\n"
     ]
    }
   ],
   "source": [
    "tcs_bo_parquet_df.show(4)"
   ]
  },
  {
   "cell_type": "code",
   "execution_count": null,
   "id": "e077c01c",
   "metadata": {},
   "outputs": [],
   "source": []
  }
 ],
 "metadata": {
  "kernelspec": {
   "display_name": "Python 3 (ipykernel)",
   "language": "python",
   "name": "python3"
  },
  "language_info": {
   "codemirror_mode": {
    "name": "ipython",
    "version": 3
   },
   "file_extension": ".py",
   "mimetype": "text/x-python",
   "name": "python",
   "nbconvert_exporter": "python",
   "pygments_lexer": "ipython3",
   "version": "3.9.13"
  }
 },
 "nbformat": 4,
 "nbformat_minor": 5
}
