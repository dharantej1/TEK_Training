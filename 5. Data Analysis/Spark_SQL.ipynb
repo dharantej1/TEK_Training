{
 "cells": [
  {
   "cell_type": "markdown",
   "id": "fe14a2b3",
   "metadata": {},
   "source": [
    "## Spark SQL"
   ]
  },
  {
   "cell_type": "markdown",
   "id": "37db6d26",
   "metadata": {},
   "source": [
    "### Block diagram - Double Click to expand\n",
    "<!--    \n",
    "+----------------------------------------------+\n",
    "|                  User Program                |\n",
    "+----------------------------------------------+\n",
    "                        |\n",
    "                        v\n",
    "+----------------+    +-----------------------+\n",
    "|    Data Source  |    |      SparkSession      |\n",
    "+----------------+    +-----------------------+\n",
    "                        |\n",
    "                        v\n",
    "+----------------+    +-----------------------+\n",
    "|  JDBC/ODBC API |    | Spark SQL Engine / API |\n",
    "+----------------+    +-----------------------+\n",
    "                        |\n",
    "                        v\n",
    "+----------------+    +-----------------------+\n",
    "|     Dataset    |    |    DataFrame / SQL     |\n",
    "+----------------+    +-----------------------+\n",
    "                        |\n",
    "                        v\n",
    "+----------------+    +-----------------------+\n",
    "|    Catalyst     |    |  Spark Core / Cluster  |\n",
    "|    Optimizer    |    +-----------------------+\n",
    "+----------------+               |\n",
    "                                 v\n",
    "+----------------------------------------------+\n",
    "|                    RDDs                      |\n",
    "+----------------------------------------------+\n",
    "\n",
    " -->"
   ]
  },
  {
   "cell_type": "code",
   "execution_count": 1,
   "id": "ea607d51",
   "metadata": {},
   "outputs": [
    {
     "name": "stdout",
     "output_type": "stream",
     "text": [
      "Requirement already satisfied: findspark in c:\\users\\pdharantej\\anaconda3\\lib\\site-packages (2.0.1)\n"
     ]
    }
   ],
   "source": [
    "!pip install findspark\n",
    "import findspark\n",
    "findspark.init()"
   ]
  },
  {
   "cell_type": "code",
   "execution_count": 2,
   "id": "65e739e3",
   "metadata": {},
   "outputs": [],
   "source": [
    "import pyspark\n",
    "from pyspark.sql import SparkSession"
   ]
  },
  {
   "cell_type": "code",
   "execution_count": 3,
   "id": "6690b2bf",
   "metadata": {},
   "outputs": [],
   "source": [
    "spark=SparkSession.builder.appName('SparkSQL_UseCase').master('local[2]').getOrCreate()"
   ]
  },
  {
   "cell_type": "code",
   "execution_count": 4,
   "id": "bbf75d31",
   "metadata": {},
   "outputs": [
    {
     "data": {
      "text/html": [
       "\n",
       "            <div>\n",
       "                <p><b>SparkSession - in-memory</b></p>\n",
       "                \n",
       "        <div>\n",
       "            <p><b>SparkContext</b></p>\n",
       "\n",
       "            <p><a href=\"http://HSC-PF1DSZBD.allegisgroup.com:4042\">Spark UI</a></p>\n",
       "\n",
       "            <dl>\n",
       "              <dt>Version</dt>\n",
       "                <dd><code>v3.3.2</code></dd>\n",
       "              <dt>Master</dt>\n",
       "                <dd><code>local[2]</code></dd>\n",
       "              <dt>AppName</dt>\n",
       "                <dd><code>SparkSQL_UseCase</code></dd>\n",
       "            </dl>\n",
       "        </div>\n",
       "        \n",
       "            </div>\n",
       "        "
      ],
      "text/plain": [
       "<pyspark.sql.session.SparkSession at 0x278cac92e20>"
      ]
     },
     "execution_count": 4,
     "metadata": {},
     "output_type": "execute_result"
    }
   ],
   "source": [
    "spark"
   ]
  },
  {
   "cell_type": "code",
   "execution_count": 5,
   "id": "d1cbb24c",
   "metadata": {},
   "outputs": [],
   "source": [
    "rangeDF=spark.range(100).toDF('number')"
   ]
  },
  {
   "cell_type": "code",
   "execution_count": 6,
   "id": "ecf80749",
   "metadata": {},
   "outputs": [
    {
     "data": {
      "text/plain": [
       "DataFrame[number: bigint]"
      ]
     },
     "execution_count": 6,
     "metadata": {},
     "output_type": "execute_result"
    }
   ],
   "source": [
    "rangeDF"
   ]
  },
  {
   "cell_type": "code",
   "execution_count": 7,
   "id": "7c201669",
   "metadata": {},
   "outputs": [
    {
     "name": "stdout",
     "output_type": "stream",
     "text": [
      "+------+\n",
      "|number|\n",
      "+------+\n",
      "|     0|\n",
      "|     1|\n",
      "|     2|\n",
      "|     3|\n",
      "+------+\n",
      "only showing top 4 rows\n",
      "\n"
     ]
    }
   ],
   "source": [
    "rangeDF.show(4)"
   ]
  },
  {
   "cell_type": "code",
   "execution_count": 8,
   "id": "66498b7d",
   "metadata": {},
   "outputs": [
    {
     "data": {
      "text/plain": [
       "100"
      ]
     },
     "execution_count": 8,
     "metadata": {},
     "output_type": "execute_result"
    }
   ],
   "source": [
    "rangeDF.count()"
   ]
  },
  {
   "cell_type": "code",
   "execution_count": 9,
   "id": "7369f510",
   "metadata": {},
   "outputs": [],
   "source": [
    "evenDF=rangeDF.where('number%2==0')"
   ]
  },
  {
   "cell_type": "code",
   "execution_count": 10,
   "id": "7e90bc85",
   "metadata": {},
   "outputs": [
    {
     "data": {
      "text/plain": [
       "DataFrame[number: bigint]"
      ]
     },
     "execution_count": 10,
     "metadata": {},
     "output_type": "execute_result"
    }
   ],
   "source": [
    "evenDF"
   ]
  },
  {
   "cell_type": "code",
   "execution_count": 11,
   "id": "c940ec1c",
   "metadata": {},
   "outputs": [
    {
     "name": "stdout",
     "output_type": "stream",
     "text": [
      "+------+\n",
      "|number|\n",
      "+------+\n",
      "|     0|\n",
      "|     2|\n",
      "|     4|\n",
      "|     6|\n",
      "|     8|\n",
      "+------+\n",
      "only showing top 5 rows\n",
      "\n"
     ]
    }
   ],
   "source": [
    "evenDF.show(5)"
   ]
  },
  {
   "cell_type": "code",
   "execution_count": 12,
   "id": "0f902c68",
   "metadata": {},
   "outputs": [],
   "source": [
    "# spark.createDataFrame function\n",
    "\n",
    "nameDF=spark.createDataFrame([[1,'Alice',30,'Female'],\n",
    "                              [2,'Beneth',30,'Male'],\n",
    "                              [3,'Charlie',30,'Male'],\n",
    "                              [4,'Dharan',30,'Male']],['Id','Name','Age','Gender'])"
   ]
  },
  {
   "cell_type": "code",
   "execution_count": 13,
   "id": "ba18d85a",
   "metadata": {},
   "outputs": [
    {
     "name": "stdout",
     "output_type": "stream",
     "text": [
      "+---+-------+---+------+\n",
      "| Id|   Name|Age|Gender|\n",
      "+---+-------+---+------+\n",
      "|  1|  Alice| 30|Female|\n",
      "|  2| Beneth| 30|  Male|\n",
      "|  3|Charlie| 30|  Male|\n",
      "+---+-------+---+------+\n",
      "only showing top 3 rows\n",
      "\n"
     ]
    }
   ],
   "source": [
    "nameDF.show(3)"
   ]
  },
  {
   "cell_type": "code",
   "execution_count": 14,
   "id": "c26398e9",
   "metadata": {},
   "outputs": [],
   "source": [
    "# constructing DataFrame from RDD\n",
    "\n",
    "sc=spark.sparkContext"
   ]
  },
  {
   "cell_type": "code",
   "execution_count": 15,
   "id": "721d65e2",
   "metadata": {},
   "outputs": [
    {
     "data": {
      "text/html": [
       "\n",
       "        <div>\n",
       "            <p><b>SparkContext</b></p>\n",
       "\n",
       "            <p><a href=\"http://HSC-PF1DSZBD.allegisgroup.com:4042\">Spark UI</a></p>\n",
       "\n",
       "            <dl>\n",
       "              <dt>Version</dt>\n",
       "                <dd><code>v3.3.2</code></dd>\n",
       "              <dt>Master</dt>\n",
       "                <dd><code>local[2]</code></dd>\n",
       "              <dt>AppName</dt>\n",
       "                <dd><code>SparkSQL_UseCase</code></dd>\n",
       "            </dl>\n",
       "        </div>\n",
       "        "
      ],
      "text/plain": [
       "<SparkContext master=local[2] appName=SparkSQL_UseCase>"
      ]
     },
     "execution_count": 15,
     "metadata": {},
     "output_type": "execute_result"
    }
   ],
   "source": [
    "sc"
   ]
  },
  {
   "cell_type": "code",
   "execution_count": 16,
   "id": "1c316ec0",
   "metadata": {},
   "outputs": [
    {
     "data": {
      "text/plain": [
       "'C:\\\\Users\\\\pdharantej\\\\OneDrive - ALLEGIS GROUP\\\\Desktop\\\\TEK_Training\\\\5. Data Analysis'"
      ]
     },
     "execution_count": 16,
     "metadata": {},
     "output_type": "execute_result"
    }
   ],
   "source": [
    "# infer schema by using RDD\n",
    "\n",
    "import os\n",
    "os.getcwd()"
   ]
  },
  {
   "cell_type": "code",
   "execution_count": 17,
   "id": "455a9e7d",
   "metadata": {},
   "outputs": [],
   "source": [
    "tempRDD=sc.textFile('./temp_data.txt')"
   ]
  },
  {
   "cell_type": "code",
   "execution_count": 18,
   "id": "24573a4a",
   "metadata": {},
   "outputs": [
    {
     "data": {
      "text/plain": [
       "13131"
      ]
     },
     "execution_count": 18,
     "metadata": {},
     "output_type": "execute_result"
    }
   ],
   "source": [
    "tempRDD.count()"
   ]
  },
  {
   "cell_type": "code",
   "execution_count": 19,
   "id": "a199b0c6",
   "metadata": {},
   "outputs": [
    {
     "data": {
      "text/plain": [
       "pyspark.rdd.RDD"
      ]
     },
     "execution_count": 19,
     "metadata": {},
     "output_type": "execute_result"
    }
   ],
   "source": [
    "type(tempRDD)"
   ]
  },
  {
   "cell_type": "code",
   "execution_count": 20,
   "id": "9ffcaf0c",
   "metadata": {},
   "outputs": [
    {
     "data": {
      "text/plain": [
       "['1901\\t-78\\t1', '1901\\t-72\\t1', '1901\\t-94\\t1']"
      ]
     },
     "execution_count": 20,
     "metadata": {},
     "output_type": "execute_result"
    }
   ],
   "source": [
    "tempRDD.take(3)"
   ]
  },
  {
   "cell_type": "code",
   "execution_count": 21,
   "id": "91a1484d",
   "metadata": {},
   "outputs": [
    {
     "data": {
      "text/plain": [
       "[['1901', '-78', '1'], ['1901', '-72', '1'], ['1901', '-94', '1']]"
      ]
     },
     "execution_count": 21,
     "metadata": {},
     "output_type": "execute_result"
    }
   ],
   "source": [
    "splitRDD=tempRDD.map(lambda record: record.split('\\t'))\n",
    "splitRDD.take(3)"
   ]
  },
  {
   "cell_type": "code",
   "execution_count": 22,
   "id": "8be987e3",
   "metadata": {},
   "outputs": [],
   "source": [
    "# constructing the RDD using the Row object\n",
    "\n",
    "from pyspark.sql import Row"
   ]
  },
  {
   "cell_type": "code",
   "execution_count": 23,
   "id": "bddb399e",
   "metadata": {},
   "outputs": [],
   "source": [
    "schemaRDD=splitRDD.map(lambda line: Row(year=line[0],temp=int(line[1]),status=int(line[2])))"
   ]
  },
  {
   "cell_type": "code",
   "execution_count": 24,
   "id": "357203cd",
   "metadata": {},
   "outputs": [
    {
     "data": {
      "text/plain": [
       "[Row(year='1901', temp=-78, status=1),\n",
       " Row(year='1901', temp=-72, status=1),\n",
       " Row(year='1901', temp=-94, status=1)]"
      ]
     },
     "execution_count": 24,
     "metadata": {},
     "output_type": "execute_result"
    }
   ],
   "source": [
    "schemaRDD.take(3)"
   ]
  },
  {
   "cell_type": "code",
   "execution_count": 25,
   "id": "9a2816e1",
   "metadata": {},
   "outputs": [
    {
     "name": "stdout",
     "output_type": "stream",
     "text": [
      "+----+----+------+\n",
      "|year|temp|status|\n",
      "+----+----+------+\n",
      "|1901| -78|     1|\n",
      "|1901| -72|     1|\n",
      "|1901| -94|     1|\n",
      "+----+----+------+\n",
      "only showing top 3 rows\n",
      "\n"
     ]
    }
   ],
   "source": [
    "tempDF=spark.createDataFrame(schemaRDD)\n",
    "tempDF.show(3)"
   ]
  },
  {
   "cell_type": "code",
   "execution_count": 29,
   "id": "a162346f",
   "metadata": {},
   "outputs": [
    {
     "data": {
      "text/plain": [
       "[Row(year='1901', temp=-78, status=1),\n",
       " Row(year='1901', temp=-72, status=1),\n",
       " Row(year='1901', temp=-94, status=1)]"
      ]
     },
     "execution_count": 29,
     "metadata": {},
     "output_type": "execute_result"
    }
   ],
   "source": [
    "tempDF.head(3)"
   ]
  },
  {
   "cell_type": "code",
   "execution_count": 28,
   "id": "9e8d3254",
   "metadata": {},
   "outputs": [
    {
     "name": "stdout",
     "output_type": "stream",
     "text": [
      "root\n",
      " |-- year: string (nullable = true)\n",
      " |-- temp: long (nullable = true)\n",
      " |-- status: long (nullable = true)\n",
      "\n"
     ]
    }
   ],
   "source": [
    "tempDF.printSchema()"
   ]
  },
  {
   "cell_type": "code",
   "execution_count": 38,
   "id": "cc5b540d",
   "metadata": {},
   "outputs": [
    {
     "data": {
      "text/plain": [
       "233600"
      ]
     },
     "execution_count": 38,
     "metadata": {},
     "output_type": "execute_result"
    }
   ],
   "source": [
    "# reading a csv file as an RDD and then building the RDD as a dataframe\n",
    "\n",
    "# # read test.csv as RDD and convert it to dataframe\n",
    "testRDD=sc.textFile('./test.csv')\n",
    "testRDD.count()"
   ]
  },
  {
   "cell_type": "code",
   "execution_count": 41,
   "id": "e3570303",
   "metadata": {},
   "outputs": [
    {
     "data": {
      "text/plain": [
       "['User_ID,Product_ID,Gender,Age,Occupation,City_Category,Stay_In_Current_City_Years,Marital_Status,Product_Category_1,Product_Category_2,Product_Category_3',\n",
       " '1000004,P00128942,M,46-50,7,B,2,1,1,11,',\n",
       " '1000009,P00113442,M,26-35,17,C,0,0,3,5,']"
      ]
     },
     "execution_count": 41,
     "metadata": {},
     "output_type": "execute_result"
    }
   ],
   "source": [
    "testRDD.take(3)"
   ]
  },
  {
   "cell_type": "code",
   "execution_count": 42,
   "id": "be429658",
   "metadata": {},
   "outputs": [],
   "source": [
    "header=testRDD.first()"
   ]
  },
  {
   "cell_type": "code",
   "execution_count": 44,
   "id": "b303dcc6",
   "metadata": {},
   "outputs": [],
   "source": [
    "testRDD=testRDD.filter(lambda line: line!=header)"
   ]
  },
  {
   "cell_type": "code",
   "execution_count": 45,
   "id": "01e76234",
   "metadata": {},
   "outputs": [
    {
     "name": "stdout",
     "output_type": "stream",
     "text": [
      "After the header record is removed \n"
     ]
    },
    {
     "data": {
      "text/plain": [
       "'1000004,P00128942,M,46-50,7,B,2,1,1,11,'"
      ]
     },
     "execution_count": 45,
     "metadata": {},
     "output_type": "execute_result"
    }
   ],
   "source": [
    "print('After the header record is removed ')\n",
    "testRDD.first()"
   ]
  },
  {
   "cell_type": "code",
   "execution_count": null,
   "id": "7d3d0ef0",
   "metadata": {},
   "outputs": [],
   "source": []
  }
 ],
 "metadata": {
  "kernelspec": {
   "display_name": "Python 3 (ipykernel)",
   "language": "python",
   "name": "python3"
  },
  "language_info": {
   "codemirror_mode": {
    "name": "ipython",
    "version": 3
   },
   "file_extension": ".py",
   "mimetype": "text/x-python",
   "name": "python",
   "nbconvert_exporter": "python",
   "pygments_lexer": "ipython3",
   "version": "3.9.13"
  }
 },
 "nbformat": 4,
 "nbformat_minor": 5
}
